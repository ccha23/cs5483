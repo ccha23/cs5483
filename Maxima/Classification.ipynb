{
 "cells": [
  {
   "cell_type": "markdown",
   "id": "a525beed-9467-4a89-a8ff-4c3e368cd684",
   "metadata": {
    "tags": []
   },
   "source": [
    "# Classification"
   ]
  },
  {
   "cell_type": "markdown",
   "id": "183fc056",
   "metadata": {
    "tags": [
     "remove-cell"
    ]
   },
   "source": [
    "**CS5483 Data Warehousing and Data Mining**\n",
    "___"
   ]
  },
  {
   "cell_type": "code",
   "execution_count": null,
   "id": "cb6b0329",
   "metadata": {
    "tags": []
   },
   "outputs": [],
   "source": [
    "load(\"datamining.mac\")$"
   ]
  },
  {
   "cell_type": "markdown",
   "id": "5dc5b058",
   "metadata": {},
   "source": [
    "## Decision tree induction"
   ]
  },
  {
   "cell_type": "markdown",
   "id": "c6570d10-7cbc-4a3a-ae5d-cd1889981dba",
   "metadata": {},
   "source": [
    "### Distribution"
   ]
  },
  {
   "cell_type": "markdown",
   "id": "9635729b-f059-4678-8338-4fa45230be34",
   "metadata": {},
   "source": [
    "`empirical(lst)` computes the empirical distribution of the list lst."
   ]
  },
  {
   "cell_type": "code",
   "execution_count": null,
   "id": "a059569a-b070-4e3e-80db-b5d0d7a950dd",
   "metadata": {},
   "outputs": [],
   "source": [
    "block(\n",
    "    [lst:[2,2,1,3,3,3]],\n",
    "    empirical(lst)\n",
    ");"
   ]
  },
  {
   "cell_type": "markdown",
   "id": "4591e0c3-0bd5-4926-ba32-f26be2bea42c",
   "metadata": {},
   "source": [
    "A pair is returned, where \n",
    "- the first element is the list of unique values sorted in ascending order, and \n",
    "- the second element is their fractional number of occurences. "
   ]
  },
  {
   "cell_type": "markdown",
   "id": "809a215f",
   "metadata": {},
   "source": [
    "### Information gain"
   ]
  },
  {
   "cell_type": "markdown",
   "id": "b9769243",
   "metadata": {},
   "source": [
    "An impurity measure for decision tree induction is entropy computed as `entropy(p)` for some distribution `p`:"
   ]
  },
  {
   "cell_type": "code",
   "execution_count": null,
   "id": "82aafc77",
   "metadata": {},
   "outputs": [],
   "source": [
    "entropy(ps);"
   ]
  },
  {
   "cell_type": "markdown",
   "id": "7b14d936",
   "metadata": {},
   "source": [
    "The information gain ratios and related information quantities can be computed as follows:"
   ]
  },
  {
   "cell_type": "code",
   "execution_count": null,
   "id": "096585f7",
   "metadata": {},
   "outputs": [],
   "source": [
    "block(\n",
    "    [\n",
    "        fns: ['i, 'X_1, 'X_2, 'Y],\n",
    "        n: 6,\n",
    "        gen: lambda([i], [i, random(2), random(2), random(2)]),\n",
    "        conds: ['X_1, 'X_2],\n",
    "        target: 'Y,\n",
    "        data, info\n",
    "    ],\n",
    "    data: build_data(fns, gen, n),\n",
    "    [\n",
    "        data,\n",
    "        Info(data, target),\n",
    "        build_data_from_list(\n",
    "            ['X, 'Info[X], 'Gain[X], 'SplitInfo[X], 'GainRatio[X]],\n",
    "            makelist(\n",
    "                map('simplify,\n",
    "                    [X,\n",
    "                     InfoX(data, target, X), \n",
    "                     Gain(data, target, X), \n",
    "                     SplitInfo(data, X), \n",
    "                     GainRatio(data, target, X)]\n",
    "                ), \n",
    "                X, conds\n",
    "            )\n",
    "        )\n",
    "    ]\n",
    ");"
   ]
  },
  {
   "cell_type": "markdown",
   "id": "4f98a9af",
   "metadata": {},
   "source": [
    "- `Info(data, target)` computes the information content (entropy) of `target` in `data`.\n",
    "- `InfoX(data, target, X)` computes the information (conditional entropy) given `X`.\n",
    "- `Gain(data, target, X)` calculates the information gain of `target` with `X`.\n",
    "- `SplitInfo(data, X)` calculates the split information (entropy) of `X`.\n",
    "- `GainRation(data, target, X)` calculates the information gain ratio of `target` with `X`."
   ]
  },
  {
   "cell_type": "markdown",
   "id": "24d8ab8f",
   "metadata": {},
   "source": [
    "### Gini impurity"
   ]
  },
  {
   "cell_type": "markdown",
   "id": "ab0e124c",
   "metadata": {},
   "source": [
    "Another impurity measure is the Gini impurity:"
   ]
  },
  {
   "cell_type": "code",
   "execution_count": null,
   "id": "7febf549",
   "metadata": {},
   "outputs": [],
   "source": [
    "gini(ps);"
   ]
  },
  {
   "cell_type": "code",
   "execution_count": null,
   "id": "129bb7d3",
   "metadata": {},
   "outputs": [],
   "source": [
    "block(\n",
    "    [\n",
    "        fns: ['i, 'X_1, 'X_2, 'Y],\n",
    "        n: 6,\n",
    "        gen: lambda([i], [i, random(2), random(2), random(2)]),\n",
    "        conds: ['X_1, 'X_2],\n",
    "        target: 'Y,\n",
    "        data\n",
    "    ],\n",
    "    data: build_data(fns, gen, n),\n",
    "    [\n",
    "        data, Gini(data, target),\n",
    "        build_data_from_list(\n",
    "            ['X, 'Gini[X], 'GiniDrop[X]],\n",
    "            makelist(\n",
    "                [X, GiniX(data, target, X), GiniDrop(data, target, X)],\n",
    "                X, conds\n",
    "            )\n",
    "        )\n",
    "    ]\n",
    ");"
   ]
  },
  {
   "cell_type": "markdown",
   "id": "e6333eed-0e3b-4d3a-bcec-16ee8f5d6760",
   "metadata": {},
   "source": [
    "- `Gini(data, target)` computes Gini impurity of `target` in `data`.\n",
    "- `GiniX(data, target, X)` computes the conditional Gini impurity of `target` conditioned on `X`.\n",
    "- `GiniDrop(data, target, X)` computes the drop in Gini impurity with respect to a splitting criterion `X`."
   ]
  },
  {
   "cell_type": "markdown",
   "id": "2c364d08",
   "metadata": {},
   "source": [
    "## Rule-based classifier"
   ]
  },
  {
   "cell_type": "markdown",
   "id": "a7c2f7ae",
   "metadata": {},
   "source": [
    "### FOIL gain"
   ]
  },
  {
   "cell_type": "markdown",
   "id": "52c6bb0c",
   "metadata": {},
   "source": [
    "The following formula computes FOIL gain \n",
    "- from a rule covering `p_0` positives and `n_0` negatives\n",
    "- to a rule covering `p_1` positives and `n_1` negatives. "
   ]
  },
  {
   "cell_type": "code",
   "execution_count": null,
   "id": "2f0c8911",
   "metadata": {},
   "outputs": [],
   "source": [
    "foilgain(p_0,n_0,p_1,n_1);"
   ]
  },
  {
   "cell_type": "markdown",
   "id": "e9508fd8",
   "metadata": {},
   "source": [
    "To compute FOIL gain from data:"
   ]
  },
  {
   "cell_type": "code",
   "execution_count": null,
   "id": "a879e4a9",
   "metadata": {},
   "outputs": [],
   "source": [
    "block(\n",
    "    [\n",
    "        fns: ['i, 'X_1, 'X_2, 'Y],\n",
    "        n: 6,\n",
    "        gen: lambda([i], [i, random(2), random(2), random(2)]),\n",
    "        cjts: ['X_1=1, 'X_2=1],\n",
    "        target: 'Y,\n",
    "        data\n",
    "    ],\n",
    "    data: build_data(fns, gen, n),\n",
    "    [data, FOILGain(data, target, cjts)]\n",
    ");"
   ]
  },
  {
   "cell_type": "markdown",
   "id": "ff6ae4ec",
   "metadata": {},
   "source": [
    "It returns the FOIL gain from rule $R_0$ to rule $R_1$ where\n",
    "- $R_0$: `rest(cjts,-1) => Y=1`\n",
    "- $R_1$: `cjts => Y=1`\n",
    "\n",
    "and `rest(cjts,-1)` is the list of conjuncts in cjts except the last one."
   ]
  },
  {
   "cell_type": "markdown",
   "id": "1ca4e5b7",
   "metadata": {},
   "source": [
    "### FOIL prune"
   ]
  },
  {
   "cell_type": "markdown",
   "id": "fe933b5d",
   "metadata": {},
   "source": [
    "FOIL prune can be computed from the number `p` of positive and the number `n` of negatives covered by a rule."
   ]
  },
  {
   "cell_type": "code",
   "execution_count": null,
   "id": "26e4414d",
   "metadata": {},
   "outputs": [],
   "source": [
    "foilprune(p,n);"
   ]
  },
  {
   "cell_type": "markdown",
   "id": "16bc54eb",
   "metadata": {},
   "source": [
    "To compute FOIL prune from data:"
   ]
  },
  {
   "cell_type": "code",
   "execution_count": null,
   "id": "16adc756",
   "metadata": {},
   "outputs": [],
   "source": [
    "block(\n",
    "    [\n",
    "        fns: ['i, 'X_1, 'X_2, 'Y],\n",
    "        n: 6,\n",
    "        gen: lambda([i], [i, random(2), random(2), random(2)]),\n",
    "        cjts: ['X_1=1, 'X_2=1],\n",
    "        target: 'Y,\n",
    "        data\n",
    "    ],\n",
    "    data: build_data(fns, gen, n),\n",
    "    [data, FOILPrune(data, target, cjts)]\n",
    ");"
   ]
  },
  {
   "cell_type": "markdown",
   "id": "44114ebf",
   "metadata": {},
   "source": [
    "It returns a pair of FOIL prunes for the rules\n",
    "- $R_0$: `rest(cjts,-1) => Y=1`\n",
    "- $R_1$: `cjts => Y=1`."
   ]
  }
 ],
 "metadata": {
  "kernelspec": {
   "display_name": "Maxima",
   "language": "maxima",
   "name": "maxima"
  },
  "language_info": {
   "codemirror_mode": "maxima",
   "file_extension": ".mac",
   "mimetype": "text/x-maxima",
   "name": "maxima",
   "pygments_lexer": "maxima",
   "version": "5.45post"
  },
  "widgets": {
   "application/vnd.jupyter.widget-state+json": {
    "state": {},
    "version_major": 2,
    "version_minor": 0
   }
  }
 },
 "nbformat": 4,
 "nbformat_minor": 5
}
