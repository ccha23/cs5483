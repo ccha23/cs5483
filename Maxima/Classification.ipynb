{
 "cells": [
  {
   "cell_type": "markdown",
   "id": "3fde655e-43f6-4695-b306-7c23ee43d9c8",
   "metadata": {
    "tags": []
   },
   "source": [
    "# Classification"
   ]
  },
  {
   "cell_type": "markdown",
   "id": "1ffa4c5e-7b12-4bc2-8f77-67f5f7411a10",
   "metadata": {
    "tags": [
     "remove-cell"
    ]
   },
   "source": [
    "**CS5483 Data Warehousing and Data Mining**\n",
    "___"
   ]
  },
  {
   "cell_type": "code",
   "execution_count": null,
   "id": "45b4ee09-f71b-4b95-8c43-e0d6dcbc41cb",
   "metadata": {
    "tags": []
   },
   "outputs": [],
   "source": [
    "load(\"datamining.mac\")$"
   ]
  },
  {
   "cell_type": "markdown",
   "id": "b287a78e-2e9f-44a2-8656-a2251119d6d0",
   "metadata": {},
   "source": [
    "## Decision tree induction"
   ]
  },
  {
   "cell_type": "markdown",
   "id": "eb4907b3-7793-4738-9a5f-2d3f41105ae8",
   "metadata": {},
   "source": [
    "### Information gain"
   ]
  },
  {
   "cell_type": "markdown",
   "id": "d578723f-8cc3-4b8d-927d-6784416fc3ba",
   "metadata": {},
   "source": [
    "An impurity measure for decision tree induction is entropy computed as `entropy(p)` for some distribution `p`:"
   ]
  },
  {
   "cell_type": "code",
   "execution_count": null,
   "id": "9b5f5027-841b-478b-8b55-6340f03fc20f",
   "metadata": {},
   "outputs": [],
   "source": [
    "entropy(ps);"
   ]
  },
  {
   "cell_type": "markdown",
   "id": "4cee12f3-8649-472f-a4cd-eb30276902bd",
   "metadata": {},
   "source": [
    "The information gain ratios and related information quantities can be computed as follows:"
   ]
  },
  {
   "cell_type": "code",
   "execution_count": null,
   "id": "81f453f6-9390-48be-b3b8-3672aa6263a6",
   "metadata": {},
   "outputs": [],
   "source": [
    "block(\n",
    "    [\n",
    "        fns: ['i, 'X_1, 'X_2, 'Y],\n",
    "        n: 6,\n",
    "        gen: lambda([i], [i, random(2), random(2), random(2)]),\n",
    "        conds: ['X_1, 'X_2],\n",
    "        target: 'Y,\n",
    "        data, info\n",
    "    ],\n",
    "    data: build_data(fns, gen, n),\n",
    "    [\n",
    "        data,\n",
    "        Info(data, target),\n",
    "        build_data_from_list(\n",
    "            ['X, 'Info[X], 'Gain[X], 'SplitInfo[X], 'GainRatio[X]],\n",
    "            makelist(\n",
    "                map('simplify,\n",
    "                    [X,\n",
    "                     InfoX(data, target, X), \n",
    "                     Gain(data, target, X), \n",
    "                     SplitInfo(data, X), \n",
    "                     GainRatio(data, target, X)]\n",
    "                ), \n",
    "                X, conds\n",
    "            )\n",
    "        )\n",
    "    ]\n",
    ");"
   ]
  },
  {
   "cell_type": "markdown",
   "id": "55226ec1-7148-4a1a-9f9c-90b77b27dbe9",
   "metadata": {},
   "source": [
    "- `Info(data, target)` computes the information content (entropy) of `target` in `data`.\n",
    "- `InfoX(data, target, X)` computes the information (conditional entropy) given `X`.\n",
    "- `Gain(data, target, X)` calculates the information gain of `target` with `X`.\n",
    "- `SplitInfo(data, X)` calculates the split information (entropy) of `X`.\n",
    "- `GainRation(data, target, X)` calculates the information gain ratio of `target` with `X`."
   ]
  },
  {
   "cell_type": "markdown",
   "id": "053836f6-ad85-4339-a3dd-83ebcf2a2027",
   "metadata": {},
   "source": [
    "### Gini impurity"
   ]
  },
  {
   "cell_type": "markdown",
   "id": "4d1ba224-616b-4196-a37b-05a5a56ab082",
   "metadata": {},
   "source": [
    "Another impurity measure is the Gini impurity:"
   ]
  },
  {
   "cell_type": "code",
   "execution_count": null,
   "id": "ce7ebb03-7e33-4c8c-8bbb-9af0f2bd1141",
   "metadata": {},
   "outputs": [],
   "source": [
    "gini(ps);"
   ]
  },
  {
   "cell_type": "code",
   "execution_count": null,
   "id": "60d5b8b9-b814-441b-94d5-039df745236e",
   "metadata": {},
   "outputs": [],
   "source": [
    "block(\n",
    "    [\n",
    "        fns: ['i, 'X_1, 'X_2, 'Y],\n",
    "        n: 6,\n",
    "        gen: lambda([i], [i, random(2), random(2), random(2)]),\n",
    "        conds: ['X_1, 'X_2],\n",
    "        target: 'Y,\n",
    "        data\n",
    "    ],\n",
    "    data: build_data(fns, gen, n),\n",
    "    [\n",
    "        data, Gini(data, target),\n",
    "        build_data_from_list(\n",
    "            ['X, 'Gini[X], 'GiniDrop[X]],\n",
    "            makelist(\n",
    "                [X, GiniX(data, target, X), GiniDrop(data, target, X)],\n",
    "                X, conds\n",
    "            )\n",
    "        )\n",
    "    ]\n",
    ");"
   ]
  },
  {
   "cell_type": "markdown",
   "id": "886ee4e5-7cd0-4ae4-8f51-363c8b945c0f",
   "metadata": {},
   "source": [
    "## Rule-based classifier"
   ]
  },
  {
   "cell_type": "markdown",
   "id": "eccae80f-a2b5-4ffb-8d80-c41252cbc637",
   "metadata": {},
   "source": [
    "### FOIL gain"
   ]
  },
  {
   "cell_type": "markdown",
   "id": "74c75545-9a97-460c-a541-67c7361e04a1",
   "metadata": {},
   "source": [
    "The following formula computes FOIL gain \n",
    "- from a rule covering `p_0` positives and `n_0` negatives\n",
    "- to a rule covering `p_1` positives and `n_1` negatives. "
   ]
  },
  {
   "cell_type": "code",
   "execution_count": null,
   "id": "67383a58-f5ff-41db-90fa-86b9b0eea36a",
   "metadata": {},
   "outputs": [],
   "source": [
    "foilgain(p_0,n_0,p_1,n_1);"
   ]
  },
  {
   "cell_type": "markdown",
   "id": "9e6b42b9-9781-419b-8a86-356c06394a60",
   "metadata": {},
   "source": [
    "To compute FOIL gain from data:"
   ]
  },
  {
   "cell_type": "code",
   "execution_count": null,
   "id": "ed65ead5-adc5-4c0f-bbd2-ef4125e0b810",
   "metadata": {},
   "outputs": [],
   "source": [
    "block(\n",
    "    [\n",
    "        fns: ['i, 'X_1, 'X_2, 'Y],\n",
    "        n: 6,\n",
    "        gen: lambda([i], [i, random(2), random(2), random(2)]),\n",
    "        cjts: ['X_1=1, 'X_2=1],\n",
    "        target: 'Y,\n",
    "        data\n",
    "    ],\n",
    "    data: build_data(fns, gen, n),\n",
    "    [data, FOILGain(data, target, cjts)]\n",
    ");"
   ]
  },
  {
   "cell_type": "markdown",
   "id": "5a0e32bd-3129-4372-a781-0210ca713ba0",
   "metadata": {},
   "source": [
    "It returns the FOIL gain from rule $R_0$ to rule $R_1$ where\n",
    "- $R_0$: `rest(cjts,-1) => Y=1`\n",
    "- $R_1$: `cjts => Y=1`\n",
    "\n",
    "and `rest(cjts,-1)` is the list of conjuncts in cjts except the last one."
   ]
  },
  {
   "cell_type": "markdown",
   "id": "c470f57f-7d41-4da2-9136-e48d1d2ed875",
   "metadata": {},
   "source": [
    "### FOIL prune"
   ]
  },
  {
   "cell_type": "markdown",
   "id": "4bd7de12-3c7a-42ae-9ba6-70de3dcf237d",
   "metadata": {},
   "source": [
    "FOIL prune can be computed from the number `p` of positive and the number `n` of negatives covered by a rule."
   ]
  },
  {
   "cell_type": "code",
   "execution_count": null,
   "id": "d593fd6c-eb57-462b-b9f0-dd4577a88861",
   "metadata": {},
   "outputs": [],
   "source": [
    "foilprune(p,n);"
   ]
  },
  {
   "cell_type": "markdown",
   "id": "b2c52505-c913-46a5-8fc1-620800684d8d",
   "metadata": {},
   "source": [
    "To compute FOIL prune from data:"
   ]
  },
  {
   "cell_type": "code",
   "execution_count": null,
   "id": "82040325-6fde-4bb2-92dd-73068b71bc0b",
   "metadata": {},
   "outputs": [],
   "source": [
    "block(\n",
    "    [\n",
    "        fns: ['i, 'X_1, 'X_2, 'Y],\n",
    "        n: 6,\n",
    "        gen: lambda([i], [i, random(2), random(2), random(2)]),\n",
    "        cjts: ['X_1=1, 'X_2=1],\n",
    "        target: 'Y,\n",
    "        data\n",
    "    ],\n",
    "    data: build_data(fns, gen, n),\n",
    "    [data, FOILPrune(data, target, cjts)]\n",
    ");"
   ]
  },
  {
   "cell_type": "markdown",
   "id": "ff94048d-9767-4bfd-86cd-92c612d71824",
   "metadata": {},
   "source": [
    "It returns a pair of FOIL prunes for the rules\n",
    "- $R_0$: `rest(cjts,-1) => Y=1`\n",
    "- $R_1$: `cjts => Y=1`."
   ]
  },
  {
   "cell_type": "markdown",
   "id": "f27d02bf",
   "metadata": {
    "tags": []
   },
   "source": [
    "# Classification"
   ]
  },
  {
   "cell_type": "markdown",
   "id": "183fc056",
   "metadata": {
    "tags": [
     "remove-cell"
    ]
   },
   "source": [
    "**CS5483 Data Warehousing and Data Mining**\n",
    "___"
   ]
  },
  {
   "cell_type": "code",
   "execution_count": null,
   "id": "cb6b0329",
   "metadata": {
    "tags": []
   },
   "outputs": [],
   "source": [
    "load(\"datamining.mac\")$"
   ]
  },
  {
   "cell_type": "markdown",
   "id": "5dc5b058",
   "metadata": {},
   "source": [
    "## Decision tree induction"
   ]
  },
  {
   "cell_type": "markdown",
   "id": "809a215f",
   "metadata": {},
   "source": [
    "### Information gain"
   ]
  },
  {
   "cell_type": "markdown",
   "id": "b9769243",
   "metadata": {},
   "source": [
    "An impurity measure for decision tree induction is entropy computed as `entropy(p)` for some distribution `p`:"
   ]
  },
  {
   "cell_type": "code",
   "execution_count": null,
   "id": "82aafc77",
   "metadata": {},
   "outputs": [],
   "source": [
    "entropy(ps);"
   ]
  },
  {
   "cell_type": "markdown",
   "id": "7b14d936",
   "metadata": {},
   "source": [
    "The information gain ratios and related information quantities can be computed as follows:"
   ]
  },
  {
   "cell_type": "code",
   "execution_count": null,
   "id": "096585f7",
   "metadata": {},
   "outputs": [],
   "source": [
    "block(\n",
    "    [\n",
    "        fns: ['i, 'X_1, 'X_2, 'Y],\n",
    "        n: 6,\n",
    "        gen: lambda([i], [i, random(2), random(2), random(2)]),\n",
    "        conds: ['X_1, 'X_2],\n",
    "        target: 'Y,\n",
    "        data, info\n",
    "    ],\n",
    "    data: build_data(fns, gen, n),\n",
    "    [\n",
    "        data,\n",
    "        Info(data, target),\n",
    "        build_data_from_list(\n",
    "            ['X, 'Info[X], 'Gain[X], 'SplitInfo[X], 'GainRatio[X]],\n",
    "            makelist(\n",
    "                map('simplify,\n",
    "                    [X,\n",
    "                     InfoX(data, target, X), \n",
    "                     Gain(data, target, X), \n",
    "                     SplitInfo(data, X), \n",
    "                     GainRatio(data, target, X)]\n",
    "                ), \n",
    "                X, conds\n",
    "            )\n",
    "        )\n",
    "    ]\n",
    ");"
   ]
  },
  {
   "cell_type": "markdown",
   "id": "4f98a9af",
   "metadata": {},
   "source": [
    "- `Info(data, target)` computes the information content (entropy) of `target` in `data`.\n",
    "- `InfoX(data, target, X)` computes the information (conditional entropy) given `X`.\n",
    "- `Gain(data, target, X)` calculates the information gain of `target` with `X`.\n",
    "- `SplitInfo(data, X)` calculates the split information (entropy) of `X`.\n",
    "- `GainRation(data, target, X)` calculates the information gain ratio of `target` with `X`."
   ]
  },
  {
   "cell_type": "markdown",
   "id": "24d8ab8f",
   "metadata": {},
   "source": [
    "### Gini impurity"
   ]
  },
  {
   "cell_type": "markdown",
   "id": "ab0e124c",
   "metadata": {},
   "source": [
    "Another impurity measure is the Gini impurity:"
   ]
  },
  {
   "cell_type": "code",
   "execution_count": null,
   "id": "7febf549",
   "metadata": {},
   "outputs": [],
   "source": [
    "gini(ps);"
   ]
  },
  {
   "cell_type": "code",
   "execution_count": null,
   "id": "129bb7d3",
   "metadata": {},
   "outputs": [],
   "source": [
    "block(\n",
    "    [\n",
    "        fns: ['i, 'X_1, 'X_2, 'Y],\n",
    "        n: 6,\n",
    "        gen: lambda([i], [i, random(2), random(2), random(2)]),\n",
    "        conds: ['X_1, 'X_2],\n",
    "        target: 'Y,\n",
    "        data\n",
    "    ],\n",
    "    data: build_data(fns, gen, n),\n",
    "    [\n",
    "        data, Gini(data, target),\n",
    "        build_data_from_list(\n",
    "            ['X, 'Gini[X], 'GiniDrop[X]],\n",
    "            makelist(\n",
    "                [X, GiniX(data, target, X), GiniDrop(data, target, X)],\n",
    "                X, conds\n",
    "            )\n",
    "        )\n",
    "    ]\n",
    ");"
   ]
  },
  {
   "cell_type": "markdown",
   "id": "2c364d08",
   "metadata": {},
   "source": [
    "## Rule-based classifier"
   ]
  },
  {
   "cell_type": "markdown",
   "id": "a7c2f7ae",
   "metadata": {},
   "source": [
    "### FOIL gain"
   ]
  },
  {
   "cell_type": "markdown",
   "id": "52c6bb0c",
   "metadata": {},
   "source": [
    "The following formula computes FOIL gain \n",
    "- from a rule covering `p_0` positives and `n_0` negatives\n",
    "- to a rule covering `p_1` positives and `n_1` negatives. "
   ]
  },
  {
   "cell_type": "code",
   "execution_count": null,
   "id": "2f0c8911",
   "metadata": {},
   "outputs": [],
   "source": [
    "foilgain(p_0,n_0,p_1,n_1);"
   ]
  },
  {
   "cell_type": "markdown",
   "id": "e9508fd8",
   "metadata": {},
   "source": [
    "To compute FOIL gain from data:"
   ]
  },
  {
   "cell_type": "code",
   "execution_count": null,
   "id": "a879e4a9",
   "metadata": {},
   "outputs": [],
   "source": [
    "block(\n",
    "    [\n",
    "        fns: ['i, 'X_1, 'X_2, 'Y],\n",
    "        n: 6,\n",
    "        gen: lambda([i], [i, random(2), random(2), random(2)]),\n",
    "        cjts: ['X_1=1, 'X_2=1],\n",
    "        target: 'Y,\n",
    "        data\n",
    "    ],\n",
    "    data: build_data(fns, gen, n),\n",
    "    [data, FOILGain(data, target, cjts)]\n",
    ");"
   ]
  },
  {
   "cell_type": "markdown",
   "id": "ff6ae4ec",
   "metadata": {},
   "source": [
    "It returns the FOIL gain from rule $R_0$ to rule $R_1$ where\n",
    "- $R_0$: `rest(cjts,-1) => Y=1`\n",
    "- $R_1$: `cjts => Y=1`\n",
    "\n",
    "and `rest(cjts,-1)` is the list of conjuncts in cjts except the last one."
   ]
  },
  {
   "cell_type": "markdown",
   "id": "1ca4e5b7",
   "metadata": {},
   "source": [
    "### FOIL prune"
   ]
  },
  {
   "cell_type": "markdown",
   "id": "fe933b5d",
   "metadata": {},
   "source": [
    "FOIL prune can be computed from the number `p` of positive and the number `n` of negatives covered by a rule."
   ]
  },
  {
   "cell_type": "code",
   "execution_count": null,
   "id": "26e4414d",
   "metadata": {},
   "outputs": [],
   "source": [
    "foilprune(p,n);"
   ]
  },
  {
   "cell_type": "markdown",
   "id": "16bc54eb",
   "metadata": {},
   "source": [
    "To compute FOIL prune from data:"
   ]
  },
  {
   "cell_type": "code",
   "execution_count": null,
   "id": "16adc756",
   "metadata": {},
   "outputs": [],
   "source": [
    "block(\n",
    "    [\n",
    "        fns: ['i, 'X_1, 'X_2, 'Y],\n",
    "        n: 6,\n",
    "        gen: lambda([i], [i, random(2), random(2), random(2)]),\n",
    "        cjts: ['X_1=1, 'X_2=1],\n",
    "        target: 'Y,\n",
    "        data\n",
    "    ],\n",
    "    data: build_data(fns, gen, n),\n",
    "    [data, FOILPrune(data, target, cjts)]\n",
    ");"
   ]
  },
  {
   "cell_type": "markdown",
   "id": "44114ebf",
   "metadata": {},
   "source": [
    "It returns a pair of FOIL prunes for the rules\n",
    "- $R_0$: `rest(cjts,-1) => Y=1`\n",
    "- $R_1$: `cjts => Y=1`."
   ]
  }
 ],
 "metadata": {
  "kernelspec": {
   "display_name": "Maxima",
   "language": "maxima",
   "name": "maxima"
  },
  "language_info": {
   "codemirror_mode": "maxima",
   "file_extension": ".mac",
   "mimetype": "text/x-maxima",
   "name": "maxima",
   "pygments_lexer": "maxima",
   "version": "5.45post"
  },
  "widgets": {
   "application/vnd.jupyter.widget-state+json": {
    "state": {},
    "version_major": 2,
    "version_minor": 0
   }
  }
 },
 "nbformat": 4,
 "nbformat_minor": 5
}
