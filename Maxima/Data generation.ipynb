{
 "cells": [
  {
   "cell_type": "markdown",
   "id": "3fde655e-43f6-4695-b306-7c23ee43d9c8",
   "metadata": {
    "tags": []
   },
   "source": [
    "# Data Generation"
   ]
  },
  {
   "cell_type": "markdown",
   "id": "1ffa4c5e-7b12-4bc2-8f77-67f5f7411a10",
   "metadata": {
    "tags": [
     "remove-cell"
    ]
   },
   "source": [
    "**CS5483 Data Warehousing and Data Mining**\n",
    "___"
   ]
  },
  {
   "cell_type": "code",
   "execution_count": null,
   "id": "45b4ee09-f71b-4b95-8c43-e0d6dcbc41cb",
   "metadata": {
    "tags": []
   },
   "outputs": [],
   "source": [
    "load(\"datamining.mac\")$\n",
    "set_draw_defaults(file_name=\"images/maxplot.svg\", terminal=svg, point_type=square, point_size=2)$"
   ]
  },
  {
   "cell_type": "markdown",
   "id": "2914435a-83e9-45f9-9f78-9129d5f38a45",
   "metadata": {},
   "source": [
    "## Introduction"
   ]
  },
  {
   "cell_type": "markdown",
   "id": "fb217d4f-6b8a-4cf6-a48a-bb9eee641dad",
   "metadata": {},
   "source": [
    "This notebook demonstrates the data mining package written in Maxima, which is useful for\n",
    "\n",
    "- computing some mathematical criteria exactly without numerical error/instability, and\n",
    "- creating randomized moodle stack questions. \n",
    "\n",
    "To achieve the above goals, some of the implementations are simplified and may not be scalable to large data set."
   ]
  },
  {
   "cell_type": "markdown",
   "id": "76777ede-8645-4991-9d89-31133319ea35",
   "metadata": {},
   "source": [
    "To load the package:\n",
    "\n",
    "```\n",
    "load(\"datamining.mac\")$\n",
    "```"
   ]
  },
  {
   "cell_type": "markdown",
   "id": "7a1a50e0-a0d8-4a7c-9432-20d6922e949d",
   "metadata": {},
   "source": [
    "To learn Maxima, you may use the `describe` function or refer to the [documentation](https://maxima.sourceforge.io/documentation.html) for more details:"
   ]
  },
  {
   "cell_type": "code",
   "execution_count": null,
   "id": "7e309dc8-8b36-46b3-b6d1-1c97d5c45188",
   "metadata": {
    "tags": []
   },
   "outputs": [],
   "source": [
    "describe(block)$"
   ]
  },
  {
   "cell_type": "markdown",
   "id": "978a97de-3b10-4fd2-8ec9-52c36a1f5274",
   "metadata": {},
   "source": [
    "As an example, the following defines a function that computes the maxima of its arguments:"
   ]
  },
  {
   "cell_type": "code",
   "execution_count": null,
   "id": "9479eeb5-db51-45bd-b1e6-34016be43fa2",
   "metadata": {
    "tags": []
   },
   "outputs": [],
   "source": [
    "maxima([lst]):=\n",
    "if length(lst)>1 \n",
    "/* recurse on tail maxima (tm) */\n",
    "then block(\n",
    "    [tm :apply('maxima,rest(lst))],\n",
    "    if lst[1]>=tm[2] \n",
    "    then maxima(lst[1]) \n",
    "    else [tm[1]+1,tm[2]]\n",
    ")\n",
    "/* base cases */\n",
    "else if length(lst)>0 \n",
    "then [1, lst[1]]\n",
    "else [0, -inf]$  /* trailing $ gives no output. */\n",
    "\n",
    "maxima(1,2,3,2,1); /* trailing ; ends an expression and outputs its value. */"
   ]
  },
  {
   "cell_type": "markdown",
   "id": "0e609137-97c5-413f-81a0-616b73b17ac0",
   "metadata": {},
   "source": [
    "In the above example, `maxima([lst])` is a recursive function that \n",
    "- takes a variable number of arguments, which will be stored in `lst` as a list, and\n",
    "- return a list `[i,m]` as follows:\n",
    "  - If `lst` is non-empty, `lst[i]=m` is a maximum element of `lst` and i is the smallest such index.\n",
    "  - If `lst` is empty, then `[0,-inf]` following the conventions that \n",
    "    - the maximum element of an empty list of numbers is `-inf`, and \n",
    "    - Maxima use 1-based numbering so `0` is the index of an imaginary item before the first item in a list."
   ]
  },
  {
   "cell_type": "markdown",
   "id": "8c49d16d-c27b-4da3-bd0f-b0f00e0a5da2",
   "metadata": {},
   "source": [
    "## Generate data from lists"
   ]
  },
  {
   "cell_type": "markdown",
   "id": "a7d4e344-de40-4817-8af2-c7f715451408",
   "metadata": {},
   "source": [
    "Data is a matrix of feature values associated with feature names. Data can be created by `build_data_from_list(fns, lst)` where\n",
    "- `fns` is a list of feature names, and \n",
    "- `lst` is a list of instances, which are lists of feature values corresponding to the feature names."
   ]
  },
  {
   "cell_type": "code",
   "execution_count": null,
   "id": "2424f407-cc08-4ab6-aec9-3f61ee4baab0",
   "metadata": {},
   "outputs": [],
   "source": [
    "block(\n",
    "    [\n",
    "        fns: ['i, 'X_1, 'X_2, 'Y],           /* feature names */\n",
    "        lst: [[1, 0, 0, 0], [2, 1, 1, 1]],   /* instances */\n",
    "        target: 'Y,\n",
    "        xy: ['X_1, 'X_2],\n",
    "        data\n",
    "    ],\n",
    "    data: build_data_from_list(fns, lst),\n",
    "    plot_labeled_data(data,xy,target),\n",
    "    [data, feature_names(data), size(data), feature_index(fns, target), get_data(data, 1), feature_values(data, target)]\n",
    ");"
   ]
  },
  {
   "cell_type": "markdown",
   "id": "399ecf72-927f-49ec-a488-8cf6ab39a0aa",
   "metadata": {},
   "source": [
    "```{note}\n",
    "There are other functions that help extract information of a data set:\n",
    "- `feature_names(data)` returns the feature names of `data`,\n",
    "- `size(data)` returns the number of instances of `data`,\n",
    "- `feature_index(fns, fn)` returns the index of a feature named `fn` in the list `fns` of feature names,\n",
    "- `get_data(data, i)` returns the `i`-th instance of `data`, and\n",
    "- `feature_values(data, fn)` returns the list of feature values of the feature `fn`.\n",
    "```"
   ]
  },
  {
   "cell_type": "markdown",
   "id": "8ff9a487-4410-4119-9a31-db63dee519cc",
   "metadata": {},
   "source": [
    "## Generate data with rules"
   ]
  },
  {
   "cell_type": "markdown",
   "id": "c79f2c46-1438-41b6-be1b-afe07cc6c985",
   "metadata": {},
   "source": [
    "Data can also be generated (randomly) according to some specified rules using `build_data(fns, gen, n)` where\n",
    "- `fns` is a list of feature names,\n",
    "- `gen` is a function that takes a unique index and generate an instance (list of feature values) associated with the index, and\n",
    "- `n` is the number of instances to generate."
   ]
  },
  {
   "cell_type": "code",
   "execution_count": null,
   "id": "48ee7b33-8425-421f-9565-2f9a6d910528",
   "metadata": {},
   "outputs": [],
   "source": [
    "block(\n",
    "    [\n",
    "        fns: ['i, 'X_1, 'X_2, 'Y],\n",
    "        gen: lambda([i],\n",
    "            [\n",
    "                i,\n",
    "                random(3),\n",
    "                random(3),\n",
    "                if 'X_1<1 and 'X_2>0 then 1 else 0\n",
    "            ]),\n",
    "        n: 10\n",
    "    ],\n",
    "    build_data(fns, gen, n)\n",
    ");"
   ]
  },
  {
   "cell_type": "markdown",
   "id": "4d857aa3-b783-4c86-849f-284410fdbee3",
   "metadata": {},
   "source": [
    "In the above example, \n",
    "- $i$ is the unique index,\n",
    "- $X1$ and $X2$ are uniformly random generated from $\\Set{0,1,2}$, and\n",
    "- $Y$ is a deterministic function of $X1$ and $X2$, namely,  \n",
    "$$\n",
    "Y=\\begin{cases}\n",
    "1 & X1<1, X2>0\\\\\n",
    "0 & \\text{otherwise.}\n",
    "\\end{cases}\n",
    "$$\n",
    "\n",
    "```{note}\n",
    "The value of a feature \n",
    "- can depend on the index and the values of all the previously generated features of the same instance, but\n",
    "- cannot depend on the feature values of other instances.\n",
    "```"
   ]
  },
  {
   "cell_type": "markdown",
   "id": "02eda211-2eea-4064-b9c4-d0413c5cb663",
   "metadata": {},
   "source": [
    "## Transform features"
   ]
  },
  {
   "cell_type": "markdown",
   "id": "e5584522-6184-4a77-8cfe-0866972e29cc",
   "metadata": {},
   "source": [
    "New features can be created by transforming existing ones using `transform_features(data, nfns, ngen)` where\n",
    "- `data` is a data set,\n",
    "- `nfns` is the list of new feature names, and\n",
    "- `ngen` is a function that takes a unique index and returns an instance (list of new feature values)."
   ]
  },
  {
   "cell_type": "code",
   "execution_count": null,
   "id": "16731eb1-52ca-4a57-8ee6-87ee11dd9e3e",
   "metadata": {},
   "outputs": [],
   "source": [
    "block(\n",
    "    [\n",
    "        fns: ['X_1, 'X_2],\n",
    "        gen: lambda([i], \n",
    "            [\n",
    "                random(3), \n",
    "                random(3)\n",
    "            ]),\n",
    "        n: 10,\n",
    "        nfns: ['i, 'X_1, 'X_2, 'Y],\n",
    "        ngen: lambda([i],\n",
    "            [\n",
    "                i,\n",
    "                'X_1,\n",
    "                'X_2,\n",
    "               if 'X_1<1 and 'X_2>0 then 1 else 0 \n",
    "            ]\n",
    "        ),\n",
    "        data\n",
    "    ],\n",
    "    data: build_data(fns, gen, n),\n",
    "    [data, transform_features(data, nfns, ngen)]\n",
    ");"
   ]
  },
  {
   "cell_type": "markdown",
   "id": "f7a4b20a-2954-4e38-ad53-1d9969b018f9",
   "metadata": {},
   "source": [
    "In the above example, \n",
    "- the features $X1$ and $X2$ in `data` are transformed to create the feature $Y$, and\n",
    "- the row index is used to create the feature $i$.\n",
    "\n",
    "```{note}\n",
    "A new feature \n",
    "- can depend on the index, all previously generated features and the features in `data` of the same instance, but\n",
    "- cannot depend on the feature values of other instances. \n",
    "```"
   ]
  },
  {
   "cell_type": "markdown",
   "id": "2ecce480-25c1-45b5-b5c9-d9caaf2d11f9",
   "metadata": {},
   "source": [
    "## Subsample data"
   ]
  },
  {
   "cell_type": "markdown",
   "id": "11eaa260-ff51-431a-a917-f929a06fd561",
   "metadata": {},
   "source": [
    "To subsample data based on certain condition:"
   ]
  },
  {
   "cell_type": "code",
   "execution_count": null,
   "id": "a0853ee5-746d-474a-a2b2-c01d3dd4e95e",
   "metadata": {},
   "outputs": [],
   "source": [
    "block(\n",
    "    [\n",
    "        fns: ['X_1, 'X_2],\n",
    "        gen: lambda([i],\n",
    "            [\n",
    "                random(3),\n",
    "                random(3)\n",
    "            ]),\n",
    "        n: 10,\n",
    "        cond: lambda([i],\n",
    "            'X_1<1 and 'X_2>0\n",
    "        ),\n",
    "        data\n",
    "    ],\n",
    "    data: build_data(fns, gen, n),\n",
    "    [data, subsample_data(data, cond)]\n",
    ");"
   ]
  },
  {
   "cell_type": "markdown",
   "id": "b6ca15da-7b6a-47de-93a2-bc1bc1464af1",
   "metadata": {},
   "source": [
    "Data sets with the same list of features can be stacked together (vertically):"
   ]
  },
  {
   "cell_type": "code",
   "execution_count": null,
   "id": "626ba6c6-e176-4d2c-ac59-069f0db6022f",
   "metadata": {},
   "outputs": [],
   "source": [
    "block(\n",
    "    [\n",
    "        fns: ['i, 'X_1, 'X_2]\n",
    "    ],\n",
    "    data_1: build_data(fns, lambda([i], [i, random(2), random(2)]),4),\n",
    "    data_2: build_data(fns, lambda([i], [i, 3+random(2), random(2)]),4),\n",
    "    data: transform_features(stack_data(data_1, data_2), fns, lambda([i], [i, 'X_1, 'X_2])),\n",
    "    [data_1, data_2, data]\n",
    ");"
   ]
  },
  {
   "cell_type": "markdown",
   "id": "f258febe-013d-45ad-90a2-74c873f62ae8",
   "metadata": {},
   "source": [
    "In the above example, we created data consisting of instances from the two clusters data_1 and data_2. The index column is regenerated so that\n",
    "every instance has a unique index."
   ]
  },
  {
   "cell_type": "markdown",
   "id": "537dc16b-e576-4f9f-809b-96aa3a453aeb",
   "metadata": {},
   "source": [
    "## Combine data"
   ]
  },
  {
   "cell_type": "markdown",
   "id": "9f80ed57-511e-422a-a9c8-73c10f145c31",
   "metadata": {},
   "source": [
    "Data can be stacked (vertically) by `stack_data(data_1, data_2, ...)` where `data_i`'s are data with the same list of features."
   ]
  },
  {
   "cell_type": "code",
   "execution_count": null,
   "id": "e5ea723a-54c8-45fe-b2a4-2e5d1e372301",
   "metadata": {},
   "outputs": [],
   "source": [
    "block(\n",
    "    [\n",
    "        fns: ['i, 'X_1, 'X_2]\n",
    "    ],\n",
    "    data_1: build_data(fns, lambda([i], [i, random(2), random(2)]),4),\n",
    "    data_2: build_data(fns, lambda([i], [i, 3+random(2), random(2)]),4),\n",
    "    data: transform_features(stack_data(data_1, data_2), fns, lambda([i], [i, 'X_1, 'X_2])) \n",
    ");"
   ]
  },
  {
   "cell_type": "markdown",
   "id": "fca68cb7-835d-4705-b888-992feca28461",
   "metadata": {},
   "source": [
    "In the above example, `data` consists of instances from `data_1` and `data_2`. \n",
    "\n",
    "```{note}\n",
    "The index column is regenerated using `transform_features` for `data` so that every instance has a unique index.\n",
    "```"
   ]
  }
 ],
 "metadata": {
  "kernelspec": {
   "display_name": "Maxima",
   "language": "maxima",
   "name": "maxima"
  },
  "language_info": {
   "codemirror_mode": "maxima",
   "file_extension": ".mac",
   "mimetype": "text/x-maxima",
   "name": "maxima",
   "pygments_lexer": "maxima",
   "version": "5.45post"
  },
  "widgets": {
   "application/vnd.jupyter.widget-state+json": {
    "state": {},
    "version_major": 2,
    "version_minor": 0
   }
  }
 },
 "nbformat": 4,
 "nbformat_minor": 5
}
