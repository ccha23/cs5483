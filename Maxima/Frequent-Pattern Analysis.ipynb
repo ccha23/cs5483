{
 "cells": [
  {
   "cell_type": "markdown",
   "id": "3fde655e-43f6-4695-b306-7c23ee43d9c8",
   "metadata": {
    "tags": []
   },
   "source": [
    "# Frequent-Pattern Analysis"
   ]
  },
  {
   "cell_type": "markdown",
   "id": "1ffa4c5e-7b12-4bc2-8f77-67f5f7411a10",
   "metadata": {
    "tags": [
     "remove-cell"
    ]
   },
   "source": [
    "**CS5483 Data Warehousing and Data Mining**\n",
    "___"
   ]
  },
  {
   "cell_type": "code",
   "execution_count": null,
   "id": "45b4ee09-f71b-4b95-8c43-e0d6dcbc41cb",
   "metadata": {
    "tags": []
   },
   "outputs": [],
   "source": [
    "load(\"datamining.mac\")$"
   ]
  },
  {
   "cell_type": "markdown",
   "id": "e86303fd-c9e6-4470-82e7-61f4741fc627",
   "metadata": {},
   "source": [
    "## Apriori algorithm"
   ]
  },
  {
   "cell_type": "markdown",
   "id": "9c772325-fd89-4971-b9eb-ad7b6d720291",
   "metadata": {},
   "source": [
    "### Transactional data"
   ]
  },
  {
   "cell_type": "markdown",
   "id": "15eb1199-608b-4306-bb77-b5ee200138a7",
   "metadata": {},
   "source": [
    "A transactional data set is a list of transactions in the form of subsets of items purchased. `all_items(data)` returns the list of all items in a transactional data set `data`."
   ]
  },
  {
   "cell_type": "code",
   "execution_count": null,
   "id": "78bd6e46-795e-4900-b4c5-3ba408330ba4",
   "metadata": {},
   "outputs": [],
   "source": [
    "block(\n",
    "    [\n",
    "        data: [\n",
    "            {    3,2,1},\n",
    "            {    3,2,1},\n",
    "            {  4,  2,1},\n",
    "            {  4,  2,1},\n",
    "            {5,  3,  1}\n",
    "        ]\n",
    "    ],\n",
    "    all_items(data)\n",
    ");"
   ]
  },
  {
   "cell_type": "markdown",
   "id": "5fa114da-64c3-4940-9154-bfa020c2c343",
   "metadata": {},
   "source": [
    "### Frequent itemsets"
   ]
  },
  {
   "cell_type": "markdown",
   "id": "e023b278-b387-4bb3-806d-ca218b85b25f",
   "metadata": {},
   "source": [
    "The support count of an item set (a set of items) is the number of transactions that contain all items in the item set:"
   ]
  },
  {
   "cell_type": "code",
   "execution_count": null,
   "id": "d1b229f2-6340-4a9d-b3a7-337f8607ee4a",
   "metadata": {},
   "outputs": [],
   "source": [
    "support_count('data, 'A);"
   ]
  },
  {
   "cell_type": "markdown",
   "id": "b1bdd595-ca9c-4ab1-8a26-f38df3e93a9c",
   "metadata": {},
   "source": [
    "`support_counts(data, C)` returns the list of `[A,c]` where `A` is an itemset in `C` and `c` is the support count."
   ]
  },
  {
   "cell_type": "code",
   "execution_count": null,
   "id": "5fd97d9b-e7f8-4ced-b935-f9d91834e07d",
   "metadata": {},
   "outputs": [],
   "source": [
    "block(\n",
    "    [\n",
    "        data: [\n",
    "            {    3,2,1},\n",
    "            {    3,2,1},\n",
    "            {  4,  2,1},\n",
    "            {  4,  2,1},\n",
    "            {5,  3,  1}\n",
    "        ],\n",
    "        C\n",
    "    ],\n",
    "    C: makelist({i},i,all_items(data)),\n",
    "    support_counts(data, C)\n",
    ");"
   ]
  },
  {
   "cell_type": "markdown",
   "id": "e93faa12-2f29-4ee5-a3ae-957861619f11",
   "metadata": {},
   "source": [
    "`frequent_itemsets(C, min_sup)` filters the list of `[A,c]` to remove itemsets `A` with count `c` stricly below `min_sup`. "
   ]
  },
  {
   "cell_type": "code",
   "execution_count": null,
   "id": "391ed7aa-e1b2-415c-9684-ec8d903a2f38",
   "metadata": {},
   "outputs": [],
   "source": [
    "block(\n",
    "    [\n",
    "        data: [\n",
    "            {    3,2,1},\n",
    "            {    3,2,1},\n",
    "            {  4,  2,1},\n",
    "            {  4,  2,1},\n",
    "            {5,  3,  1}\n",
    "        ],\n",
    "        min_sup:2,\n",
    "        C\n",
    "    ],\n",
    "    C: support_counts(data, makelist({i},i,all_items(data))),\n",
    "    frequent_itemsets(C, min_sup)\n",
    ");"
   ]
  },
  {
   "cell_type": "markdown",
   "id": "587e51d1-b23d-45cc-a2fd-3e6e22f99245",
   "metadata": {},
   "source": [
    "### Frequent $1$-itemsets"
   ]
  },
  {
   "cell_type": "markdown",
   "id": "3a129fa8-b80a-4799-92a4-638c5909cc54",
   "metadata": {},
   "source": [
    "`apriori1(data, min_sup)` implements the apriori algorithm to generate the frequent 1-itemset of `data` with support count at least `min_sup`."
   ]
  },
  {
   "cell_type": "code",
   "execution_count": null,
   "id": "db088b7b-e76d-44b0-b6c7-5a3b156b853a",
   "metadata": {},
   "outputs": [],
   "source": [
    "block(\n",
    "    [\n",
    "        data: [\n",
    "            {    3,2,1},\n",
    "            {    3,2,1},\n",
    "            {  4,  2,1},\n",
    "            {  4,  2,1},\n",
    "            {5,  3,  1}\n",
    "        ],\n",
    "        min_sup:2\n",
    "    ],\n",
    "    apriori1(data, min_sup)\n",
    ");"
   ]
  },
  {
   "cell_type": "markdown",
   "id": "a1009fa8-9813-4791-baad-d6b758cf2dfe",
   "metadata": {},
   "source": [
    "### Frequent $k$-itemsets"
   ]
  },
  {
   "cell_type": "markdown",
   "id": "3158d400-ab1b-4b15-979d-4fc884b8a19f",
   "metadata": {},
   "source": [
    "Given a transactional data set `data` and a list `L` of frequent $k-1$-itemsets with $k>1$, `apriorik(data, L, min_sup)` generates the list of `[A,c]` where `A` is a frequent $k$-itemset of `data` with support count `c` at least `min_sup`."
   ]
  },
  {
   "cell_type": "code",
   "execution_count": null,
   "id": "8131944e-f035-4ed2-b130-a639b991aa5b",
   "metadata": {},
   "outputs": [],
   "source": [
    "block(\n",
    "    [\n",
    "        data: [\n",
    "            {    3,2,1},\n",
    "            {    3,2,1},\n",
    "            {  4,  2,1},\n",
    "            {  4,  2,1},\n",
    "            {5,  3,  1}\n",
    "        ],\n",
    "        min_sup:2,\n",
    "        L_1\n",
    "    ],\n",
    "    L_1: apriori1(data, min_sup),\n",
    "    L_2: apriorik(data, L_1, min_sup),\n",
    "    L_3: apriorik(data, L_2, min_sup),\n",
    "    map(lambda([k, L], build_data_from_list([sconcat(k,\"-itemset\"), \"count\"], L)), [2, 3], [L_2, L_3])\n",
    ");"
   ]
  },
  {
   "cell_type": "markdown",
   "id": "4167765c-490a-409a-a0ff-d1a7eab6b3e8",
   "metadata": {},
   "source": [
    "`apriori(data, min_sup)` generates the list of frequent $k$-itemsets for $k$ from $1$ until there are no more frequent itemsets."
   ]
  },
  {
   "cell_type": "code",
   "execution_count": null,
   "id": "0f691653-1eb2-49dc-940f-c7954939ce97",
   "metadata": {},
   "outputs": [],
   "source": [
    "block(\n",
    "    [\n",
    "        data: [\n",
    "            {    3,2,1},\n",
    "            {    3,2,1},\n",
    "            {  4,  2,1},\n",
    "            {  4,  2,1},\n",
    "            {5,  3,  1}\n",
    "        ],\n",
    "        min_sup:2,\n",
    "        L\n",
    "    ],\n",
    "    L:apriori(data, min_sup),\n",
    "    makelist(build_data_from_list([sconcat(length(Lk[1][1]),\"-itemset\"), \"count\"], Lk), Lk, L)\n",
    ");"
   ]
  },
  {
   "cell_type": "markdown",
   "id": "d6611faa-23e4-4c97-986e-9457d432e20e",
   "metadata": {},
   "source": [
    "### Join and prune steps"
   ]
  },
  {
   "cell_type": "markdown",
   "id": "9824cea3-a2d0-4e59-948e-fd47d1e4d2f1",
   "metadata": {},
   "source": [
    "`apriori_join` and `apriori_prune` implement the join and prune steps respectively:"
   ]
  },
  {
   "cell_type": "code",
   "execution_count": null,
   "id": "f22c86e9-2527-4152-a225-73bb545e5647",
   "metadata": {
    "tags": []
   },
   "outputs": [],
   "source": [
    "block(\n",
    "    [\n",
    "        data: [\n",
    "            {    3,2,1},\n",
    "            {    3,2,1},\n",
    "            {  4,  2,1},\n",
    "            {  4,  2,1},\n",
    "            {5,  3,  1}\n",
    "        ],\n",
    "        min_sup:2,\n",
    "        L_1\n",
    "    ],\n",
    "    L_1: apriori1(data, min_sup),\n",
    "    L_2: apriorik(data, L_1, min_sup),\n",
    "    C:apriori_join(data, L_2),\n",
    "    [C, apriori_prune(data, C, setify(map(first,L_2)))]\n",
    ");"
   ]
  },
  {
   "cell_type": "markdown",
   "id": "bd1dcc47-7844-441c-89e0-ac10c6d63910",
   "metadata": {},
   "source": [
    "## Association rule mining"
   ]
  },
  {
   "cell_type": "markdown",
   "id": "9efe0cb2-fbac-4a9e-aa05-ac9fff96b39b",
   "metadata": {},
   "source": [
    "### Association rules"
   ]
  },
  {
   "cell_type": "markdown",
   "id": "525a69fd-035f-4371-a393-26275729e9cf",
   "metadata": {},
   "source": [
    "An association rule can be created as follows:"
   ]
  },
  {
   "cell_type": "code",
   "execution_count": null,
   "id": "09d57a78-b124-4189-ab6a-5c2c27fd60d5",
   "metadata": {},
   "outputs": [],
   "source": [
    "block(\n",
    "    [\n",
    "        R:ar('A,'B)\n",
    "    ],\n",
    "    build_data_from_list(\n",
    "        [\"rule\", \"antecedent\", \"consequence\"],\n",
    "        [[R, ar_A(R), ar_B(R)]]\n",
    "    )\n",
    ");"
   ]
  },
  {
   "cell_type": "markdown",
   "id": "4df9a7b1-d8c4-4258-ad52-c0e5fb01a418",
   "metadata": {},
   "source": [
    "- `ar(A,B)` creates an association rule `(A ⇒ B)`.\n",
    "- `ar_A(R)` returns the itemset associated with the antecedent of `R`.\n",
    "- `ar_B(R)` returns the itemset associated with the consequence of `R`."
   ]
  },
  {
   "cell_type": "markdown",
   "id": "cd7d26b8-769f-41ef-bb9c-332d8c5b53d3",
   "metadata": {},
   "source": [
    "### Rule qualities"
   ]
  },
  {
   "cell_type": "markdown",
   "id": "1d9df1e1-672f-4320-a3a0-3942e94137a0",
   "metadata": {},
   "source": [
    "The following computes various qualities of an association rule from transaction data:"
   ]
  },
  {
   "cell_type": "code",
   "execution_count": null,
   "id": "3bc09642-21e5-4c3a-9a90-d68b0d4d9c4c",
   "metadata": {},
   "outputs": [],
   "source": [
    "block(\n",
    "    [\n",
    "        data: [\n",
    "            {    3,2,1},\n",
    "            {    3,2,1},\n",
    "            {  4,  2,1},\n",
    "            {  4,  2,1},\n",
    "            {5,  3,  1}\n",
    "        ],\n",
    "        min_sup:2,\n",
    "        R: ar({1,2},{3})\n",
    "    ],\n",
    "    [coverage(data, R), support(data, R), confidence(data, R), prior(data, R), lift(data, R)] \n",
    ");"
   ]
  },
  {
   "cell_type": "markdown",
   "id": "9c0ab14f-6d95-4cb5-b201-4812cf6ea0bc",
   "metadata": {},
   "source": [
    "### Support-confidence framework"
   ]
  },
  {
   "cell_type": "markdown",
   "id": "61cdf8c4-cadb-4916-80bc-2c3c21784005",
   "metadata": {},
   "source": [
    "Association rules can be generated using the support-confidence framework as follows:"
   ]
  },
  {
   "cell_type": "code",
   "execution_count": null,
   "id": "cfe86a38-024f-4f5c-ba1c-3ce4ab4e9a96",
   "metadata": {},
   "outputs": [],
   "source": [
    "block(\n",
    "    [\n",
    "        data: [\n",
    "            {    3,2,1},\n",
    "            {    3,2,1},\n",
    "            {  4,  2,1},\n",
    "            {  4,  2,1},\n",
    "            {5,  3,  1}\n",
    "        ],\n",
    "        c:6/10, s:4/10\n",
    "    ],\n",
    "    lst:support_confidence_framework(data, s, c),\n",
    "    build_data_from_list(\n",
    "        [\"rule\", \"coverage\", \"support\", \"confidence\", \"prior\", \"lift\"],\n",
    "        sort(\n",
    "            lst, \n",
    "            lambda([a,b], a[4]>b[4] or (a[4]=b[4] and a[6]>b[6])) /* descending order in (confidence, lift) */\n",
    "        )\n",
    "    )\n",
    ");"
   ]
  },
  {
   "cell_type": "markdown",
   "id": "32299b84",
   "metadata": {
    "tags": []
   },
   "source": [
    "# Frequent-Pattern Analysis"
   ]
  },
  {
   "cell_type": "markdown",
   "id": "7614e63a",
   "metadata": {
    "tags": [
     "remove-cell"
    ]
   },
   "source": [
    "**CS5483 Data Warehousing and Data Mining**\n",
    "___"
   ]
  },
  {
   "cell_type": "code",
   "execution_count": null,
   "id": "d7934c2c",
   "metadata": {
    "tags": []
   },
   "outputs": [],
   "source": [
    "load(\"datamining.mac\")$"
   ]
  },
  {
   "cell_type": "markdown",
   "id": "b4e37364",
   "metadata": {},
   "source": [
    "## Apriori algorithm"
   ]
  },
  {
   "cell_type": "markdown",
   "id": "c4094a7d",
   "metadata": {},
   "source": [
    "### Transactional data"
   ]
  },
  {
   "cell_type": "markdown",
   "id": "455cf074",
   "metadata": {},
   "source": [
    "A transactional data set is a list of transactions in the form of subsets of items purchased. `all_items(data)` returns the list of all items in a transactional data set `data`."
   ]
  },
  {
   "cell_type": "code",
   "execution_count": null,
   "id": "1a1edffd",
   "metadata": {},
   "outputs": [],
   "source": [
    "block(\n",
    "    [\n",
    "        data: [\n",
    "            {    3,2,1},\n",
    "            {    3,2,1},\n",
    "            {  4,  2,1},\n",
    "            {  4,  2,1},\n",
    "            {5,  3,  1}\n",
    "        ]\n",
    "    ],\n",
    "    all_items(data)\n",
    ");"
   ]
  },
  {
   "cell_type": "markdown",
   "id": "fb92436a",
   "metadata": {},
   "source": [
    "### Frequent itemsets"
   ]
  },
  {
   "cell_type": "markdown",
   "id": "738be941",
   "metadata": {},
   "source": [
    "The support count of an item set (a set of items) is the number of transactions that contain all items in the item set:"
   ]
  },
  {
   "cell_type": "code",
   "execution_count": null,
   "id": "dd2469cd",
   "metadata": {},
   "outputs": [],
   "source": [
    "support_count('data, 'A);"
   ]
  },
  {
   "cell_type": "markdown",
   "id": "d3d2deb0",
   "metadata": {},
   "source": [
    "`support_counts(data, C)` returns the list of `[A,c]` where `A` is an itemset in `C` and `c` is the support count."
   ]
  },
  {
   "cell_type": "code",
   "execution_count": null,
   "id": "f83e74e9",
   "metadata": {},
   "outputs": [],
   "source": [
    "block(\n",
    "    [\n",
    "        data: [\n",
    "            {    3,2,1},\n",
    "            {    3,2,1},\n",
    "            {  4,  2,1},\n",
    "            {  4,  2,1},\n",
    "            {5,  3,  1}\n",
    "        ],\n",
    "        C\n",
    "    ],\n",
    "    C: makelist({i},i,all_items(data)),\n",
    "    support_counts(data, C)\n",
    ");"
   ]
  },
  {
   "cell_type": "markdown",
   "id": "9a727be6",
   "metadata": {},
   "source": [
    "`frequent_itemsets(C, min_sup)` filters the list of `[A,c]` to remove itemsets `A` with count `c` stricly below `min_sup`. "
   ]
  },
  {
   "cell_type": "code",
   "execution_count": null,
   "id": "a6899306",
   "metadata": {},
   "outputs": [],
   "source": [
    "block(\n",
    "    [\n",
    "        data: [\n",
    "            {    3,2,1},\n",
    "            {    3,2,1},\n",
    "            {  4,  2,1},\n",
    "            {  4,  2,1},\n",
    "            {5,  3,  1}\n",
    "        ],\n",
    "        min_sup:2,\n",
    "        C\n",
    "    ],\n",
    "    C: support_counts(data, makelist({i},i,all_items(data))),\n",
    "    frequent_itemsets(C, min_sup)\n",
    ");"
   ]
  },
  {
   "cell_type": "markdown",
   "id": "7d5b4ba0",
   "metadata": {},
   "source": [
    "### Frequent $1$-itemsets"
   ]
  },
  {
   "cell_type": "markdown",
   "id": "9d065b37",
   "metadata": {},
   "source": [
    "`apriori1(data, min_sup)` implements the apriori algorithm to generate the frequent 1-itemset of `data` with support count at least `min_sup`."
   ]
  },
  {
   "cell_type": "code",
   "execution_count": null,
   "id": "12f37354",
   "metadata": {},
   "outputs": [],
   "source": [
    "block(\n",
    "    [\n",
    "        data: [\n",
    "            {    3,2,1},\n",
    "            {    3,2,1},\n",
    "            {  4,  2,1},\n",
    "            {  4,  2,1},\n",
    "            {5,  3,  1}\n",
    "        ],\n",
    "        min_sup:2\n",
    "    ],\n",
    "    apriori1(data, min_sup)\n",
    ");"
   ]
  },
  {
   "cell_type": "markdown",
   "id": "781b5a05",
   "metadata": {},
   "source": [
    "### Frequent $k$-itemsets"
   ]
  },
  {
   "cell_type": "markdown",
   "id": "fce3c1cf",
   "metadata": {},
   "source": [
    "Given a transactional data set `data` and a list `L` of frequent $k-1$-itemsets with $k>1$, `apriorik(data, L, min_sup)` generates the list of `[A,c]` where `A` is a frequent $k$-itemset of `data` with support count `c` at least `min_sup`."
   ]
  },
  {
   "cell_type": "code",
   "execution_count": null,
   "id": "b4dcdd62",
   "metadata": {},
   "outputs": [],
   "source": [
    "block(\n",
    "    [\n",
    "        data: [\n",
    "            {    3,2,1},\n",
    "            {    3,2,1},\n",
    "            {  4,  2,1},\n",
    "            {  4,  2,1},\n",
    "            {5,  3,  1}\n",
    "        ],\n",
    "        min_sup:2,\n",
    "        L_1\n",
    "    ],\n",
    "    L_1: apriori1(data, min_sup),\n",
    "    L_2: apriorik(data, L_1, min_sup),\n",
    "    L_3: apriorik(data, L_2, min_sup),\n",
    "    map(lambda([k, L], build_data_from_list([sconcat(k,\"-itemset\"), \"count\"], L)), [2, 3], [L_2, L_3])\n",
    ");"
   ]
  },
  {
   "cell_type": "markdown",
   "id": "f03f3677",
   "metadata": {},
   "source": [
    "`apriori(data, min_sup)` generates the list of frequent $k$-itemsets for $k$ from $1$ until there are no more frequent itemsets."
   ]
  },
  {
   "cell_type": "code",
   "execution_count": null,
   "id": "df8a330b",
   "metadata": {},
   "outputs": [],
   "source": [
    "block(\n",
    "    [\n",
    "        data: [\n",
    "            {    3,2,1},\n",
    "            {    3,2,1},\n",
    "            {  4,  2,1},\n",
    "            {  4,  2,1},\n",
    "            {5,  3,  1}\n",
    "        ],\n",
    "        min_sup:2,\n",
    "        L\n",
    "    ],\n",
    "    L:apriori(data, min_sup),\n",
    "    makelist(build_data_from_list([sconcat(length(Lk[1][1]),\"-itemset\"), \"count\"], Lk), Lk, L)\n",
    ");"
   ]
  },
  {
   "cell_type": "markdown",
   "id": "da1dc719",
   "metadata": {},
   "source": [
    "### Join and prune steps"
   ]
  },
  {
   "cell_type": "markdown",
   "id": "479a1a34",
   "metadata": {},
   "source": [
    "`apriori_join` and `apriori_prune` implement the join and prune steps respectively:"
   ]
  },
  {
   "cell_type": "code",
   "execution_count": null,
   "id": "5ae0129f",
   "metadata": {
    "tags": []
   },
   "outputs": [],
   "source": [
    "block(\n",
    "    [\n",
    "        data: [\n",
    "            {    3,2,1},\n",
    "            {    3,2,1},\n",
    "            {  4,  2,1},\n",
    "            {  4,  2,1},\n",
    "            {5,  3,  1}\n",
    "        ],\n",
    "        min_sup:2,\n",
    "        L_1\n",
    "    ],\n",
    "    L_1: apriori1(data, min_sup),\n",
    "    L_2: apriorik(data, L_1, min_sup),\n",
    "    C:apriori_join(data, L_2),\n",
    "    [C, apriori_prune(data, C, setify(map(first,L_2)))]\n",
    ");"
   ]
  },
  {
   "cell_type": "markdown",
   "id": "0c01f23b",
   "metadata": {},
   "source": [
    "## Association rule mining"
   ]
  },
  {
   "cell_type": "markdown",
   "id": "9ece6157",
   "metadata": {},
   "source": [
    "### Association rules"
   ]
  },
  {
   "cell_type": "markdown",
   "id": "abe83973",
   "metadata": {},
   "source": [
    "An association rule can be created as follows:"
   ]
  },
  {
   "cell_type": "code",
   "execution_count": null,
   "id": "00679f66",
   "metadata": {},
   "outputs": [],
   "source": [
    "block(\n",
    "    [\n",
    "        R:ar('A,'B)\n",
    "    ],\n",
    "    build_data_from_list(\n",
    "        [\"rule\", \"antecedent\", \"consequence\"],\n",
    "        [[R, ar_A(R), ar_B(R)]]\n",
    "    )\n",
    ");"
   ]
  },
  {
   "cell_type": "markdown",
   "id": "59647ed1",
   "metadata": {},
   "source": [
    "- `ar(A,B)` creates an association rule `(A ⇒ B)`.\n",
    "- `ar_A(R)` returns the itemset associated with the antecedent of `R`.\n",
    "- `ar_B(R)` returns the itemset associated with the consequence of `R`."
   ]
  },
  {
   "cell_type": "markdown",
   "id": "e02c9419",
   "metadata": {},
   "source": [
    "### Rule qualities"
   ]
  },
  {
   "cell_type": "markdown",
   "id": "83628787",
   "metadata": {},
   "source": [
    "The following computes various qualities of an association rule from transaction data:"
   ]
  },
  {
   "cell_type": "code",
   "execution_count": null,
   "id": "76fb14ac",
   "metadata": {},
   "outputs": [],
   "source": [
    "block(\n",
    "    [\n",
    "        data: [\n",
    "            {    3,2,1},\n",
    "            {    3,2,1},\n",
    "            {  4,  2,1},\n",
    "            {  4,  2,1},\n",
    "            {5,  3,  1}\n",
    "        ],\n",
    "        min_sup:2,\n",
    "        R: ar({1,2},{3})\n",
    "    ],\n",
    "    [coverage(data, R), support(data, R), confidence(data, R), prior(data, R), lift(data, R)] \n",
    ");"
   ]
  },
  {
   "cell_type": "markdown",
   "id": "1639f5ec",
   "metadata": {},
   "source": [
    "### Support-confidence framework"
   ]
  },
  {
   "cell_type": "markdown",
   "id": "cd2b8cc3",
   "metadata": {},
   "source": [
    "Association rules can be generated using the support-confidence framework as follows:"
   ]
  },
  {
   "cell_type": "code",
   "execution_count": null,
   "id": "ca2af793",
   "metadata": {},
   "outputs": [],
   "source": [
    "block(\n",
    "    [\n",
    "        data: [\n",
    "            {    3,2,1},\n",
    "            {    3,2,1},\n",
    "            {  4,  2,1},\n",
    "            {  4,  2,1},\n",
    "            {5,  3,  1}\n",
    "        ],\n",
    "        c:6/10, s:4/10\n",
    "    ],\n",
    "    lst:support_confidence_framework(data, s, c),\n",
    "    build_data_from_list(\n",
    "        [\"rule\", \"coverage\", \"support\", \"confidence\", \"prior\", \"lift\"],\n",
    "        sort(\n",
    "            lst, \n",
    "            lambda([a,b], a[4]>b[4] or (a[4]=b[4] and a[6]>b[6])) /* descending order in (confidence, lift) */\n",
    "        )\n",
    "    )\n",
    ");"
   ]
  },
  {
   "cell_type": "markdown",
   "id": "a23e72d4",
   "metadata": {
    "tags": []
   },
   "source": [
    "# Frequent-Pattern Analysis"
   ]
  },
  {
   "cell_type": "markdown",
   "id": "bb6948d3",
   "metadata": {
    "tags": [
     "remove-cell"
    ]
   },
   "source": [
    "**CS5483 Data Warehousing and Data Mining**\n",
    "___"
   ]
  },
  {
   "cell_type": "code",
   "execution_count": null,
   "id": "02bf79f3",
   "metadata": {
    "tags": []
   },
   "outputs": [],
   "source": [
    "load(\"datamining.mac\")$"
   ]
  },
  {
   "cell_type": "markdown",
   "id": "7a93e827",
   "metadata": {},
   "source": [
    "## Apriori algorithm"
   ]
  },
  {
   "cell_type": "markdown",
   "id": "db980b01",
   "metadata": {},
   "source": [
    "### Transactional data"
   ]
  },
  {
   "cell_type": "markdown",
   "id": "b0336884",
   "metadata": {},
   "source": [
    "A transactional data set is a list of transactions in the form of subsets of items purchased. `all_items(data)` returns the list of all items in a transactional data set `data`."
   ]
  },
  {
   "cell_type": "code",
   "execution_count": null,
   "id": "160d6519",
   "metadata": {},
   "outputs": [],
   "source": [
    "block(\n",
    "    [\n",
    "        data: [\n",
    "            {    3,2,1},\n",
    "            {    3,2,1},\n",
    "            {  4,  2,1},\n",
    "            {  4,  2,1},\n",
    "            {5,  3,  1}\n",
    "        ]\n",
    "    ],\n",
    "    all_items(data)\n",
    ");"
   ]
  },
  {
   "cell_type": "markdown",
   "id": "4b9371d4",
   "metadata": {},
   "source": [
    "### Frequent itemsets"
   ]
  },
  {
   "cell_type": "markdown",
   "id": "e5b831ed",
   "metadata": {},
   "source": [
    "The support count of an item set (a set of items) is the number of transactions that contain all items in the item set:"
   ]
  },
  {
   "cell_type": "code",
   "execution_count": null,
   "id": "2f9cdfae",
   "metadata": {},
   "outputs": [],
   "source": [
    "support_count('data, 'A);"
   ]
  },
  {
   "cell_type": "markdown",
   "id": "22df429b",
   "metadata": {},
   "source": [
    "`support_counts(data, C)` returns the list of `[A,c]` where `A` is an itemset in `C` and `c` is the support count."
   ]
  },
  {
   "cell_type": "code",
   "execution_count": null,
   "id": "742cea5d",
   "metadata": {},
   "outputs": [],
   "source": [
    "block(\n",
    "    [\n",
    "        data: [\n",
    "            {    3,2,1},\n",
    "            {    3,2,1},\n",
    "            {  4,  2,1},\n",
    "            {  4,  2,1},\n",
    "            {5,  3,  1}\n",
    "        ],\n",
    "        C\n",
    "    ],\n",
    "    C: makelist({i},i,all_items(data)),\n",
    "    support_counts(data, C)\n",
    ");"
   ]
  },
  {
   "cell_type": "markdown",
   "id": "ac821286",
   "metadata": {},
   "source": [
    "`frequent_itemsets(C, min_sup)` filters the list of `[A,c]` to remove itemsets `A` with count `c` stricly below `min_sup`. "
   ]
  },
  {
   "cell_type": "code",
   "execution_count": null,
   "id": "9660a46a",
   "metadata": {},
   "outputs": [],
   "source": [
    "block(\n",
    "    [\n",
    "        data: [\n",
    "            {    3,2,1},\n",
    "            {    3,2,1},\n",
    "            {  4,  2,1},\n",
    "            {  4,  2,1},\n",
    "            {5,  3,  1}\n",
    "        ],\n",
    "        min_sup:2,\n",
    "        C\n",
    "    ],\n",
    "    C: support_counts(data, makelist({i},i,all_items(data))),\n",
    "    frequent_itemsets(C, min_sup)\n",
    ");"
   ]
  },
  {
   "cell_type": "markdown",
   "id": "f2d33a7f",
   "metadata": {},
   "source": [
    "### Frequent $1$-itemsets"
   ]
  },
  {
   "cell_type": "markdown",
   "id": "a77e0563",
   "metadata": {},
   "source": [
    "`apriori1(data, min_sup)` implements the apriori algorithm to generate the frequent 1-itemset of `data` with support count at least `min_sup`."
   ]
  },
  {
   "cell_type": "code",
   "execution_count": null,
   "id": "45348da7",
   "metadata": {},
   "outputs": [],
   "source": [
    "block(\n",
    "    [\n",
    "        data: [\n",
    "            {    3,2,1},\n",
    "            {    3,2,1},\n",
    "            {  4,  2,1},\n",
    "            {  4,  2,1},\n",
    "            {5,  3,  1}\n",
    "        ],\n",
    "        min_sup:2\n",
    "    ],\n",
    "    apriori1(data, min_sup)\n",
    ");"
   ]
  },
  {
   "cell_type": "markdown",
   "id": "6e122d85",
   "metadata": {},
   "source": [
    "### Frequent $k$-itemsets"
   ]
  },
  {
   "cell_type": "markdown",
   "id": "f4f6958d",
   "metadata": {},
   "source": [
    "Given a transactional data set `data` and a list `L` of frequent $k-1$-itemsets with $k>1$, `apriorik(data, L, min_sup)` generates the list of `[A,c]` where `A` is a frequent $k$-itemset of `data` with support count `c` at least `min_sup`."
   ]
  },
  {
   "cell_type": "code",
   "execution_count": null,
   "id": "bc157e4e",
   "metadata": {},
   "outputs": [],
   "source": [
    "block(\n",
    "    [\n",
    "        data: [\n",
    "            {    3,2,1},\n",
    "            {    3,2,1},\n",
    "            {  4,  2,1},\n",
    "            {  4,  2,1},\n",
    "            {5,  3,  1}\n",
    "        ],\n",
    "        min_sup:2,\n",
    "        L_1\n",
    "    ],\n",
    "    L_1: apriori1(data, min_sup),\n",
    "    L_2: apriorik(data, L_1, min_sup),\n",
    "    L_3: apriorik(data, L_2, min_sup),\n",
    "    map(lambda([k, L], build_data_from_list([sconcat(k,\"-itemset\"), \"count\"], L)), [2, 3], [L_2, L_3])\n",
    ");"
   ]
  },
  {
   "cell_type": "markdown",
   "id": "3f87a817",
   "metadata": {},
   "source": [
    "`apriori(data, min_sup)` generates the list of frequent $k$-itemsets for $k$ from $1$ until there are no more frequent itemsets."
   ]
  },
  {
   "cell_type": "code",
   "execution_count": null,
   "id": "35786d6c",
   "metadata": {},
   "outputs": [],
   "source": [
    "block(\n",
    "    [\n",
    "        data: [\n",
    "            {    3,2,1},\n",
    "            {    3,2,1},\n",
    "            {  4,  2,1},\n",
    "            {  4,  2,1},\n",
    "            {5,  3,  1}\n",
    "        ],\n",
    "        min_sup:2,\n",
    "        L\n",
    "    ],\n",
    "    L:apriori(data, min_sup),\n",
    "    makelist(build_data_from_list([sconcat(length(Lk[1][1]),\"-itemset\"), \"count\"], Lk), Lk, L)\n",
    ");"
   ]
  },
  {
   "cell_type": "markdown",
   "id": "4518d609",
   "metadata": {},
   "source": [
    "### Join and prune steps"
   ]
  },
  {
   "cell_type": "markdown",
   "id": "b2bd5f07",
   "metadata": {},
   "source": [
    "`apriori_join` and `apriori_prune` implement the join and prune steps respectively:"
   ]
  },
  {
   "cell_type": "code",
   "execution_count": null,
   "id": "d76240b9",
   "metadata": {
    "tags": []
   },
   "outputs": [],
   "source": [
    "block(\n",
    "    [\n",
    "        data: [\n",
    "            {    3,2,1},\n",
    "            {    3,2,1},\n",
    "            {  4,  2,1},\n",
    "            {  4,  2,1},\n",
    "            {5,  3,  1}\n",
    "        ],\n",
    "        min_sup:2,\n",
    "        L_1\n",
    "    ],\n",
    "    L_1: apriori1(data, min_sup),\n",
    "    L_2: apriorik(data, L_1, min_sup),\n",
    "    C:apriori_join(data, L_2),\n",
    "    [C, apriori_prune(data, C, setify(map(first,L_2)))]\n",
    ");"
   ]
  },
  {
   "cell_type": "markdown",
   "id": "b42c399c",
   "metadata": {},
   "source": [
    "## Association rule mining"
   ]
  },
  {
   "cell_type": "markdown",
   "id": "ef7c6798",
   "metadata": {},
   "source": [
    "### Association rules"
   ]
  },
  {
   "cell_type": "markdown",
   "id": "5203c7bd",
   "metadata": {},
   "source": [
    "An association rule can be created as follows:"
   ]
  },
  {
   "cell_type": "code",
   "execution_count": null,
   "id": "7c1d434f",
   "metadata": {},
   "outputs": [],
   "source": [
    "block(\n",
    "    [\n",
    "        R:ar('A,'B)\n",
    "    ],\n",
    "    build_data_from_list(\n",
    "        [\"rule\", \"antecedent\", \"consequence\"],\n",
    "        [[R, ar_A(R), ar_B(R)]]\n",
    "    )\n",
    ");"
   ]
  },
  {
   "cell_type": "markdown",
   "id": "7436c52c",
   "metadata": {},
   "source": [
    "- `ar(A,B)` creates an association rule `(A ⇒ B)`.\n",
    "- `ar_A(R)` returns the itemset associated with the antecedent of `R`.\n",
    "- `ar_B(R)` returns the itemset associated with the consequence of `R`."
   ]
  },
  {
   "cell_type": "markdown",
   "id": "e14e09ae",
   "metadata": {},
   "source": [
    "### Rule qualities"
   ]
  },
  {
   "cell_type": "markdown",
   "id": "f514c5ac",
   "metadata": {},
   "source": [
    "The following computes various qualities of an association rule from transaction data:"
   ]
  },
  {
   "cell_type": "code",
   "execution_count": null,
   "id": "8726d840",
   "metadata": {},
   "outputs": [],
   "source": [
    "block(\n",
    "    [\n",
    "        data: [\n",
    "            {    3,2,1},\n",
    "            {    3,2,1},\n",
    "            {  4,  2,1},\n",
    "            {  4,  2,1},\n",
    "            {5,  3,  1}\n",
    "        ],\n",
    "        min_sup:2,\n",
    "        R: ar({1,2},{3})\n",
    "    ],\n",
    "    [coverage(data, R), support(data, R), confidence(data, R), prior(data, R), lift(data, R)] \n",
    ");"
   ]
  },
  {
   "cell_type": "markdown",
   "id": "42242593",
   "metadata": {},
   "source": [
    "### Support-confidence framework"
   ]
  },
  {
   "cell_type": "markdown",
   "id": "5634eda9",
   "metadata": {},
   "source": [
    "Association rules can be generated using the support-confidence framework as follows:"
   ]
  },
  {
   "cell_type": "code",
   "execution_count": null,
   "id": "9d171b5d",
   "metadata": {},
   "outputs": [],
   "source": [
    "block(\n",
    "    [\n",
    "        data: [\n",
    "            {    3,2,1},\n",
    "            {    3,2,1},\n",
    "            {  4,  2,1},\n",
    "            {  4,  2,1},\n",
    "            {5,  3,  1}\n",
    "        ],\n",
    "        c:6/10, s:4/10\n",
    "    ],\n",
    "    lst:support_confidence_framework(data, s, c),\n",
    "    build_data_from_list(\n",
    "        [\"rule\", \"coverage\", \"support\", \"confidence\", \"prior\", \"lift\"],\n",
    "        sort(\n",
    "            lst, \n",
    "            lambda([a,b], a[4]>b[4] or (a[4]=b[4] and a[6]>b[6])) /* descending order in (confidence, lift) */\n",
    "        )\n",
    "    )\n",
    ");"
   ]
  },
  {
   "cell_type": "markdown",
   "id": "1bf4aef1",
   "metadata": {
    "tags": []
   },
   "source": [
    "# Frequent-Pattern Analysis"
   ]
  },
  {
   "cell_type": "markdown",
   "id": "39813629",
   "metadata": {
    "tags": [
     "remove-cell"
    ]
   },
   "source": [
    "**CS5483 Data Warehousing and Data Mining**\n",
    "___"
   ]
  },
  {
   "cell_type": "code",
   "execution_count": null,
   "id": "b9c78bbe",
   "metadata": {
    "tags": []
   },
   "outputs": [],
   "source": [
    "load(\"datamining.mac\")$"
   ]
  },
  {
   "cell_type": "markdown",
   "id": "66b9a7c0",
   "metadata": {},
   "source": [
    "## Apriori algorithm"
   ]
  },
  {
   "cell_type": "markdown",
   "id": "cb9fb8a0",
   "metadata": {},
   "source": [
    "### Transactional data"
   ]
  },
  {
   "cell_type": "markdown",
   "id": "c6925c6d",
   "metadata": {},
   "source": [
    "A transactional data set is a list of transactions in the form of subsets of items purchased. `all_items(data)` returns the list of all items in a transactional data set `data`."
   ]
  },
  {
   "cell_type": "code",
   "execution_count": null,
   "id": "6b06016e",
   "metadata": {},
   "outputs": [],
   "source": [
    "block(\n",
    "    [\n",
    "        data: [\n",
    "            {    3,2,1},\n",
    "            {    3,2,1},\n",
    "            {  4,  2,1},\n",
    "            {  4,  2,1},\n",
    "            {5,  3,  1}\n",
    "        ]\n",
    "    ],\n",
    "    all_items(data)\n",
    ");"
   ]
  },
  {
   "cell_type": "markdown",
   "id": "24a711cf",
   "metadata": {},
   "source": [
    "### Frequent itemsets"
   ]
  },
  {
   "cell_type": "markdown",
   "id": "7e079980",
   "metadata": {},
   "source": [
    "The support count of an item set (a set of items) is the number of transactions that contain all items in the item set:"
   ]
  },
  {
   "cell_type": "code",
   "execution_count": null,
   "id": "be9cafc6",
   "metadata": {},
   "outputs": [],
   "source": [
    "support_count('data, 'A);"
   ]
  },
  {
   "cell_type": "markdown",
   "id": "1f821269",
   "metadata": {},
   "source": [
    "`support_counts(data, C)` returns the list of `[A,c]` where `A` is an itemset in `C` and `c` is the support count."
   ]
  },
  {
   "cell_type": "code",
   "execution_count": null,
   "id": "3b6ead38",
   "metadata": {},
   "outputs": [],
   "source": [
    "block(\n",
    "    [\n",
    "        data: [\n",
    "            {    3,2,1},\n",
    "            {    3,2,1},\n",
    "            {  4,  2,1},\n",
    "            {  4,  2,1},\n",
    "            {5,  3,  1}\n",
    "        ],\n",
    "        C\n",
    "    ],\n",
    "    C: makelist({i},i,all_items(data)),\n",
    "    support_counts(data, C)\n",
    ");"
   ]
  },
  {
   "cell_type": "markdown",
   "id": "c18abcec",
   "metadata": {},
   "source": [
    "`frequent_itemsets(C, min_sup)` filters the list of `[A,c]` to remove itemsets `A` with count `c` stricly below `min_sup`. "
   ]
  },
  {
   "cell_type": "code",
   "execution_count": null,
   "id": "74832c08",
   "metadata": {},
   "outputs": [],
   "source": [
    "block(\n",
    "    [\n",
    "        data: [\n",
    "            {    3,2,1},\n",
    "            {    3,2,1},\n",
    "            {  4,  2,1},\n",
    "            {  4,  2,1},\n",
    "            {5,  3,  1}\n",
    "        ],\n",
    "        min_sup:2,\n",
    "        C\n",
    "    ],\n",
    "    C: support_counts(data, makelist({i},i,all_items(data))),\n",
    "    frequent_itemsets(C, min_sup)\n",
    ");"
   ]
  },
  {
   "cell_type": "markdown",
   "id": "dbd5a37f",
   "metadata": {},
   "source": [
    "### Frequent $1$-itemsets"
   ]
  },
  {
   "cell_type": "markdown",
   "id": "c51f8761",
   "metadata": {},
   "source": [
    "`apriori1(data, min_sup)` implements the apriori algorithm to generate the frequent 1-itemset of `data` with support count at least `min_sup`."
   ]
  },
  {
   "cell_type": "code",
   "execution_count": null,
   "id": "58835124",
   "metadata": {},
   "outputs": [],
   "source": [
    "block(\n",
    "    [\n",
    "        data: [\n",
    "            {    3,2,1},\n",
    "            {    3,2,1},\n",
    "            {  4,  2,1},\n",
    "            {  4,  2,1},\n",
    "            {5,  3,  1}\n",
    "        ],\n",
    "        min_sup:2\n",
    "    ],\n",
    "    apriori1(data, min_sup)\n",
    ");"
   ]
  },
  {
   "cell_type": "markdown",
   "id": "e1b277c3",
   "metadata": {},
   "source": [
    "### Frequent $k$-itemsets"
   ]
  },
  {
   "cell_type": "markdown",
   "id": "159994c8",
   "metadata": {},
   "source": [
    "Given a transactional data set `data` and a list `L` of frequent $k-1$-itemsets with $k>1$, `apriorik(data, L, min_sup)` generates the list of `[A,c]` where `A` is a frequent $k$-itemset of `data` with support count `c` at least `min_sup`."
   ]
  },
  {
   "cell_type": "code",
   "execution_count": null,
   "id": "1bc337e9",
   "metadata": {},
   "outputs": [],
   "source": [
    "block(\n",
    "    [\n",
    "        data: [\n",
    "            {    3,2,1},\n",
    "            {    3,2,1},\n",
    "            {  4,  2,1},\n",
    "            {  4,  2,1},\n",
    "            {5,  3,  1}\n",
    "        ],\n",
    "        min_sup:2,\n",
    "        L_1\n",
    "    ],\n",
    "    L_1: apriori1(data, min_sup),\n",
    "    L_2: apriorik(data, L_1, min_sup),\n",
    "    L_3: apriorik(data, L_2, min_sup),\n",
    "    map(lambda([k, L], build_data_from_list([sconcat(k,\"-itemset\"), \"count\"], L)), [2, 3], [L_2, L_3])\n",
    ");"
   ]
  },
  {
   "cell_type": "markdown",
   "id": "ecd9a8c5",
   "metadata": {},
   "source": [
    "`apriori(data, min_sup)` generates the list of frequent $k$-itemsets for $k$ from $1$ until there are no more frequent itemsets."
   ]
  },
  {
   "cell_type": "code",
   "execution_count": null,
   "id": "96f9ab88",
   "metadata": {},
   "outputs": [],
   "source": [
    "block(\n",
    "    [\n",
    "        data: [\n",
    "            {    3,2,1},\n",
    "            {    3,2,1},\n",
    "            {  4,  2,1},\n",
    "            {  4,  2,1},\n",
    "            {5,  3,  1}\n",
    "        ],\n",
    "        min_sup:2,\n",
    "        L\n",
    "    ],\n",
    "    L:apriori(data, min_sup),\n",
    "    makelist(build_data_from_list([sconcat(length(Lk[1][1]),\"-itemset\"), \"count\"], Lk), Lk, L)\n",
    ");"
   ]
  },
  {
   "cell_type": "markdown",
   "id": "ba530afc",
   "metadata": {},
   "source": [
    "### Join and prune steps"
   ]
  },
  {
   "cell_type": "markdown",
   "id": "9964e71a",
   "metadata": {},
   "source": [
    "`apriori_join` and `apriori_prune` implement the join and prune steps respectively:"
   ]
  },
  {
   "cell_type": "code",
   "execution_count": null,
   "id": "8f36301c",
   "metadata": {
    "tags": []
   },
   "outputs": [],
   "source": [
    "block(\n",
    "    [\n",
    "        data: [\n",
    "            {    3,2,1},\n",
    "            {    3,2,1},\n",
    "            {  4,  2,1},\n",
    "            {  4,  2,1},\n",
    "            {5,  3,  1}\n",
    "        ],\n",
    "        min_sup:2,\n",
    "        L_1\n",
    "    ],\n",
    "    L_1: apriori1(data, min_sup),\n",
    "    L_2: apriorik(data, L_1, min_sup),\n",
    "    C:apriori_join(data, L_2),\n",
    "    [C, apriori_prune(data, C, setify(map(first,L_2)))]\n",
    ");"
   ]
  },
  {
   "cell_type": "markdown",
   "id": "b213bbf1",
   "metadata": {},
   "source": [
    "## Association rule mining"
   ]
  },
  {
   "cell_type": "markdown",
   "id": "0a262649",
   "metadata": {},
   "source": [
    "### Association rules"
   ]
  },
  {
   "cell_type": "markdown",
   "id": "150f9070",
   "metadata": {},
   "source": [
    "An association rule can be created as follows:"
   ]
  },
  {
   "cell_type": "code",
   "execution_count": null,
   "id": "8b18ea24",
   "metadata": {},
   "outputs": [],
   "source": [
    "block(\n",
    "    [\n",
    "        R:ar('A,'B)\n",
    "    ],\n",
    "    build_data_from_list(\n",
    "        [\"rule\", \"antecedent\", \"consequence\"],\n",
    "        [[R, ar_A(R), ar_B(R)]]\n",
    "    )\n",
    ");"
   ]
  },
  {
   "cell_type": "markdown",
   "id": "a2ed01d8",
   "metadata": {},
   "source": [
    "- `ar(A,B)` creates an association rule `(A ⇒ B)`.\n",
    "- `ar_A(R)` returns the itemset associated with the antecedent of `R`.\n",
    "- `ar_B(R)` returns the itemset associated with the consequence of `R`."
   ]
  },
  {
   "cell_type": "markdown",
   "id": "36c9b4ef",
   "metadata": {},
   "source": [
    "### Rule qualities"
   ]
  },
  {
   "cell_type": "markdown",
   "id": "09e3736b",
   "metadata": {},
   "source": [
    "The following computes various qualities of an association rule from transaction data:"
   ]
  },
  {
   "cell_type": "code",
   "execution_count": null,
   "id": "c4673c85",
   "metadata": {},
   "outputs": [],
   "source": [
    "block(\n",
    "    [\n",
    "        data: [\n",
    "            {    3,2,1},\n",
    "            {    3,2,1},\n",
    "            {  4,  2,1},\n",
    "            {  4,  2,1},\n",
    "            {5,  3,  1}\n",
    "        ],\n",
    "        min_sup:2,\n",
    "        R: ar({1,2},{3})\n",
    "    ],\n",
    "    [coverage(data, R), support(data, R), confidence(data, R), prior(data, R), lift(data, R)] \n",
    ");"
   ]
  },
  {
   "cell_type": "markdown",
   "id": "52684179",
   "metadata": {},
   "source": [
    "### Support-confidence framework"
   ]
  },
  {
   "cell_type": "markdown",
   "id": "b615de28",
   "metadata": {},
   "source": [
    "Association rules can be generated using the support-confidence framework as follows:"
   ]
  },
  {
   "cell_type": "code",
   "execution_count": null,
   "id": "48be1d9f",
   "metadata": {},
   "outputs": [],
   "source": [
    "block(\n",
    "    [\n",
    "        data: [\n",
    "            {    3,2,1},\n",
    "            {    3,2,1},\n",
    "            {  4,  2,1},\n",
    "            {  4,  2,1},\n",
    "            {5,  3,  1}\n",
    "        ],\n",
    "        c:6/10, s:4/10\n",
    "    ],\n",
    "    lst:support_confidence_framework(data, s, c),\n",
    "    build_data_from_list(\n",
    "        [\"rule\", \"coverage\", \"support\", \"confidence\", \"prior\", \"lift\"],\n",
    "        sort(\n",
    "            lst, \n",
    "            lambda([a,b], a[4]>b[4] or (a[4]=b[4] and a[6]>b[6])) /* descending order in (confidence, lift) */\n",
    "        )\n",
    "    )\n",
    ");"
   ]
  }
 ],
 "metadata": {
  "kernelspec": {
   "display_name": "Maxima",
   "language": "maxima",
   "name": "maxima"
  },
  "language_info": {
   "codemirror_mode": "maxima",
   "file_extension": ".mac",
   "mimetype": "text/x-maxima",
   "name": "maxima",
   "pygments_lexer": "maxima",
   "version": "5.45post"
  },
  "widgets": {
   "application/vnd.jupyter.widget-state+json": {
    "state": {},
    "version_major": 2,
    "version_minor": 0
   }
  }
 },
 "nbformat": 4,
 "nbformat_minor": 5
}
