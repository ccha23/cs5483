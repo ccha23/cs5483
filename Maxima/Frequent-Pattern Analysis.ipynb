{
 "cells": [
  {
   "cell_type": "markdown",
   "id": "0bb423fa-6020-42aa-88df-f74844e2ac6d",
   "metadata": {
    "tags": []
   },
   "source": [
    "# Frequent-Pattern Analysis"
   ]
  },
  {
   "cell_type": "markdown",
   "id": "39813629",
   "metadata": {
    "tags": [
     "remove-cell"
    ]
   },
   "source": [
    "**CS5483 Data Warehousing and Data Mining**\n",
    "___"
   ]
  },
  {
   "cell_type": "code",
   "execution_count": null,
   "id": "b9c78bbe",
   "metadata": {
    "tags": []
   },
   "outputs": [],
   "source": [
    "load(\"datamining.mac\")$"
   ]
  },
  {
   "cell_type": "markdown",
   "id": "66b9a7c0",
   "metadata": {},
   "source": [
    "## Apriori algorithm"
   ]
  },
  {
   "cell_type": "markdown",
   "id": "cb9fb8a0",
   "metadata": {},
   "source": [
    "### Transactional data"
   ]
  },
  {
   "cell_type": "markdown",
   "id": "c6925c6d",
   "metadata": {},
   "source": [
    "A transactional data set is a list of transactions in the form of subsets of items purchased. `all_items(data)` returns the list of all items in a transactional data set `data`."
   ]
  },
  {
   "cell_type": "code",
   "execution_count": null,
   "id": "6b06016e",
   "metadata": {},
   "outputs": [],
   "source": [
    "block(\n",
    "    [\n",
    "        data: [\n",
    "            {    3,2,1},\n",
    "            {    3,2,1},\n",
    "            {  4,  2,1},\n",
    "            {  4,  2,1},\n",
    "            {5,  3,  1}\n",
    "        ]\n",
    "    ],\n",
    "    all_items(data)\n",
    ");"
   ]
  },
  {
   "cell_type": "markdown",
   "id": "24a711cf",
   "metadata": {},
   "source": [
    "### Frequent itemsets"
   ]
  },
  {
   "cell_type": "markdown",
   "id": "7e079980",
   "metadata": {},
   "source": [
    "The support count of an item set (a set of items) is the number of transactions that contain all items in the item set:"
   ]
  },
  {
   "cell_type": "code",
   "execution_count": null,
   "id": "be9cafc6",
   "metadata": {},
   "outputs": [],
   "source": [
    "support_count('data, 'A);"
   ]
  },
  {
   "cell_type": "markdown",
   "id": "1f821269",
   "metadata": {},
   "source": [
    "`support_counts(data, C)` returns the list of `[A,c]` where `A` is an itemset in `C` and `c` is the support count."
   ]
  },
  {
   "cell_type": "code",
   "execution_count": null,
   "id": "3b6ead38",
   "metadata": {},
   "outputs": [],
   "source": [
    "block(\n",
    "    [\n",
    "        data: [\n",
    "            {    3,2,1},\n",
    "            {    3,2,1},\n",
    "            {  4,  2,1},\n",
    "            {  4,  2,1},\n",
    "            {5,  3,  1}\n",
    "        ],\n",
    "        C\n",
    "    ],\n",
    "    C: makelist({i},i,all_items(data)),\n",
    "    support_counts(data, C)\n",
    ");"
   ]
  },
  {
   "cell_type": "markdown",
   "id": "c18abcec",
   "metadata": {},
   "source": [
    "`frequent_itemsets(C, min_sup)` filters the list of `[A,c]` to remove itemsets `A` with count `c` stricly below `min_sup`. "
   ]
  },
  {
   "cell_type": "code",
   "execution_count": null,
   "id": "74832c08",
   "metadata": {},
   "outputs": [],
   "source": [
    "block(\n",
    "    [\n",
    "        data: [\n",
    "            {    3,2,1},\n",
    "            {    3,2,1},\n",
    "            {  4,  2,1},\n",
    "            {  4,  2,1},\n",
    "            {5,  3,  1}\n",
    "        ],\n",
    "        min_sup:2,\n",
    "        C\n",
    "    ],\n",
    "    C: support_counts(data, makelist({i},i,all_items(data))),\n",
    "    frequent_itemsets(C, min_sup)\n",
    ");"
   ]
  },
  {
   "cell_type": "markdown",
   "id": "dbd5a37f",
   "metadata": {},
   "source": [
    "### Frequent $1$-itemsets"
   ]
  },
  {
   "cell_type": "markdown",
   "id": "c51f8761",
   "metadata": {},
   "source": [
    "`apriori1(data, min_sup)` implements the apriori algorithm to generate the frequent 1-itemset of `data` with support count at least `min_sup`."
   ]
  },
  {
   "cell_type": "code",
   "execution_count": null,
   "id": "58835124",
   "metadata": {},
   "outputs": [],
   "source": [
    "block(\n",
    "    [\n",
    "        data: [\n",
    "            {    3,2,1},\n",
    "            {    3,2,1},\n",
    "            {  4,  2,1},\n",
    "            {  4,  2,1},\n",
    "            {5,  3,  1}\n",
    "        ],\n",
    "        min_sup:2\n",
    "    ],\n",
    "    apriori1(data, min_sup)\n",
    ");"
   ]
  },
  {
   "cell_type": "markdown",
   "id": "e1b277c3",
   "metadata": {},
   "source": [
    "### Frequent $k$-itemsets"
   ]
  },
  {
   "cell_type": "markdown",
   "id": "159994c8",
   "metadata": {},
   "source": [
    "Given a transactional data set `data` and a list `L` of frequent $k-1$-itemsets with $k>1$, `apriorik(data, L, min_sup)` generates the list of `[A,c]` where `A` is a frequent $k$-itemset of `data` with support count `c` at least `min_sup`."
   ]
  },
  {
   "cell_type": "code",
   "execution_count": null,
   "id": "1bc337e9",
   "metadata": {},
   "outputs": [],
   "source": [
    "block(\n",
    "    [\n",
    "        data: [\n",
    "            {    3,2,1},\n",
    "            {    3,2,1},\n",
    "            {  4,  2,1},\n",
    "            {  4,  2,1},\n",
    "            {5,  3,  1}\n",
    "        ],\n",
    "        min_sup:2,\n",
    "        L_1\n",
    "    ],\n",
    "    L_1: apriori1(data, min_sup),\n",
    "    L_2: apriorik(data, L_1, min_sup),\n",
    "    L_3: apriorik(data, L_2, min_sup),\n",
    "    map(lambda([k, L], build_data_from_list([sconcat(k,\"-itemset\"), \"count\"], L)), [2, 3], [L_2, L_3])\n",
    ");"
   ]
  },
  {
   "cell_type": "markdown",
   "id": "ecd9a8c5",
   "metadata": {},
   "source": [
    "`apriori(data, min_sup)` generates the list of frequent $k$-itemsets for $k$ from $1$ until there are no more frequent itemsets."
   ]
  },
  {
   "cell_type": "code",
   "execution_count": null,
   "id": "96f9ab88",
   "metadata": {},
   "outputs": [],
   "source": [
    "block(\n",
    "    [\n",
    "        data: [\n",
    "            {    3,2,1},\n",
    "            {    3,2,1},\n",
    "            {  4,  2,1},\n",
    "            {  4,  2,1},\n",
    "            {5,  3,  1}\n",
    "        ],\n",
    "        min_sup:2,\n",
    "        L\n",
    "    ],\n",
    "    L:apriori(data, min_sup),\n",
    "    makelist(build_data_from_list([sconcat(length(Lk[1][1]),\"-itemset\"), \"count\"], Lk), Lk, L)\n",
    ");"
   ]
  },
  {
   "cell_type": "markdown",
   "id": "ba530afc",
   "metadata": {},
   "source": [
    "### Join and prune steps"
   ]
  },
  {
   "cell_type": "markdown",
   "id": "9964e71a",
   "metadata": {},
   "source": [
    "`apriori_join` and `apriori_prune` implement the join and prune steps respectively:"
   ]
  },
  {
   "cell_type": "code",
   "execution_count": null,
   "id": "8f36301c",
   "metadata": {
    "tags": []
   },
   "outputs": [],
   "source": [
    "block(\n",
    "    [\n",
    "        data: [\n",
    "            {    3,2,1},\n",
    "            {    3,2,1},\n",
    "            {  4,  2,1},\n",
    "            {  4,  2,1},\n",
    "            {5,  3,  1}\n",
    "        ],\n",
    "        min_sup:2,\n",
    "        L_1\n",
    "    ],\n",
    "    L_1: apriori1(data, min_sup),\n",
    "    L_2: apriorik(data, L_1, min_sup),\n",
    "    C:apriori_join(data, L_2),\n",
    "    [C, apriori_prune(data, C, setify(map(first,L_2)))]\n",
    ");"
   ]
  },
  {
   "cell_type": "markdown",
   "id": "b213bbf1",
   "metadata": {},
   "source": [
    "## Association rule mining"
   ]
  },
  {
   "cell_type": "markdown",
   "id": "0a262649",
   "metadata": {},
   "source": [
    "### Association rules"
   ]
  },
  {
   "cell_type": "markdown",
   "id": "150f9070",
   "metadata": {},
   "source": [
    "An association rule can be created as follows:"
   ]
  },
  {
   "cell_type": "code",
   "execution_count": null,
   "id": "8b18ea24",
   "metadata": {},
   "outputs": [],
   "source": [
    "block(\n",
    "    [\n",
    "        R:ar('A,'B)\n",
    "    ],\n",
    "    build_data_from_list(\n",
    "        [\"rule\", \"antecedent\", \"consequence\"],\n",
    "        [[R, ar_A(R), ar_B(R)]]\n",
    "    )\n",
    ");"
   ]
  },
  {
   "cell_type": "markdown",
   "id": "a2ed01d8",
   "metadata": {},
   "source": [
    "- `ar(A,B)` creates an association rule `(A ⇒ B)`.\n",
    "- `ar_A(R)` returns the itemset associated with the antecedent of `R`.\n",
    "- `ar_B(R)` returns the itemset associated with the consequence of `R`."
   ]
  },
  {
   "cell_type": "markdown",
   "id": "36c9b4ef",
   "metadata": {},
   "source": [
    "### Rule qualities"
   ]
  },
  {
   "cell_type": "markdown",
   "id": "09e3736b",
   "metadata": {},
   "source": [
    "The following computes various qualities of an association rule from transaction data:"
   ]
  },
  {
   "cell_type": "code",
   "execution_count": null,
   "id": "c4673c85",
   "metadata": {},
   "outputs": [],
   "source": [
    "block(\n",
    "    [\n",
    "        data: [\n",
    "            {    3,2,1},\n",
    "            {    3,2,1},\n",
    "            {  4,  2,1},\n",
    "            {  4,  2,1},\n",
    "            {5,  3,  1}\n",
    "        ],\n",
    "        min_sup:2,\n",
    "        R: ar({1,2},{3})\n",
    "    ],\n",
    "    [coverage(data, R), support(data, R), confidence(data, R), prior(data, R), lift(data, R)] \n",
    ");"
   ]
  },
  {
   "cell_type": "markdown",
   "id": "52684179",
   "metadata": {},
   "source": [
    "### Support-confidence framework"
   ]
  },
  {
   "cell_type": "markdown",
   "id": "b615de28",
   "metadata": {},
   "source": [
    "Association rules can be generated using the support-confidence framework as follows:"
   ]
  },
  {
   "cell_type": "code",
   "execution_count": null,
   "id": "48be1d9f",
   "metadata": {},
   "outputs": [],
   "source": [
    "block(\n",
    "    [\n",
    "        data: [\n",
    "            {    3,2,1},\n",
    "            {    3,2,1},\n",
    "            {  4,  2,1},\n",
    "            {  4,  2,1},\n",
    "            {5,  3,  1}\n",
    "        ],\n",
    "        c:6/10, s:4/10\n",
    "    ],\n",
    "    lst:support_confidence_framework(data, s, c),\n",
    "    build_data_from_list(\n",
    "        [\"rule\", \"coverage\", \"support\", \"confidence\", \"prior\", \"lift\"],\n",
    "        sort(\n",
    "            lst, \n",
    "            lambda([a,b], a[4]>b[4] or (a[4]=b[4] and a[6]>b[6])) /* descending order in (confidence, lift) */\n",
    "        )\n",
    "    )\n",
    ");"
   ]
  },
  {
   "cell_type": "markdown",
   "id": "712ea387-f992-4045-8b67-494581eedc19",
   "metadata": {},
   "source": [
    "## Data cube computation"
   ]
  },
  {
   "cell_type": "markdown",
   "id": "66131f23-6500-4abd-92fb-4aa1b1db672a",
   "metadata": {},
   "source": [
    "### Bottom-up construction"
   ]
  },
  {
   "cell_type": "markdown",
   "id": "66d73bb9-f599-4fee-af38-4d161a4dc4fe",
   "metadata": {},
   "source": [
    "`BUC(data, dims, fact, min_sup)` implements the bottom-up construction of iceberg cube where\n",
    "- `data` is the base cuboid,\n",
    "- `dims` is the dimensions names,\n",
    "- `fact` is the name of the fact, and \n",
    "- `min_sup` being the minimum value of fact for the iceberg condition."
   ]
  },
  {
   "cell_type": "code",
   "execution_count": null,
   "id": "9d1bfcbf-3cb6-4ff5-a173-ef15ae0e32b1",
   "metadata": {},
   "outputs": [],
   "source": [
    "block(\n",
    "    [\n",
    "        fns: ['A, 'B, 'C, \"fact\"],\n",
    "        lst: [\n",
    "            ['a_2, 'b_2, 'c_2, 1],\n",
    "            ['a_1, 'b_2, 'c_1, 1],\n",
    "            ['a_2, 'b_2, 'c_1, 1],\n",
    "            ['a_1, 'b_1, 'c_1, 1]\n",
    "        ],\n",
    "        dims, fact, data\n",
    "    ],\n",
    "    dims: rest(fns,-1),\n",
    "    fact: last(fns),\n",
    "    data: build_data_from_list(fns, lst),\n",
    "    BUC(data, dims, fact, 2)\n",
    ");"
   ]
  }
 ],
 "metadata": {
  "kernelspec": {
   "display_name": "Maxima",
   "language": "maxima",
   "name": "maxima"
  },
  "language_info": {
   "codemirror_mode": "maxima",
   "file_extension": ".mac",
   "mimetype": "text/x-maxima",
   "name": "maxima",
   "pygments_lexer": "maxima",
   "version": "5.45post"
  },
  "widgets": {
   "application/vnd.jupyter.widget-state+json": {
    "state": {},
    "version_major": 2,
    "version_minor": 0
   }
  }
 },
 "nbformat": 4,
 "nbformat_minor": 5
}
