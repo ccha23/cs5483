{
 "cells": [
  {
   "cell_type": "markdown",
   "id": "3fde655e-43f6-4695-b306-7c23ee43d9c8",
   "metadata": {
    "tags": []
   },
   "source": [
    "# Clustering"
   ]
  },
  {
   "cell_type": "markdown",
   "id": "1ffa4c5e-7b12-4bc2-8f77-67f5f7411a10",
   "metadata": {
    "tags": [
     "remove-cell"
    ]
   },
   "source": [
    "**CS5483 Data Warehousing and Data Mining**\n",
    "___"
   ]
  },
  {
   "cell_type": "code",
   "execution_count": null,
   "id": "45b4ee09-f71b-4b95-8c43-e0d6dcbc41cb",
   "metadata": {
    "tags": []
   },
   "outputs": [],
   "source": [
    "load(\"datamining.mac\")$"
   ]
  },
  {
   "cell_type": "markdown",
   "id": "41d60b7e-cdc0-4ead-bb85-95e5b5db5723",
   "metadata": {},
   "source": [
    "## Centroid-based methods"
   ]
  },
  {
   "cell_type": "markdown",
   "id": "b4a2f5ea-38fe-4a9c-88dc-c6a9fb444708",
   "metadata": {},
   "source": [
    "### Partitional Clusters"
   ]
  },
  {
   "cell_type": "markdown",
   "id": "52021c04-7e59-4bdd-982c-2a28e3e5fcbc",
   "metadata": {},
   "source": [
    "A cluster assignment is a list of cluster indices, where the $i$-index is the cluster label of the $i$-th instance in a data set."
   ]
  },
  {
   "cell_type": "code",
   "execution_count": null,
   "id": "e90ed6db-9fdd-4afc-8ef6-c5c68b9dea81",
   "metadata": {},
   "outputs": [],
   "source": [
    "block(\n",
    "    [C: [2,2,1,1]],\n",
    "    to_clusters(C)\n",
    ");"
   ]
  },
  {
   "cell_type": "markdown",
   "id": "8171877e-e65c-4202-ba98-3023cabec222",
   "metadata": {},
   "source": [
    "In the above, `to_cluster(C)` converts a cluster assignment `C` a pair where  \n",
    "- the first element is the list of unique cluster indices in ascending order, and\n",
    "- the second element is the corresponding list of clusters, each of which is a list of row indices of C in ascending order associated with the cluster index. "
   ]
  },
  {
   "cell_type": "markdown",
   "id": "8d8cdb16-9cc0-44ac-9159-bdb8ca3706cc",
   "metadata": {},
   "source": [
    "### Compute centroids"
   ]
  },
  {
   "cell_type": "markdown",
   "id": "e976ac89-95b5-4678-9707-55cfda5917ae",
   "metadata": {},
   "source": [
    "The centroids can be computed for a list of clusters of data points by `centroids(Cs, cfns)` where\n",
    "- `Cs` is a list of data sets all with\n",
    "- the features given by the list `cfns` for the calculation of the centroids."
   ]
  },
  {
   "cell_type": "code",
   "execution_count": null,
   "id": "a0c18be6-1edc-47a8-b6d5-60dd5cbdb51f",
   "metadata": {},
   "outputs": [],
   "source": [
    "block(\n",
    "    [\n",
    "        fns: ['i, 'X_1, 'X_2],\n",
    "        cfns: ['X_1, 'X_2],\n",
    "        data_1, data_2\n",
    "    ],\n",
    "    data_1: build_data(fns, lambda([i], [i, random(2), random(2)]),2),\n",
    "    data_2: build_data(fns, lambda([i], [i, 3+random(2), random(2)]),2),\n",
    "    cs: centroids([data_1, data_2], cfns),\n",
    "    [data_1, data_2, cs]\n",
    ");"
   ]
  },
  {
   "cell_type": "markdown",
   "id": "c9b22814-c343-47d7-80d4-123e08659265",
   "metadata": {},
   "source": [
    "The centroids are returned as a data set on `cfns` where the $j$-th instance is the centroid of the $j$ cluster `Cs[j]`. It is okay for different clusters to have different features as long as every cluster has all the features in `cfns`."
   ]
  },
  {
   "cell_type": "markdown",
   "id": "ada801f4-da85-4c85-b023-54d4d0a9357d",
   "metadata": {},
   "source": [
    "A data set can be split into clusters by `split_data_by_clusters(data, C)` where\n",
    "- `data` is the data set to split, and\n",
    "- `C` is the cluster assignment in the form of a list of cluster indices, one for each instance of `data`.\n",
    "\n",
    "Centroids can also be obtained for a cluster assignment by `centroids_for_clusters(data, cfns, C)` where\n",
    "- `cfns` is the list of features to use for calculating the centroids.\n",
    "\n",
    "The total variation (squared distance) of the data points to their cluster centers can be computed by `variation(data,C,cs)` where\n",
    "- `cs` is the data where the $i$-th instance is the center of the $i$ cluster in `data` according to the cluster assignment `C`."
   ]
  },
  {
   "cell_type": "code",
   "execution_count": null,
   "id": "07ceba3d-8244-4825-9044-213289a74e3d",
   "metadata": {},
   "outputs": [],
   "source": [
    "block(\n",
    "    [\n",
    "        fns: ['X_1, 'X_2],\n",
    "        cfns: ['X_1, 'X_2],\n",
    "        C, data_1, data_2, data,t,ids, ps, Cs\n",
    "    ],\n",
    "    data_1: build_data(fns, lambda([i], [random(2), random(2)]),2),\n",
    "    data_2: build_data(fns, lambda([i], [3+random(2), random(2)]),2),\n",
    "    data: stack_data(data_1, data_2),\n",
    "    C: [1, 1, 2, 2],\n",
    "    t:split_data_by_clusters(data, C),\n",
    "    ids: t[1][1],\n",
    "    ps: t[1][2],\n",
    "    Cs: t[2],\n",
    "    cs:centroids_for_clusters(data, cfns, C),\n",
    "    var: variation(data,C,cs),\n",
    "    [data, ids, ps, Cs, cs, var]\n",
    ");"
   ]
  },
  {
   "cell_type": "markdown",
   "id": "e30624e8-0301-4eeb-871b-78737a81036f",
   "metadata": {},
   "source": [
    "In the above example, `ids` is a list of unique cluster indices sorted in ascending order, corresponding to which\n",
    "- `ps` is the list of fractional cluster sizes,\n",
    "- `Cs` is the list of clusters, and\n",
    "- `cs` is the data where the $j$-th instance is the centroid of the $j$-th cluster."
   ]
  },
  {
   "cell_type": "markdown",
   "id": "dcfee8ae-4c19-4d27-8d83-e5143ef0a577",
   "metadata": {},
   "source": [
    "### Compute clusters"
   ]
  },
  {
   "cell_type": "markdown",
   "id": "3541d08c-754c-4c80-b13f-55aa684dbb0b",
   "metadata": {},
   "source": [
    "Data points can be assigned to their nearest cluster centers using `clusters_for_centroids(data, cs)`, where\n",
    "- `data` is the data set to cluster, and\n",
    "- `cs` is the data containing clusters centers."
   ]
  },
  {
   "cell_type": "code",
   "execution_count": null,
   "id": "372940de-5d66-43f4-b86d-048bef7f358b",
   "metadata": {},
   "outputs": [],
   "source": [
    "block(\n",
    "    [\n",
    "        fns: ['X_1, 'X_2],\n",
    "        cfns: ['X_1, 'X_2],\n",
    "        data_1, data_2, data, C, cs\n",
    "    ],\n",
    "    data_1: build_data(fns, lambda([i], [random(2), random(2)]),3),\n",
    "    data_2: build_data(fns, lambda([i], [3+random(2), random(2)]),3),\n",
    "    data: stack_data(data_1, data_2),\n",
    "    C: [1,2,2,2,1,1],\n",
    "    cs: centroids_for_clusters(data, cfns, C),\n",
    "    [data, cs, clusters_for_centroids(data, cs)]\n",
    ");"
   ]
  },
  {
   "cell_type": "markdown",
   "id": "b64b52ef-b911-4831-b9b5-6f014663d730",
   "metadata": {},
   "source": [
    "```{note}\n",
    "`data` must have all the features that `cs` has, but it can also contain more features. An instance in `data` is assigned to cluster $i$ iff the $i$-th cluster center in `cs` is the first nearest neighbor with respect to the Euclidean distance calculated using all the features in `cs`.\n",
    "```"
   ]
  },
  {
   "cell_type": "markdown",
   "id": "e3f40240-73d4-46e9-80e1-172877be3ba1",
   "metadata": {},
   "source": [
    "### Helper functions"
   ]
  },
  {
   "cell_type": "markdown",
   "id": "a83594c3-1c29-4fe1-ae7b-7951acd9e43f",
   "metadata": {},
   "source": [
    "The following are some helper functions used to implement the centroid based method:"
   ]
  },
  {
   "cell_type": "code",
   "execution_count": null,
   "id": "3b5fbb83-2263-4fdb-ba7b-b279f6303e58",
   "metadata": {},
   "outputs": [],
   "source": [
    "block(\n",
    "    [\n",
    "        p: matrix([0,0]),\n",
    "        q: [1,1],\n",
    "        P: matrix(\n",
    "            [0,0],\n",
    "            [0,1]\n",
    "        ),\n",
    "        Q: [[1,1],\n",
    "            [1,0]]\n",
    "    ],\n",
    "    [centroid(Q), dist(p,q), sq_dist(p,q), nearest_neighbor(p,Q), nearest_neighbors(P,Q)]\n",
    ");"
   ]
  },
  {
   "cell_type": "markdown",
   "id": "21eae617-5659-4531-ba70-03ab0dfb385c",
   "metadata": {},
   "source": [
    "In the above example: \n",
    "- `centroid(Q)` is the centroid of the points (rows) in the cluster `Q`, where `Q` can be a matrix or a list of lists of coordinates.\n",
    "- `dist(p,q)` is the Euclidean distance from point `p` to point `q`, where a point can be a row vector or a list of coordinates.\n",
    "- `sq_dist(p,q)` is the squared distance.\n",
    "- `nearest_neighbor(p,Q)` is $i$ iff the $i$-th point (row) in the cluster `Q` is the first nearest neighbor of point `p`.\n",
    "- `nearest_neighbors(P,Q)` is a list of `nearest_neighbors(p,Q)` where `p` is a point of the cluster P."
   ]
  },
  {
   "cell_type": "markdown",
   "id": "f28c4085-7b0f-45af-8fb6-690b8ecbf60a",
   "metadata": {},
   "source": [
    "## Hierarchical clustering"
   ]
  },
  {
   "cell_type": "markdown",
   "id": "ec5c0eb6-52d9-43c2-9511-b5865fcd338f",
   "metadata": {},
   "source": [
    "### Cluster distances"
   ]
  },
  {
   "cell_type": "markdown",
   "id": "609b6721-7f8f-4034-b3c9-b60488c6715e",
   "metadata": {},
   "source": [
    "`pairwise_cluster_dists(data, C, dist)` returns the sorted list of pairwise cluster distances for `data` with clustering assignment `C` and the distance measure `dist`. The returned list consists of elements [[i,j],d] where d is the distance of\n",
    "Cluster `i` and Cluster `j`."
   ]
  },
  {
   "cell_type": "code",
   "execution_count": null,
   "id": "6ea9277a-3b93-4fdf-a45a-2df406aeb09b",
   "metadata": {},
   "outputs": [],
   "source": [
    "block(\n",
    "    [\n",
    "        fns: ['X_1, 'X_2],\n",
    "        cfns: ['X_1, 'X_2],\n",
    "        data_1, data_2, data, C\n",
    "    ],\n",
    "    data_1: build_data(fns, lambda([i], [random(2), random(2)]),2),\n",
    "    data_2: build_data(fns, lambda([i], [3+random(2), random(2)]),2),\n",
    "    data: stack_data(data_1, data_2),\n",
    "    C: [4,4,1,2],\n",
    "    dists: [min_dist, max_dist, centroid_dist, ward_dist],\n",
    "    [\n",
    "        data,\n",
    "        build_data_from_list(\n",
    "            [\"metric\", \"pairwise cluster distances\"],\n",
    "            map(lambda([d], [d, pairwise_cluster_dists(data, C, d)]), dists)\n",
    "        )\n",
    "/*        [\n",
    "            pairwise_cluster_dists(data, C, min_dist), \n",
    "            pairwise_cluster_dists(data, C, max_dist), \n",
    "            pairwise_cluster_dists(data, C, centroid_dist), \n",
    "            pairwise_cluster_dists(data, C, ward_dist)\n",
    "        ]*/\n",
    "    ]\n",
    ");"
   ]
  },
  {
   "cell_type": "markdown",
   "id": "26213235-3d92-4bb4-843e-b30368c7191b",
   "metadata": {},
   "source": [
    "The possible cluster distances are:\n",
    "- `min_dist(P, Q)`: The closest distance between rows of `P` and rows of `Q`.\n",
    "- `max_dist(P, Q)`: The furthest distance between rows of `P` and rows of `Q`.\n",
    "- `centroid_dist(P, Q)`: The distance between the centroid of rows of `P` and the centroid of row on `Q`.\n",
    "- `ward_dist(P, Q)`: The total variation (squared distances) of all the rows of `P` and `Q`."
   ]
  },
  {
   "cell_type": "markdown",
   "id": "7bcfa2d8-d51d-43a3-8931-b87589c144d4",
   "metadata": {},
   "source": [
    "### AGNES"
   ]
  },
  {
   "cell_type": "markdown",
   "id": "0355b538-8c27-4f42-af67-1a9edc9f3ea9",
   "metadata": {},
   "source": [
    "Clusters can be agglomerated using `agglomerate(data, C, ids)` where\n",
    "- `ids` is a list of cluster indices to merge, and\n",
    "- the returned cluster assignment with have a new index `lmax(C)+1` for the merged clusters."
   ]
  },
  {
   "cell_type": "code",
   "execution_count": null,
   "id": "58c72097-2df3-4ddf-9c5f-86786b996f48",
   "metadata": {},
   "outputs": [],
   "source": [
    "block(\n",
    "    [\n",
    "        fns: ['X_1, 'X_2],\n",
    "        cfns: ['X_1, 'X_2],\n",
    "        data_1, data_2, data, C,  pcds\n",
    "    ],\n",
    "    data_1: build_data(fns, lambda([i], [random(2), random(2)]),2),\n",
    "    data_2: build_data(fns, lambda([i], [3+random(2), random(2)]),2),\n",
    "    data: stack_data(data_1, data_2),\n",
    "    C: [4,4,1,2],\n",
    "    pcds: pairwise_cluster_dists(data, C, min_dist),\n",
    "    ids: pcds[1][1],\n",
    "    [data, C, ids, agglomerate(data, C, ids)]\n",
    ");"
   ]
  },
  {
   "cell_type": "markdown",
   "id": "2271420a-82e2-4419-b128-9a5198334d76",
   "metadata": {},
   "source": [
    "Agglomerative nesting algorithm for clustering can be performend with `agnes(data, dist, k)` where `k` is the number of clusters to merge to and `dist` is the cluster distance to minimize by merging two clusters;"
   ]
  },
  {
   "cell_type": "code",
   "execution_count": null,
   "id": "44b3858a-d6a2-44e1-9de0-74f4b5b20ab4",
   "metadata": {},
   "outputs": [],
   "source": [
    "block(\n",
    "    [\n",
    "        fns: ['X_1, 'X_2],\n",
    "        cfns: ['X_1, 'X_2],\n",
    "        data_1, data_2, data\n",
    "    ],\n",
    "    data_1: build_data(fns, lambda([i], [random(2), random(2)]),2),\n",
    "    data_2: build_data(fns, lambda([i], [3+random(2), random(2)]),2),\n",
    "    data: stack_data(data_1, data_2),\n",
    "    [data, agnes(data, min_dist, 2)]\n",
    ");"
   ]
  },
  {
   "cell_type": "markdown",
   "id": "51ddc65a-3624-4ec3-a509-ee4a8d95ffbe",
   "metadata": {},
   "source": [
    "`agnes` returns a pair where\n",
    "- the first element is the desired cluster assignment for k clusters, and\n",
    "- the second element is a list where the `l`-th element is `[C, [i,j], d]` where \n",
    "  - `C` is the cluster assignment right before the l-th agglomeration,\n",
    "  - `i` and j are the cluster indices to be merged to `lmax(C)+1`, and\n",
    "  - `d` is the distance of Cluster `i` and `j` with respect to `dist`."
   ]
  },
  {
   "cell_type": "markdown",
   "id": "a87993c5-b2c7-4672-94f4-36b33a33597b",
   "metadata": {},
   "source": [
    "## Density-based methods"
   ]
  },
  {
   "cell_type": "markdown",
   "id": "878beced-e968-4f5b-bea2-f42fca1841b4",
   "metadata": {},
   "source": [
    "The core distances of points in a data set `data` can be computed by `core_dists(data, MinPts, eps)` where\n",
    "`MinPts` and `eps` are the usual parameters for OPTICS/DBSCAN. "
   ]
  },
  {
   "cell_type": "code",
   "execution_count": null,
   "id": "f56097d6-3af2-4f52-8004-3df1af1d6585",
   "metadata": {},
   "outputs": [],
   "source": [
    "block(\n",
    "    [\n",
    "        fns: ['X_1, 'X_2],\n",
    "        cfns: ['X_1, 'X_2],\n",
    "        data_1, data_2, data,\n",
    "        MinPts: 3,\n",
    "        eps: 3,\n",
    "        cdm\n",
    "    ],\n",
    "    data_1: build_data(fns, lambda([i], [random(2), random(2)]),2),\n",
    "    data_2: build_data(fns, lambda([i], [3+random(2), random(2)]),2),\n",
    "    data: stack_data(data_1, data_2),\n",
    "    cdm: core_dists(data, MinPts, eps),\n",
    "    [data, cdm, feature_values(cdm, \"core_dist\"), feature_values(cdm, 'd[1])]\n",
    ");"
   ]
  },
  {
   "cell_type": "markdown",
   "id": "031b36f5-157e-4808-b88f-236826a3ec2d",
   "metadata": {},
   "source": [
    "The core distances and other related quantities are return as a data set where the $i$-th instance consists of the following for the $i$-th instance in data:\n",
    "- `\"core_dist\"`: The core distance, which is `inf` by convention if there are fewer than `MinPts` data points within the `eps`-neighborhood.\n",
    "- `\"neighbors\"`: The list of indices corresponding to points in the `eps`-neighborhood.\n",
    "- `'d[j]`: The distance to the $j$-th instance."
   ]
  },
  {
   "cell_type": "markdown",
   "id": "b28b812a-7821-4c8c-8c01-b6573b00b00d",
   "metadata": {},
   "source": [
    "## DBSCAN"
   ]
  },
  {
   "cell_type": "markdown",
   "id": "e4a7b598-9417-4ff0-af36-b1310adfdea3",
   "metadata": {},
   "source": [
    "`dbscan(data, MinPts, eps)` applies DBSCAN to clusters points in `data` where a core point has at least `MinPts` data points in its `eps`-neighborhood:"
   ]
  },
  {
   "cell_type": "code",
   "execution_count": null,
   "id": "17f08996-97cc-4940-8e74-8573bdad1beb",
   "metadata": {},
   "outputs": [],
   "source": [
    "block(\n",
    "    [\n",
    "        fns: ['X_1, 'X_2],\n",
    "        cfns: ['X_1, 'X_2],\n",
    "        data_1, data_2, data,\n",
    "        MinPts: 3,\n",
    "        eps: 1,\n",
    "        cdm\n",
    "    ],\n",
    "    data_1: build_data(fns, lambda([i], [random(2), random(2)]),3),\n",
    "    data_2: build_data(fns, lambda([i], [5+random(2), random(2)]),3),\n",
    "    data: stack_data(data_1, data_2),\n",
    "    cdm: core_dists(data, MinPts, eps),\n",
    "    [data, cdm, dbscan(data, MinPts, eps)]\n",
    ");"
   ]
  },
  {
   "cell_type": "markdown",
   "id": "cd6afea7-3958-4e74-9caa-208fb96af5e8",
   "metadata": {},
   "source": [
    "`dbscan` returns a list consisting of\n",
    "- the set of clusters (sets of indices), \n",
    "- the set of noise points,\n",
    "- the set of core points, and\n",
    "- the set of border points."
   ]
  },
  {
   "cell_type": "markdown",
   "id": "1d8c17a8-957f-4396-9deb-35a482aec21c",
   "metadata": {},
   "source": [
    "### OPTICS"
   ]
  },
  {
   "cell_type": "markdown",
   "id": "89e1833c-5bcd-44e9-aa35-34177a2d5e5c",
   "metadata": {},
   "source": [
    "`optics(data, MinPts, eps)` applies OPTICS to clusters points in `data` where a core point has at least `MinPts` data points in its `eps`-neighborhood:"
   ]
  },
  {
   "cell_type": "code",
   "execution_count": null,
   "id": "d1030ec8-ba9f-4246-89ed-f7b152ca01d6",
   "metadata": {},
   "outputs": [],
   "source": [
    "block(\n",
    "    [\n",
    "        fns: ['X_1, 'X_2],\n",
    "        cfns: ['X_1, 'X_2],\n",
    "        data_1, data_2, data,\n",
    "        MinPts: 3,\n",
    "        eps: 1,\n",
    "        cdm\n",
    "    ],\n",
    "    data_1: build_data(fns, lambda([i], [random(2), random(2)]),3),\n",
    "    data_2: build_data(fns, lambda([i], [5+random(2), random(2)]),3),\n",
    "    data: stack_data(data_1, data_2),\n",
    "    cdm: core_dists(data, MinPts, eps),\n",
    "    [data, cdm, optics(data, MinPts, eps)]\n",
    ");"
   ]
  },
  {
   "cell_type": "markdown",
   "id": "4567bf05-949d-4587-8ce6-27ddf6f044f0",
   "metadata": {},
   "source": [
    "`optics` returns a pair consisting of\n",
    "- the data containing\n",
    "  - a column of reachability distances, and\n",
    "  - a column containing the corresponding list of nodes reached, and\n",
    "- the set of noise points."
   ]
  },
  {
   "cell_type": "markdown",
   "id": "acb4d30f-f657-4a20-9d65-8bd25f10382e",
   "metadata": {},
   "source": [
    "## Evaluation metrics"
   ]
  },
  {
   "cell_type": "markdown",
   "id": "6acd8235-d3f4-4757-94dd-f0e1c1e4d992",
   "metadata": {},
   "source": [
    "## Pairwise correctness"
   ]
  },
  {
   "cell_type": "markdown",
   "id": "67472730-24e5-41c8-b7d3-83bbaa8945a3",
   "metadata": {},
   "source": [
    "`pairwise_correctness(C, L)` can be used to compute the pairwise correctness matrix and the accuracy of a cluster assignment `C` compared to the ground truth categorization `L`:"
   ]
  },
  {
   "cell_type": "code",
   "execution_count": null,
   "id": "ca121363-f2a7-4de3-ba32-f73c2dcf1cf2",
   "metadata": {},
   "outputs": [],
   "source": [
    "block(\n",
    "    [\n",
    "        L: [1,1,2,2,3,3],\n",
    "        C: [1,1,1,2,2,2]\n",
    "    ],\n",
    "    pairwise_correctness(C, L)\n",
    ");"
   ]
  },
  {
   "cell_type": "markdown",
   "id": "34e8bb8b-61dd-4565-8e4c-735b2b896846",
   "metadata": {},
   "source": [
    "### BCubed precision and recall"
   ]
  },
  {
   "cell_type": "markdown",
   "id": "695500eb-42a2-4bbe-ab86-56391daab737",
   "metadata": {},
   "source": [
    "BCubed precision and recall can be computed using `BCubed(C, L)` for the cluster assignment C and categorization L:"
   ]
  },
  {
   "cell_type": "code",
   "execution_count": null,
   "id": "72630ed9-b3e7-469f-93f6-e52b1979abfe",
   "metadata": {},
   "outputs": [],
   "source": [
    "block(\n",
    "    [\n",
    "        L: [1,1,2,2,3,3],\n",
    "        C: [1,1,1,2,2,2]\n",
    "    ],\n",
    "    BCubed(C, L)\n",
    ");"
   ]
  },
  {
   "cell_type": "markdown",
   "id": "4887d4b4-adce-4630-878c-62c0e6ebaba3",
   "metadata": {},
   "source": [
    "- The first element of the returned list is a list `[precision, recall]` the overall precision and recall.\n",
    "- The second element contains more detailed statistics per node. E.g., for the $i$-th instance, the column TPj contains the list of indices $j$ such that $(i,j)$ is a true positive, while the feature TP is the total count of such indices $j$. The columns precision and recall correspond to the precision and recall for the $i$-th instance."
   ]
  },
  {
   "cell_type": "markdown",
   "id": "6df94b3a-5804-49d3-bc9e-cf95b162bdbb",
   "metadata": {},
   "source": [
    "### Classes-to-clusters evaluation"
   ]
  },
  {
   "cell_type": "markdown",
   "id": "36a105fe-3204-4bf1-8ef7-7405a3b67877",
   "metadata": {},
   "source": [
    "`classes_to_clusters_eval(L, C)` carry the classes-to-clusters evaluation on the categorization `L` and cluster assignment `C`.\n",
    "The returned list consists of  \n",
    "- the accuracy maximized over the classes-to-clusters assignment,\n",
    "- the assignment in the form of a list of `[l,c]` where `l` is a class index and `c` is a cluster index, and\n",
    "- the list consisting of  \n",
    "  - the list `l` of unique class labels in ascending order, \n",
    "  - the list `c` of unique cluster labels in ascending order, and\n",
    "  - the list `lst` of list of counts where `lst[i][j]` is the counts of instances associated with class index `l[i]` and cluster index `c[j]`. "
   ]
  },
  {
   "cell_type": "code",
   "execution_count": null,
   "id": "94f15e99-87f0-4778-a065-840a47ad8e02",
   "metadata": {},
   "outputs": [],
   "source": [
    "block(\n",
    "    [\n",
    "        C: [1,1,2,2,3,3],\n",
    "        L: [1,1,1,2,2,2]\n",
    "    ],\n",
    "    classes_to_clusters_eval(L, C)\n",
    ");"
   ]
  },
  {
   "cell_type": "markdown",
   "id": "295d54ac-c4fa-4bb8-b8d7-34aecd231f96",
   "metadata": {},
   "source": [
    "### Silhouette analysis"
   ]
  },
  {
   "cell_type": "markdown",
   "id": "7de052d1-5ca6-46d4-9cb9-a952082e06f4",
   "metadata": {},
   "source": [
    "Silhouette coefficients can be computed by `silhouette(data, C)` for the data set `data` with cluster assignment `C` as follows: "
   ]
  },
  {
   "cell_type": "code",
   "execution_count": null,
   "id": "bbaa1400-d678-4199-bf86-338a61263669",
   "metadata": {},
   "outputs": [],
   "source": [
    "block(\n",
    "    [\n",
    "        fns: ['X_1, 'X_2],\n",
    "        cfns: ['X_1, 'X_2],\n",
    "        data_1, data_2, data,\n",
    "        C\n",
    "    ],\n",
    "    data_1: build_data(fns, lambda([i], [random(2), random(2)]),2),\n",
    "    data_2: build_data(fns, lambda([i], [3+random(2), random(2)]),2),\n",
    "    data: stack_data(data_1, data_2),\n",
    "    C: [2,2,1,1],\n",
    "    [data, silhouette(data, C)]\n",
    ");"
   ]
  },
  {
   "cell_type": "markdown",
   "id": "03dadd70-a62f-4fa6-9f80-4b42e85c85ea",
   "metadata": {},
   "source": [
    "`silhouette(data, C)` returns a data with columns:\n",
    "- 'a: mean intra-cluster distance. \n",
    "- 'b: mean nearest-cluster distance.\n",
    "- \"nearest\": index of the nearest cluster. \n",
    "- 's: silhouette coefficient."
   ]
  }
 ],
 "metadata": {
  "kernelspec": {
   "display_name": "Maxima",
   "language": "maxima",
   "name": "maxima"
  },
  "language_info": {
   "codemirror_mode": "maxima",
   "file_extension": ".mac",
   "mimetype": "text/x-maxima",
   "name": "maxima",
   "pygments_lexer": "maxima",
   "version": "5.45post"
  },
  "widgets": {
   "application/vnd.jupyter.widget-state+json": {
    "state": {},
    "version_major": 2,
    "version_minor": 0
   }
  }
 },
 "nbformat": 4,
 "nbformat_minor": 5
}
