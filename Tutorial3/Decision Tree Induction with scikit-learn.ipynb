{
 "cells": [
  {
   "cell_type": "markdown",
   "metadata": {},
   "source": [
    "# Decision Tree Induction with scikit-learn"
   ]
  },
  {
   "cell_type": "markdown",
   "metadata": {
    "tags": [
     "remove-cell"
    ]
   },
   "source": [
    "**CS5483 Data Warehousing and Data Mining**\n",
    "___"
   ]
  },
  {
   "cell_type": "code",
   "execution_count": null,
   "metadata": {
    "ExecuteTime": {
     "end_time": "2021-03-20T13:13:24.623855Z",
     "start_time": "2021-03-20T13:13:23.431569Z"
    },
    "init_cell": true,
    "slideshow": {
     "slide_type": "-"
    }
   },
   "outputs": [],
   "source": [
    "import matplotlib.pyplot as plt\n",
    "import numpy as np\n",
    "import pandas as pd\n",
    "from sklearn import datasets, tree\n",
    "\n",
    "%matplotlib widget\n",
    "plt.close(\"all\")"
   ]
  },
  {
   "cell_type": "markdown",
   "metadata": {},
   "source": [
    "## Decision Tree Induction"
   ]
  },
  {
   "cell_type": "markdown",
   "metadata": {},
   "source": [
    "We will use the [*iris dataset*](https://en.wikipedia.org/wiki/Iris_flower_data_set) from [`sklearn.datasets` package](https://scikit-learn.org/stable/datasets/index.html) "
   ]
  },
  {
   "cell_type": "code",
   "execution_count": null,
   "metadata": {
    "ExecuteTime": {
     "end_time": "2021-01-24T09:26:34.571982Z",
     "start_time": "2021-01-24T09:26:34.563579Z"
    }
   },
   "outputs": [],
   "source": [
    "iris = datasets.load_iris()"
   ]
  },
  {
   "cell_type": "markdown",
   "metadata": {},
   "source": [
    "Recall that the classification task is to train a model that can classify the spieces (*target*) automatically based on the lengths and widths of the petals and sepals (*input features*)."
   ]
  },
  {
   "cell_type": "markdown",
   "metadata": {},
   "source": [
    "To build a decision tree, we simply create a tree using `DecisionTreeClassifier` from `sklearn.tree` and apply its method `fit` on the training set."
   ]
  },
  {
   "cell_type": "code",
   "execution_count": null,
   "metadata": {
    "ExecuteTime": {
     "end_time": "2021-01-24T09:53:09.983034Z",
     "start_time": "2021-01-24T09:53:09.978881Z"
    },
    "tags": []
   },
   "outputs": [],
   "source": [
    "clf_gini = tree.DecisionTreeClassifier(random_state=0).fit(iris.data, iris.target)"
   ]
  },
  {
   "cell_type": "markdown",
   "metadata": {
    "ExecuteTime": {
     "end_time": "2021-01-22T12:03:34.659657Z",
     "start_time": "2021-01-22T12:03:34.656984Z"
    }
   },
   "source": [
    "To display the decision tree, we can use the function `plot_tree` from `sklearn.tree`:"
   ]
  },
  {
   "cell_type": "code",
   "execution_count": null,
   "metadata": {},
   "outputs": [],
   "source": [
    "plt.figure()\n",
    "tree.plot_tree(clf_gini)\n",
    "plt.show()"
   ]
  },
  {
   "cell_type": "markdown",
   "metadata": {},
   "source": [
    "To make the decision tree looks better, we can provide additional options:"
   ]
  },
  {
   "cell_type": "code",
   "execution_count": null,
   "metadata": {
    "ExecuteTime": {
     "end_time": "2021-01-24T09:57:57.179896Z",
     "start_time": "2021-01-24T09:57:56.575574Z"
    }
   },
   "outputs": [],
   "source": [
    "options = {\n",
    "    \"feature_names\": iris.feature_names,\n",
    "    \"class_names\": iris.target_names,\n",
    "    \"label\": \"root\",\n",
    "    \"filled\": True,\n",
    "    \"node_ids\": True,\n",
    "    \"proportion\": True,\n",
    "    \"rounded\": True,\n",
    "    \"fontsize\": 7,\n",
    "}  # store options as dict for reuse\n",
    "\n",
    "plt.figure(figsize=(9, 6))\n",
    "tree.plot_tree(clf_gini, **options)  # ** unpacks dict as keyword arguments\n",
    "plt.show()"
   ]
  },
  {
   "cell_type": "markdown",
   "metadata": {},
   "source": [
    "For each node:\n",
    "- `___ <= ___` is the splitting criterion for internal nodes, satisfied only by samples going left.\n",
    "- `gini = ...` shows the impurity index. By default, the algorithm uses Gini impurity index to find the best binary split. Observe that the index decreases down the tree towards the leafs.\n",
    "- `value = [_, _, _]` shows the number/fraction of examples for each of the three classes, and `class = ...` indicates the majority class, which may be used as the decision for a leaf node. The majority classes are also color coded. Observe that the color gets lighter towards the root, as the class distribution is more impure. \n",
    "\n",
    "In particular, check that iris setosa is distinguished immediately after checking the petal width/length."
   ]
  },
  {
   "cell_type": "markdown",
   "metadata": {},
   "source": [
    "All the information of the decision is stored in the `tree_` attribute of the classifer. For more details:"
   ]
  },
  {
   "cell_type": "code",
   "execution_count": null,
   "metadata": {
    "ExecuteTime": {
     "end_time": "2021-01-24T10:15:30.624458Z",
     "start_time": "2021-01-24T10:15:30.616057Z"
    },
    "tags": [
     "remove-output",
     "output_scroll"
    ]
   },
   "outputs": [],
   "source": [
    "help(clf_gini.tree_)"
   ]
  },
  {
   "cell_type": "markdown",
   "metadata": {},
   "source": [
    "**Exercise** Assign to `clf_entropy` the decision tree classifier created using *entropy* as the impurity measure. You can do so with the keyword argument `criterion='entropy'` in `DecisionTreeClassifier`. Furthermore, Use `random_state=0` and fit the classifier on the entire iris dataset. Check whether the resulting decision tree is the same as the one created using the Gini impurity index."
   ]
  },
  {
   "cell_type": "code",
   "execution_count": null,
   "metadata": {
    "ExecuteTime": {
     "end_time": "2021-01-24T10:25:21.769095Z",
     "start_time": "2021-01-24T10:25:21.173622Z"
    },
    "deletable": false,
    "nbgrader": {
     "cell_type": "code",
     "checksum": "2b5af6f05d8ce6f84d7a2178a5ed5a53",
     "grade": false,
     "grade_id": "tree-entropy",
     "locked": false,
     "schema_version": 3,
     "solution": true,
     "task": false
    },
    "tags": [
     "remove-output"
    ]
   },
   "outputs": [],
   "source": [
    "# YOUR CODE HERE\n",
    "raise NotImplementedError()\n",
    "\n",
    "plt.figure(figsize=(9, 6))\n",
    "tree.plot_tree(clf_entropy, **options)\n",
    "plt.show()"
   ]
  },
  {
   "cell_type": "markdown",
   "metadata": {
    "deletable": false,
    "nbgrader": {
     "cell_type": "markdown",
     "checksum": "b33243c1128464d72060ac89b3646dd1",
     "grade": true,
     "grade_id": "same-tree-as-gini",
     "locked": false,
     "points": 1,
     "schema_version": 3,
     "solution": true,
     "task": false
    }
   },
   "source": [
    "YOUR ANSWER HERE"
   ]
  },
  {
   "cell_type": "markdown",
   "metadata": {},
   "source": [
    "It is important to note that, although one can specify whether to use Gini impurity or entropy, `sklearn` implements neither C4.5 nor CART. In particular, it supports only binary splits on numeric input attributes, unlike C4.5 which supports multi-way splits using information gain ratio.  \n",
    "(See a [workaround][categorical].)\n",
    "\n",
    "[categorical]: https://stackoverflow.com/questions/38108832/passing-categorical-data-to-sklearn-decision-tree"
   ]
  },
  {
   "cell_type": "markdown",
   "metadata": {},
   "source": [
    "## Splitting Criterion"
   ]
  },
  {
   "cell_type": "markdown",
   "metadata": {},
   "source": [
    "To induce a good decision tree efficiently, the splitting criterion is chosen \n",
    "- greedily to maximize the reduction in impurity and \n",
    "- recursively starting from the root."
   ]
  },
  {
   "cell_type": "markdown",
   "metadata": {},
   "source": [
    "### Overview using pandas"
   ]
  },
  {
   "cell_type": "markdown",
   "metadata": {},
   "source": [
    "To have a rough idea of what are good features to split on, we will use [pandas](https://pandas.pydata.org/docs/user_guide/index.html) [`DataFrame`](https://pandas.pydata.org/docs/reference/api/pandas.DataFrame.html?highlight=dataframe#pandas.DataFrame) \n",
    "to operate on the iris dataset."
   ]
  },
  {
   "cell_type": "code",
   "execution_count": null,
   "metadata": {
    "ExecuteTime": {
     "end_time": "2021-01-24T10:53:58.672726Z",
     "start_time": "2021-01-24T10:53:58.653480Z"
    },
    "colab": {
     "base_uri": "https://localhost:8080/",
     "height": 1000
    },
    "colab_type": "code",
    "id": "9gQINfrjsb4M",
    "outputId": "77b77a38-2712-4c93-c503-219e74f354fd",
    "slideshow": {
     "slide_type": "-"
    }
   },
   "outputs": [],
   "source": [
    "# write the input features first\n",
    "df = pd.DataFrame(data=iris.data, columns=iris.feature_names)\n",
    "\n",
    "# append the target values to the last column\n",
    "df[\"target\"] = iris.target\n",
    "df.target = df.target.astype(\"category\")\n",
    "df.target.cat.categories = iris.target_names\n",
    "df"
   ]
  },
  {
   "cell_type": "markdown",
   "metadata": {},
   "source": [
    "To display some statistics of the input features for different classes:"
   ]
  },
  {
   "cell_type": "code",
   "execution_count": null,
   "metadata": {
    "ExecuteTime": {
     "end_time": "2021-01-24T14:58:31.032422Z",
     "start_time": "2021-01-24T14:58:30.591901Z"
    }
   },
   "outputs": [],
   "source": [
    "df.groupby(\"target\").boxplot(rot=90, layout=(1, 3), figsize=(7, 9))\n",
    "df.groupby(\"target\").agg([\"mean\", \"std\"]).round(2)"
   ]
  },
  {
   "cell_type": "markdown",
   "metadata": {},
   "source": [
    "**Exercise** Identify good feature(s) based on the above statistics. Does your choice agree with the decision tree generated by `DecisionTreeClassifier`?"
   ]
  },
  {
   "cell_type": "markdown",
   "metadata": {
    "deletable": false,
    "nbgrader": {
     "cell_type": "markdown",
     "checksum": "23015178e587e6f2ad5fd85735da2221",
     "grade": true,
     "grade_id": "good-features",
     "locked": false,
     "points": 1,
     "schema_version": 3,
     "solution": true,
     "task": false
    }
   },
   "source": [
    "YOUR ANSWER HERE"
   ]
  },
  {
   "cell_type": "markdown",
   "metadata": {},
   "source": [
    "### Measuring impurity"
   ]
  },
  {
   "cell_type": "markdown",
   "metadata": {},
   "source": [
    "If nearly all instances of a dataset belong to the same class, i.e., the class distribution is pure, we can simply return the majority class as the decision without further splitting. A measure of impurity a distribution is the Gini impurity index defined as follows:"
   ]
  },
  {
   "cell_type": "markdown",
   "metadata": {},
   "source": [
    "---\n",
    "\n",
    "**Definition**\n",
    "\n",
    "Given a dataset $D$ with a class attribute (discrete target), the Gini impurity index is defined as \n",
    "$$\n",
    "\\operatorname{Gini}(D):= g(p_0,p_1,\\dots)\n",
    "$$ (Gini)\n",
    "\n",
    "where $(p_0,p_1,\\dots)$ are probability masses corresponding to the empirical class distribution of $D$, and\n",
    "\n",
    "$$\n",
    "\\begin{align}\n",
    "g(p_0,p_1,\\dots) &:= \\sum_k p_k(1-p_k)\\\\\n",
    "&= 1- \\sum_k p_k^2.\n",
    "\\end{align}\n",
    "$$ (g)\n",
    "\n",
    "---"
   ]
  },
  {
   "cell_type": "markdown",
   "metadata": {},
   "source": [
    "---\n",
    "\n",
    "**Note**\n",
    "\n",
    "For convenience, we may also write\n",
    "\n",
    "- $g(\\boldsymbol{p})$ for the stochastic vector $\\boldsymbol{p}=\\begin{bmatrix}p_0 & p_1 & \\dots\\end{bmatrix}$ of probability masses, and\n",
    "- $g(p)$ for the probability mass function $p: k \\mapsto p_k$.\n",
    "\n",
    "---"
   ]
  },
  {
   "cell_type": "markdown",
   "metadata": {},
   "source": [
    "We can represent a distribution simply as a numpy array. To return the empirical class distributions of the iris dataset:"
   ]
  },
  {
   "cell_type": "code",
   "execution_count": null,
   "metadata": {
    "ExecuteTime": {
     "end_time": "2021-01-24T15:07:28.662385Z",
     "start_time": "2021-01-24T15:07:28.657990Z"
    }
   },
   "outputs": [],
   "source": [
    "def dist(values):\n",
    "    \"\"\"Returns the empirical distribution of the given 1D array of values as a\n",
    "    1D array of probabilites. (The ordering is immaterial.)\"\"\"\n",
    "    counts = np.unique(values, return_counts=True)[-1]\n",
    "    return counts / counts.sum()\n",
    "\n",
    "\n",
    "print(f\"Distribution of target: {dist(iris.target).round(3)}\")"
   ]
  },
  {
   "cell_type": "markdown",
   "metadata": {},
   "source": [
    "The Gini impurity index can be implemented as follows:"
   ]
  },
  {
   "cell_type": "code",
   "execution_count": null,
   "metadata": {
    "ExecuteTime": {
     "end_time": "2021-01-24T15:08:12.295668Z",
     "start_time": "2021-01-24T15:08:12.288803Z"
    }
   },
   "outputs": [],
   "source": [
    "def g(p):\n",
    "    \"\"\"Returns the Gini impurity of the distribution p.\"\"\"\n",
    "    return 1 - (p ** 2).sum()\n",
    "\n",
    "\n",
    "print(f\"Gini(D) = {g(dist(iris.target)):.3g}\")"
   ]
  },
  {
   "cell_type": "markdown",
   "metadata": {},
   "source": [
    "Another measure of impurity uses the information meature called entropy in information theory:"
   ]
  },
  {
   "cell_type": "markdown",
   "metadata": {},
   "source": [
    "---\n",
    "\n",
    "**Definition**\n",
    "\n",
    "The information content is defined as \n",
    "\n",
    "$$\n",
    "\\operatorname{Info}(D):= h(p_0,p_1,\\dots),\n",
    "$$ (Info)\n",
    "\n",
    "which is the entropy of the class distribution\n",
    "\n",
    "$$\n",
    "\\begin{align}\n",
    "h(\\boldsymbol{p}) = h(p_0,p_1,\\dots) &= \\sum_{k:p_k>0} p_k \\log_2 \\frac1{p_k}.\n",
    "\\end{align}\n",
    "$$ (h)\n",
    "\n",
    "---"
   ]
  },
  {
   "cell_type": "markdown",
   "metadata": {},
   "source": [
    "---\n",
    "\n",
    "**Note**\n",
    "\n",
    "- For convenience, we often omit the constraint $p_k>0$ by regarding $0 \\log \\frac10$ as the limit $\\lim_{p\\to 0} p \\log \\frac1{p} = 0$.\n",
    "- Unless otherwise specified, all the logarithm is base 2, i.e., $\\log = \\lg$, in which case the information quantities are in the unit of bit (binary digit). A popular alternative is to use the natural logarithm, $\\log = \\ln$, in which case the unit is in *nat*.\n",
    "\n",
    "---"
   ]
  },
  {
   "cell_type": "markdown",
   "metadata": {},
   "source": [
    "**Exercise** Complete the following function to compute the entropy of a distribution. You may use the function `log2` from `numpy` to calculate the logarithm base 2."
   ]
  },
  {
   "cell_type": "markdown",
   "metadata": {},
   "source": [
    "---\n",
    "\n",
    "**Hint**\n",
    "\n",
    "Consider the solution template:\n",
    "\n",
    "```Python\n",
    "def h(p):\n",
    "    ...\n",
    "    return (p * ___ * ___).sum()\n",
    "```\n",
    "\n",
    "---"
   ]
  },
  {
   "cell_type": "code",
   "execution_count": null,
   "metadata": {
    "ExecuteTime": {
     "end_time": "2021-01-24T13:49:49.051166Z",
     "start_time": "2021-01-24T13:49:49.047003Z"
    },
    "deletable": false,
    "nbgrader": {
     "cell_type": "code",
     "checksum": "f5685869188b402f81872425f018a8b9",
     "grade": false,
     "grade_id": "entropy",
     "locked": false,
     "schema_version": 3,
     "solution": true,
     "task": false
    },
    "tags": [
     "remove-output"
    ]
   },
   "outputs": [],
   "source": [
    "def h(p):\n",
    "    \"\"\"Returns the entropy of distribution p (1D array).\"\"\"\n",
    "    p = np.array(p)\n",
    "    p = p[(p > 0) & (p < 1)]  # 0 log 0 = 1 log 1 = 0\n",
    "    # YOUR CODE HERE\n",
    "    raise NotImplementedError()\n",
    "\n",
    "\n",
    "print(f\"Info(D): {h(dist(iris.target)):.3g}\")"
   ]
  },
  {
   "cell_type": "code",
   "execution_count": null,
   "metadata": {
    "ExecuteTime": {
     "end_time": "2021-01-24T14:08:06.915073Z",
     "start_time": "2021-01-24T14:08:06.910946Z"
    },
    "deletable": false,
    "editable": false,
    "nbgrader": {
     "cell_type": "code",
     "checksum": "10416def596cc71da7effe5c3946e7a1",
     "grade": true,
     "grade_id": "test-entropy",
     "locked": true,
     "points": 1,
     "schema_version": 3,
     "solution": false,
     "task": false
    },
    "tags": [
     "remove-output"
    ]
   },
   "outputs": [],
   "source": [
    "# tests\n",
    "assert np.isclose(h([1 / 2, 1 / 2]), 1)\n",
    "assert np.isclose(h([1, 0]), 0)\n",
    "assert np.isclose(h([1 / 2, 1 / 4, 1 / 4]), 1.5)"
   ]
  },
  {
   "cell_type": "code",
   "execution_count": null,
   "metadata": {
    "deletable": false,
    "editable": false,
    "nbgrader": {
     "cell_type": "code",
     "checksum": "75c7dda125858a45852837a19a595057",
     "grade": true,
     "grade_id": "htest-entropy",
     "locked": true,
     "points": 1,
     "schema_version": 3,
     "solution": false,
     "task": false
    }
   },
   "outputs": [],
   "source": [
    "# hidden tests"
   ]
  },
  {
   "cell_type": "markdown",
   "metadata": {},
   "source": [
    "### Drop in impurity"
   ]
  },
  {
   "cell_type": "markdown",
   "metadata": {},
   "source": [
    "---\n",
    "\n",
    "**Definition**\n",
    "\n",
    "The drop in Gini impurity for a splitting criterion $A$ on a dataset $D$ with class attribute is defined as\n",
    "\n",
    "$$\n",
    "\\begin{align}\n",
    "\\Delta \\operatorname{Gini}_A(D) &:= \\operatorname{Gini}(D) - \\operatorname{Gini}_A(D)\\\\\n",
    "\\operatorname{Gini}_A(D) &:= \\sum_{j} \\frac{|D_j|}{|D|} \\operatorname{Gini}(D_j),\n",
    "\\end{align}\n",
    "$$ (Delta-Gini)\n",
    "\n",
    "where $D$ is split by $A$ into $D_j$ for different outcomes $j$ of the split.\n",
    "\n",
    "---"
   ]
  },
  {
   "cell_type": "markdown",
   "metadata": {},
   "source": [
    "We will consider the binary splitting criterion $X\\leq s$ in particular, which gives\n",
    "\n",
    "$$\n",
    "\\begin{align}\n",
    "\\Delta \\operatorname{Gini}_A(D) = g(\\hat{P}_Y) - \\left[\\hat{P}\\{X\\leq s\\} g(\\hat{P}_{Y|X\\leq s}) + \\hat{P}\\{X> s\\}g(\\hat{P}_{Y|X> s})\\right]\n",
    "\\end{align}\n",
    "$$ (Delta-Gini-binary)\n",
    "\n",
    "where \n",
    "\n",
    "- $Y$ denotes the target,\n",
    "- $\\hat{P}$ denotes the empirical distribution, and\n",
    "- $\\hat{P}_{Y|X\\leq s}$, $\\hat{P}_{Y|X> s}$, and $\\hat{P}_{Y}$ denote the empirical probability mass functions of $Y$ with or without conditioning."
   ]
  },
  {
   "cell_type": "code",
   "execution_count": null,
   "metadata": {
    "ExecuteTime": {
     "end_time": "2021-01-24T11:54:04.419724Z",
     "start_time": "2021-01-24T11:54:04.407561Z"
    }
   },
   "outputs": [],
   "source": [
    "def drop_in_gini(X, Y, s):\n",
    "    \"\"\"Returns the drop in Gini impurity of the target Y\n",
    "    for the binary splitting criterion X <= s.\n",
    "\n",
    "    Parameters\n",
    "    ----------\n",
    "    X: 1D array\n",
    "        Input feature values for different instances.\n",
    "    Y: 1D array\n",
    "        Target values corresponding to X.\n",
    "    s: Splitting point for X.\n",
    "    \"\"\"\n",
    "    S = X <= s\n",
    "    q = S.mean()\n",
    "    return g(dist(Y)) - q * g(dist(Y[S])) - (1 - q) * g(dist(Y[~S]))\n",
    "\n",
    "\n",
    "X, Y = df[\"petal width (cm)\"], df.target\n",
    "print(f\"Drop in Gini: {drop_in_gini(X, Y, 0.8):.4g}\")"
   ]
  },
  {
   "cell_type": "markdown",
   "metadata": {},
   "source": [
    "To compute the best splitting point for a given input feature, we check every consecutive mid-points of the observed feature values:"
   ]
  },
  {
   "cell_type": "code",
   "execution_count": null,
   "metadata": {
    "ExecuteTime": {
     "end_time": "2021-01-24T11:56:35.275963Z",
     "start_time": "2021-01-24T11:56:35.243196Z"
    }
   },
   "outputs": [],
   "source": [
    "def find_best_split_pt(X, Y, gain_function):\n",
    "    \"\"\"Return the best splitting point s and the maximum gain evaluated using\n",
    "    gain_function for the split X <= s and target Y.\n",
    "\n",
    "    Parameters\n",
    "    ----------\n",
    "    X: 1D array\n",
    "        Input feature values for different instances.\n",
    "    Y: 1D array\n",
    "        Target values corresponding to X.\n",
    "    gain_function: function of (X, Y, x)\n",
    "        A function such as drop_in_gini for evaluating a \n",
    "        splitting criterion X <= s.\n",
    "\n",
    "    Returns\n",
    "    -------\n",
    "    tuple: (s, g) where s is the best split point and g is the maximum gain.\n",
    "\n",
    "    See also\n",
    "    --------\n",
    "    drop_in_gini\n",
    "    \"\"\"\n",
    "    values = np.sort(np.unique(X))\n",
    "    split_pts = (values[1:] + values[:-1]) / 2\n",
    "    gain = np.array([gain_function(X, Y, s) for s in split_pts])\n",
    "    i = np.argmax(gain)\n",
    "    return split_pts[i], gain[i]\n",
    "\n",
    "\n",
    "print(\n",
    "    \"\"\"Best split point: {0:.3g}\n",
    "Maximum gain: {1:.3g}\"\"\".format(\n",
    "        *find_best_split_pt(X, Y, drop_in_gini)\n",
    "    )\n",
    ")"
   ]
  },
  {
   "cell_type": "markdown",
   "metadata": {
    "ExecuteTime": {
     "end_time": "2021-01-24T12:15:40.237585Z",
     "start_time": "2021-01-24T12:15:40.231097Z"
    }
   },
   "source": [
    "The following ranks the features according to the gains of their best binary splits:"
   ]
  },
  {
   "cell_type": "code",
   "execution_count": null,
   "metadata": {
    "ExecuteTime": {
     "end_time": "2021-01-24T14:55:41.967757Z",
     "start_time": "2021-01-24T14:55:41.811034Z"
    }
   },
   "outputs": [],
   "source": [
    "rank_by_gini = pd.DataFrame(\n",
    "    {\n",
    "        \"feature\": feature,\n",
    "        **(lambda s, g: {\"split point\": s, \"gain\": g})(\n",
    "            *find_best_split_pt(df[feature], df.target, drop_in_gini)\n",
    "        ),\n",
    "    }\n",
    "    for feature in iris.feature_names\n",
    ").sort_values(by=\"gain\", ascending=False)\n",
    "rank_by_gini"
   ]
  },
  {
   "cell_type": "markdown",
   "metadata": {},
   "source": [
    "Using the entropy to measure impurity, we have the following alternative gain function:"
   ]
  },
  {
   "cell_type": "markdown",
   "metadata": {},
   "source": [
    "---\n",
    "\n",
    "**Definition**\n",
    "\n",
    "The information gain is defined as \n",
    "\n",
    "$$\n",
    "\\begin{align}\n",
    "\\operatorname{Gain}_A(D) &:= \\operatorname{Info}(D) - \\operatorname{Info}_A(D) && \\text{where}\\\\\n",
    "\\operatorname{Info}_A(D) &:= \\sum_{j} \\frac{|D_j|}{|D|} \\operatorname{Info}(D_j),\n",
    "\\end{align}\n",
    "$$ (Gain)\n",
    "\n",
    "---"
   ]
  },
  {
   "cell_type": "markdown",
   "metadata": {},
   "source": [
    "We will again consider the binary splitting criterion $X\\leq s$ in particular, which gives\n",
    "\n",
    "$$\n",
    "\\begin{align}\n",
    "\\operatorname{Gain}_A(D) = h(\\hat{P}_Y) - \\left[\\hat{P}\\{X\\leq s\\} h(\\hat{P}_{Y|X\\leq s}) + \\hat{P}\\{X> s\\}h(\\hat{P}_{Y|X> s})\\right]\n",
    "\\end{align}\n",
    "$$ (Gain-binary)"
   ]
  },
  {
   "cell_type": "markdown",
   "metadata": {},
   "source": [
    "**Exercise** Complete the following function to calculate the information gain on the target $Y$ for a binary split $X\\leq s$. You may use `dist` and `h` defined previously."
   ]
  },
  {
   "cell_type": "code",
   "execution_count": null,
   "metadata": {
    "ExecuteTime": {
     "end_time": "2021-01-24T14:15:35.911367Z",
     "start_time": "2021-01-24T14:15:35.899677Z"
    },
    "deletable": false,
    "nbgrader": {
     "cell_type": "code",
     "checksum": "d6b611522d3766568d847877cf846ec3",
     "grade": false,
     "grade_id": "info-gain",
     "locked": false,
     "schema_version": 3,
     "solution": true,
     "task": false
    },
    "tags": [
     "remove-output"
    ]
   },
   "outputs": [],
   "source": [
    "def gain(X, Y, s):\n",
    "    \"\"\"Returns the information Gain of Y for the split X <= s.\n",
    "\n",
    "    Parameters\n",
    "    ----------\n",
    "    X: 1D array\n",
    "        Input feature values for different instances.\n",
    "    Y: 1D array\n",
    "        Target values corresponding to X.\n",
    "    s: Splitting point for X.\n",
    "    \"\"\"\n",
    "    S = X <= s\n",
    "    q = S.mean()\n",
    "    # YOUR CODE HERE\n",
    "    raise NotImplementedError()\n",
    "\n",
    "\n",
    "print(f\"Information gain: {gain(X, Y, 0.8):.4g}\")"
   ]
  },
  {
   "cell_type": "code",
   "execution_count": null,
   "metadata": {
    "ExecuteTime": {
     "end_time": "2021-01-24T14:55:08.980787Z",
     "start_time": "2021-01-24T14:55:08.847163Z"
    },
    "deletable": false,
    "editable": false,
    "nbgrader": {
     "cell_type": "code",
     "checksum": "f3c3c5aaf0914408827891a35c41d00b",
     "grade": true,
     "grade_id": "test-info-gain",
     "locked": true,
     "points": 1,
     "schema_version": 3,
     "solution": false,
     "task": false
    },
    "tags": [
     "remove-output"
    ]
   },
   "outputs": [],
   "source": [
    "# tests\n",
    "rank_by_entropy = pd.DataFrame(\n",
    "    {\n",
    "        \"feature\": feature,\n",
    "        **(lambda s, g: {\"split point\": s, \"gain\": g})(\n",
    "            *find_best_split_pt(df[feature], df.target, gain)\n",
    "        ),\n",
    "    }\n",
    "    for feature in iris.feature_names\n",
    ").sort_values(by=\"gain\", ascending=False)\n",
    "rank_by_entropy"
   ]
  },
  {
   "cell_type": "code",
   "execution_count": null,
   "metadata": {
    "deletable": false,
    "editable": false,
    "nbgrader": {
     "cell_type": "code",
     "checksum": "1ab4b700bdec4cc39eb845394b3d641c",
     "grade": true,
     "grade_id": "htest-info-gain",
     "locked": true,
     "points": 1,
     "schema_version": 3,
     "solution": false,
     "task": false
    }
   },
   "outputs": [],
   "source": [
    "# hidden tests"
   ]
  },
  {
   "cell_type": "markdown",
   "metadata": {},
   "source": [
    "The C4.5 induction algorithm uses information gain ratio instead of information gain:"
   ]
  },
  {
   "cell_type": "markdown",
   "metadata": {},
   "source": [
    "---\n",
    "\n",
    "**Definition**\n",
    "\n",
    "The information gain ratio is defined as \n",
    "\n",
    "$$\n",
    "\\begin{align}\n",
    "\\operatorname{GainRatio}_A(D) &:= \\frac{\\operatorname{Gain}_A(D)}{\\operatorname{SplitInfo}_A(D)}\n",
    "\\end{align}\n",
    "$$ (GainRatio)\n",
    "\n",
    "which is normalized by \n",
    "\n",
    "$$\n",
    "\\begin{align}\n",
    "\\operatorname{SplitInfo}_A(D) &:= h\\left(j\\mapsto \\frac{|D_j|}{|D|} \\right)=\\sum_j \\frac{|D_j|}{|D|}\\log \\frac{|D|}{|D_j|}.\n",
    "\\end{align}\n",
    "$$ (SplitInfo)\n",
    "\n",
    "---"
   ]
  },
  {
   "cell_type": "markdown",
   "metadata": {},
   "source": [
    "For binary split $X\\leq s$,\n",
    "\n",
    "$$\n",
    "\\operatorname{SplitInfo}_A(D) := h\\left(\\hat{P}\\{X\\leq s\\}, \\hat{P}\\{X> s\\}\\right)\n",
    "$$ (SplitInfo-binary)\n",
    "\n",
    "in terms of the empirical distribution."
   ]
  },
  {
   "cell_type": "markdown",
   "metadata": {},
   "source": [
    "**Exercise** Complete the following function to calculate the *information gain ratio* for a binary split $X\\leq s$ and target $Y$."
   ]
  },
  {
   "cell_type": "code",
   "execution_count": null,
   "metadata": {
    "ExecuteTime": {
     "end_time": "2021-01-24T14:53:22.588230Z",
     "start_time": "2021-01-24T14:53:22.581141Z"
    },
    "deletable": false,
    "nbgrader": {
     "cell_type": "code",
     "checksum": "d6974ce63cdfadc7b512ba9e4ea330c7",
     "grade": false,
     "grade_id": "info-gain-ratio",
     "locked": false,
     "schema_version": 3,
     "solution": true,
     "task": false
    },
    "tags": [
     "remove-output"
    ]
   },
   "outputs": [],
   "source": [
    "def gain_ratio(X, Y, split_pt):\n",
    "    S = X <= split_pt\n",
    "    q = S.mean()\n",
    "    # YOUR CODE HERE\n",
    "    raise NotImplementedError()"
   ]
  },
  {
   "cell_type": "code",
   "execution_count": null,
   "metadata": {
    "ExecuteTime": {
     "end_time": "2021-01-24T15:00:35.323965Z",
     "start_time": "2021-01-24T15:00:35.182551Z"
    },
    "deletable": false,
    "editable": false,
    "nbgrader": {
     "cell_type": "code",
     "checksum": "3b1c1b36da376fcc022dfd4963ceff8f",
     "grade": true,
     "grade_id": "test-info-gain-ratio",
     "locked": true,
     "points": 1,
     "schema_version": 3,
     "solution": false,
     "task": false
    },
    "tags": [
     "remove-output"
    ]
   },
   "outputs": [],
   "source": [
    "# tests\n",
    "rank_by_gain_ratio = pd.DataFrame(\n",
    "    {\n",
    "        \"feature\": feature,\n",
    "        **(lambda s, g: {\"split point\": s, \"gain\": g})(\n",
    "            *find_best_split_pt(df[feature], df.target, gain_ratio)\n",
    "        ),\n",
    "    }\n",
    "    for feature in iris.feature_names\n",
    ").sort_values(by=\"gain\", ascending=False)\n",
    "rank_by_gain_ratio"
   ]
  },
  {
   "cell_type": "code",
   "execution_count": null,
   "metadata": {
    "deletable": false,
    "editable": false,
    "nbgrader": {
     "cell_type": "code",
     "checksum": "2cdd7f45cef622a317fd93f4d8db3c4c",
     "grade": true,
     "grade_id": "htest-info-gain-ratio",
     "locked": true,
     "points": 1,
     "schema_version": 3,
     "solution": false,
     "task": false
    }
   },
   "outputs": [],
   "source": [
    "# hidden tests"
   ]
  },
  {
   "cell_type": "markdown",
   "metadata": {},
   "source": [
    "**Exercise** Does the information gain ratio give a different ranking of the features? Why?"
   ]
  },
  {
   "cell_type": "markdown",
   "metadata": {},
   "source": [
    "Information gain ratio gives the same ranking as the information gain in this case. This is because the split is restricted to be binary and so the normalization by split information has little effect on the ranking."
   ]
  }
 ],
 "metadata": {
  "kernelspec": {
   "display_name": "Python 3 (ipykernel)",
   "language": "python",
   "name": "python3"
  },
  "language_info": {
   "codemirror_mode": {
    "name": "ipython",
    "version": 3
   },
   "file_extension": ".py",
   "mimetype": "text/x-python",
   "name": "python",
   "nbconvert_exporter": "python",
   "pygments_lexer": "ipython3",
   "version": "3.8.12"
  },
  "rise": {
   "enable_chalkboard": true,
   "scroll": true,
   "theme": "beige"
  },
  "toc": {
   "base_numbering": 1,
   "nav_menu": {},
   "number_sections": true,
   "sideBar": true,
   "skip_h1_title": true,
   "title_cell": "Table of Contents",
   "title_sidebar": "Contents",
   "toc_cell": false,
   "toc_position": {},
   "toc_section_display": true,
   "toc_window_display": false
  },
  "widgets": {
   "application/vnd.jupyter.widget-state+json": {
    "state": {
     "03f5e7d492054a7fb51e6344e31573f6": {
      "model_module": "@jupyter-widgets/base",
      "model_module_version": "1.2.0",
      "model_name": "LayoutModel",
      "state": {}
     },
     "07696e92e17f4e1ab527bd92f57446e7": {
      "model_module": "@jupyter-widgets/base",
      "model_module_version": "1.2.0",
      "model_name": "LayoutModel",
      "state": {}
     },
     "07a5c67dca7e47f594879b1ce931ffa5": {
      "model_module": "@jupyter-widgets/base",
      "model_module_version": "1.2.0",
      "model_name": "LayoutModel",
      "state": {}
     },
     "0c482ba81321447f838d527f49872c86": {
      "model_module": "@jupyter-widgets/base",
      "model_module_version": "1.2.0",
      "model_name": "LayoutModel",
      "state": {}
     },
     "0ce69df12d3f45c99fcd4078935e481e": {
      "model_module": "@jupyter-widgets/base",
      "model_module_version": "1.2.0",
      "model_name": "LayoutModel",
      "state": {}
     },
     "0eccb8eb88f34b3c9a1ea125142135e2": {
      "model_module": "@jupyter-widgets/base",
      "model_module_version": "1.2.0",
      "model_name": "LayoutModel",
      "state": {}
     },
     "0f4cdbe536b54c2ebb20901fc5f2e5fc": {
      "model_module": "@jupyter-widgets/base",
      "model_module_version": "1.2.0",
      "model_name": "LayoutModel",
      "state": {}
     },
     "0f5eb1981375497d9499dfc34a4ab099": {
      "model_module": "@jupyter-widgets/base",
      "model_module_version": "1.2.0",
      "model_name": "LayoutModel",
      "state": {}
     },
     "1115ca34a71f430ea3b94cc701e18055": {
      "model_module": "@jupyter-widgets/base",
      "model_module_version": "1.2.0",
      "model_name": "LayoutModel",
      "state": {}
     },
     "15cd9bc4ee47409397f5cb7703e3074a": {
      "model_module": "@jupyter-widgets/base",
      "model_module_version": "1.2.0",
      "model_name": "LayoutModel",
      "state": {}
     },
     "2061be967f0b420893995d975afd05c3": {
      "model_module": "@jupyter-widgets/base",
      "model_module_version": "1.2.0",
      "model_name": "LayoutModel",
      "state": {}
     },
     "23c014748bb041f49a4f093c984c7a56": {
      "model_module": "jupyter-matplotlib",
      "model_module_version": "^0.10.4",
      "model_name": "ToolbarModel",
      "state": {
       "collapsed": true,
       "layout": "IPY_MODEL_07a5c67dca7e47f594879b1ce931ffa5",
       "orientation": "vertical",
       "toolitems": [
        [
         "Home",
         "Reset original view",
         "home",
         "home"
        ],
        [
         "Back",
         "Back to previous view",
         "arrow-left",
         "back"
        ],
        [
         "Forward",
         "Forward to next view",
         "arrow-right",
         "forward"
        ],
        [
         "Pan",
         "Left button pans, Right button zooms\nx/y fixes axis, CTRL fixes aspect",
         "arrows",
         "pan"
        ],
        [
         "Zoom",
         "Zoom to rectangle\nx/y fixes axis",
         "square-o",
         "zoom"
        ],
        [
         "Download",
         "Download plot",
         "floppy-o",
         "save_figure"
        ]
       ]
      }
     },
     "296f836e680d496fa4951c7d9cc3c9d8": {
      "model_module": "@jupyter-widgets/base",
      "model_module_version": "1.2.0",
      "model_name": "LayoutModel",
      "state": {}
     },
     "2ec13504b8f34b249860327b4311d674": {
      "model_module": "jupyter-matplotlib",
      "model_module_version": "^0.10.4",
      "model_name": "ToolbarModel",
      "state": {
       "collapsed": true,
       "layout": "IPY_MODEL_39ad7915713545b09b16fec3a3571d3f",
       "orientation": "vertical",
       "toolitems": [
        [
         "Home",
         "Reset original view",
         "home",
         "home"
        ],
        [
         "Back",
         "Back to previous view",
         "arrow-left",
         "back"
        ],
        [
         "Forward",
         "Forward to next view",
         "arrow-right",
         "forward"
        ],
        [
         "Pan",
         "Left button pans, Right button zooms\nx/y fixes axis, CTRL fixes aspect",
         "arrows",
         "pan"
        ],
        [
         "Zoom",
         "Zoom to rectangle\nx/y fixes axis",
         "square-o",
         "zoom"
        ],
        [
         "Download",
         "Download plot",
         "floppy-o",
         "save_figure"
        ]
       ]
      }
     },
     "303b0346791e490db730c867bd7770aa": {
      "model_module": "jupyter-matplotlib",
      "model_module_version": "^0.10.4",
      "model_name": "ToolbarModel",
      "state": {
       "collapsed": true,
       "layout": "IPY_MODEL_c0cf449b747c4353b1cd86a4a431a9a4",
       "orientation": "vertical",
       "toolitems": [
        [
         "Home",
         "Reset original view",
         "home",
         "home"
        ],
        [
         "Back",
         "Back to previous view",
         "arrow-left",
         "back"
        ],
        [
         "Forward",
         "Forward to next view",
         "arrow-right",
         "forward"
        ],
        [
         "Pan",
         "Left button pans, Right button zooms\nx/y fixes axis, CTRL fixes aspect",
         "arrows",
         "pan"
        ],
        [
         "Zoom",
         "Zoom to rectangle\nx/y fixes axis",
         "square-o",
         "zoom"
        ],
        [
         "Download",
         "Download plot",
         "floppy-o",
         "save_figure"
        ]
       ]
      }
     },
     "39ad7915713545b09b16fec3a3571d3f": {
      "model_module": "@jupyter-widgets/base",
      "model_module_version": "1.2.0",
      "model_name": "LayoutModel",
      "state": {}
     },
     "3be670a3946c4d919008a4683fe60372": {
      "model_module": "@jupyter-widgets/base",
      "model_module_version": "1.2.0",
      "model_name": "LayoutModel",
      "state": {}
     },
     "3c8247a9e90e4943b494e558f4eade67": {
      "model_module": "@jupyter-widgets/base",
      "model_module_version": "1.2.0",
      "model_name": "LayoutModel",
      "state": {}
     },
     "3e6cea5e41be48dea63a2366d8fd1c6b": {
      "model_module": "@jupyter-widgets/base",
      "model_module_version": "1.2.0",
      "model_name": "LayoutModel",
      "state": {}
     },
     "3e82c2ce23504a8ea16aaac9569098e8": {
      "model_module": "@jupyter-widgets/base",
      "model_module_version": "1.2.0",
      "model_name": "LayoutModel",
      "state": {}
     },
     "40d016b2e6b640bca0267b90c255661a": {
      "model_module": "@jupyter-widgets/base",
      "model_module_version": "1.2.0",
      "model_name": "LayoutModel",
      "state": {}
     },
     "470bc282003e4d65b5293006b108232c": {
      "model_module": "jupyter-matplotlib",
      "model_module_version": "^0.10.4",
      "model_name": "ToolbarModel",
      "state": {
       "collapsed": true,
       "layout": "IPY_MODEL_3be670a3946c4d919008a4683fe60372",
       "orientation": "vertical",
       "toolitems": [
        [
         "Home",
         "Reset original view",
         "home",
         "home"
        ],
        [
         "Back",
         "Back to previous view",
         "arrow-left",
         "back"
        ],
        [
         "Forward",
         "Forward to next view",
         "arrow-right",
         "forward"
        ],
        [
         "Pan",
         "Left button pans, Right button zooms\nx/y fixes axis, CTRL fixes aspect",
         "arrows",
         "pan"
        ],
        [
         "Zoom",
         "Zoom to rectangle\nx/y fixes axis",
         "square-o",
         "zoom"
        ],
        [
         "Download",
         "Download plot",
         "floppy-o",
         "save_figure"
        ]
       ]
      }
     },
     "48b0e2022d3c46cfb9d816815c3ea4f7": {
      "model_module": "@jupyter-widgets/base",
      "model_module_version": "1.2.0",
      "model_name": "LayoutModel",
      "state": {}
     },
     "48e9675219f54cf89f57f2e9d56e7dd3": {
      "model_module": "@jupyter-widgets/base",
      "model_module_version": "1.2.0",
      "model_name": "LayoutModel",
      "state": {}
     },
     "4bbe3381484c41639936d3ab6716ec76": {
      "model_module": "@jupyter-widgets/base",
      "model_module_version": "1.2.0",
      "model_name": "LayoutModel",
      "state": {}
     },
     "4e2732852661496cac53f85383a3327e": {
      "model_module": "@jupyter-widgets/base",
      "model_module_version": "1.2.0",
      "model_name": "LayoutModel",
      "state": {}
     },
     "4ebd5c7ab2ca407f8c461f6c415115e0": {
      "model_module": "jupyter-matplotlib",
      "model_module_version": "^0.10.4",
      "model_name": "ToolbarModel",
      "state": {
       "collapsed": true,
       "layout": "IPY_MODEL_fe68a030c3364c49bd0bba8e858ee2e3",
       "orientation": "vertical",
       "toolitems": [
        [
         "Home",
         "Reset original view",
         "home",
         "home"
        ],
        [
         "Back",
         "Back to previous view",
         "arrow-left",
         "back"
        ],
        [
         "Forward",
         "Forward to next view",
         "arrow-right",
         "forward"
        ],
        [
         "Pan",
         "Left button pans, Right button zooms\nx/y fixes axis, CTRL fixes aspect",
         "arrows",
         "pan"
        ],
        [
         "Zoom",
         "Zoom to rectangle\nx/y fixes axis",
         "square-o",
         "zoom"
        ],
        [
         "Download",
         "Download plot",
         "floppy-o",
         "save_figure"
        ]
       ]
      }
     },
     "508d6d70095b4ccab5d16c89c495be6a": {
      "model_module": "jupyter-matplotlib",
      "model_module_version": "^0.10.4",
      "model_name": "ToolbarModel",
      "state": {
       "collapsed": true,
       "layout": "IPY_MODEL_a699ed95b4114aeb9f627f35c6e732e9",
       "orientation": "vertical",
       "toolitems": [
        [
         "Home",
         "Reset original view",
         "home",
         "home"
        ],
        [
         "Back",
         "Back to previous view",
         "arrow-left",
         "back"
        ],
        [
         "Forward",
         "Forward to next view",
         "arrow-right",
         "forward"
        ],
        [
         "Pan",
         "Left button pans, Right button zooms\nx/y fixes axis, CTRL fixes aspect",
         "arrows",
         "pan"
        ],
        [
         "Zoom",
         "Zoom to rectangle\nx/y fixes axis",
         "square-o",
         "zoom"
        ],
        [
         "Download",
         "Download plot",
         "floppy-o",
         "save_figure"
        ]
       ]
      }
     },
     "5b70c08f6a1a4e3b91fc9fa356b9778f": {
      "model_module": "jupyter-matplotlib",
      "model_module_version": "^0.10.4",
      "model_name": "ToolbarModel",
      "state": {
       "collapsed": true,
       "layout": "IPY_MODEL_d5698ff392f146599e521b5eaec65ec9",
       "orientation": "vertical",
       "toolitems": [
        [
         "Home",
         "Reset original view",
         "home",
         "home"
        ],
        [
         "Back",
         "Back to previous view",
         "arrow-left",
         "back"
        ],
        [
         "Forward",
         "Forward to next view",
         "arrow-right",
         "forward"
        ],
        [
         "Pan",
         "Left button pans, Right button zooms\nx/y fixes axis, CTRL fixes aspect",
         "arrows",
         "pan"
        ],
        [
         "Zoom",
         "Zoom to rectangle\nx/y fixes axis",
         "square-o",
         "zoom"
        ],
        [
         "Download",
         "Download plot",
         "floppy-o",
         "save_figure"
        ]
       ]
      }
     },
     "5eb23e2606704dd08e479bac804ed227": {
      "model_module": "jupyter-matplotlib",
      "model_module_version": "^0.10.4",
      "model_name": "ToolbarModel",
      "state": {
       "collapsed": true,
       "layout": "IPY_MODEL_8cba5721d54443008f16da24410f5c67",
       "orientation": "vertical",
       "toolitems": [
        [
         "Home",
         "Reset original view",
         "home",
         "home"
        ],
        [
         "Back",
         "Back to previous view",
         "arrow-left",
         "back"
        ],
        [
         "Forward",
         "Forward to next view",
         "arrow-right",
         "forward"
        ],
        [
         "Pan",
         "Left button pans, Right button zooms\nx/y fixes axis, CTRL fixes aspect",
         "arrows",
         "pan"
        ],
        [
         "Zoom",
         "Zoom to rectangle\nx/y fixes axis",
         "square-o",
         "zoom"
        ],
        [
         "Download",
         "Download plot",
         "floppy-o",
         "save_figure"
        ]
       ]
      }
     },
     "65646f0974fb421c8bf205efeb40c365": {
      "model_module": "@jupyter-widgets/base",
      "model_module_version": "1.2.0",
      "model_name": "LayoutModel",
      "state": {}
     },
     "67143dc3298c49c2acc65541ddf8caca": {
      "model_module": "@jupyter-widgets/base",
      "model_module_version": "1.2.0",
      "model_name": "LayoutModel",
      "state": {}
     },
     "688ac0dfcb094ef3945dd6cde4848bd1": {
      "model_module": "@jupyter-widgets/base",
      "model_module_version": "1.2.0",
      "model_name": "LayoutModel",
      "state": {}
     },
     "6f24479284fa483090fbedcbcb87905a": {
      "model_module": "jupyter-matplotlib",
      "model_module_version": "^0.10.4",
      "model_name": "ToolbarModel",
      "state": {
       "collapsed": true,
       "layout": "IPY_MODEL_9d3fb7ddd8b14c27a2e4ecb88cbec5d9",
       "orientation": "vertical",
       "toolitems": [
        [
         "Home",
         "Reset original view",
         "home",
         "home"
        ],
        [
         "Back",
         "Back to previous view",
         "arrow-left",
         "back"
        ],
        [
         "Forward",
         "Forward to next view",
         "arrow-right",
         "forward"
        ],
        [
         "Pan",
         "Left button pans, Right button zooms\nx/y fixes axis, CTRL fixes aspect",
         "arrows",
         "pan"
        ],
        [
         "Zoom",
         "Zoom to rectangle\nx/y fixes axis",
         "square-o",
         "zoom"
        ],
        [
         "Download",
         "Download plot",
         "floppy-o",
         "save_figure"
        ]
       ]
      }
     },
     "7102ab4e716f477f8b37a4b2a8403de7": {
      "model_module": "jupyter-matplotlib",
      "model_module_version": "^0.10.4",
      "model_name": "ToolbarModel",
      "state": {
       "collapsed": true,
       "layout": "IPY_MODEL_03f5e7d492054a7fb51e6344e31573f6",
       "orientation": "vertical",
       "toolitems": [
        [
         "Home",
         "Reset original view",
         "home",
         "home"
        ],
        [
         "Back",
         "Back to previous view",
         "arrow-left",
         "back"
        ],
        [
         "Forward",
         "Forward to next view",
         "arrow-right",
         "forward"
        ],
        [
         "Pan",
         "Left button pans, Right button zooms\nx/y fixes axis, CTRL fixes aspect",
         "arrows",
         "pan"
        ],
        [
         "Zoom",
         "Zoom to rectangle\nx/y fixes axis",
         "square-o",
         "zoom"
        ],
        [
         "Download",
         "Download plot",
         "floppy-o",
         "save_figure"
        ]
       ]
      }
     },
     "761fa842732b43ae85c2e35a8544acee": {
      "model_module": "@jupyter-widgets/base",
      "model_module_version": "1.2.0",
      "model_name": "LayoutModel",
      "state": {}
     },
     "78701ce9ab0d4ea681fb84fd1d18ca7b": {
      "model_module": "@jupyter-widgets/base",
      "model_module_version": "1.2.0",
      "model_name": "LayoutModel",
      "state": {}
     },
     "7ce5a43e91af460c9cdce2463bc342d2": {
      "model_module": "@jupyter-widgets/base",
      "model_module_version": "1.2.0",
      "model_name": "LayoutModel",
      "state": {}
     },
     "7da00fcdd73c4a26a6665df125322fec": {
      "model_module": "@jupyter-widgets/base",
      "model_module_version": "1.2.0",
      "model_name": "LayoutModel",
      "state": {}
     },
     "8149fbe9efdd441eb8e39a70ae6d7c70": {
      "model_module": "@jupyter-widgets/base",
      "model_module_version": "1.2.0",
      "model_name": "LayoutModel",
      "state": {}
     },
     "8cba5721d54443008f16da24410f5c67": {
      "model_module": "@jupyter-widgets/base",
      "model_module_version": "1.2.0",
      "model_name": "LayoutModel",
      "state": {}
     },
     "9023ccdce8364954a51f17326d0dbc8f": {
      "model_module": "jupyter-matplotlib",
      "model_module_version": "^0.10.4",
      "model_name": "ToolbarModel",
      "state": {
       "collapsed": true,
       "layout": "IPY_MODEL_0eccb8eb88f34b3c9a1ea125142135e2",
       "orientation": "vertical",
       "toolitems": [
        [
         "Home",
         "Reset original view",
         "home",
         "home"
        ],
        [
         "Back",
         "Back to previous view",
         "arrow-left",
         "back"
        ],
        [
         "Forward",
         "Forward to next view",
         "arrow-right",
         "forward"
        ],
        [
         "Pan",
         "Left button pans, Right button zooms\nx/y fixes axis, CTRL fixes aspect",
         "arrows",
         "pan"
        ],
        [
         "Zoom",
         "Zoom to rectangle\nx/y fixes axis",
         "square-o",
         "zoom"
        ],
        [
         "Download",
         "Download plot",
         "floppy-o",
         "save_figure"
        ]
       ]
      }
     },
     "907854f02d3b472a843bc311594f6cb1": {
      "model_module": "@jupyter-widgets/base",
      "model_module_version": "1.2.0",
      "model_name": "LayoutModel",
      "state": {}
     },
     "992c4b2d68614cddae74348ee1f456e8": {
      "model_module": "jupyter-matplotlib",
      "model_module_version": "^0.10.4",
      "model_name": "ToolbarModel",
      "state": {
       "collapsed": true,
       "layout": "IPY_MODEL_907854f02d3b472a843bc311594f6cb1",
       "orientation": "vertical",
       "toolitems": [
        [
         "Home",
         "Reset original view",
         "home",
         "home"
        ],
        [
         "Back",
         "Back to previous view",
         "arrow-left",
         "back"
        ],
        [
         "Forward",
         "Forward to next view",
         "arrow-right",
         "forward"
        ],
        [
         "Pan",
         "Left button pans, Right button zooms\nx/y fixes axis, CTRL fixes aspect",
         "arrows",
         "pan"
        ],
        [
         "Zoom",
         "Zoom to rectangle\nx/y fixes axis",
         "square-o",
         "zoom"
        ],
        [
         "Download",
         "Download plot",
         "floppy-o",
         "save_figure"
        ]
       ]
      }
     },
     "9a249be9a057436b8cb7e57c4ae04049": {
      "model_module": "@jupyter-widgets/base",
      "model_module_version": "1.2.0",
      "model_name": "LayoutModel",
      "state": {}
     },
     "9d3fb7ddd8b14c27a2e4ecb88cbec5d9": {
      "model_module": "@jupyter-widgets/base",
      "model_module_version": "1.2.0",
      "model_name": "LayoutModel",
      "state": {}
     },
     "a09d924d54d74162b9b94d4e791d9fa9": {
      "model_module": "jupyter-matplotlib",
      "model_module_version": "^0.10.4",
      "model_name": "ToolbarModel",
      "state": {
       "collapsed": true,
       "layout": "IPY_MODEL_9a249be9a057436b8cb7e57c4ae04049",
       "orientation": "vertical",
       "toolitems": [
        [
         "Home",
         "Reset original view",
         "home",
         "home"
        ],
        [
         "Back",
         "Back to previous view",
         "arrow-left",
         "back"
        ],
        [
         "Forward",
         "Forward to next view",
         "arrow-right",
         "forward"
        ],
        [
         "Pan",
         "Left button pans, Right button zooms\nx/y fixes axis, CTRL fixes aspect",
         "arrows",
         "pan"
        ],
        [
         "Zoom",
         "Zoom to rectangle\nx/y fixes axis",
         "square-o",
         "zoom"
        ],
        [
         "Download",
         "Download plot",
         "floppy-o",
         "save_figure"
        ]
       ]
      }
     },
     "a23cc6a01a1e4d618c0a26e09ad10c34": {
      "model_module": "@jupyter-widgets/base",
      "model_module_version": "1.2.0",
      "model_name": "LayoutModel",
      "state": {}
     },
     "a32c74fc5f804fe0907f1c71344dba6a": {
      "model_module": "@jupyter-widgets/base",
      "model_module_version": "1.2.0",
      "model_name": "LayoutModel",
      "state": {}
     },
     "a5aba6ff7e9045be969b0bc9ac9efd3f": {
      "model_module": "@jupyter-widgets/base",
      "model_module_version": "1.2.0",
      "model_name": "LayoutModel",
      "state": {}
     },
     "a699ed95b4114aeb9f627f35c6e732e9": {
      "model_module": "@jupyter-widgets/base",
      "model_module_version": "1.2.0",
      "model_name": "LayoutModel",
      "state": {}
     },
     "aac004522f534eb6bdb095fe0d9f8d2c": {
      "model_module": "@jupyter-widgets/base",
      "model_module_version": "1.2.0",
      "model_name": "LayoutModel",
      "state": {}
     },
     "acb61fc6d1764ecc8a682b4a1a106bc0": {
      "model_module": "jupyter-matplotlib",
      "model_module_version": "^0.10.4",
      "model_name": "ToolbarModel",
      "state": {
       "collapsed": true,
       "layout": "IPY_MODEL_0c482ba81321447f838d527f49872c86",
       "orientation": "vertical",
       "toolitems": [
        [
         "Home",
         "Reset original view",
         "home",
         "home"
        ],
        [
         "Back",
         "Back to previous view",
         "arrow-left",
         "back"
        ],
        [
         "Forward",
         "Forward to next view",
         "arrow-right",
         "forward"
        ],
        [
         "Pan",
         "Left button pans, Right button zooms\nx/y fixes axis, CTRL fixes aspect",
         "arrows",
         "pan"
        ],
        [
         "Zoom",
         "Zoom to rectangle\nx/y fixes axis",
         "square-o",
         "zoom"
        ],
        [
         "Download",
         "Download plot",
         "floppy-o",
         "save_figure"
        ]
       ]
      }
     },
     "adf0b628207d4c4caaae10c82420f123": {
      "model_module": "@jupyter-widgets/base",
      "model_module_version": "1.2.0",
      "model_name": "LayoutModel",
      "state": {}
     },
     "b3ae894029d9464fb3e579765fd59b0e": {
      "model_module": "@jupyter-widgets/base",
      "model_module_version": "1.2.0",
      "model_name": "LayoutModel",
      "state": {}
     },
     "b5151eaa31fe4e558bc17a5c2ee4d2f1": {
      "model_module": "@jupyter-widgets/base",
      "model_module_version": "1.2.0",
      "model_name": "LayoutModel",
      "state": {}
     },
     "bc274e47178749c99565eca6d7484d9a": {
      "model_module": "@jupyter-widgets/base",
      "model_module_version": "1.2.0",
      "model_name": "LayoutModel",
      "state": {}
     },
     "beaa4a40ebb34229b49ab216052e5899": {
      "model_module": "@jupyter-widgets/base",
      "model_module_version": "1.2.0",
      "model_name": "LayoutModel",
      "state": {}
     },
     "bf2352ba6123496f9b0aaa12aee5406f": {
      "model_module": "@jupyter-widgets/base",
      "model_module_version": "1.2.0",
      "model_name": "LayoutModel",
      "state": {}
     },
     "c0cf449b747c4353b1cd86a4a431a9a4": {
      "model_module": "@jupyter-widgets/base",
      "model_module_version": "1.2.0",
      "model_name": "LayoutModel",
      "state": {}
     },
     "c0d61e2d9f3b421b8de6dcb96596c2a9": {
      "model_module": "@jupyter-widgets/base",
      "model_module_version": "1.2.0",
      "model_name": "LayoutModel",
      "state": {}
     },
     "c66c54c0ddff45cd944c7bd9af593078": {
      "model_module": "jupyter-matplotlib",
      "model_module_version": "^0.10.4",
      "model_name": "ToolbarModel",
      "state": {
       "collapsed": true,
       "layout": "IPY_MODEL_4bbe3381484c41639936d3ab6716ec76",
       "orientation": "vertical",
       "toolitems": [
        [
         "Home",
         "Reset original view",
         "home",
         "home"
        ],
        [
         "Back",
         "Back to previous view",
         "arrow-left",
         "back"
        ],
        [
         "Forward",
         "Forward to next view",
         "arrow-right",
         "forward"
        ],
        [
         "Pan",
         "Left button pans, Right button zooms\nx/y fixes axis, CTRL fixes aspect",
         "arrows",
         "pan"
        ],
        [
         "Zoom",
         "Zoom to rectangle\nx/y fixes axis",
         "square-o",
         "zoom"
        ],
        [
         "Download",
         "Download plot",
         "floppy-o",
         "save_figure"
        ]
       ]
      }
     },
     "c90dd964542e47fc8e871116bc276630": {
      "model_module": "jupyter-matplotlib",
      "model_module_version": "^0.10.4",
      "model_name": "ToolbarModel",
      "state": {
       "collapsed": true,
       "layout": "IPY_MODEL_a23cc6a01a1e4d618c0a26e09ad10c34",
       "orientation": "vertical",
       "toolitems": [
        [
         "Home",
         "Reset original view",
         "home",
         "home"
        ],
        [
         "Back",
         "Back to previous view",
         "arrow-left",
         "back"
        ],
        [
         "Forward",
         "Forward to next view",
         "arrow-right",
         "forward"
        ],
        [
         "Pan",
         "Left button pans, Right button zooms\nx/y fixes axis, CTRL fixes aspect",
         "arrows",
         "pan"
        ],
        [
         "Zoom",
         "Zoom to rectangle\nx/y fixes axis",
         "square-o",
         "zoom"
        ],
        [
         "Download",
         "Download plot",
         "floppy-o",
         "save_figure"
        ]
       ]
      }
     },
     "cc983b3039344ef8ad1d5f8cfe832e37": {
      "model_module": "jupyter-matplotlib",
      "model_module_version": "^0.10.4",
      "model_name": "ToolbarModel",
      "state": {
       "collapsed": true,
       "layout": "IPY_MODEL_bf2352ba6123496f9b0aaa12aee5406f",
       "orientation": "vertical",
       "toolitems": [
        [
         "Home",
         "Reset original view",
         "home",
         "home"
        ],
        [
         "Back",
         "Back to previous view",
         "arrow-left",
         "back"
        ],
        [
         "Forward",
         "Forward to next view",
         "arrow-right",
         "forward"
        ],
        [
         "Pan",
         "Left button pans, Right button zooms\nx/y fixes axis, CTRL fixes aspect",
         "arrows",
         "pan"
        ],
        [
         "Zoom",
         "Zoom to rectangle\nx/y fixes axis",
         "square-o",
         "zoom"
        ],
        [
         "Download",
         "Download plot",
         "floppy-o",
         "save_figure"
        ]
       ]
      }
     },
     "d1284895526545b18550fbdbe7ea9e42": {
      "model_module": "@jupyter-widgets/base",
      "model_module_version": "1.2.0",
      "model_name": "LayoutModel",
      "state": {}
     },
     "d485b14a9b4e46af9582efd7f2ca0131": {
      "model_module": "jupyter-matplotlib",
      "model_module_version": "^0.10.4",
      "model_name": "ToolbarModel",
      "state": {
       "collapsed": true,
       "layout": "IPY_MODEL_c0d61e2d9f3b421b8de6dcb96596c2a9",
       "orientation": "vertical",
       "toolitems": [
        [
         "Home",
         "Reset original view",
         "home",
         "home"
        ],
        [
         "Back",
         "Back to previous view",
         "arrow-left",
         "back"
        ],
        [
         "Forward",
         "Forward to next view",
         "arrow-right",
         "forward"
        ],
        [
         "Pan",
         "Left button pans, Right button zooms\nx/y fixes axis, CTRL fixes aspect",
         "arrows",
         "pan"
        ],
        [
         "Zoom",
         "Zoom to rectangle\nx/y fixes axis",
         "square-o",
         "zoom"
        ],
        [
         "Download",
         "Download plot",
         "floppy-o",
         "save_figure"
        ]
       ]
      }
     },
     "d5698ff392f146599e521b5eaec65ec9": {
      "model_module": "@jupyter-widgets/base",
      "model_module_version": "1.2.0",
      "model_name": "LayoutModel",
      "state": {}
     },
     "d56ebce8eb0a427ca08cdbf099a0e156": {
      "model_module": "jupyter-matplotlib",
      "model_module_version": "^0.10.4",
      "model_name": "ToolbarModel",
      "state": {
       "collapsed": true,
       "layout": "IPY_MODEL_bc274e47178749c99565eca6d7484d9a",
       "orientation": "vertical",
       "toolitems": [
        [
         "Home",
         "Reset original view",
         "home",
         "home"
        ],
        [
         "Back",
         "Back to previous view",
         "arrow-left",
         "back"
        ],
        [
         "Forward",
         "Forward to next view",
         "arrow-right",
         "forward"
        ],
        [
         "Pan",
         "Left button pans, Right button zooms\nx/y fixes axis, CTRL fixes aspect",
         "arrows",
         "pan"
        ],
        [
         "Zoom",
         "Zoom to rectangle\nx/y fixes axis",
         "square-o",
         "zoom"
        ],
        [
         "Download",
         "Download plot",
         "floppy-o",
         "save_figure"
        ]
       ]
      }
     },
     "d7c12f74362f4ec58958c7a1639f119f": {
      "model_module": "@jupyter-widgets/base",
      "model_module_version": "1.2.0",
      "model_name": "LayoutModel",
      "state": {}
     },
     "db7a5805517842a48b5ae58c63727604": {
      "model_module": "@jupyter-widgets/base",
      "model_module_version": "1.2.0",
      "model_name": "LayoutModel",
      "state": {}
     },
     "dd2106e47ced4e31953a5e37b050eb9b": {
      "model_module": "@jupyter-widgets/base",
      "model_module_version": "1.2.0",
      "model_name": "LayoutModel",
      "state": {}
     },
     "e3747bfecd034eb98b2722fa5f4e1def": {
      "model_module": "@jupyter-widgets/base",
      "model_module_version": "1.2.0",
      "model_name": "LayoutModel",
      "state": {}
     },
     "e4d8370ef11e4d6db2027885d5449a91": {
      "model_module": "jupyter-matplotlib",
      "model_module_version": "^0.10.4",
      "model_name": "ToolbarModel",
      "state": {
       "collapsed": true,
       "layout": "IPY_MODEL_07696e92e17f4e1ab527bd92f57446e7",
       "orientation": "vertical",
       "toolitems": [
        [
         "Home",
         "Reset original view",
         "home",
         "home"
        ],
        [
         "Back",
         "Back to previous view",
         "arrow-left",
         "back"
        ],
        [
         "Forward",
         "Forward to next view",
         "arrow-right",
         "forward"
        ],
        [
         "Pan",
         "Left button pans, Right button zooms\nx/y fixes axis, CTRL fixes aspect",
         "arrows",
         "pan"
        ],
        [
         "Zoom",
         "Zoom to rectangle\nx/y fixes axis",
         "square-o",
         "zoom"
        ],
        [
         "Download",
         "Download plot",
         "floppy-o",
         "save_figure"
        ]
       ]
      }
     },
     "e74dd3b20de14448a19ae67a7a734bc6": {
      "model_module": "jupyter-matplotlib",
      "model_module_version": "^0.10.4",
      "model_name": "ToolbarModel",
      "state": {
       "collapsed": true,
       "layout": "IPY_MODEL_dd2106e47ced4e31953a5e37b050eb9b",
       "orientation": "vertical",
       "toolitems": [
        [
         "Home",
         "Reset original view",
         "home",
         "home"
        ],
        [
         "Back",
         "Back to previous view",
         "arrow-left",
         "back"
        ],
        [
         "Forward",
         "Forward to next view",
         "arrow-right",
         "forward"
        ],
        [
         "Pan",
         "Left button pans, Right button zooms\nx/y fixes axis, CTRL fixes aspect",
         "arrows",
         "pan"
        ],
        [
         "Zoom",
         "Zoom to rectangle\nx/y fixes axis",
         "square-o",
         "zoom"
        ],
        [
         "Download",
         "Download plot",
         "floppy-o",
         "save_figure"
        ]
       ]
      }
     },
     "eba7656680b84606b35f0fba854eb8af": {
      "model_module": "jupyter-matplotlib",
      "model_module_version": "^0.10.4",
      "model_name": "ToolbarModel",
      "state": {
       "collapsed": true,
       "layout": "IPY_MODEL_0f5eb1981375497d9499dfc34a4ab099",
       "orientation": "vertical",
       "toolitems": [
        [
         "Home",
         "Reset original view",
         "home",
         "home"
        ],
        [
         "Back",
         "Back to previous view",
         "arrow-left",
         "back"
        ],
        [
         "Forward",
         "Forward to next view",
         "arrow-right",
         "forward"
        ],
        [
         "Pan",
         "Left button pans, Right button zooms\nx/y fixes axis, CTRL fixes aspect",
         "arrows",
         "pan"
        ],
        [
         "Zoom",
         "Zoom to rectangle\nx/y fixes axis",
         "square-o",
         "zoom"
        ],
        [
         "Download",
         "Download plot",
         "floppy-o",
         "save_figure"
        ]
       ]
      }
     },
     "ec462775466f41949b405a935c6b5968": {
      "model_module": "jupyter-matplotlib",
      "model_module_version": "^0.10.4",
      "model_name": "ToolbarModel",
      "state": {
       "collapsed": true,
       "layout": "IPY_MODEL_7ce5a43e91af460c9cdce2463bc342d2",
       "orientation": "vertical",
       "toolitems": [
        [
         "Home",
         "Reset original view",
         "home",
         "home"
        ],
        [
         "Back",
         "Back to previous view",
         "arrow-left",
         "back"
        ],
        [
         "Forward",
         "Forward to next view",
         "arrow-right",
         "forward"
        ],
        [
         "Pan",
         "Left button pans, Right button zooms\nx/y fixes axis, CTRL fixes aspect",
         "arrows",
         "pan"
        ],
        [
         "Zoom",
         "Zoom to rectangle\nx/y fixes axis",
         "square-o",
         "zoom"
        ],
        [
         "Download",
         "Download plot",
         "floppy-o",
         "save_figure"
        ]
       ]
      }
     },
     "ecae3115eb314bd596e7b696925199c9": {
      "model_module": "jupyter-matplotlib",
      "model_module_version": "^0.10.4",
      "model_name": "ToolbarModel",
      "state": {
       "collapsed": true,
       "layout": "IPY_MODEL_e3747bfecd034eb98b2722fa5f4e1def",
       "orientation": "vertical",
       "toolitems": [
        [
         "Home",
         "Reset original view",
         "home",
         "home"
        ],
        [
         "Back",
         "Back to previous view",
         "arrow-left",
         "back"
        ],
        [
         "Forward",
         "Forward to next view",
         "arrow-right",
         "forward"
        ],
        [
         "Pan",
         "Left button pans, Right button zooms\nx/y fixes axis, CTRL fixes aspect",
         "arrows",
         "pan"
        ],
        [
         "Zoom",
         "Zoom to rectangle\nx/y fixes axis",
         "square-o",
         "zoom"
        ],
        [
         "Download",
         "Download plot",
         "floppy-o",
         "save_figure"
        ]
       ]
      }
     },
     "f2e61149236c4cee936da2cd93690d2a": {
      "model_module": "jupyter-matplotlib",
      "model_module_version": "^0.10.4",
      "model_name": "ToolbarModel",
      "state": {
       "collapsed": true,
       "layout": "IPY_MODEL_761fa842732b43ae85c2e35a8544acee",
       "orientation": "vertical",
       "toolitems": [
        [
         "Home",
         "Reset original view",
         "home",
         "home"
        ],
        [
         "Back",
         "Back to previous view",
         "arrow-left",
         "back"
        ],
        [
         "Forward",
         "Forward to next view",
         "arrow-right",
         "forward"
        ],
        [
         "Pan",
         "Left button pans, Right button zooms\nx/y fixes axis, CTRL fixes aspect",
         "arrows",
         "pan"
        ],
        [
         "Zoom",
         "Zoom to rectangle\nx/y fixes axis",
         "square-o",
         "zoom"
        ],
        [
         "Download",
         "Download plot",
         "floppy-o",
         "save_figure"
        ]
       ]
      }
     },
     "f6d81057af78489389c6b977be443da4": {
      "model_module": "jupyter-matplotlib",
      "model_module_version": "^0.10.4",
      "model_name": "ToolbarModel",
      "state": {
       "collapsed": true,
       "layout": "IPY_MODEL_3c8247a9e90e4943b494e558f4eade67",
       "orientation": "vertical",
       "toolitems": [
        [
         "Home",
         "Reset original view",
         "home",
         "home"
        ],
        [
         "Back",
         "Back to previous view",
         "arrow-left",
         "back"
        ],
        [
         "Forward",
         "Forward to next view",
         "arrow-right",
         "forward"
        ],
        [
         "Pan",
         "Left button pans, Right button zooms\nx/y fixes axis, CTRL fixes aspect",
         "arrows",
         "pan"
        ],
        [
         "Zoom",
         "Zoom to rectangle\nx/y fixes axis",
         "square-o",
         "zoom"
        ],
        [
         "Download",
         "Download plot",
         "floppy-o",
         "save_figure"
        ]
       ]
      }
     },
     "f8e537a926924663b26d215f9dea2534": {
      "model_module": "jupyter-matplotlib",
      "model_module_version": "^0.10.4",
      "model_name": "ToolbarModel",
      "state": {
       "collapsed": true,
       "layout": "IPY_MODEL_7da00fcdd73c4a26a6665df125322fec",
       "orientation": "vertical",
       "toolitems": [
        [
         "Home",
         "Reset original view",
         "home",
         "home"
        ],
        [
         "Back",
         "Back to previous view",
         "arrow-left",
         "back"
        ],
        [
         "Forward",
         "Forward to next view",
         "arrow-right",
         "forward"
        ],
        [
         "Pan",
         "Left button pans, Right button zooms\nx/y fixes axis, CTRL fixes aspect",
         "arrows",
         "pan"
        ],
        [
         "Zoom",
         "Zoom to rectangle\nx/y fixes axis",
         "square-o",
         "zoom"
        ],
        [
         "Download",
         "Download plot",
         "floppy-o",
         "save_figure"
        ]
       ]
      }
     },
     "fe68a030c3364c49bd0bba8e858ee2e3": {
      "model_module": "@jupyter-widgets/base",
      "model_module_version": "1.2.0",
      "model_name": "LayoutModel",
      "state": {}
     }
    },
    "version_major": 2,
    "version_minor": 0
   }
  }
 },
 "nbformat": 4,
 "nbformat_minor": 4
}
