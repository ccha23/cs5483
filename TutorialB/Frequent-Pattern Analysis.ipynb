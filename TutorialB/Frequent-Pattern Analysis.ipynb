{
 "cells": [
  {
   "cell_type": "markdown",
   "metadata": {},
   "source": [
    "# Frequent-Pattern Analysis"
   ]
  },
  {
   "cell_type": "markdown",
   "metadata": {
    "tags": [
     "remove-cell"
    ]
   },
   "source": [
    "**CS5483 Data Warehousing and Data Mining**\n",
    "\n",
    "___"
   ]
  },
  {
   "cell_type": "code",
   "execution_count": null,
   "metadata": {
    "ExecuteTime": {
     "end_time": "2021-03-27T23:25:36.296930Z",
     "start_time": "2021-03-27T23:25:35.369524Z"
    },
    "init_cell": true,
    "slideshow": {
     "slide_type": "-"
    },
    "tags": [
     "remove-output"
    ]
   },
   "outputs": [],
   "source": [
    "import numpy as np\n",
    "import weka.core.jvm as jvm\n",
    "from weka.associations import Associator\n",
    "from weka.core.converters import Loader\n",
    "\n",
    "jvm.start()"
   ]
  },
  {
   "cell_type": "markdown",
   "metadata": {},
   "source": [
    "## Association Rule Mining using Weka"
   ]
  },
  {
   "cell_type": "markdown",
   "metadata": {},
   "source": [
    "We will conduct the market-basket analysis on the supermarket dataset in Weka."
   ]
  },
  {
   "cell_type": "markdown",
   "metadata": {},
   "source": [
    "### Transaction data"
   ]
  },
  {
   "cell_type": "markdown",
   "metadata": {},
   "source": [
    "Each instance of the dataset is a transaction, i.e., the purchase of items in a supermarket by a customer. Mathematically, the dataset can be represented as follows:"
   ]
  },
  {
   "cell_type": "markdown",
   "metadata": {},
   "source": [
    "---\n",
    "\n",
    "**Definition**\n",
    "\n",
    "For market-basket analysis, the dataset is\n",
    "\n",
    "$$\n",
    "\\begin{align}\n",
    "D &:= \\Set{T_i}_{i=1}^{n} \\quad \\text{where}\\\\\n",
    "T_i&\\subseteq \\mathcal{I},\n",
    "\\end{align}\n",
    "$$\n",
    "\n",
    "and $\\mathcal{I}$ is the collection of all items. A transaction $T_i$ is simply a subset of items.\n",
    "\n",
    "---"
   ]
  },
  {
   "cell_type": "markdown",
   "metadata": {},
   "source": [
    "Using the Explorer interface, load the `supermarket.arff` dataset in Weka. "
   ]
  },
  {
   "cell_type": "markdown",
   "metadata": {},
   "source": [
    "![](images/supermarket_attribute.png)"
   ]
  },
  {
   "cell_type": "markdown",
   "metadata": {},
   "source": [
    "Note that most attribute contains only one possible value, namely `t`. Click the button `Edit...` to open the data editor. Observe that most attributes have missing values:"
   ]
  },
  {
   "cell_type": "markdown",
   "metadata": {},
   "source": [
    "![](images/supermarket_data.png)"
   ]
  },
  {
   "cell_type": "markdown",
   "metadata": {},
   "source": [
    "In `supermarket.arff`:\n",
    "- Each attribute specified by `@attribute` can be a product category, a department, or a product with one possible value `t`:\n",
    "```\n",
    "...\n",
    "@attribute 'grocery misc' { t}\n",
    "@attribute 'department11' { t}\n",
    "@attribute 'baby needs' { t}\n",
    "@attribute 'bread and cake' { t}\n",
    "...\n",
    "```\n",
    "- The last attribute `'total'` has two possible values `{low, high}`: \n",
    "```\n",
    "@attribute 'total' { low, high} % low < 100\n",
    "```"
   ]
  },
  {
   "cell_type": "markdown",
   "metadata": {},
   "source": [
    "To understand the dataset further:\n",
    "1. Select the `Associate` tab. By default, `Apriori` is chosen as the `Associator`.\n",
    "1. Open the `GenericObjectEditor` and check that there is a parameter called `treatZeroAsMissing`. Hover the mouse pointer over the parameter to see more details. \n",
    "1. Run the Apriori algorithm with different choices of the parameter `treatZeroAsMissing`. Observe the diference in the generated rules."
   ]
  },
  {
   "cell_type": "markdown",
   "metadata": {},
   "source": [
    "**Exercise** Explain what `t` and `?` means in the dataset when we set `treatZeroAsMissing` to `True` and `False` respectively.\n",
    "\n",
    "```{hint}\n",
    "See the [documentation](https://weka.sourceforge.io/doc.dev/weka/associations/Apriori.html) of `Apriori` `Associator`.\n",
    "```"
   ]
  },
  {
   "cell_type": "markdown",
   "metadata": {
    "deletable": false,
    "nbgrader": {
     "cell_type": "markdown",
     "checksum": "aef91b785d8cb0947d72dff1ee7befbb",
     "grade": true,
     "grade_id": "indicator",
     "locked": false,
     "points": 1,
     "schema_version": 3,
     "solution": true,
     "task": false
    }
   },
   "source": [
    "YOUR ANSWER HERE"
   ]
  },
  {
   "cell_type": "markdown",
   "metadata": {},
   "source": [
    "### Association rule"
   ]
  },
  {
   "cell_type": "markdown",
   "metadata": {},
   "source": [
    "An association rule for market-basket analysis is defined as follows:"
   ]
  },
  {
   "cell_type": "markdown",
   "metadata": {},
   "source": [
    "---\n",
    "\n",
    "**Definition**\n",
    "\n",
    "Given two itemsets (sets of items) $A$ and $B$, the association rule\n",
    "\n",
    "$$\n",
    "\\begin{align}\n",
    "A \\implies B\n",
    "\\end{align}\n",
    "$$ (association-rule)\n",
    "\n",
    "means that a transaction contains all items in $B$ if it contains all items in $A$, i.e.,\n",
    "\n",
    "$$\n",
    "\\begin{align}\n",
    "\\underbrace{A\\subseteq T}_{\\text{premise}} \\implies \\underbrace{B\\subseteq T}_{\\text{consequence}}\n",
    "\\end{align}\n",
    "$$\n",
    "\n",
    "for transaction $T\\in D$.\n",
    "\n",
    "---"
   ]
  },
  {
   "cell_type": "markdown",
   "metadata": {},
   "source": [
    "We will use [`python-weka-wrapper`](https://github.com/fracpete/python-weka-wrapper3-examples/blob/master/src/wekaexamples/associations/apriori_output.py) for illustration. To load the dataset:"
   ]
  },
  {
   "cell_type": "code",
   "execution_count": null,
   "metadata": {
    "ExecuteTime": {
     "end_time": "2021-03-27T23:44:40.111737Z",
     "start_time": "2021-03-27T23:44:37.360712Z"
    }
   },
   "outputs": [],
   "source": [
    "loader = Loader(classname=\"weka.core.converters.ArffLoader\")\n",
    "weka_data_path = (\n",
    "    \"https://raw.githubusercontent.com/Waikato/weka-3.8/master/wekadocs/data/\"\n",
    ")\n",
    "dataset = loader.load_url(\n",
    "    weka_data_path + \"supermarket.arff\"\n",
    ")  # use load_file to load from file instead"
   ]
  },
  {
   "cell_type": "markdown",
   "metadata": {},
   "source": [
    "To apply the apriori algorithm with the default settings:\n",
    "\n",
    "```python\n",
    "from weka.associations import Associator\n",
    "```"
   ]
  },
  {
   "cell_type": "code",
   "execution_count": null,
   "metadata": {
    "ExecuteTime": {
     "end_time": "2021-03-28T01:16:02.285027Z",
     "start_time": "2021-03-28T01:15:59.124733Z"
    }
   },
   "outputs": [],
   "source": [
    "apriori = Associator(classname=\"weka.associations.Apriori\")\n",
    "apriori.build_associations(dataset)\n",
    "apriori"
   ]
  },
  {
   "cell_type": "markdown",
   "metadata": {},
   "source": [
    "**Exercise** Explain what the first rule means according to the notation $A\\implies B$.\n",
    "\n",
    "```{hint}\n",
    "Note that `biscuits=t` and `total=high` are both regarded as items. Since `total` has to possible values, it is associated with two items, the other one being `total=low`. \n",
    "```"
   ]
  },
  {
   "cell_type": "markdown",
   "metadata": {
    "deletable": false,
    "editable": false,
    "nbgrader": {
     "cell_type": "markdown",
     "checksum": "58292a8194e2b49c1ecb95358714c605",
     "grade": false,
     "grade_id": "explain-rule",
     "locked": true,
     "points": 1,
     "schema_version": 3,
     "solution": false,
     "task": true
    }
   },
   "source": [
    "The first rule means that if a customer buys biscuits, frozen foods, fruit, and has a high total value, he/she will buy bread and cake."
   ]
  },
  {
   "cell_type": "markdown",
   "metadata": {},
   "source": [
    "To retrieve the rules as a list, and print the first rule:"
   ]
  },
  {
   "cell_type": "code",
   "execution_count": null,
   "metadata": {
    "ExecuteTime": {
     "end_time": "2021-03-27T23:44:49.227093Z",
     "start_time": "2021-03-27T23:44:49.198340Z"
    }
   },
   "outputs": [],
   "source": [
    "rules = list(apriori.association_rules())\n",
    "rules[0]"
   ]
  },
  {
   "cell_type": "markdown",
   "metadata": {},
   "source": [
    "To obtain the set $A$ (in premise) and $B$ (in consequence):"
   ]
  },
  {
   "cell_type": "code",
   "execution_count": null,
   "metadata": {
    "ExecuteTime": {
     "end_time": "2021-03-27T10:52:28.497078Z",
     "start_time": "2021-03-27T10:52:28.409347Z"
    }
   },
   "outputs": [],
   "source": [
    "rules[0].premise, rules[0].consequence"
   ]
  },
  {
   "cell_type": "code",
   "execution_count": null,
   "metadata": {
    "ExecuteTime": {
     "end_time": "2021-03-27T10:46:24.098525Z",
     "start_time": "2021-03-27T10:46:24.049296Z"
    }
   },
   "outputs": [],
   "source": [
    "premise_support = rules[0].premise_support\n",
    "total_support = rules[0].total_support"
   ]
  },
  {
   "cell_type": "markdown",
   "metadata": {},
   "source": [
    "The apriori algorithm returns rules with large enough support:\n",
    "\\begin{align}\n",
    "\\operatorname{support}(A \\implies B) &= \\operatorname{support}(A \\cup B) :=\n",
    "\\frac{\\operatorname{count}(A \\cup B)}{|D|}\\quad \\text{where}\\\\\n",
    "\\operatorname{count(A \\cup B)} &:= \\abs{\\Set{T\\in D|T\\supseteq A\\cup B}}.\n",
    "\\end{align}\n",
    "\n",
    "In words, support is the fraction of transactions containing both $A$ and $B$."
   ]
  },
  {
   "cell_type": "markdown",
   "metadata": {},
   "source": [
    "For the first rule, the number 723 at the end of the rule corresponds to the total support count $\\operatorname{count}(A\\cup B)$."
   ]
  },
  {
   "cell_type": "markdown",
   "metadata": {},
   "source": [
    "**Exercise** Assign to `support` the (fractional) support for the first rule (`rules[0]`). \n",
    "\n",
    "```{hint}\n",
    "In `python-weka-wrapper`, you can use the properties `total_support` and `total_transactions` of `rules[0]`.\n",
    "```"
   ]
  },
  {
   "cell_type": "code",
   "execution_count": null,
   "metadata": {
    "ExecuteTime": {
     "end_time": "2021-03-27T23:52:10.307396Z",
     "start_time": "2021-03-27T23:52:10.302419Z"
    },
    "deletable": false,
    "nbgrader": {
     "cell_type": "code",
     "checksum": "ad5c071ece8921ba81f8d313deed9980",
     "grade": false,
     "grade_id": "support",
     "locked": false,
     "schema_version": 3,
     "solution": true,
     "task": false
    },
    "tags": [
     "remove-output"
    ]
   },
   "outputs": [],
   "source": [
    "# your python code here\n",
    "# end of python code\n",
    "\n",
    "support"
   ]
  },
  {
   "cell_type": "code",
   "execution_count": null,
   "metadata": {
    "ExecuteTime": {
     "end_time": "2021-03-27T23:52:10.744736Z",
     "start_time": "2021-03-27T23:52:10.739847Z"
    },
    "deletable": false,
    "editable": false,
    "nbgrader": {
     "cell_type": "code",
     "checksum": "c66ce344335fba8822fe4acd479a81a7",
     "grade": true,
     "grade_id": "test-support",
     "locked": true,
     "points": 1,
     "schema_version": 3,
     "solution": false,
     "task": false
    },
    "tags": [
     "remove-cell"
    ]
   },
   "outputs": [],
   "source": [
    "# hidden tests"
   ]
  },
  {
   "cell_type": "markdown",
   "metadata": {},
   "source": [
    "`<conf:(0.92)> lift:(1.27) lev:(0.03) conv:(3.35)` printed after the first rule indicates that \n",
    "\n",
    "- confidence is used for ranking the rules and \n",
    "- the rule has a confidence of 0.92.\n",
    "\n",
    "By default, the rules are ranked by confidence, which is defined as follows:"
   ]
  },
  {
   "cell_type": "markdown",
   "metadata": {},
   "source": [
    "---\n",
    "\n",
    "**Definition**\n",
    "\n",
    "The confidence of a rule is defined as\n",
    "\n",
    "$$\n",
    "\\begin{align}\n",
    "\\operatorname{confidence}(A\\implies B) &:= \\frac{\\operatorname{support(A \\cup B)}}{\\operatorname{support(A)}},\n",
    "\\end{align}\n",
    "$$ (confidence)\n",
    "\n",
    "where the denominator $\\operatorname{support}(A)$ is the support of the premise. It gives, out of the transactions containing $A$, the fraction of transactions containing $B$.\n",
    "\n",
    "---"
   ]
  },
  {
   "cell_type": "markdown",
   "metadata": {},
   "source": [
    "In `python-weka-wrapper`, we can print different metrics as follows:"
   ]
  },
  {
   "cell_type": "code",
   "execution_count": null,
   "metadata": {
    "ExecuteTime": {
     "end_time": "2021-03-28T00:46:29.161016Z",
     "start_time": "2021-03-28T00:46:29.153089Z"
    }
   },
   "outputs": [],
   "source": [
    "for n, v in zip(rules[0].metric_names, rules[0].metric_values):\n",
    "    print(f\"{n}: {v:.3g}\")"
   ]
  },
  {
   "cell_type": "markdown",
   "metadata": {},
   "source": [
    "**Exercise** Assign to `premise_support` the support count $\\operatorname{count}(A)$ of the premise for the first rule."
   ]
  },
  {
   "cell_type": "code",
   "execution_count": null,
   "metadata": {
    "ExecuteTime": {
     "end_time": "2021-03-28T00:05:51.194252Z",
     "start_time": "2021-03-28T00:05:51.116512Z"
    },
    "deletable": false,
    "nbgrader": {
     "cell_type": "code",
     "checksum": "4751cdf912ccfdcc62dbdd2d9c8a3779",
     "grade": false,
     "grade_id": "premise_support",
     "locked": false,
     "schema_version": 3,
     "solution": true,
     "task": false
    },
    "tags": [
     "remove-output"
    ]
   },
   "outputs": [],
   "source": [
    "# your python code here\n",
    "# end of python code\n",
    "\n",
    "premise_support"
   ]
  },
  {
   "cell_type": "code",
   "execution_count": null,
   "metadata": {
    "ExecuteTime": {
     "end_time": "2021-03-28T00:07:43.943481Z",
     "start_time": "2021-03-28T00:07:43.939650Z"
    },
    "deletable": false,
    "editable": false,
    "nbgrader": {
     "cell_type": "code",
     "checksum": "bba71d901d53975c08f911a3f662d0d6",
     "grade": true,
     "grade_id": "test-premise_support",
     "locked": true,
     "points": 1,
     "schema_version": 3,
     "solution": false,
     "task": false
    },
    "tags": [
     "remove-cell"
    ]
   },
   "outputs": [],
   "source": [
    "# hidden tests"
   ]
  },
  {
   "cell_type": "markdown",
   "metadata": {},
   "source": [
    "Lift is another rule quality measure defined as follows:"
   ]
  },
  {
   "cell_type": "markdown",
   "metadata": {},
   "source": [
    "---\n",
    "\n",
    "**Definition**\n",
    "\n",
    "The lift of a rule is\n",
    "\n",
    "$$\n",
    "\\begin{align}\n",
    "\\operatorname{lift}(A\\implies B) &:= \\frac{\\operatorname{confidence}(A\\implies B)}{\\operatorname{support(B)}} = \\frac{\\operatorname{support(A \\cup B)}}{\\operatorname{support(A)}\\operatorname{support(B)}}\\\\\n",
    "&= \\frac{\\operatorname{confidence}(A\\implies B)}{\\operatorname{confidence}(\\emptyset \\implies B)}.\n",
    "\\end{align}\n",
    "$$ (lift)\n",
    "\n",
    "where the last equality is obtained by rewriting $\\operatorname{support}(B)$ in the denominator of the first equality as \n",
    "\n",
    "$$\n",
    "\\begin{align}\n",
    "\\operatorname{confidence}(\\emptyset \\implies B) &= \\frac{\\operatorname{support}(B)}{\\operatorname{support}(\\emptyset)} = \\operatorname{support}(B).\n",
    "\\end{align}\n",
    "$$\n",
    "\n",
    "In other words, lift is the fractional increase in confidence by imposing the premise.\n",
    "\n",
    "---"
   ]
  },
  {
   "cell_type": "markdown",
   "metadata": {},
   "source": [
    "**Exercise** In Weka, we can change the parameter `metricType` to rank the rule according to `Lift` instead of `Confidence`. Run the algorithm again with `metricType = Lift`. Assign to `lift` the maximum lift achieved. For `python-weka-wrapper`, you can specify the option as follows:\n",
    "\n",
    "```Python\n",
    "apriori_lift = Associator(classname=\"weka.associations.Apriori\", options=['-T', '1'])\n",
    "...\n",
    "```\n",
    "where the value `1` corresponds to `Lift`."
   ]
  },
  {
   "cell_type": "code",
   "execution_count": null,
   "metadata": {
    "ExecuteTime": {
     "end_time": "2021-03-28T01:22:35.115055Z",
     "start_time": "2021-03-28T01:22:34.271676Z"
    },
    "deletable": false,
    "nbgrader": {
     "cell_type": "code",
     "checksum": "49572c97647bca3e7dce6fa5918ea675",
     "grade": false,
     "grade_id": "lift",
     "locked": false,
     "schema_version": 3,
     "solution": true,
     "task": false
    },
    "tags": [
     "remove-output"
    ]
   },
   "outputs": [],
   "source": [
    "# your python code here\n",
    "# end of python code\n",
    "\n",
    "lift"
   ]
  },
  {
   "cell_type": "code",
   "execution_count": null,
   "metadata": {
    "ExecuteTime": {
     "end_time": "2021-03-28T01:24:14.006053Z",
     "start_time": "2021-03-28T01:24:14.000884Z"
    },
    "deletable": false,
    "editable": false,
    "nbgrader": {
     "cell_type": "code",
     "checksum": "fe32c017337cfd4a83231903d22f804f",
     "grade": true,
     "grade_id": "test-lift",
     "locked": true,
     "points": 1,
     "schema_version": 3,
     "solution": false,
     "task": false
    },
    "tags": [
     "remove-cell"
    ]
   },
   "outputs": [],
   "source": [
    "# hidden tests"
   ]
  },
  {
   "cell_type": "markdown",
   "metadata": {},
   "source": [
    "**Exercise** Explain the relationship between the first and second rules."
   ]
  },
  {
   "cell_type": "markdown",
   "metadata": {
    "deletable": false,
    "nbgrader": {
     "cell_type": "markdown",
     "checksum": "8ddf3f9f6adc8943a8033f8c0fc0f9cd",
     "grade": true,
     "grade_id": "symmtry",
     "locked": false,
     "points": 1,
     "schema_version": 3,
     "solution": true,
     "task": false
    }
   },
   "source": [
    "YOUR ANSWER HERE"
   ]
  },
  {
   "cell_type": "markdown",
   "metadata": {},
   "source": [
    "**Exercise** Explain why the maximum lift obtained by ranking the rules using `Lift` is smaller than 1.27, which is the lift obtained before by ranking rules using `Confidence`.\n",
    "\n",
    "```{hint}\n",
    "From the [documentation](https://weka.sourceforge.io/doc.dev/weka/associations/Apriori.html), the apriori algorithm in Weka reduces the minimum support until it obtains a specified number (default: 10) of rules with specified minimum metric value for the metric type.\n",
    "```"
   ]
  },
  {
   "cell_type": "markdown",
   "metadata": {
    "deletable": false,
    "nbgrader": {
     "cell_type": "markdown",
     "checksum": "a16c565cdf5bd92905bed1d123fb6d6b",
     "grade": true,
     "grade_id": "minsupport",
     "locked": false,
     "points": 1,
     "schema_version": 3,
     "solution": true,
     "task": false
    }
   },
   "source": [
    "YOUR ANSWER HERE"
   ]
  }
 ],
 "metadata": {
  "kernelspec": {
   "display_name": "Python 3 (ipykernel)",
   "language": "python",
   "name": "python3"
  },
  "language_info": {
   "codemirror_mode": {
    "name": "ipython",
    "version": 3
   },
   "file_extension": ".py",
   "mimetype": "text/x-python",
   "name": "python",
   "nbconvert_exporter": "python",
   "pygments_lexer": "ipython3",
   "version": "3.9.10"
  },
  "rise": {
   "enable_chalkboard": true,
   "scroll": true,
   "theme": "beige"
  },
  "toc": {
   "base_numbering": 1,
   "nav_menu": {},
   "number_sections": true,
   "sideBar": true,
   "skip_h1_title": true,
   "title_cell": "Table of Contents",
   "title_sidebar": "Contents",
   "toc_cell": false,
   "toc_position": {},
   "toc_section_display": true,
   "toc_window_display": false
  },
  "widgets": {
   "application/vnd.jupyter.widget-state+json": {
    "state": {},
    "version_major": 2,
    "version_minor": 0
   }
  }
 },
 "nbformat": 4,
 "nbformat_minor": 4
}
