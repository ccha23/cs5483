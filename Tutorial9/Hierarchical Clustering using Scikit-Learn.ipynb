{
 "cells": [
  {
   "cell_type": "markdown",
   "metadata": {},
   "source": [
    "# Hierarchical Clustering using Scikit-Learn"
   ]
  },
  {
   "cell_type": "markdown",
   "metadata": {
    "tags": [
     "remove-cell"
    ]
   },
   "source": [
    "**CS5483 Data Warehousing and Data Mining**\n",
    "___"
   ]
  },
  {
   "cell_type": "code",
   "execution_count": null,
   "metadata": {
    "ExecuteTime": {
     "end_time": "2021-03-17T14:34:02.734303Z",
     "start_time": "2021-03-17T14:34:02.590388Z"
    },
    "init_cell": true,
    "slideshow": {
     "slide_type": "-"
    }
   },
   "outputs": [],
   "source": [
    "import ipywidgets as widgets\n",
    "import matplotlib.pyplot as plt\n",
    "import pandas as pd\n",
    "from IPython.display import Code\n",
    "from ipywidgets import interact\n",
    "from sklearn import datasets, preprocessing\n",
    "from sklearn.cluster import AgglomerativeClustering\n",
    "from sklearn.pipeline import make_pipeline\n",
    "from util import plot_dendrogram\n",
    "\n",
    "%matplotlib widget"
   ]
  },
  {
   "cell_type": "markdown",
   "metadata": {},
   "source": [
    "In this notebook, we continue to cluster the instances in the iris 2D dataset."
   ]
  },
  {
   "cell_type": "markdown",
   "metadata": {},
   "source": [
    "## Agglomerative clustering"
   ]
  },
  {
   "cell_type": "markdown",
   "metadata": {},
   "source": [
    "We first import the iris dataset from `sklearn.datasets` and store it as a DataFrame."
   ]
  },
  {
   "cell_type": "code",
   "execution_count": null,
   "metadata": {
    "ExecuteTime": {
     "end_time": "2021-03-17T14:34:02.843696Z",
     "start_time": "2021-03-17T14:34:02.814002Z"
    }
   },
   "outputs": [],
   "source": [
    "# load the dataset from sklearn\n",
    "dataset = datasets.load_iris()\n",
    "\n",
    "# create a DataFrame to help further analysis\n",
    "df = pd.DataFrame(data=dataset.data, columns=dataset.feature_names)\n",
    "df[\"target\"] = dataset.target\n",
    "df.target = df.target.astype(\"category\")\n",
    "df.target.cat.categories = dataset.target_names\n",
    "df  # display an overview of the data"
   ]
  },
  {
   "cell_type": "markdown",
   "metadata": {},
   "source": [
    "To normalize the features followed by [agglomerative clustering](https://scikit-learn.org/stable/modules/generated/sklearn.cluster.AgglomerativeClustering.html), we create a pipeline as follows:\n",
    "\n",
    "```python\n",
    "from sklearn.cluster import AgglomerativeClustering\n",
    "```"
   ]
  },
  {
   "cell_type": "code",
   "execution_count": null,
   "metadata": {
    "ExecuteTime": {
     "end_time": "2021-03-17T14:34:02.851321Z",
     "start_time": "2021-03-17T14:34:02.845205Z"
    }
   },
   "outputs": [],
   "source": [
    "agnes_minmax_normalized = make_pipeline(\n",
    "    preprocessing.MinMaxScaler(),\n",
    "    AgglomerativeClustering(\n",
    "        n_clusters=3, linkage=\"complete\", memory=\"private\", compute_distances=True\n",
    "    ),\n",
    ")\n",
    "agnes_minmax_normalized"
   ]
  },
  {
   "cell_type": "markdown",
   "metadata": {},
   "source": [
    "```{note}\n",
    "In the above, we configured the agglomerative clustering algorithm to use complete-linkage to return 3 clusters.\n",
    "- By setting the parameter `memory`, the solution will be cached to the specified folder `private`.\n",
    "- By setting compute_distances to `True`, the cluster distances are computer for dendrogram visualization later on.\n",
    "```"
   ]
  },
  {
   "cell_type": "markdown",
   "metadata": {},
   "source": [
    "To cluster based on the two input features `petal length (cm)` and `petal width (cm)`:"
   ]
  },
  {
   "cell_type": "code",
   "execution_count": null,
   "metadata": {
    "ExecuteTime": {
     "end_time": "2021-03-17T14:34:03.187636Z",
     "start_time": "2021-03-17T14:34:02.852446Z"
    }
   },
   "outputs": [],
   "source": [
    "feature1, feature2 = \"petal length (cm)\", \"petal width (cm)\"\n",
    "cluster_labels = agnes_minmax_normalized.fit_predict(df[[feature1, feature2]])\n",
    "\n",
    "plt.figure(figsize=(10, 5))\n",
    "plt.subplot(121)\n",
    "plt.scatter(df[feature1], df[feature2], c=cluster_labels)\n",
    "plt.title(\"Cluster assignment\")\n",
    "plt.xlabel(feature1)\n",
    "plt.ylabel(feature2)\n",
    "plt.subplot(122)\n",
    "plt.scatter(df[feature1], df[feature2], c=dataset[\"target\"])\n",
    "plt.title(\"Class (ground truth)\")\n",
    "plt.xlabel(feature1)\n",
    "plt.show()"
   ]
  },
  {
   "cell_type": "markdown",
   "metadata": {},
   "source": [
    "The [`fit_predict`](https://scikit-learn.org/stable/modules/generated/sklearn.cluster.AgglomerativeClustering.html#sklearn.cluster.AgglomerativeClustering.fit_predict) method fits and returns the cluster labels for the given data."
   ]
  },
  {
   "cell_type": "markdown",
   "metadata": {},
   "source": [
    "**Exercise** `AgglomerateClustering` does not implement [a separate `predict` method, unlike `KMeans`](https://scikit-learn.org/stable/modules/generated/sklearn.cluster.KMeans.html#sklearn.cluster.KMeans.predict). Why?"
   ]
  },
  {
   "cell_type": "markdown",
   "metadata": {
    "deletable": false,
    "editable": false,
    "nbgrader": {
     "cell_type": "markdown",
     "checksum": "5f211d8c7d3ce6735f874c9c4ce26f51",
     "grade": false,
     "grade_id": "predict",
     "locked": true,
     "points": 1,
     "schema_version": 3,
     "solution": false,
     "task": true
    }
   },
   "source": [
    "The `predict` method of `KMeans` take samples that are possibly not used for training and returns the closest cluster the samples belong to. This is not possible for `AgglomerativeClustering` as it can only cluster samples used for training."
   ]
  },
  {
   "cell_type": "markdown",
   "metadata": {},
   "source": [
    "### Dendrogram"
   ]
  },
  {
   "cell_type": "markdown",
   "metadata": {},
   "source": [
    "Further details of a clustering solution can be obtained from the fitted properties:"
   ]
  },
  {
   "cell_type": "code",
   "execution_count": null,
   "metadata": {
    "ExecuteTime": {
     "end_time": "2021-03-17T14:34:03.242605Z",
     "start_time": "2021-03-17T14:34:03.189144Z"
    }
   },
   "outputs": [],
   "source": [
    "agnes = agnes_minmax_normalized[\"agglomerativeclustering\"]\n",
    "print(\"Cluster labels for each sample:\", *agnes.labels_)\n",
    "print(\"Children of each non-leaf node:\", *agnes.children_)\n",
    "print(\"Distances between nodes:\", *agnes.distances_.round(3))\n",
    "print(\"Number of leaves:\", agnes.n_leaves_)\n",
    "print(\"Number of connected components:\", agnes.n_connected_components_)"
   ]
  },
  {
   "cell_type": "markdown",
   "metadata": {},
   "source": [
    "```{note}\n",
    "`sklearn` uses [trailing underscore](https://github.com/rasbt/python-machine-learning-book/blob/master/faq/underscore-convention.md) to denote fitted properties.\n",
    "```"
   ]
  },
  {
   "cell_type": "markdown",
   "metadata": {},
   "source": [
    "To plot the dendrogram, we will use the function `plot_dendrogram` input as follows:\n",
    "\n",
    "```python\n",
    "from util import plot_dendrogram\n",
    "```"
   ]
  },
  {
   "cell_type": "code",
   "execution_count": null,
   "metadata": {
    "ExecuteTime": {
     "end_time": "2021-03-17T14:34:03.265791Z",
     "start_time": "2021-03-17T14:34:03.243826Z"
    },
    "init_cell": true,
    "tags": [
     "hide-input",
     "output_scroll"
    ]
   },
   "outputs": [],
   "source": [
    "Code(\"util.py\")"
   ]
  },
  {
   "cell_type": "markdown",
   "metadata": {},
   "source": [
    "```{seealso}\n",
    "The code is adopted from [an example in `sklearn`](https://scikit-learn.org/stable/auto_examples/cluster/plot_agglomerative_dendrogram.html), which uses [`dendrogram` from `scipy.cluster.hierarchy`](https://docs.scipy.org/doc/scipy/reference/generated/scipy.cluster.hierarchy.dendrogram.html). To generate the dendrogram:\n",
    "```"
   ]
  },
  {
   "cell_type": "code",
   "execution_count": null,
   "metadata": {
    "ExecuteTime": {
     "end_time": "2021-03-17T14:34:05.087907Z",
     "start_time": "2021-03-17T14:34:03.267162Z"
    }
   },
   "outputs": [],
   "source": [
    "plt.figure(figsize=(10, 5))\n",
    "plot_dendrogram(agnes, distance_sort=True)\n",
    "plt.title(\"Dendrogram for complete-linkage method on iris dataset\")\n",
    "plt.ylabel(\"cophenetic distance\")\n",
    "plt.xlabel(\"instance index\")\n",
    "plt.show()"
   ]
  },
  {
   "cell_type": "markdown",
   "metadata": {},
   "source": [
    "You can improve the visualization using the [additional parameters](https://docs.scipy.org/doc/scipy/reference/generated/scipy.cluster.hierarchy.dendrogram.html) passed to `scipy.cluster.hierarchy.dendrogram`."
   ]
  },
  {
   "cell_type": "markdown",
   "metadata": {
    "deletable": false,
    "editable": false,
    "nbgrader": {
     "cell_type": "markdown",
     "checksum": "3cef9169ea59cff0bf65ad3b9783090c",
     "grade": false,
     "grade_id": "task-agnes",
     "locked": true,
     "points": 1,
     "schema_version": 3,
     "solution": false,
     "task": true
    }
   },
   "source": [
    "**Exercise** Complete the following code to assign to `agnes_minmax_normalized` a pipelined agglomerative clusterer that \n",
    "- min-max normalizes the features, and\n",
    "- clusters the instances of features specified by `feature1` and `feature2` into `k` clusters according to the linkage method specified by `linkage`.\n",
    "\n",
    "Observe the change in the dendrogram and clustering solution when you change the linkage, features, and number of clusters."
   ]
  },
  {
   "cell_type": "code",
   "execution_count": null,
   "metadata": {
    "ExecuteTime": {
     "end_time": "2021-03-17T14:39:11.952711Z",
     "start_time": "2021-03-17T14:39:09.748769Z"
    },
    "deletable": false,
    "nbgrader": {
     "cell_type": "code",
     "checksum": "4ffc2a15f79dd23d2290c5982659f9d9",
     "grade": false,
     "grade_id": "agnes",
     "locked": false,
     "schema_version": 3,
     "solution": true,
     "task": false
    },
    "tags": [
     "remove-output"
    ]
   },
   "outputs": [],
   "source": [
    "@interact(\n",
    "    linkage=[\"ward\", \"complete\", \"average\", \"single\"],\n",
    "    feature1=dataset.feature_names,\n",
    "    feature2=dataset.feature_names,\n",
    ")\n",
    "def analyze_agnes(\n",
    "    linkage,\n",
    "    feature1=dataset.feature_names[2],\n",
    "    feature2=dataset.feature_names[3],\n",
    "    k=widgets.IntSlider(3, 1, 4, continuous_update=False),\n",
    "):\n",
    "    # YOUR CODE HERE\n",
    "    raise NotImplementedError()\n",
    "    agnes = agnes_minmax_normalized[\"agglomerativeclustering\"]\n",
    "    plt.figure(figsize=(10, 10))\n",
    "\n",
    "    plt.subplot(211)\n",
    "    plot_dendrogram(agnes)\n",
    "    plt.title(f\"Dendrogram for {linkage}-linkage method on iris dataset\")\n",
    "    plt.ylabel(\"cophenetic distance\")\n",
    "    plt.xlabel(\"instance index\")\n",
    "\n",
    "    plt.subplot(223)\n",
    "    plt.scatter(df[feature1], df[feature2], c=agnes.labels_)\n",
    "    plt.title(\"Cluster assignment\")\n",
    "    plt.ylabel(feature2)\n",
    "    plt.xlabel(feature1)\n",
    "\n",
    "    plt.subplot(224)\n",
    "    plt.scatter(df[feature1], df[feature2], c=dataset[\"target\"])\n",
    "    plt.title(\"Class (ground truth)\")\n",
    "    plt.xlabel(feature1)\n",
    "\n",
    "    plt.show()"
   ]
  }
 ],
 "metadata": {
  "kernelspec": {
   "display_name": "Python 3 (ipykernel)",
   "language": "python",
   "name": "python3"
  },
  "language_info": {
   "codemirror_mode": {
    "name": "ipython",
    "version": 3
   },
   "file_extension": ".py",
   "mimetype": "text/x-python",
   "name": "python",
   "nbconvert_exporter": "python",
   "pygments_lexer": "ipython3",
   "version": "3.8.12"
  },
  "rise": {
   "enable_chalkboard": true,
   "scroll": true,
   "theme": "beige"
  },
  "toc": {
   "base_numbering": 1,
   "nav_menu": {},
   "number_sections": true,
   "sideBar": true,
   "skip_h1_title": true,
   "title_cell": "Table of Contents",
   "title_sidebar": "Contents",
   "toc_cell": false,
   "toc_position": {},
   "toc_section_display": true,
   "toc_window_display": false
  },
  "widgets": {
   "application/vnd.jupyter.widget-state+json": {
    "state": {},
    "version_major": 2,
    "version_minor": 0
   }
  }
 },
 "nbformat": 4,
 "nbformat_minor": 4
}
