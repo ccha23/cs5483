{
 "cells": [
  {
   "cell_type": "markdown",
   "metadata": {},
   "source": [
    "# Information Quantities for Decision Tree Induction"
   ]
  },
  {
   "cell_type": "markdown",
   "metadata": {
    "tags": [
     "remove-cell"
    ]
   },
   "source": [
    "**CS5483 Data Warehousing and Data Mining**\n",
    "___"
   ]
  },
  {
   "cell_type": "code",
   "execution_count": null,
   "metadata": {
    "ExecuteTime": {
     "end_time": "2021-03-20T13:13:09.198484Z",
     "start_time": "2021-03-20T13:13:07.886047Z"
    },
    "init_cell": true,
    "slideshow": {
     "slide_type": "-"
    }
   },
   "outputs": [],
   "source": [
    "import dit\n",
    "import matplotlib.pyplot as plt\n",
    "import numpy as np\n",
    "import pandas as pd\n",
    "from dit.shannon import conditional_entropy, entropy, mutual_information\n",
    "from IPython.display import Math, display\n",
    "\n",
    "%matplotlib widget"
   ]
  },
  {
   "cell_type": "markdown",
   "metadata": {},
   "source": [
    "In this notebook, we will use the [dit package](https://dit.readthedocs.io/en/latest/) to  compute some basic information quantities used in the decision tree induction. More basic implementations and interpretations are given [here](https://www.cs.cityu.edu.hk/~ccha23/cs1302book/Lab8/Information%20Theory.html)."
   ]
  },
  {
   "cell_type": "markdown",
   "metadata": {},
   "source": [
    "## Entropy"
   ]
  },
  {
   "cell_type": "markdown",
   "metadata": {},
   "source": [
    "Consider any $(X, Y)$ taking values from $\\mathcal{X}\\times \\mathcal{Y}$ according to somme joint probability measure $P_{X,Y}$."
   ]
  },
  {
   "cell_type": "markdown",
   "metadata": {},
   "source": [
    "---\n",
    "\n",
    "**Definition**\n",
    "\n",
    "Define\n",
    "\n",
    "$$\n",
    "\\begin{align}\n",
    "H(Y) &:= E\\left[\\log \\tfrac1{p_{Y}(Y)}\\right] && \\text{called the entropy of $Y$}\\\\\n",
    "H(Y|X) &:= E\\left[\\log \\tfrac1{p_{Y|X}(Y|X)}\\right] && \\text{called conditional the entropy of $Y$ given $X$,}\n",
    "\\end{align}\n",
    "$$ (entropy)\n",
    "\n",
    "where $p_{Y|X}$ and $p_{Y}$ are the probability density functions of $Y$ with and without conditioning on $X$ respectively. The joint entropy $H(X,Y)$ of $X$ and $Y$ is defined as the entropy of the random tuple $(X,Y)$ using the joint density $p_{X,Y}$.\n",
    "\n",
    "---"
   ]
  },
  {
   "cell_type": "markdown",
   "metadata": {},
   "source": [
    "---\n",
    "\n",
    "**Important**\n",
    "\n",
    "- Unless otherwise specified, all the logarithm is base 2, in which case the information quantities are in the unit of bit (binary digit).  \n",
    "- A popular alternative is to use the natural logarithm, $\\log = \\ln$, in which case the unit is in *nat*.\n",
    "\n",
    "---"
   ]
  },
  {
   "cell_type": "markdown",
   "metadata": {},
   "source": [
    "To make sense of the expectations in {eq}`entropy`, it is important to see that $p_Y(Y)$ and $p_{Y|X}(Y|X)$ are random because \n",
    "- their arguments, namely $X$ and $Y$, are random \n",
    "- even though $p_Y$ and $p_{Y|X}$ are deterministic functions."
   ]
  },
  {
   "cell_type": "markdown",
   "metadata": {},
   "source": [
    "For discrete random variable $Y$, $p_Y$ and $p_{Y|X}$ in {eq}`entropy` should be the probability mass functions:\n",
    "\n",
    "$$\n",
    "\\begin{align}\n",
    "H(Y) &= \\sum_{y\\in \\mathcal{Y}:p_Y(y)>0} p_Y(y) \\log \\frac1{p_Y(y)}\\\\\n",
    "H(Y|X) &= E\\left[\\sum_{y\\in \\mathcal{Y}:p_{Y|X}(y)>0} p_{Y|X}(y|X) \\log \\frac1{p_{Y|X}(y|X)}\\right]\n",
    "\\end{align}\n",
    "$$ (entropy-drv)\n",
    "\n",
    "where $\\mathcal{Y}$ is the alphabet set of $Y$. The last expectation is over the randomness of $X$, which needs not be discrete."
   ]
  },
  {
   "cell_type": "markdown",
   "metadata": {},
   "source": [
    "It is convenient to express the entropy as a function of the probability masses as\n",
    "\n",
    "$$\n",
    "h(p) = h(p_1, p_2, \\dots) := \\sum_{k:p_k>0} p_k \\log \\frac1{p_k}\n",
    "$$ (h)\n",
    "\n",
    "where $p_k\\in [0,1]$ for all $k$, $\\sum_k p_k=1$, and $p:i\\mapsto p_i$."
   ]
  },
  {
   "cell_type": "markdown",
   "metadata": {},
   "source": [
    "Rewriting the entropies in {eq}`entropy-drv` in terms of $h$, we have\n",
    "\n",
    "$$\n",
    "\\begin{align}\n",
    "H(Y) &= h(p_Y)\\\\\n",
    "H(Y|X) &= E[h(p_{Y|X}(\\cdot|X))].\n",
    "\\end{align}\n",
    "$$"
   ]
  },
  {
   "cell_type": "markdown",
   "metadata": {},
   "source": [
    "**Exercise**\n",
    "\n",
    "For discrete random variables $Y$, explain whether $H(Y)$ is non-negative and scale-invariant in the sense that \n",
    "\n",
    "$$\n",
    "0\\leq H(Y) = H(c Y) \\quad \\forall c\\neq 0,\n",
    "$$\n",
    "\n",
    "using the above formulae in {eq}`h`."
   ]
  },
  {
   "cell_type": "markdown",
   "metadata": {
    "deletable": false,
    "nbgrader": {
     "cell_type": "markdown",
     "checksum": "487102cf44abdfd4edcf0d30d499a704",
     "grade": true,
     "grade_id": "scale-invariance",
     "locked": false,
     "points": 1,
     "schema_version": 3,
     "solution": true,
     "task": false
    }
   },
   "source": [
    "YOUR ANSWER HERE"
   ]
  },
  {
   "cell_type": "markdown",
   "metadata": {},
   "source": [
    "---\n",
    "\n",
    "**Note**\n",
    "\n",
    "If $Y$ is a continuous random variable, $H(Y)$ is called the [differential entropy](https://en.wikipedia.org/wiki/Differential_entropy), which can be negative and may not be scale-invariant.\n",
    "\n",
    "---"
   ]
  },
  {
   "cell_type": "markdown",
   "metadata": {},
   "source": [
    "---\n",
    "\n",
    "**Example**\n",
    "\n",
    "Consider the following distribution\n",
    "\n",
    "$$\n",
    "\\begin{align}\n",
    "p_k=\\begin{cases}\n",
    "\\frac12 & k\\in \\{00\\}\\\\\n",
    "\\frac14 & k\\in \\{10, 11\\}\\\\\n",
    "0 & \\text{otherwise.}\n",
    "\\end{cases}\n",
    "\\end{align}\n",
    "$$\n",
    "\n",
    "The entropy is\n",
    "\n",
    "$$\n",
    "\\begin{align}\n",
    "h(p_{00}, p_{01}, p_{10}, p_{11}) &= h\\left(\\frac12, 0, \\frac14, \\frac14 \\right)\\\\\n",
    "&=\\frac12 \\log \\frac21 +  \\frac14 \\log \\frac{4}{1} +  \\frac14 \\log \\frac{4}{1} \\\\\n",
    "&= 1.5\n",
    "\\end{align}\n",
    "$$\n",
    "\n",
    "---"
   ]
  },
  {
   "cell_type": "markdown",
   "metadata": {},
   "source": [
    "To define and plot the distribution above:"
   ]
  },
  {
   "cell_type": "code",
   "execution_count": null,
   "metadata": {
    "ExecuteTime": {
     "end_time": "2021-01-22T07:42:57.466030Z",
     "start_time": "2021-01-22T07:42:57.361131Z"
    },
    "tags": []
   },
   "outputs": [],
   "source": [
    "p = dit.Distribution([\"00\", \"01\", \"10\", \"11\"], [1 / 2, 0, 1 / 4, 1 / 4])\n",
    "\n",
    "plt.stem(p.outcomes, p.pmf)\n",
    "plt.xlabel(\"k\")\n",
    "plt.ylabel(r\"$p_k$\")\n",
    "plt.ylim((0, 1))\n",
    "plt.show()"
   ]
  },
  {
   "cell_type": "markdown",
   "metadata": {},
   "source": [
    "To compute the entropy of the distribution:"
   ]
  },
  {
   "cell_type": "code",
   "execution_count": null,
   "metadata": {
    "ExecuteTime": {
     "end_time": "2021-01-22T07:44:00.199245Z",
     "start_time": "2021-01-22T07:44:00.192138Z"
    }
   },
   "outputs": [],
   "source": [
    "Math(\"h(p_{00}, p_{01}, p_{10}, p_{11})=\" + f\"{entropy(p):.3g}\")"
   ]
  },
  {
   "cell_type": "markdown",
   "metadata": {},
   "source": [
    "## Mutual Information"
   ]
  },
  {
   "cell_type": "markdown",
   "metadata": {},
   "source": [
    "---\n",
    "\n",
    "**Definition**\n",
    "\n",
    "The [*mutual information*](https://en.wikipedia.org/wiki/Mutual_information) between $X$ and $Y$ is defined as\n",
    "\n",
    "$$\n",
    "\\begin{align}\n",
    "I(X;Y)\n",
    "&:= E\\left[\\log \\tfrac{p_{X,Y}(X,Y)}{p_X(X)p_Y(Y)}\\right]\\\\\n",
    "&= E\\left[\\log \\tfrac{p_{Y|X}(Y|X)}{p_Y(Y)}\\right]\\\\\n",
    "&= E\\left[\\log \\tfrac{p_{X|Y}(X|Y)}{p_X(X)}\\right],\n",
    "\\end{align}\n",
    "$$ (MI) \n",
    "\n",
    "where $p_{X,Y}$ and $p_{X}p_{Y}$ are the join density and the product of marginal density function of $X$ and $Y$. The conditional mutual information of $X$ and $Y$ given $Z$ is\n",
    "\n",
    "$$\n",
    "\\begin{align}\n",
    "I(X;Y)\n",
    "&:= E\\left[\\log \\tfrac{p_{X,Y|Z}(X,Y|Z)}{p_{X|Z}(X|Z)p_{Y|Z}(Y|Z)}\\right],\n",
    "\\end{align}\n",
    "$$ (CMI)\n",
    "\n",
    "which has the additional conditioning on $Z$.\n",
    "\n",
    "\n",
    "---"
   ]
  },
  {
   "cell_type": "markdown",
   "metadata": {},
   "source": [
    "All the information quantities defined so far can be concisely related using a *Venn Diagram*:\n",
    "\n",
    "![Venn diagram](images/venn.dio.svg)"
   ]
  },
  {
   "cell_type": "markdown",
   "metadata": {},
   "source": [
    "---\n",
    "\n",
    "**Theorem** (Chain rules)  \n",
    ":label: chain-rules\n",
    "\n",
    "The mutual information {eq}`MI` can be expressed in terms of the entropies as\n",
    "\n",
    "$$\n",
    "\\begin{align}\n",
    "I(X;Y)&=H(Y)-H(Y|X)\\\\\n",
    "&=H(X)+H(Y)-H(X,Y)\\\\\n",
    "&=H(X)-H(X|Y).\n",
    "\\end{align}\n",
    "$$ (MI-H)\n",
    "\n",
    "The entropy {eq}`entropy` satisfies\n",
    "\n",
    "$$\n",
    "\\begin{align}\n",
    "H(X,Y)&=H(X)+H(Y|X)\\\\\n",
    "&=H(Y)+H(X|Y)\n",
    "\\end{align}\n",
    "$$ (H-chain-rules)\n",
    "\n",
    "which is called the chain rule of entropy.\n",
    "\n",
    "The conditional mutual information {eq}`CMI` satisfies\n",
    "\n",
    "$$\n",
    "\\begin{align}\n",
    "I(X;Y|Z)&=I(X,Z;Y) - I(X;Z) \\\\\n",
    "&= I(X; Y, Z) - I(Y;Z)\n",
    "\\end{align}\n",
    "$$ (I-chain-rules)\n",
    "\n",
    "which is called the chain rule of mutual information.\n",
    "\n",
    "---"
   ]
  },
  {
   "cell_type": "markdown",
   "metadata": {},
   "source": [
    "---\n",
    "\n",
    "**Proof**\n",
    "\n",
    "The proof is a straightforward application of the following facts:\n",
    "- $\\log ab = \\log a + \\log b$,\n",
    "- linearity of expectation, and\n",
    "- $p_{X,Y}=p_X p_{Y|X} = p_Y p_{X|Y}$.\n",
    "\n",
    "---"
   ]
  },
  {
   "cell_type": "markdown",
   "metadata": {},
   "source": [
    "---\n",
    "\n",
    "**Example**\n",
    "\n",
    "Rewrite the same distribution but using the random variables $X$ and $Y$ as\n",
    "\n",
    "$$\n",
    "\\begin{align}\n",
    "p_{XY}(x,y)=\\begin{cases}\n",
    "\\frac12 & (x,y)\\in \\{(0,0)\\}\\\\\n",
    "\\frac14 & (x,y)\\in \\{(1,0), (1,1)\\}\\\\\n",
    "0 & \\text{otherwise.}\n",
    "\\end{cases}\n",
    "\\end{align}\n",
    "$$\n",
    "\n",
    "To calculate the mutual information using the conditional entropy:\n",
    "\n",
    "$$\n",
    "\\begin{align}\n",
    "H(Y) &= h(p_Y(0), p_Y(1))\\\\\n",
    "&= h(p_{00} + p_{10}, p_{01} + p_{11}) \\\\\n",
    "&= h(\\frac34, \\frac14) \\\\\n",
    "&\\approx \\underline{0.811}\\\\\n",
    "H(Y|X) &= p_X(0) h(p_{Y|X}(0|0),p_{Y|X}(1|0)) + p_X(1) h(p_{Y|X}(0|1),p_{Y|X}(1|1))\\\\\n",
    "&= (p_{00} + p_{01}) h\\left(\\frac{p_{00}}{p_{00} + p_{01}}, \\frac{p_{01}}{p_{00} + p_{01}} \\right) + (p_{10} + p_{11}) h\\left(\\frac{p_{10}}{p_{10} + p_{11}}, \\frac{p_{11}}{p_{10} + p_{11}} \\right)\\\\\n",
    "&= \\frac12 h\\left(1, 0 \\right) + \\frac12 h\\left(\\frac12,\\frac12 \\right) \\\\\n",
    "&= \\underline{0.5} = 1.5-1 = H(X,Y) - H(X)\\\\\n",
    "I(X;Y) &= H(Y)- H(Y|X) \\\\\n",
    "&\\approx 0.811 - 0.5\\\\\n",
    "&= \\underline{0.311} \n",
    "\\end{align}\n",
    "$$\n",
    "\n",
    "To verify the chain rule $H(X,Y)=H(X)+H(Y|X)$:\n",
    "\n",
    "$$\n",
    "\\begin{align}\n",
    "H(X, Y) -  H(Y|X) &= h(p_{00}, p_{01}, p_{10}, p_{11}) - 0.5 \\\\\n",
    "&= \\underline{1} = h\\left(\\frac12,\\frac12\\right) = H(X).\n",
    "\\end{align}\n",
    "$$\n",
    "\n",
    "---"
   ]
  },
  {
   "cell_type": "markdown",
   "metadata": {},
   "source": [
    "To define random variables in dit:"
   ]
  },
  {
   "cell_type": "code",
   "execution_count": null,
   "metadata": {
    "tags": [
     "remove-output"
    ]
   },
   "outputs": [],
   "source": [
    "rv_names = \"XY\"\n",
    "p.set_rv_names(rv_names)\n",
    "p"
   ]
  },
  {
   "cell_type": "markdown",
   "metadata": {},
   "source": [
    "We can now compute the entropies for different subsets of random variables:"
   ]
  },
  {
   "cell_type": "code",
   "execution_count": null,
   "metadata": {},
   "outputs": [],
   "source": [
    "for rvs in [\"XY\", \"X\", \"Y\", \"\"]:\n",
    "    display(Math(f\"H({','.join([rv for rv in rvs])})=\" + f\"{entropy(p, rvs):.3g}\"))"
   ]
  },
  {
   "cell_type": "markdown",
   "metadata": {},
   "source": [
    "To compute the conditional entropy:"
   ]
  },
  {
   "cell_type": "code",
   "execution_count": null,
   "metadata": {},
   "outputs": [],
   "source": [
    "Math(\"H(Y|X)=\" + f\"{conditional_entropy(p, 'Y', 'X'):.3g}\")"
   ]
  },
  {
   "cell_type": "markdown",
   "metadata": {},
   "source": [
    "To compute the mutual information:"
   ]
  },
  {
   "cell_type": "code",
   "execution_count": null,
   "metadata": {},
   "outputs": [],
   "source": [
    "Math(\"I(X;Y)=\" + f\"{mutual_information(p, 'X','Y'):.3g}\")"
   ]
  },
  {
   "cell_type": "markdown",
   "metadata": {},
   "source": [
    "**Exercise** Assign to `conditional_entropy_X_given_Y` the value of the conditional entropy $H(X|Y)$ for the example above. "
   ]
  },
  {
   "cell_type": "code",
   "execution_count": null,
   "metadata": {
    "deletable": false,
    "nbgrader": {
     "cell_type": "code",
     "checksum": "99d94d8278a46bd69338b4bc48880b0a",
     "grade": false,
     "grade_id": "conditional_entropy",
     "locked": false,
     "schema_version": 3,
     "solution": true,
     "task": false
    },
    "tags": [
     "remove-output"
    ]
   },
   "outputs": [],
   "source": [
    "# YOUR CODE HERE\n",
    "raise NotImplementedError()\n",
    "conditional_entropy_X_given_Y"
   ]
  },
  {
   "cell_type": "code",
   "execution_count": null,
   "metadata": {
    "deletable": false,
    "editable": false,
    "nbgrader": {
     "cell_type": "code",
     "checksum": "68080871fc1800af44b43138296ca4be",
     "grade": true,
     "grade_id": "test-conditional_entropy",
     "locked": true,
     "points": 1,
     "schema_version": 3,
     "solution": false,
     "task": false
    },
    "tags": [
     "remove-output",
     "hide-input"
    ]
   },
   "outputs": [],
   "source": [
    "# tests\n",
    "assert (\n",
    "    0\n",
    "    <= conditional_entropy_X_given_Y\n",
    "    <= min(entropy(p, \"X\"), entropy(p, \"XY\") - mutual_information(p, \"X\", \"Y\"))\n",
    ")"
   ]
  },
  {
   "cell_type": "code",
   "execution_count": null,
   "metadata": {
    "deletable": false,
    "editable": false,
    "nbgrader": {
     "cell_type": "code",
     "checksum": "1c6c2983f40eeb5fe86e598e9c72d638",
     "grade": true,
     "grade_id": "htest-conditional_entropy",
     "locked": true,
     "points": 1,
     "schema_version": 3,
     "solution": false,
     "task": false
    },
    "tags": [
     "remove-cell"
    ]
   },
   "outputs": [],
   "source": [
    "# hidden tests"
   ]
  },
  {
   "cell_type": "markdown",
   "metadata": {},
   "source": [
    "## Decision Tree Induction"
   ]
  },
  {
   "cell_type": "markdown",
   "metadata": {},
   "source": [
    "Consider a dataset consisting of i.i.d. samples of some discrete random variables with an unknown joint distribution:"
   ]
  },
  {
   "cell_type": "code",
   "execution_count": null,
   "metadata": {},
   "outputs": [],
   "source": [
    "df = pd.read_csv(\"data.csv\", dtype=str, skipinitialspace=True)\n",
    "df"
   ]
  },
  {
   "cell_type": "markdown",
   "metadata": {},
   "source": [
    "To estimate the information quantities of the features, we use the empirical distribution:"
   ]
  },
  {
   "cell_type": "code",
   "execution_count": null,
   "metadata": {
    "tags": [
     "remove-output"
    ]
   },
   "outputs": [],
   "source": [
    "emp_p = dit.uniform([tuple(lst) for lst in df.to_numpy()])\n",
    "emp_p.set_rv_names(df.columns)\n",
    "emp_p"
   ]
  },
  {
   "cell_type": "markdown",
   "metadata": {},
   "source": [
    "**How to determine which attribute is more informative?**"
   ]
  },
  {
   "cell_type": "markdown",
   "metadata": {},
   "source": [
    "$\\text{Info}(D)$ denotes the entropy $H(Y)$ of the empirical distribution of target $Y$."
   ]
  },
  {
   "cell_type": "code",
   "execution_count": null,
   "metadata": {},
   "outputs": [],
   "source": [
    "InfoD = entropy(emp_p, \"Y\")\n",
    "Math(r\"\\text{Info}(D)=\" + f\"{InfoD:.3g}\")"
   ]
  },
  {
   "cell_type": "markdown",
   "metadata": {},
   "source": [
    "$\\text{Info}_{X_i}(D)$ for different input feature $X_i$ denotes the conditional entropy $H(Y|X_i)$ of $Y$ given $X_i$. "
   ]
  },
  {
   "cell_type": "code",
   "execution_count": null,
   "metadata": {},
   "outputs": [],
   "source": [
    "InfoXD = {}\n",
    "for cond in [\"X1\", \"X2\", \"X3\", \"X4\"]:\n",
    "    InfoXD[cond] = conditional_entropy(emp_p, [\"Y\"], [cond])\n",
    "\n",
    "Math(\n",
    "    r\"\"\"\n",
    "\\begin{{aligned}}\n",
    "\\text{{Info}}_{{X_1}}(D)&={X1:.3g}\\\\\n",
    "\\text{{Info}}_{{X_2}}(D)&={X2:.3g}\\\\\n",
    "\\text{{Info}}_{{X_3}}(D)&={X3:.3g}\\\\\n",
    "\\text{{Info}}_{{X_4}}(D)&={X4:.3g}\\\\\n",
    "\\end{{aligned}}\n",
    "\"\"\".format(\n",
    "        **InfoXD\n",
    "    )\n",
    ")"
   ]
  },
  {
   "cell_type": "markdown",
   "metadata": {},
   "source": [
    "**Exercise** The information gain $\\text{Gain}_{X_i}(D)$ can be calculated as the mutual information $I(X_i;Y):=H(Y)-H(Y|X_i)$. Assign to `GainXD` a dictionary similar to `InfoXD` but stores the information gains instead of conditional entropies for different input features. You may use the function `mutual_information` directly."
   ]
  },
  {
   "cell_type": "code",
   "execution_count": null,
   "metadata": {
    "deletable": false,
    "nbgrader": {
     "cell_type": "code",
     "checksum": "b2c436d3a06fcef9b21d50e71832b990",
     "grade": false,
     "grade_id": "Gain",
     "locked": false,
     "schema_version": 3,
     "solution": true,
     "task": false
    },
    "tags": [
     "remove-output"
    ]
   },
   "outputs": [],
   "source": [
    "GainXD = {}\n",
    "# YOUR CODE HERE\n",
    "raise NotImplementedError()\n",
    "\n",
    "Math(\n",
    "    r\"\"\"\n",
    "\\begin{{aligned}}\n",
    "\\text{{Gain}}_{{X_1}}(D)&={X1:.3g}\\\\\n",
    "\\text{{Gain}}_{{X_2}}(D)&={X2:.3g}\\\\\n",
    "\\text{{Gain}}_{{X_3}}(D)&={X3:.3g}\\\\\n",
    "\\text{{Gain}}_{{X_4}}(D)&={X4:.3g}\\\\\n",
    "\\end{{aligned}}\n",
    "\"\"\".format(\n",
    "        **GainXD\n",
    "    )\n",
    ")"
   ]
  },
  {
   "cell_type": "code",
   "execution_count": null,
   "metadata": {
    "deletable": false,
    "editable": false,
    "nbgrader": {
     "cell_type": "code",
     "checksum": "58f0bf1f52271760f11f6372b0d1e00e",
     "grade": true,
     "grade_id": "test-Gain",
     "locked": true,
     "points": 1,
     "schema_version": 3,
     "solution": false,
     "task": false
    },
    "tags": [
     "hide-input",
     "remove-output"
    ]
   },
   "outputs": [],
   "source": [
    "# tests\n",
    "assert np.isclose(GainXD[\"X1\"], 0.5, rtol=1e-3)\n",
    "assert np.isclose(GainXD[\"X2\"], 1, rtol=1e-3)"
   ]
  },
  {
   "cell_type": "code",
   "execution_count": null,
   "metadata": {
    "deletable": false,
    "editable": false,
    "nbgrader": {
     "cell_type": "code",
     "checksum": "2eaefebd14271ab92b676ad14350c170",
     "grade": true,
     "grade_id": "htest-Gain",
     "locked": true,
     "points": 1,
     "schema_version": 3,
     "solution": false,
     "task": false
    },
    "tags": [
     "remove-cell"
    ]
   },
   "outputs": [],
   "source": [
    "# hidden tests"
   ]
  },
  {
   "cell_type": "markdown",
   "metadata": {},
   "source": [
    "**Exercise** Which attribute gives the highest information gain? Should we choose it as the splitting attribute?"
   ]
  },
  {
   "cell_type": "markdown",
   "metadata": {
    "deletable": false,
    "nbgrader": {
     "cell_type": "markdown",
     "checksum": "2e636a548f742243280ce43d03d91000",
     "grade": true,
     "grade_id": "infogain",
     "locked": false,
     "points": 1,
     "schema_version": 3,
     "solution": true,
     "task": false
    }
   },
   "source": [
    "YOUR ANSWER HERE"
   ]
  },
  {
   "cell_type": "markdown",
   "metadata": {},
   "source": [
    "To avoid the bias towards attributes with many outcomes, C4.5/J48 normalizes information gain by $\\text{SplitInfo}_{X_i}(D)$, which can be calculated as $H(X_i)$:"
   ]
  },
  {
   "cell_type": "code",
   "execution_count": null,
   "metadata": {
    "ExecuteTime": {
     "end_time": "2021-01-22T07:56:50.235255Z",
     "start_time": "2021-01-22T07:56:50.221835Z"
    }
   },
   "outputs": [],
   "source": [
    "SplitInfoXD = {}\n",
    "for cond in [\"X1\", \"X2\", \"X3\", \"X4\"]:\n",
    "    SplitInfoXD[cond] = entropy(emp_p, [cond])\n",
    "\n",
    "Math(\n",
    "    r\"\"\"\n",
    "\\begin{{aligned}}\n",
    "\\text{{SplitInfo}}_{{X_1}}(D)&={X1:.3g}\\\\\n",
    "\\text{{SplitInfo}}_{{X_2}}(D)&={X2:.3g}\\\\\n",
    "\\text{{SplitInfo}}_{{X_3}}(D)&={X3:.3g}\\\\\n",
    "\\text{{SplitInfo}}_{{X_4}}(D)&={X4:.3g}\\\\\n",
    "\\end{{aligned}}\n",
    "\"\"\".format(\n",
    "        **SplitInfoXD\n",
    "    )\n",
    ")"
   ]
  },
  {
   "cell_type": "markdown",
   "metadata": {},
   "source": [
    "**Exercise** Assign to GainRatioXD the dictionary of information gain ratios $\\frac{\\text{Gain}_{X_i}(D)}{\\text{SplitInfo}_{X_i}(D)}$ for different input features $X_i$:"
   ]
  },
  {
   "cell_type": "code",
   "execution_count": null,
   "metadata": {
    "ExecuteTime": {
     "end_time": "2021-01-22T07:58:00.250276Z",
     "start_time": "2021-01-22T07:58:00.242843Z"
    },
    "deletable": false,
    "nbgrader": {
     "cell_type": "code",
     "checksum": "9f6871ebad5d43884e704ef206e958d1",
     "grade": false,
     "grade_id": "GainRatio",
     "locked": false,
     "schema_version": 3,
     "solution": true,
     "task": false
    },
    "tags": [
     "remove-output"
    ]
   },
   "outputs": [],
   "source": [
    "GainRatioXD = {}\n",
    "# YOUR CODE HERE\n",
    "raise NotImplementedError()\n",
    "\n",
    "Math(\n",
    "    r\"\"\"\n",
    "\\begin{{aligned}}\n",
    "\\frac{{\\text{{Gain}}_{{X_1}}(D)}}{{\\text{{SplitInfo}}_{{X_1}}(D)}}&={X1:.3g}\\\\\n",
    "\\frac{{\\text{{Gain}}_{{X_2}}(D)}}{{\\text{{SplitInfo}}_{{X_2}}(D)}}&={X2:.3g}\\\\\n",
    "\\frac{{\\text{{Gain}}_{{X_3}}(D)}}{{\\text{{SplitInfo}}_{{X_3}}(D)}}&={X3:.3g}\\\\\n",
    "\\frac{{\\text{{Gain}}_{{X_4}}(D)}}{{\\text{{SplitInfo}}_{{X_4}}(D)}}&={X4:.3g}\\\\\n",
    "\\end{{aligned}}\n",
    "\"\"\".format(\n",
    "        **GainRatioXD\n",
    "    )\n",
    ")"
   ]
  },
  {
   "cell_type": "code",
   "execution_count": null,
   "metadata": {
    "deletable": false,
    "nbgrader": {
     "cell_type": "code",
     "checksum": "e5c679a2c249cc48697974528f5b9370",
     "grade": false,
     "grade_id": "test-GainRatio",
     "locked": false,
     "schema_version": 3,
     "solution": true,
     "task": false
    },
    "tags": [
     "hide-input",
     "remove-output"
    ]
   },
   "outputs": [],
   "source": [
    "# YOUR CODE HERE\n",
    "raise NotImplementedError()"
   ]
  },
  {
   "cell_type": "code",
   "execution_count": null,
   "metadata": {
    "deletable": false,
    "editable": false,
    "nbgrader": {
     "cell_type": "code",
     "checksum": "a5cceeb0589b4498f9ec99af884de5be",
     "grade": true,
     "grade_id": "htest-GainRatio",
     "locked": true,
     "points": 1,
     "schema_version": 3,
     "solution": false,
     "task": false
    },
    "tags": [
     "remove-cell"
    ]
   },
   "outputs": [],
   "source": [
    "# hidden tests"
   ]
  },
  {
   "cell_type": "markdown",
   "metadata": {},
   "source": [
    "**Exercise** Explain whether $X_4$ is a good splitting attribute when compared to other input attributes?"
   ]
  },
  {
   "cell_type": "markdown",
   "metadata": {
    "deletable": false,
    "nbgrader": {
     "cell_type": "markdown",
     "checksum": "8e9d188661e23c703a0fd1cff8f3bd33",
     "grade": true,
     "grade_id": "ratio",
     "locked": false,
     "points": 1,
     "schema_version": 3,
     "solution": true,
     "task": false
    }
   },
   "source": [
    "YOUR ANSWER HERE"
   ]
  }
 ],
 "metadata": {
  "kernelspec": {
   "display_name": "Python 3 (ipykernel)",
   "language": "python",
   "name": "python3"
  },
  "language_info": {
   "codemirror_mode": {
    "name": "ipython",
    "version": 3
   },
   "file_extension": ".py",
   "mimetype": "text/x-python",
   "name": "python",
   "nbconvert_exporter": "python",
   "pygments_lexer": "ipython3",
   "version": "3.8.12"
  },
  "rise": {
   "enable_chalkboard": true,
   "scroll": true,
   "theme": "beige"
  },
  "toc": {
   "base_numbering": 1,
   "nav_menu": {},
   "number_sections": true,
   "sideBar": true,
   "skip_h1_title": true,
   "title_cell": "Table of Contents",
   "title_sidebar": "Contents",
   "toc_cell": false,
   "toc_position": {},
   "toc_section_display": true,
   "toc_window_display": false
  },
  "widgets": {
   "application/vnd.jupyter.widget-state+json": {
    "state": {
     "73a41803d7f348b1867768019c755a86": {
      "model_module": "jupyter-matplotlib",
      "model_module_version": "^0.10.4",
      "model_name": "MPLCanvasModel",
      "state": {
       "_cursor": "default",
       "_data_url": "data:image/png;base64,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",
       "_figure_label": "Figure 1",
       "_size": [
        640,
        480
       ],
       "layout": "IPY_MODEL_d483f6e69ab54e46bbe9edca97d28cee",
       "toolbar": "IPY_MODEL_969da9b2dca84a9bb7d5201c95e55e99",
       "toolbar_position": "left"
      }
     },
     "969da9b2dca84a9bb7d5201c95e55e99": {
      "model_module": "jupyter-matplotlib",
      "model_module_version": "^0.10.4",
      "model_name": "ToolbarModel",
      "state": {
       "collapsed": true,
       "layout": "IPY_MODEL_fd4f5ea8c6f44b09b88029a6f119a815",
       "orientation": "vertical",
       "toolitems": [
        [
         "Home",
         "Reset original view",
         "home",
         "home"
        ],
        [
         "Back",
         "Back to previous view",
         "arrow-left",
         "back"
        ],
        [
         "Forward",
         "Forward to next view",
         "arrow-right",
         "forward"
        ],
        [
         "Pan",
         "Left button pans, Right button zooms\nx/y fixes axis, CTRL fixes aspect",
         "arrows",
         "pan"
        ],
        [
         "Zoom",
         "Zoom to rectangle\nx/y fixes axis",
         "square-o",
         "zoom"
        ],
        [
         "Download",
         "Download plot",
         "floppy-o",
         "save_figure"
        ]
       ]
      }
     },
     "d483f6e69ab54e46bbe9edca97d28cee": {
      "model_module": "@jupyter-widgets/base",
      "model_module_version": "1.2.0",
      "model_name": "LayoutModel",
      "state": {}
     },
     "fd4f5ea8c6f44b09b88029a6f119a815": {
      "model_module": "@jupyter-widgets/base",
      "model_module_version": "1.2.0",
      "model_name": "LayoutModel",
      "state": {}
     }
    },
    "version_major": 2,
    "version_minor": 0
   }
  }
 },
 "nbformat": 4,
 "nbformat_minor": 4
}
