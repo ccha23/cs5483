{
 "cells": [
  {
   "cell_type": "markdown",
   "metadata": {},
   "source": [
    "# Evaluation with scikit-learn"
   ]
  },
  {
   "cell_type": "markdown",
   "metadata": {
    "tags": [
     "remove-cell"
    ]
   },
   "source": [
    "**CS5483 Data Warehousing and Data Mining**\n",
    "___"
   ]
  },
  {
   "cell_type": "markdown",
   "metadata": {},
   "source": [
    "Run the following to initialize the environment and import the libraries necessary for this notebook."
   ]
  },
  {
   "cell_type": "code",
   "execution_count": null,
   "metadata": {
    "ExecuteTime": {
     "end_time": "2021-01-31T00:55:30.499707Z",
     "start_time": "2021-01-31T00:55:29.606419Z"
    },
    "init_cell": true,
    "slideshow": {
     "slide_type": "-"
    }
   },
   "outputs": [],
   "source": [
    "%matplotlib inline\n",
    "from functools import lru_cache\n",
    "\n",
    "import matplotlib.pyplot as plt\n",
    "import numpy as np\n",
    "import pandas as pd\n",
    "from IPython import display\n",
    "from ipywidgets import IntSlider, interact\n",
    "from sklearn import datasets, tree\n",
    "from sklearn.model_selection import (\n",
    "    StratifiedKFold,\n",
    "    cross_val_predict,\n",
    "    cross_val_score,\n",
    "    train_test_split,\n",
    ")\n",
    "\n",
    "plt.rcParams[\"figure.figsize\"] = (8, 4)"
   ]
  },
  {
   "cell_type": "markdown",
   "metadata": {},
   "source": [
    "## Data Preparation"
   ]
  },
  {
   "cell_type": "markdown",
   "metadata": {},
   "source": [
    "### About the dataset"
   ]
  },
  {
   "cell_type": "markdown",
   "metadata": {},
   "source": [
    "We will use a popular dataset called the [*iris dataset*](https://en.wikipedia.org/wiki/Iris_flower_data_set). Iris is a flower with three different species shown below."
   ]
  },
  {
   "cell_type": "markdown",
   "metadata": {},
   "source": [
    "<span style=\"text-align: center;\">\n",
    "<div style=\"display: flex;\">\n",
    "<div style=\"padding: 1em;\">     \n",
    "<a title=\"Tiia Monto, CC BY-SA 4.0 &lt;https://creativecommons.org/licenses/by-sa/4.0&gt;, via Wikimedia Commons\" href=\"https://commons.wikimedia.org/wiki/File:Iris_setosa_2.jpg\"><img width=\"260\" alt=\"Iris setosa 2\" src=\"https://upload.wikimedia.org/wikipedia/commons/1/11/Iris_setosa_2.jpg\"></a>\n",
    "<p>Iris Setosa</p>\n",
    "</div>\n",
    "<div style=\"padding: 1em;\">\n",
    "            \n",
    "<a title=\"No machine-readable author provided. Dlanglois assumed (based on copyright claims)., CC BY-SA 3.0 &lt;http://creativecommons.org/licenses/by-sa/3.0/&gt;, via Wikimedia Commons\" href=\"https://commons.wikimedia.org/wiki/File:Iris_versicolor_3.jpg\"><img width=\"260\" alt=\"Iris versicolor 3\" src=\"https://upload.wikimedia.org/wikipedia/commons/4/41/Iris_versicolor_3.jpg\"></a>\n",
    "<p>Iris Versicolor</p>\n",
    "</div>\n",
    "\n",
    "<div style=\"padding: 1em;\">\n",
    "<a title=\"Frank Mayfield, CC BY-SA 2.0 &lt;https://creativecommons.org/licenses/by-sa/2.0&gt;, via Wikimedia Commons\" href=\"https://commons.wikimedia.org/wiki/File:Iris_virginica.jpg\"><img width=\"260\" alt=\"Iris virginica\" src=\"https://upload.wikimedia.org/wikipedia/commons/9/9f/Iris_virginica.jpg\"></a>\n",
    "<p>Iris Virginica</p>\n",
    "</div>\n",
    "</div>\n",
    "</span>"
   ]
  },
  {
   "cell_type": "markdown",
   "metadata": {},
   "source": [
    "The three iris species differ in the lengths and widths of their *petals* and *sepals*."
   ]
  },
  {
   "cell_type": "markdown",
   "metadata": {},
   "source": [
    "<a title=\"Frank Mayfield, CC BY-SA 3.0 &lt;https://creativecommons.org/licenses/by-sa/3.0/&gt;, via Wikimedia Commons\" href=\"https://commons.wikimedia.org/wiki/File:Petal-sepal.jpg\"><img width=\"200\" alt=\"Iris virginica\" src=\"https://upload.wikimedia.org/wikipedia/commons/7/78/Petal-sepal.jpg\"></a>"
   ]
  },
  {
   "cell_type": "markdown",
   "metadata": {},
   "source": [
    "A standard data mining task is to train a model that can classify the spieces (*target*) automatically based on the lengths and widths of the petals and sepals (*input features*)."
   ]
  },
  {
   "cell_type": "markdown",
   "metadata": {},
   "source": [
    "### Load dataset from scikit-learn"
   ]
  },
  {
   "cell_type": "markdown",
   "metadata": {},
   "source": [
    "**How to load the iris dataset?**"
   ]
  },
  {
   "cell_type": "markdown",
   "metadata": {},
   "source": [
    "To load the iris dataset, we can simply import the [`sklearn.datasets` package](https://scikit-learn.org/stable/datasets/index.html)."
   ]
  },
  {
   "cell_type": "code",
   "execution_count": null,
   "metadata": {
    "ExecuteTime": {
     "end_time": "2021-01-19T14:45:01.165039Z",
     "start_time": "2021-01-19T14:45:01.134082Z"
    },
    "colab": {
     "base_uri": "https://localhost:8080/",
     "height": 1000
    },
    "colab_type": "code",
    "id": "9gQINfrjsb4M",
    "outputId": "77b77a38-2712-4c93-c503-219e74f354fd",
    "slideshow": {
     "slide_type": "-"
    }
   },
   "outputs": [],
   "source": [
    "from sklearn import datasets\n",
    "\n",
    "iris = datasets.load_iris()\n",
    "type(iris)  # object type"
   ]
  },
  {
   "cell_type": "markdown",
   "metadata": {},
   "source": [
    "`sklearn` stores the dataset as a [`Bunch` object](https://scikit-learn.org/stable/modules/generated/sklearn.utils.Bunch.html), which is essentially [a bunch of properties](https://scikit-learn.org/stable/modules/generated/sklearn.datasets.load_iris.html) put together."
   ]
  },
  {
   "cell_type": "markdown",
   "metadata": {},
   "source": [
    "**How to learn more about a library?**"
   ]
  },
  {
   "cell_type": "markdown",
   "metadata": {},
   "source": [
    "Detailed documentation can be found at [https://scikit-learn.org](https://scikit-learn.org/stable/modules/generated/sklearn.datasets.load_iris.html)."
   ]
  },
  {
   "cell_type": "markdown",
   "metadata": {},
   "source": [
    "We can use the symbol `?` to obtain the docstring of an object and `??` to obtain its source code, if available."
   ]
  },
  {
   "cell_type": "code",
   "execution_count": null,
   "metadata": {
    "ExecuteTime": {
     "end_time": "2021-01-19T14:45:01.223882Z",
     "start_time": "2021-01-19T14:45:01.172167Z"
    },
    "tags": [
     "remove-output",
     "output_scroll"
    ]
   },
   "outputs": [],
   "source": [
    "datasets.load_iris?"
   ]
  },
  {
   "cell_type": "code",
   "execution_count": null,
   "metadata": {
    "ExecuteTime": {
     "end_time": "2021-01-19T14:45:01.251533Z",
     "start_time": "2021-01-19T14:45:01.225340Z"
    },
    "tags": [
     "output_scroll"
    ]
   },
   "outputs": [],
   "source": [
    "datasets.load_iris??"
   ]
  },
  {
   "cell_type": "markdown",
   "metadata": {},
   "source": [
    "**How to learn more about the dataset?**"
   ]
  },
  {
   "cell_type": "markdown",
   "metadata": {
    "tags": [
     "output_scroll"
    ]
   },
   "source": [
    "The property `DESCR` (description) is a string that contains some background information of the dataset:"
   ]
  },
  {
   "cell_type": "code",
   "execution_count": null,
   "metadata": {
    "ExecuteTime": {
     "end_time": "2021-01-19T14:45:01.255461Z",
     "start_time": "2021-01-19T14:45:01.253067Z"
    },
    "colab": {
     "base_uri": "https://localhost:8080/",
     "height": 1000
    },
    "colab_type": "code",
    "id": "22xkaKQPwAKv",
    "outputId": "ac56ee89-3c2e-438c-a408-aefc3ba99266",
    "slideshow": {
     "slide_type": "-"
    },
    "tags": [
     "output_scroll"
    ]
   },
   "outputs": [],
   "source": [
    "print(iris.DESCR)"
   ]
  },
  {
   "cell_type": "markdown",
   "metadata": {},
   "source": [
    "All the properties of an object can be listed using the built-in function `dir` (directory):"
   ]
  },
  {
   "cell_type": "code",
   "execution_count": null,
   "metadata": {
    "ExecuteTime": {
     "end_time": "2021-01-19T14:45:01.267147Z",
     "start_time": "2021-01-19T14:45:01.256629Z"
    }
   },
   "outputs": [],
   "source": [
    "dir(iris)"
   ]
  },
  {
   "cell_type": "markdown",
   "metadata": {},
   "source": [
    "**How to show the data?**"
   ]
  },
  {
   "cell_type": "markdown",
   "metadata": {},
   "source": [
    "The properties `data` and `target` contains the data values."
   ]
  },
  {
   "cell_type": "code",
   "execution_count": null,
   "metadata": {
    "ExecuteTime": {
     "end_time": "2021-01-19T14:45:01.279149Z",
     "start_time": "2021-01-19T14:45:01.271930Z"
    }
   },
   "outputs": [],
   "source": [
    "type(iris.data), type(iris.target)"
   ]
  },
  {
   "cell_type": "markdown",
   "metadata": {},
   "source": [
    "The data are stored as `numpy` array, which is a powerful data type optimized for performance. It provides useful properties and methods to describe and process the data:"
   ]
  },
  {
   "cell_type": "code",
   "execution_count": null,
   "metadata": {
    "ExecuteTime": {
     "end_time": "2021-01-19T14:45:01.303365Z",
     "start_time": "2021-01-19T14:45:01.281158Z"
    }
   },
   "outputs": [],
   "source": [
    "iris.data.shape, iris.data.ndim, iris.data.dtype"
   ]
  },
  {
   "cell_type": "markdown",
   "metadata": {},
   "source": [
    "`iris.data` is a 150-by-4 2-dimensional array of 64-bit floating-point numbers.\n",
    "- 150 corresponds to the number of instances, while\n",
    "- 4 corresponds to the number of input attributes."
   ]
  },
  {
   "cell_type": "markdown",
   "metadata": {},
   "source": [
    "To show the input feature names:"
   ]
  },
  {
   "cell_type": "code",
   "execution_count": null,
   "metadata": {
    "ExecuteTime": {
     "end_time": "2021-01-19T14:45:01.313597Z",
     "start_time": "2021-01-19T14:45:01.304706Z"
    }
   },
   "outputs": [],
   "source": [
    "iris.feature_names"
   ]
  },
  {
   "cell_type": "markdown",
   "metadata": {},
   "source": [
    "To show the means and standard deviations of the input features:"
   ]
  },
  {
   "cell_type": "code",
   "execution_count": null,
   "metadata": {
    "ExecuteTime": {
     "end_time": "2021-01-19T14:45:01.326349Z",
     "start_time": "2021-01-19T14:45:01.314947Z"
    }
   },
   "outputs": [],
   "source": [
    "iris.data.mean(axis=0), iris.data.std(axis=0)"
   ]
  },
  {
   "cell_type": "markdown",
   "metadata": {},
   "source": [
    "All the public properties/methods of `numpy` array are printed below:"
   ]
  },
  {
   "cell_type": "code",
   "execution_count": null,
   "metadata": {
    "ExecuteTime": {
     "end_time": "2021-01-19T14:45:01.357221Z",
     "start_time": "2021-01-19T14:45:01.328230Z"
    },
    "tags": [
     "output_scroll"
    ]
   },
   "outputs": [],
   "source": [
    "import numpy as np  # import numpy and rename it as np\n",
    "\n",
    "[\n",
    "    attr for attr in dir(np.ndarray) if attr[0] != \"_\"\n",
    "]  # private attributes begin with underscore"
   ]
  },
  {
   "cell_type": "markdown",
   "metadata": {},
   "source": [
    "**What is the target feature?**"
   ]
  },
  {
   "cell_type": "markdown",
   "metadata": {},
   "source": [
    "The target variable of the iris dataset is the flower type, whose names are stored by the following property:"
   ]
  },
  {
   "cell_type": "code",
   "execution_count": null,
   "metadata": {
    "ExecuteTime": {
     "end_time": "2021-01-19T14:45:01.360923Z",
     "start_time": "2021-01-19T14:45:01.358350Z"
    }
   },
   "outputs": [],
   "source": [
    "iris.target_names"
   ]
  },
  {
   "cell_type": "markdown",
   "metadata": {},
   "source": [
    "`iris.target` is an array of integer indices from `{0, 1, 2}` for the three classes."
   ]
  },
  {
   "cell_type": "code",
   "execution_count": null,
   "metadata": {
    "ExecuteTime": {
     "end_time": "2021-01-19T14:45:01.385120Z",
     "start_time": "2021-01-19T14:45:01.362158Z"
    }
   },
   "outputs": [],
   "source": [
    "iris.target"
   ]
  },
  {
   "cell_type": "markdown",
   "metadata": {},
   "source": [
    "**Exercise** Fill the following cell with a tuple of the following properties for the target (instead of input features) of the iris dataset:\n",
    "- shape, \n",
    "- number of dimensions, and \n",
    "- the data types of the values.\n",
    "\n",
    "Your solution should look like:\n",
    "```Python\n",
    "shape, ndim, dtype = iris.___.___, iris.___.___, iris.___.___\n",
    "```"
   ]
  },
  {
   "cell_type": "code",
   "execution_count": null,
   "metadata": {
    "ExecuteTime": {
     "end_time": "2021-01-19T14:45:01.397140Z",
     "start_time": "2021-01-19T14:45:01.387070Z"
    },
    "deletable": false,
    "nbgrader": {
     "cell_type": "code",
     "checksum": "614387d276c4031b3fe984f38d19aa7e",
     "grade": false,
     "grade_id": "target-info",
     "locked": false,
     "schema_version": 3,
     "solution": true,
     "task": false
    },
    "tags": [
     "remove-output"
    ]
   },
   "outputs": [],
   "source": [
    "# YOUR CODE HERE\n",
    "raise NotImplementedError()\n",
    "shape, ndim, dtype"
   ]
  },
  {
   "cell_type": "code",
   "execution_count": null,
   "metadata": {
    "ExecuteTime": {
     "end_time": "2021-01-19T14:45:01.406621Z",
     "start_time": "2021-01-19T14:45:01.398504Z"
    },
    "deletable": false,
    "editable": false,
    "nbgrader": {
     "cell_type": "code",
     "checksum": "ffef6369e8984fcbc2d63ce309eb5dcc",
     "grade": true,
     "grade_id": "test-target-info",
     "locked": true,
     "points": 1,
     "schema_version": 3,
     "solution": false,
     "task": false
    },
    "tags": [
     "hide-input",
     "remove-output"
    ]
   },
   "outputs": [],
   "source": [
    "# tests\n",
    "assert (\n",
    "    isinstance(shape, tuple) and isinstance(ndim, int) and isinstance(dtype, np.dtype)\n",
    ")"
   ]
  },
  {
   "cell_type": "code",
   "execution_count": null,
   "metadata": {
    "deletable": false,
    "editable": false,
    "nbgrader": {
     "cell_type": "code",
     "checksum": "af88d24b5698ef317ffa29ec3baf041f",
     "grade": true,
     "grade_id": "htest-target-info",
     "locked": true,
     "points": 1,
     "schema_version": 3,
     "solution": false,
     "task": false
    },
    "tags": [
     "remove-cell"
    ]
   },
   "outputs": [],
   "source": [
    "# hidden tests"
   ]
  },
  {
   "cell_type": "markdown",
   "metadata": {},
   "source": [
    "**Exercise** Fill in the following cell with a tuple of\n",
    "- the list of minimum values of the input features, and\n",
    "- the list of maximum values of the input features.\n",
    "\n",
    "You answer should look like:\n",
    "```Python\n",
    "feature_min, feature_max = iris.___.___(axis=0), iris.___.___(axis=0)\n",
    "```"
   ]
  },
  {
   "cell_type": "code",
   "execution_count": null,
   "metadata": {
    "ExecuteTime": {
     "end_time": "2021-01-19T14:45:01.418847Z",
     "start_time": "2021-01-19T14:45:01.408034Z"
    },
    "deletable": false,
    "nbgrader": {
     "cell_type": "code",
     "checksum": "aeaf808ce70ec3acf8813fdc39992abb",
     "grade": false,
     "grade_id": "feature-min-max",
     "locked": false,
     "schema_version": 3,
     "solution": true,
     "task": false
    },
    "tags": [
     "remove-output"
    ]
   },
   "outputs": [],
   "source": [
    "# YOUR CODE HERE\n",
    "raise NotImplementedError()\n",
    "feature_min, feature_max"
   ]
  },
  {
   "cell_type": "code",
   "execution_count": null,
   "metadata": {
    "ExecuteTime": {
     "end_time": "2021-01-19T14:45:01.427122Z",
     "start_time": "2021-01-19T14:45:01.421133Z"
    },
    "deletable": false,
    "editable": false,
    "nbgrader": {
     "cell_type": "code",
     "checksum": "682d008708cf61ff0aeb94379bd910f8",
     "grade": true,
     "grade_id": "test-feature-min-max",
     "locked": true,
     "points": 1,
     "schema_version": 3,
     "solution": false,
     "task": false
    },
    "tags": [
     "hide-input",
     "remove-output"
    ]
   },
   "outputs": [],
   "source": [
    "# tests\n",
    "assert feature_min.shape == (4,) == feature_max.shape"
   ]
  },
  {
   "cell_type": "code",
   "execution_count": null,
   "metadata": {
    "deletable": false,
    "editable": false,
    "nbgrader": {
     "cell_type": "code",
     "checksum": "4df778c404c78ec4f3c6ec75c89aff65",
     "grade": true,
     "grade_id": "htest-feature-min-max",
     "locked": true,
     "points": 1,
     "schema_version": 3,
     "solution": false,
     "task": false
    },
    "tags": [
     "remove-cell"
    ]
   },
   "outputs": [],
   "source": [
    "# hidden tests"
   ]
  },
  {
   "cell_type": "markdown",
   "metadata": {},
   "source": [
    "### Create pandas DataFrame"
   ]
  },
  {
   "cell_type": "markdown",
   "metadata": {},
   "source": [
    "The [package `pandas`](https://pandas.pydata.org/docs/user_guide/index.html) provides additional tools to display and process a dataset. \n",
    "First, we translate the `Bunch` object into a `pandas` [`DataFrame` object](https://pandas.pydata.org/docs/reference/api/pandas.DataFrame.html?highlight=dataframe#pandas.DataFrame)."
   ]
  },
  {
   "cell_type": "code",
   "execution_count": null,
   "metadata": {
    "ExecuteTime": {
     "end_time": "2021-01-19T14:45:01.623023Z",
     "start_time": "2021-01-19T14:45:01.428534Z"
    },
    "colab": {
     "base_uri": "https://localhost:8080/",
     "height": 418
    },
    "colab_type": "code",
    "id": "ZE5pla5bszpB",
    "outputId": "c37a554b-b30f-4329-f89d-b614815b4675",
    "slideshow": {
     "slide_type": "-"
    }
   },
   "outputs": [],
   "source": [
    "import pandas as pd\n",
    "\n",
    "# write the input features first\n",
    "iris_df = pd.DataFrame(data=iris.data, columns=iris.feature_names)\n",
    "\n",
    "# append the target values to the last column\n",
    "iris_df[\"target\"] = iris.target\n",
    "\n",
    "iris_df  # to display the DataFrame"
   ]
  },
  {
   "cell_type": "markdown",
   "metadata": {},
   "source": [
    "In jupyter notebook, a `DataFrame` object is conveniently displayed as an HTML table. We can control how much information to show by setting the [display options](https://pandas.pydata.org/pandas-docs/stable/user_guide/options.html)."
   ]
  },
  {
   "cell_type": "markdown",
   "metadata": {},
   "source": [
    "We can also display the statistics of different numerical attributes using the method `describe` and `boxplot`."
   ]
  },
  {
   "cell_type": "code",
   "execution_count": null,
   "metadata": {
    "ExecuteTime": {
     "end_time": "2021-01-19T14:45:01.644501Z",
     "start_time": "2021-01-19T14:45:01.624563Z"
    },
    "slideshow": {
     "slide_type": "-"
    }
   },
   "outputs": [],
   "source": [
    "iris_df.describe()"
   ]
  },
  {
   "cell_type": "code",
   "execution_count": null,
   "metadata": {
    "ExecuteTime": {
     "end_time": "2021-01-19T14:45:01.854858Z",
     "start_time": "2021-01-19T14:45:01.645922Z"
    },
    "slideshow": {
     "slide_type": "-"
    }
   },
   "outputs": [],
   "source": [
    "iris_df.boxplot()"
   ]
  },
  {
   "cell_type": "markdown",
   "metadata": {},
   "source": [
    "**How to handle nominal class attribute?**"
   ]
  },
  {
   "cell_type": "markdown",
   "metadata": {},
   "source": [
    "Note that the boxplot also covers the target attribute, but it should not. (Why?) Let's take a look at the current datatypes of the different attributes."
   ]
  },
  {
   "cell_type": "code",
   "execution_count": null,
   "metadata": {
    "ExecuteTime": {
     "end_time": "2021-01-19T14:45:01.861248Z",
     "start_time": "2021-01-19T14:45:01.856605Z"
    },
    "slideshow": {
     "slide_type": "fragment"
    }
   },
   "outputs": [],
   "source": [
    "print(iris_df.dtypes)"
   ]
  },
  {
   "cell_type": "markdown",
   "metadata": {},
   "source": [
    "The target is regarded as a numeric attribute with type integer `int64`. Instead, the target should be categorical with only allow three possible values, one for each iris species."
   ]
  },
  {
   "cell_type": "markdown",
   "metadata": {},
   "source": [
    "To fix this, we can use the `astype` method to convert the data type automatically. (More details [here](https://pandas.pydata.org/pandas-docs/stable/user_guide/categorical.html#series-creation.section).)"
   ]
  },
  {
   "cell_type": "code",
   "execution_count": null,
   "metadata": {
    "ExecuteTime": {
     "end_time": "2021-01-19T14:45:02.103186Z",
     "start_time": "2021-01-19T14:45:01.865180Z"
    },
    "slideshow": {
     "slide_type": "fragment"
    }
   },
   "outputs": [],
   "source": [
    "iris_df.target = iris_df.target.astype(\"category\")\n",
    "iris_df.boxplot()  # target is not plotted as expected\n",
    "iris_df.target.dtype"
   ]
  },
  {
   "cell_type": "markdown",
   "metadata": {},
   "source": [
    "We can also rename the target categories `{0, 1, 2}` to the more meaningful names of the iris species in `iris.target_names`.  \n",
    "(See the [documentation](https://pandas.pydata.org/pandas-docs/stable/user_guide/categorical.html#renaming-categories).)"
   ]
  },
  {
   "cell_type": "code",
   "execution_count": null,
   "metadata": {
    "ExecuteTime": {
     "end_time": "2021-01-19T14:45:02.118543Z",
     "start_time": "2021-01-19T14:45:02.105056Z"
    },
    "slideshow": {
     "slide_type": "-"
    }
   },
   "outputs": [],
   "source": [
    "iris_df.target.cat.categories = iris.target_names\n",
    "iris_df  # check that the target values are now setosa, versicolor, or virginica."
   ]
  },
  {
   "cell_type": "markdown",
   "metadata": {},
   "source": [
    "**Exercise** For nominal attributes, a more meaningful statistics than the mean is the counts of different possible values. To count the number of instances for each flower class, assign `target_counts` to the output of the `value_counts` method of an appropriate column of `iris_df`.\n",
    "\n",
    "Your solution should look like:\n",
    "```Python\n",
    "target_counts = iris_df.target.___()\n",
    "```"
   ]
  },
  {
   "cell_type": "code",
   "execution_count": null,
   "metadata": {
    "ExecuteTime": {
     "end_time": "2021-01-19T14:45:02.133355Z",
     "start_time": "2021-01-19T14:45:02.119960Z"
    },
    "deletable": false,
    "nbgrader": {
     "cell_type": "code",
     "checksum": "a0b5a6248ce6f99287d99ff36921b83e",
     "grade": false,
     "grade_id": "target_counts",
     "locked": false,
     "schema_version": 3,
     "solution": true,
     "task": false
    },
    "tags": [
     "remove-output"
    ]
   },
   "outputs": [],
   "source": [
    "# YOUR CODE HERE\n",
    "raise NotImplementedError()\n",
    "target_counts"
   ]
  },
  {
   "cell_type": "code",
   "execution_count": null,
   "metadata": {
    "ExecuteTime": {
     "end_time": "2021-01-19T14:45:02.147732Z",
     "start_time": "2021-01-19T14:45:02.135274Z"
    },
    "deletable": false,
    "editable": false,
    "nbgrader": {
     "cell_type": "code",
     "checksum": "68b316e46cb3baa8cdc5895a207ddf91",
     "grade": true,
     "grade_id": "test-target_counts",
     "locked": true,
     "points": 1,
     "schema_version": 3,
     "solution": false,
     "task": false
    },
    "tags": [
     "hide-input",
     "remove-output"
    ]
   },
   "outputs": [],
   "source": [
    "# tests\n",
    "assert target_counts.shape == (3,)"
   ]
  },
  {
   "cell_type": "code",
   "execution_count": null,
   "metadata": {
    "deletable": false,
    "editable": false,
    "nbgrader": {
     "cell_type": "code",
     "checksum": "933624bf6a3e6b1441eb8b7373cd653c",
     "grade": true,
     "grade_id": "htest-target_counts",
     "locked": true,
     "points": 1,
     "schema_version": 3,
     "solution": false,
     "task": false
    },
    "tags": [
     "remove-cell"
    ]
   },
   "outputs": [],
   "source": [
    "# hidden tests"
   ]
  },
  {
   "cell_type": "markdown",
   "metadata": {},
   "source": [
    "**How to select specific rows and columns?**"
   ]
  },
  {
   "cell_type": "markdown",
   "metadata": {},
   "source": [
    "The following uses [`ipywidget`](https://ipywidgets.readthedocs.io/en/latest/) to show the different ways of selecting/slicing the rows of a `DataFrame`."
   ]
  },
  {
   "cell_type": "code",
   "execution_count": null,
   "metadata": {
    "ExecuteTime": {
     "end_time": "2021-01-19T14:45:02.203430Z",
     "start_time": "2021-01-19T14:45:02.149480Z"
    },
    "slideshow": {
     "slide_type": "-"
    }
   },
   "outputs": [],
   "source": [
    "from ipywidgets import interact\n",
    "\n",
    "\n",
    "@interact(\n",
    "    command=[\n",
    "        \"iris_df.head()\",\n",
    "        \"iris_df[0:4]\",\n",
    "        \"iris_df.iloc[0:4]\",\n",
    "        \"iris_df.loc[0:4]\",\n",
    "        \"iris_df.loc[iris_df.index.isin(range(0,4))]\",\n",
    "        \"iris_df.loc[lambda df: df.target=='setosa']\",\n",
    "        \"iris_df.tail()\",\n",
    "        \"iris_df[-1:]\",\n",
    "    ]\n",
    ")\n",
    "def select_rows(command):\n",
    "    output = eval(command)\n",
    "    display.display(output)"
   ]
  },
  {
   "cell_type": "markdown",
   "metadata": {},
   "source": [
    "The following shows the different ways of slicing the columns."
   ]
  },
  {
   "cell_type": "code",
   "execution_count": null,
   "metadata": {
    "ExecuteTime": {
     "end_time": "2021-01-19T14:45:02.227423Z",
     "start_time": "2021-01-19T14:45:02.204996Z"
    },
    "slideshow": {
     "slide_type": "-"
    }
   },
   "outputs": [],
   "source": [
    "@interact(\n",
    "    command=[\n",
    "        \"iris_df.target\",\n",
    "        'iris_df[\"target\"]',\n",
    "        'iris_df[[\"target\"]]',\n",
    "        \"iris_df[iris_df.columns[:-1]]\",\n",
    "        \"iris_df.loc[:,iris_df.columns[0]:iris_df.columns[-1]]\",\n",
    "        'iris_df.loc[:,~iris_df.columns.isin([\"target\"])]',\n",
    "        \"iris_df.iloc[:,:-1]\",\n",
    "    ]\n",
    ")\n",
    "def select_columns(command):\n",
    "    output = eval(command)\n",
    "    display.display(output)"
   ]
  },
  {
   "cell_type": "markdown",
   "metadata": {},
   "source": [
    "For instance, to compute the mean values of the input features for iris setosa:"
   ]
  },
  {
   "cell_type": "code",
   "execution_count": null,
   "metadata": {
    "ExecuteTime": {
     "end_time": "2021-01-19T14:45:02.256761Z",
     "start_time": "2021-01-19T14:45:02.228882Z"
    }
   },
   "outputs": [],
   "source": [
    "iris_df.iloc[lambda df: (df[\"target\"] == \"setosa\").to_numpy(), :-1].mean()"
   ]
  },
  {
   "cell_type": "markdown",
   "metadata": {},
   "source": [
    "We can also use the method `groupby` to obtain the mean values by flower types:"
   ]
  },
  {
   "cell_type": "code",
   "execution_count": null,
   "metadata": {
    "ExecuteTime": {
     "end_time": "2021-01-19T14:45:02.267842Z",
     "start_time": "2021-01-19T14:45:02.258005Z"
    }
   },
   "outputs": [],
   "source": [
    "iris_df.groupby(\"target\").mean()"
   ]
  },
  {
   "cell_type": "markdown",
   "metadata": {},
   "source": [
    "**Exercise** Create a new `DataFrame` `iris2d_df` by dropping the first two features `sepal length (cm)` and `sepal width (cm)` from `iris_df`. Note that you may use the method `drop`."
   ]
  },
  {
   "cell_type": "code",
   "execution_count": null,
   "metadata": {
    "ExecuteTime": {
     "end_time": "2021-01-19T14:45:02.287750Z",
     "start_time": "2021-01-19T14:45:02.269216Z"
    },
    "tags": [
     "remove-cell"
    ]
   },
   "outputs": [],
   "source": [
    "# to learn how to use drop\n",
    "iris_df.drop?"
   ]
  },
  {
   "cell_type": "code",
   "execution_count": null,
   "metadata": {
    "ExecuteTime": {
     "end_time": "2021-01-19T14:45:02.320789Z",
     "start_time": "2021-01-19T14:45:02.289206Z"
    },
    "deletable": false,
    "nbgrader": {
     "cell_type": "code",
     "checksum": "5568aa06a594a92d409c52daafe9c382",
     "grade": false,
     "grade_id": "iris2d",
     "locked": false,
     "schema_version": 3,
     "solution": true,
     "task": false
    },
    "tags": [
     "remove-output"
    ]
   },
   "outputs": [],
   "source": [
    "# YOUR CODE HERE\n",
    "raise NotImplementedError()\n",
    "iris2d_df"
   ]
  },
  {
   "cell_type": "code",
   "execution_count": null,
   "metadata": {
    "ExecuteTime": {
     "end_time": "2021-01-19T14:45:02.331572Z",
     "start_time": "2021-01-19T14:45:02.322252Z"
    },
    "deletable": false,
    "editable": false,
    "nbgrader": {
     "cell_type": "code",
     "checksum": "62668aeb2585295c8f6eefddca62d45e",
     "grade": true,
     "grade_id": "test-iris2d",
     "locked": true,
     "points": 1,
     "schema_version": 3,
     "solution": false,
     "task": false
    },
    "tags": [
     "hide-input",
     "remove-output"
    ]
   },
   "outputs": [],
   "source": [
    "# tests\n",
    "assert set(iris2d_df.columns) == {\"petal length (cm)\", \"petal width (cm)\", \"target\"}"
   ]
  },
  {
   "cell_type": "code",
   "execution_count": null,
   "metadata": {
    "deletable": false,
    "editable": false,
    "nbgrader": {
     "cell_type": "code",
     "checksum": "71e57cc1145c2127b72f8ff082c596d6",
     "grade": true,
     "grade_id": "htest-iris2d",
     "locked": true,
     "points": 1,
     "schema_version": 3,
     "solution": false,
     "task": false
    },
    "tags": [
     "remove-cell"
    ]
   },
   "outputs": [],
   "source": [
    "## hidden tests"
   ]
  },
  {
   "cell_type": "markdown",
   "metadata": {},
   "source": [
    "### Alternatives methods of loading a dataset"
   ]
  },
  {
   "cell_type": "markdown",
   "metadata": {},
   "source": [
    "The following code loads the iris dataset from an [ARFF file](https://waikato.github.io/weka-wiki/formats_and_processing/arff/) instead."
   ]
  },
  {
   "cell_type": "code",
   "execution_count": null,
   "metadata": {
    "ExecuteTime": {
     "end_time": "2021-01-19T14:45:02.520505Z",
     "start_time": "2021-01-19T14:45:02.333103Z"
    }
   },
   "outputs": [],
   "source": [
    "import io\n",
    "import urllib.request\n",
    "\n",
    "from scipy.io import arff\n",
    "\n",
    "ftpstream = urllib.request.urlopen(\n",
    "    \"https://raw.githubusercontent.com/Waikato/weka-3.8/master/wekadocs/data/iris.arff\"\n",
    ")\n",
    "iris_arff = arff.loadarff(io.StringIO(ftpstream.read().decode(\"utf-8\")))\n",
    "iris_df2 = pd.DataFrame(iris_arff[0])\n",
    "iris_df2[\"class\"] = iris_df2[\"class\"].astype(\"category\")\n",
    "iris_df2"
   ]
  },
  {
   "cell_type": "markdown",
   "metadata": {},
   "source": [
    "Pandas also provides a method to read the iris dataset directly from a CSV file locally or from the internet such as the [UCI respository](https://archive.ics.uci.edu/ml/datasets/iris)."
   ]
  },
  {
   "cell_type": "code",
   "execution_count": null,
   "metadata": {
    "ExecuteTime": {
     "end_time": "2021-01-19T14:45:04.234365Z",
     "start_time": "2021-01-19T14:45:03.476187Z"
    },
    "slideshow": {
     "slide_type": "-"
    }
   },
   "outputs": [],
   "source": [
    "iris_df3 = pd.read_csv(\n",
    "    \"https://archive.ics.uci.edu/ml/machine-learning-databases/iris/iris.data\",\n",
    "    sep=\",\",\n",
    "    dtype={\"target\": \"category\"},\n",
    "    header=None,\n",
    "    names=iris.feature_names + [\"target\"],\n",
    ")\n",
    "iris_df3"
   ]
  },
  {
   "cell_type": "markdown",
   "metadata": {},
   "source": [
    "The additional arguments `dtype`, `header`, and `names` allow us to specify the attribute datatypes and names."
   ]
  },
  {
   "cell_type": "markdown",
   "metadata": {},
   "source": [
    "## Training and Testing"
   ]
  },
  {
   "cell_type": "markdown",
   "metadata": {},
   "source": [
    "To give an unbiased performance estimate of a learning algorithm of interest, the fundamental principle is *to use separate datasets for training and testing*."
   ]
  },
  {
   "cell_type": "markdown",
   "metadata": {},
   "source": [
    "If there is only one dataset, we should split it into *training sets* and *test sets* by *random sampling* to avoid bias in the performance estimate. In the following subsections, we will illustrate some methods of splitting the datasets for training and testing."
   ]
  },
  {
   "cell_type": "markdown",
   "metadata": {},
   "source": [
    "### Stratified holdout method"
   ]
  },
  {
   "cell_type": "markdown",
   "metadata": {},
   "source": [
    "This method randomly samples data for training or testing without replacement. It is implemented by the `train_test_split` function from the `sklearn.model_selection` package."
   ]
  },
  {
   "cell_type": "code",
   "execution_count": null,
   "metadata": {
    "ExecuteTime": {
     "end_time": "2021-01-19T14:45:04.257557Z",
     "start_time": "2021-01-19T14:45:04.246741Z"
    },
    "colab": {},
    "colab_type": "code",
    "id": "t3tbDaTINzM4",
    "slideshow": {
     "slide_type": "fragment"
    }
   },
   "outputs": [],
   "source": [
    "from sklearn.model_selection import train_test_split\n",
    "\n",
    "X_train, X_test, Y_train, Y_test = train_test_split(\n",
    "    iris_df[iris.feature_names],  # We also separated the input features\n",
    "    iris_df.target,  # and target as X and Y for the training and test sets.\n",
    "    test_size=0.2,  # fraction for test set\n",
    "    random_state=1,\n",
    "    stratify=iris_df.target,\n",
    ")  # random seed\n",
    "\n",
    "X_train.shape, X_test.shape, Y_train.shape, Y_test.shape"
   ]
  },
  {
   "cell_type": "markdown",
   "metadata": {},
   "source": [
    "The fraction of holdout test data is:"
   ]
  },
  {
   "cell_type": "code",
   "execution_count": null,
   "metadata": {
    "ExecuteTime": {
     "end_time": "2021-01-19T14:45:04.283183Z",
     "start_time": "2021-01-19T14:45:04.258879Z"
    }
   },
   "outputs": [],
   "source": [
    "len(Y_test) / (len(Y_test) + len(Y_train))"
   ]
  },
  {
   "cell_type": "markdown",
   "metadata": {},
   "source": [
    "The class proportion of the iris dataset can be plotted as follows:"
   ]
  },
  {
   "cell_type": "code",
   "execution_count": null,
   "metadata": {
    "ExecuteTime": {
     "end_time": "2021-01-19T14:45:04.409540Z",
     "start_time": "2021-01-19T14:45:04.285831Z"
    }
   },
   "outputs": [],
   "source": [
    "iris_df.target.value_counts().plot(kind=\"bar\", ylabel=\"counts\")"
   ]
  },
  {
   "cell_type": "markdown",
   "metadata": {},
   "source": [
    "We can check the effect of stratification on the class proportions:"
   ]
  },
  {
   "cell_type": "code",
   "execution_count": null,
   "metadata": {
    "ExecuteTime": {
     "end_time": "2021-01-19T14:45:04.534161Z",
     "start_time": "2021-01-19T14:45:04.411016Z"
    },
    "slideshow": {
     "slide_type": "-"
    }
   },
   "outputs": [],
   "source": [
    "@interact(stratify=False, data=[\"Y_train\", \"Y_test\"], seed=(0, 10))\n",
    "def plot_class_proportions(stratify, data, seed=0):\n",
    "    Y_train, Y_test = train_test_split(\n",
    "        iris_df.target,\n",
    "        test_size=0.2,\n",
    "        random_state=seed,\n",
    "        stratify=iris_df.target if stratify else None,\n",
    "    )\n",
    "    eval(data).value_counts().sort_index().plot(kind=\"bar\", ylabel=\"counts\")"
   ]
  },
  {
   "cell_type": "markdown",
   "metadata": {},
   "source": [
    "We first apply a learning algorithm, say the decision tree induction algorithm, to train a classifier using only the training set."
   ]
  },
  {
   "cell_type": "code",
   "execution_count": null,
   "metadata": {
    "ExecuteTime": {
     "end_time": "2021-01-19T14:45:04.542262Z",
     "start_time": "2021-01-19T14:45:04.535563Z"
    },
    "colab": {},
    "colab_type": "code",
    "id": "EllmT0GtOaWi",
    "slideshow": {
     "slide_type": "fragment"
    }
   },
   "outputs": [],
   "source": [
    "from sklearn import tree\n",
    "\n",
    "clf = tree.DecisionTreeClassifier(random_state=0)  # the training is also randomized\n",
    "clf.fit(X_train, Y_train)  # fit the model to the training set"
   ]
  },
  {
   "cell_type": "markdown",
   "metadata": {},
   "source": [
    "We can use the `predict` method of the trained classifier to predict the flower type from input features."
   ]
  },
  {
   "cell_type": "code",
   "execution_count": null,
   "metadata": {
    "ExecuteTime": {
     "end_time": "2021-01-19T14:45:04.553334Z",
     "start_time": "2021-01-19T14:45:04.543582Z"
    }
   },
   "outputs": [],
   "source": [
    "Y_pred = clf.predict(X_test)\n",
    "Y_pred"
   ]
  },
  {
   "cell_type": "markdown",
   "metadata": {},
   "source": [
    "The following code returns the accuracy of the classifier, namely, the fraction of correct predictions on the test set."
   ]
  },
  {
   "cell_type": "code",
   "execution_count": null,
   "metadata": {
    "ExecuteTime": {
     "end_time": "2021-01-19T14:45:04.572005Z",
     "start_time": "2021-01-19T14:45:04.554591Z"
    }
   },
   "outputs": [],
   "source": [
    "accuracy_holdout = (Y_pred == Y_test).mean()\n",
    "accuracy_holdout"
   ]
  },
  {
   "cell_type": "markdown",
   "metadata": {},
   "source": [
    "The `score` method performs the same computation. The following uses f-string to format the accuracy to 3 decimal places."
   ]
  },
  {
   "cell_type": "code",
   "execution_count": null,
   "metadata": {
    "ExecuteTime": {
     "end_time": "2021-01-19T14:45:04.583819Z",
     "start_time": "2021-01-19T14:45:04.574312Z"
    }
   },
   "outputs": [],
   "source": [
    "print(f\"Accuracy: {clf.score(X_test, Y_test):0.3f}\")"
   ]
  },
  {
   "cell_type": "markdown",
   "metadata": {},
   "source": [
    "To see input features of misclassified test instances:"
   ]
  },
  {
   "cell_type": "code",
   "execution_count": null,
   "metadata": {
    "ExecuteTime": {
     "end_time": "2021-01-19T14:45:04.600134Z",
     "start_time": "2021-01-19T14:45:04.585166Z"
    }
   },
   "outputs": [],
   "source": [
    "X_test[Y_pred != Y_test]"
   ]
  },
  {
   "cell_type": "markdown",
   "metadata": {},
   "source": [
    "**Exercise** Assign `accuracy_holdout_training_set` to the accuracy of the predictions on the training set. Check that the accuracy is overly optimistic."
   ]
  },
  {
   "cell_type": "code",
   "execution_count": null,
   "metadata": {
    "ExecuteTime": {
     "end_time": "2021-01-19T14:45:04.612905Z",
     "start_time": "2021-01-19T14:45:04.602100Z"
    },
    "deletable": false,
    "nbgrader": {
     "cell_type": "code",
     "checksum": "0a2673867ecbae3a3bf05f78983470c8",
     "grade": false,
     "grade_id": "accuracy_holdout_training_set",
     "locked": false,
     "schema_version": 3,
     "solution": true,
     "task": false
    },
    "tags": [
     "hide-input",
     "remove-output"
    ]
   },
   "outputs": [],
   "source": [
    "# YOUR CODE HERE\n",
    "raise NotImplementedError()\n",
    "accuracy_holdout_training_set"
   ]
  },
  {
   "cell_type": "code",
   "execution_count": null,
   "metadata": {
    "ExecuteTime": {
     "end_time": "2021-01-19T14:45:04.623723Z",
     "start_time": "2021-01-19T14:45:04.614182Z"
    },
    "deletable": false,
    "editable": false,
    "nbgrader": {
     "cell_type": "code",
     "checksum": "a5367ecea97657d0c7f04d774adfaa2f",
     "grade": true,
     "grade_id": "test-accuracy_holdout_training_set",
     "locked": true,
     "points": 1,
     "schema_version": 3,
     "solution": false,
     "task": false
    },
    "tags": [
     "remove-cell"
    ]
   },
   "outputs": [],
   "source": [
    "# hidden tests"
   ]
  },
  {
   "cell_type": "markdown",
   "metadata": {},
   "source": [
    "**Exercise** Complete the following function which applies random subsampling to reduce the variance of the accuracy estimate. In particular, the function `subsampling_score` should return the average of `N` accuracies of $20\\%$ stratified holdout with random seed set from `0` up to `N-1`, where `N` is the integer input argument of the function."
   ]
  },
  {
   "cell_type": "code",
   "execution_count": null,
   "metadata": {
    "ExecuteTime": {
     "end_time": "2021-01-19T14:45:04.638014Z",
     "start_time": "2021-01-19T14:45:04.625167Z"
    },
    "deletable": false,
    "nbgrader": {
     "cell_type": "code",
     "checksum": "884b0acc231060866f65003a70b24ffb",
     "grade": false,
     "grade_id": "subsampling",
     "locked": false,
     "schema_version": 3,
     "solution": true,
     "task": false
    },
    "slideshow": {
     "slide_type": "-"
    },
    "tags": [
     "remove-output"
    ]
   },
   "outputs": [],
   "source": [
    "from functools import lru_cache\n",
    "\n",
    "import numpy as np\n",
    "\n",
    "\n",
    "@lru_cache(None)  # cache the return value to avoid repeated computation\n",
    "def holdout_score(seed):\n",
    "    clf = tree.DecisionTreeClassifier(random_state=seed)\n",
    "    X_train, X_test, Y_train, Y_test = train_test_split(\n",
    "        iris_df[iris.feature_names], iris_df.target, test_size=0.2, random_state=seed\n",
    "    )\n",
    "    # YOUR CODE HERE\n",
    "    raise NotImplementedError()\n",
    "\n",
    "\n",
    "@lru_cache(None)\n",
    "def subsampling_score(N):\n",
    "    return sum(holdout_score(i) for i in range(N)) / N"
   ]
  },
  {
   "cell_type": "code",
   "execution_count": null,
   "metadata": {
    "ExecuteTime": {
     "end_time": "2021-01-19T14:45:04.882926Z",
     "start_time": "2021-01-19T14:45:04.640433Z"
    },
    "deletable": false,
    "editable": false,
    "nbgrader": {
     "cell_type": "code",
     "checksum": "3c20b96e07a28aaa2b9889de7c89ade0",
     "grade": true,
     "grade_id": "test-subsampling",
     "locked": true,
     "points": 1,
     "schema_version": 3,
     "solution": false,
     "task": false
    },
    "tags": [
     "hide-input",
     "remove-output"
    ]
   },
   "outputs": [],
   "source": [
    "# tests\n",
    "assert np.isclose(subsampling_score(50), 0.9466666666666663)"
   ]
  },
  {
   "cell_type": "code",
   "execution_count": null,
   "metadata": {
    "deletable": false,
    "editable": false,
    "nbgrader": {
     "cell_type": "code",
     "checksum": "fec78d6ef292f40f4af702b7dcf2a955",
     "grade": true,
     "grade_id": "htest-subsampling",
     "locked": true,
     "points": 1,
     "schema_version": 3,
     "solution": false,
     "task": false
    },
    "tags": [
     "remove-cell"
    ]
   },
   "outputs": [],
   "source": [
    "# hidden tests"
   ]
  },
  {
   "cell_type": "markdown",
   "metadata": {},
   "source": [
    "After implementing `subsampling_score`, the following code should plot the mean accuracies for different `N`. Check that the variation become smaller as `N` increases."
   ]
  },
  {
   "cell_type": "code",
   "execution_count": null,
   "metadata": {
    "ExecuteTime": {
     "end_time": "2021-01-19T14:45:05.170050Z",
     "start_time": "2021-01-19T14:45:04.884191Z"
    },
    "tags": [
     "remove-output"
    ]
   },
   "outputs": [],
   "source": [
    "import matplotlib.pyplot as plt\n",
    "\n",
    "plt.stem([subsampling_score(i) for i in range(1, 50)])\n",
    "plt.xlabel(r\"$N$\")\n",
    "plt.ylabel(r\"Mean accuracy\")"
   ]
  },
  {
   "cell_type": "markdown",
   "metadata": {},
   "source": [
    "The documentation [here](https://ogrisel.github.io/scikit-learn.org/sklearn-tutorial/modules/generated/sklearn.cross_validation.Bootstrap.html) describes another alternative called the boostrap method, which samples without replacement. Unlike the original bootstrap method, the test set is also sampled with replacement instead of taken directly from the out-of-the-bag instances, which are not used for training."
   ]
  },
  {
   "cell_type": "markdown",
   "metadata": {},
   "source": [
    "### Stratified cross-validation"
   ]
  },
  {
   "cell_type": "markdown",
   "metadata": {},
   "source": [
    "Another method of evaluating a classification algorithm is to randomly partition the data into $k$ *folds*, which are nearly equal-sized blocks of instances. The score is the average of the accuracies obtained by using each fold to test a classifier trained using the remaining folds."
   ]
  },
  {
   "cell_type": "markdown",
   "metadata": {},
   "source": [
    "The module `sklearn.model_selection` provides two functions `cross_val_predict` and `cross_val_score` for this purpose."
   ]
  },
  {
   "cell_type": "code",
   "execution_count": null,
   "metadata": {
    "ExecuteTime": {
     "end_time": "2021-01-19T14:45:05.174175Z",
     "start_time": "2021-01-19T14:45:05.171547Z"
    }
   },
   "outputs": [],
   "source": [
    "from sklearn.model_selection import StratifiedKFold, cross_val_predict, cross_val_score\n",
    "\n",
    "cv = StratifiedKFold(n_splits=5, random_state=0, shuffle=True)"
   ]
  },
  {
   "cell_type": "markdown",
   "metadata": {},
   "source": [
    "For instance, the following returns the misclassified instances by 5-fold cross-validation."
   ]
  },
  {
   "cell_type": "code",
   "execution_count": null,
   "metadata": {
    "ExecuteTime": {
     "end_time": "2021-01-19T14:45:05.232461Z",
     "start_time": "2021-01-19T14:45:05.175420Z"
    },
    "colab": {},
    "colab_type": "code",
    "id": "lkopY_9pj12l",
    "slideshow": {
     "slide_type": "subslide"
    }
   },
   "outputs": [],
   "source": [
    "iris_df[\"prediction\"] = pd.Categorical(\n",
    "    cross_val_predict(clf, iris_df[iris.feature_names], iris_df.target, cv=cv)\n",
    ")\n",
    "iris_df.loc[lambda df: df[\"target\"] != df[\"prediction\"]]"
   ]
  },
  {
   "cell_type": "code",
   "execution_count": null,
   "metadata": {
    "ExecuteTime": {
     "end_time": "2021-01-19T14:45:05.277512Z",
     "start_time": "2021-01-19T14:45:05.233630Z"
    }
   },
   "outputs": [],
   "source": [
    "clf = tree.DecisionTreeClassifier(random_state=0)\n",
    "scores = cross_val_score(clf, iris_df[iris.feature_names], iris_df.target, cv=5)\n",
    "print(\"Accuracies: \", \", \".join(f\"{acc:.4f}\" for acc in scores))\n",
    "print(f\"Mean accuracy: {scores.mean():.4f}\")"
   ]
  },
  {
   "cell_type": "markdown",
   "metadata": {},
   "source": [
    "**Exercise** Assign `accuracy_cv` to the accuracy obtained by the cross validation result above."
   ]
  },
  {
   "cell_type": "code",
   "execution_count": null,
   "metadata": {
    "ExecuteTime": {
     "end_time": "2021-01-19T14:45:05.326308Z",
     "start_time": "2021-01-19T14:45:05.278906Z"
    },
    "colab": {},
    "colab_type": "code",
    "deletable": false,
    "id": "ZE5pla5bszpB",
    "nbgrader": {
     "cell_type": "code",
     "checksum": "0c3a287b0e2e64eeac21a3c5a772d503",
     "grade": false,
     "grade_id": "cv_score",
     "locked": false,
     "schema_version": 3,
     "solution": true,
     "task": false
    },
    "slideshow": {
     "slide_type": "-"
    },
    "tags": [
     "remove-output",
     "hide-input"
    ]
   },
   "outputs": [],
   "source": [
    "# YOUR CODE HERE\n",
    "raise NotImplementedError()\n",
    "accuracy_cv"
   ]
  },
  {
   "cell_type": "code",
   "execution_count": null,
   "metadata": {
    "ExecuteTime": {
     "end_time": "2021-01-19T14:45:05.330350Z",
     "start_time": "2021-01-19T14:45:05.327724Z"
    },
    "deletable": false,
    "editable": false,
    "nbgrader": {
     "cell_type": "code",
     "checksum": "67b269d410e96883590613fa9c2db59b",
     "grade": true,
     "grade_id": "test-cv_score",
     "locked": true,
     "points": 1,
     "schema_version": 3,
     "solution": false,
     "task": false
    },
    "slideshow": {
     "slide_type": "-"
    },
    "tags": [
     "remove-cell"
    ]
   },
   "outputs": [],
   "source": [
    "# hidden tests"
   ]
  }
 ],
 "metadata": {
  "kernelspec": {
   "display_name": "Python 3 (ipykernel)",
   "language": "python",
   "name": "python3"
  },
  "language_info": {
   "codemirror_mode": {
    "name": "ipython",
    "version": 3
   },
   "file_extension": ".py",
   "mimetype": "text/x-python",
   "name": "python",
   "nbconvert_exporter": "python",
   "pygments_lexer": "ipython3",
   "version": "3.8.12"
  },
  "rise": {
   "enable_chalkboard": true,
   "scroll": true,
   "theme": "beige"
  },
  "toc": {
   "base_numbering": 1,
   "nav_menu": {},
   "number_sections": true,
   "sideBar": true,
   "skip_h1_title": true,
   "title_cell": "Table of Contents",
   "title_sidebar": "Contents",
   "toc_cell": false,
   "toc_position": {},
   "toc_section_display": true,
   "toc_window_display": false
  },
  "widgets": {
   "application/vnd.jupyter.widget-state+json": {
    "state": {
     "1cbf44b84e204fdfb44022d4b2526b18": {
      "model_module": "@jupyter-widgets/controls",
      "model_module_version": "1.5.0",
      "model_name": "DropdownModel",
      "state": {
       "_options_labels": [
        "iris_df.head()",
        "iris_df[0:4]",
        "iris_df.iloc[0:4]",
        "iris_df.loc[0:4]",
        "iris_df.loc[iris_df.index.isin(range(0,4))]",
        "iris_df.loc[lambda df: df.target=='setosa']",
        "iris_df.tail()",
        "iris_df[-1:]"
       ],
       "description": "command",
       "index": 0,
       "layout": "IPY_MODEL_e823cc95657d4ba2a62451a3f23fdbec",
       "style": "IPY_MODEL_750559da275c45e58fbcd16b1d10dd9d"
      }
     },
     "1eb3441d4803498e8466ca866c659b28": {
      "model_module": "@jupyter-widgets/base",
      "model_module_version": "1.2.0",
      "model_name": "LayoutModel",
      "state": {}
     },
     "3ac234ca519f42f8a81b3f3690a90cd6": {
      "model_module": "@jupyter-widgets/controls",
      "model_module_version": "1.5.0",
      "model_name": "VBoxModel",
      "state": {
       "_dom_classes": [
        "widget-interact"
       ],
       "children": [
        "IPY_MODEL_5ab728222fbc4a84a2b7e12ed3cf8caa",
        "IPY_MODEL_fb67e5c96fc14b02a0c3608b1200d8af",
        "IPY_MODEL_d1592386ce694911bd8d7a030b275981",
        "IPY_MODEL_8e8fdc4d2bb74879863f2705d347c388"
       ],
       "layout": "IPY_MODEL_944fc7af690f420a859f3a021bd25a42"
      }
     },
     "3ae3c4138ead44379c0e9a48276c03ec": {
      "model_module": "@jupyter-widgets/output",
      "model_module_version": "1.0.0",
      "model_name": "OutputModel",
      "state": {
       "layout": "IPY_MODEL_d5c3e59519914c1389bd25dfad26e769",
       "outputs": [
        {
         "data": {
          "text/plain": "0         setosa\n1         setosa\n2         setosa\n3         setosa\n4         setosa\n         ...    \n145    virginica\n146    virginica\n147    virginica\n148    virginica\n149    virginica\nName: target, Length: 150, dtype: category\nCategories (3, object): ['setosa', 'versicolor', 'virginica']"
         },
         "metadata": {},
         "output_type": "display_data"
        }
       ]
      }
     },
     "3e459da5f0094411a4de2d845a2ba725": {
      "model_module": "@jupyter-widgets/base",
      "model_module_version": "1.2.0",
      "model_name": "LayoutModel",
      "state": {}
     },
     "3e84dd8e532844df84804a6e2ac551d1": {
      "model_module": "@jupyter-widgets/controls",
      "model_module_version": "1.5.0",
      "model_name": "DescriptionStyleModel",
      "state": {
       "description_width": ""
      }
     },
     "43d5a255df4a4474a7a587ad1aad18f6": {
      "model_module": "@jupyter-widgets/base",
      "model_module_version": "1.2.0",
      "model_name": "LayoutModel",
      "state": {}
     },
     "5ab728222fbc4a84a2b7e12ed3cf8caa": {
      "model_module": "@jupyter-widgets/controls",
      "model_module_version": "1.5.0",
      "model_name": "CheckboxModel",
      "state": {
       "description": "stratify",
       "disabled": false,
       "layout": "IPY_MODEL_43d5a255df4a4474a7a587ad1aad18f6",
       "style": "IPY_MODEL_3e84dd8e532844df84804a6e2ac551d1",
       "value": false
      }
     },
     "685c73ed4281414b8046786b771ed10d": {
      "model_module": "@jupyter-widgets/controls",
      "model_module_version": "1.5.0",
      "model_name": "DropdownModel",
      "state": {
       "_options_labels": [
        "iris_df.target",
        "iris_df[\"target\"]",
        "iris_df[[\"target\"]]",
        "iris_df[iris_df.columns[:-1]]",
        "iris_df.loc[:,iris_df.columns[0]:iris_df.columns[-1]]",
        "iris_df.loc[:,~iris_df.columns.isin([\"target\"])]",
        "iris_df.iloc[:,:-1]"
       ],
       "description": "command",
       "index": 0,
       "layout": "IPY_MODEL_b3649c7a0baa425eb38a75c6766074be",
       "style": "IPY_MODEL_eec84549b7014f6498ae9941359ac354"
      }
     },
     "68c5e92efdcc4942b5ba44813635096e": {
      "model_module": "@jupyter-widgets/base",
      "model_module_version": "1.2.0",
      "model_name": "LayoutModel",
      "state": {}
     },
     "750559da275c45e58fbcd16b1d10dd9d": {
      "model_module": "@jupyter-widgets/controls",
      "model_module_version": "1.5.0",
      "model_name": "DescriptionStyleModel",
      "state": {
       "description_width": ""
      }
     },
     "759db6da30cd495392ba2c7f9da04aa4": {
      "model_module": "@jupyter-widgets/controls",
      "model_module_version": "1.5.0",
      "model_name": "VBoxModel",
      "state": {
       "_dom_classes": [
        "widget-interact"
       ],
       "children": [
        "IPY_MODEL_685c73ed4281414b8046786b771ed10d",
        "IPY_MODEL_3ae3c4138ead44379c0e9a48276c03ec"
       ],
       "layout": "IPY_MODEL_3e459da5f0094411a4de2d845a2ba725"
      }
     },
     "7d57cc2163ab49cb93abec28960e0b62": {
      "model_module": "@jupyter-widgets/base",
      "model_module_version": "1.2.0",
      "model_name": "LayoutModel",
      "state": {}
     },
     "836d4502c0e74faa8ad2d327cefb0771": {
      "model_module": "@jupyter-widgets/controls",
      "model_module_version": "1.5.0",
      "model_name": "DescriptionStyleModel",
      "state": {
       "description_width": ""
      }
     },
     "8e8fdc4d2bb74879863f2705d347c388": {
      "model_module": "@jupyter-widgets/output",
      "model_module_version": "1.0.0",
      "model_name": "OutputModel",
      "state": {
       "layout": "IPY_MODEL_e7d59ea683064eb3b692bbaa56d3a75f",
       "outputs": [
        {
         "data": {
          "image/png": "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\n",
          "text/plain": "<Figure size 432x288 with 1 Axes>"
         },
         "metadata": {
          "needs_background": "light"
         },
         "output_type": "display_data"
        }
       ]
      }
     },
     "8f1c987f4bd34667be05707a8fc50e3f": {
      "model_module": "@jupyter-widgets/controls",
      "model_module_version": "1.5.0",
      "model_name": "SliderStyleModel",
      "state": {
       "description_width": ""
      }
     },
     "9211bd15aa024ec599b4e3407393b250": {
      "model_module": "@jupyter-widgets/controls",
      "model_module_version": "1.5.0",
      "model_name": "VBoxModel",
      "state": {
       "_dom_classes": [
        "widget-interact"
       ],
       "children": [
        "IPY_MODEL_1cbf44b84e204fdfb44022d4b2526b18",
        "IPY_MODEL_ed38b44a3b3b46519d9a0308dc7217c1"
       ],
       "layout": "IPY_MODEL_ceb69dd5b1b84797aa6896d3a7c32baa"
      }
     },
     "944fc7af690f420a859f3a021bd25a42": {
      "model_module": "@jupyter-widgets/base",
      "model_module_version": "1.2.0",
      "model_name": "LayoutModel",
      "state": {}
     },
     "b3649c7a0baa425eb38a75c6766074be": {
      "model_module": "@jupyter-widgets/base",
      "model_module_version": "1.2.0",
      "model_name": "LayoutModel",
      "state": {}
     },
     "ceb69dd5b1b84797aa6896d3a7c32baa": {
      "model_module": "@jupyter-widgets/base",
      "model_module_version": "1.2.0",
      "model_name": "LayoutModel",
      "state": {}
     },
     "d1592386ce694911bd8d7a030b275981": {
      "model_module": "@jupyter-widgets/controls",
      "model_module_version": "1.5.0",
      "model_name": "IntSliderModel",
      "state": {
       "description": "seed",
       "layout": "IPY_MODEL_68c5e92efdcc4942b5ba44813635096e",
       "max": 10,
       "style": "IPY_MODEL_8f1c987f4bd34667be05707a8fc50e3f"
      }
     },
     "d5c3e59519914c1389bd25dfad26e769": {
      "model_module": "@jupyter-widgets/base",
      "model_module_version": "1.2.0",
      "model_name": "LayoutModel",
      "state": {}
     },
     "e7d59ea683064eb3b692bbaa56d3a75f": {
      "model_module": "@jupyter-widgets/base",
      "model_module_version": "1.2.0",
      "model_name": "LayoutModel",
      "state": {}
     },
     "e823cc95657d4ba2a62451a3f23fdbec": {
      "model_module": "@jupyter-widgets/base",
      "model_module_version": "1.2.0",
      "model_name": "LayoutModel",
      "state": {}
     },
     "ed38b44a3b3b46519d9a0308dc7217c1": {
      "model_module": "@jupyter-widgets/output",
      "model_module_version": "1.0.0",
      "model_name": "OutputModel",
      "state": {
       "layout": "IPY_MODEL_7d57cc2163ab49cb93abec28960e0b62",
       "outputs": [
        {
         "data": {
          "text/html": "<div>\n<style scoped>\n    .dataframe tbody tr th:only-of-type {\n        vertical-align: middle;\n    }\n\n    .dataframe tbody tr th {\n        vertical-align: top;\n    }\n\n    .dataframe thead th {\n        text-align: right;\n    }\n</style>\n<table border=\"1\" class=\"dataframe\">\n  <thead>\n    <tr style=\"text-align: right;\">\n      <th></th>\n      <th>sepal length (cm)</th>\n      <th>sepal width (cm)</th>\n      <th>petal length (cm)</th>\n      <th>petal width (cm)</th>\n      <th>target</th>\n    </tr>\n  </thead>\n  <tbody>\n    <tr>\n      <th>0</th>\n      <td>5.1</td>\n      <td>3.5</td>\n      <td>1.4</td>\n      <td>0.2</td>\n      <td>setosa</td>\n    </tr>\n    <tr>\n      <th>1</th>\n      <td>4.9</td>\n      <td>3.0</td>\n      <td>1.4</td>\n      <td>0.2</td>\n      <td>setosa</td>\n    </tr>\n    <tr>\n      <th>2</th>\n      <td>4.7</td>\n      <td>3.2</td>\n      <td>1.3</td>\n      <td>0.2</td>\n      <td>setosa</td>\n    </tr>\n    <tr>\n      <th>3</th>\n      <td>4.6</td>\n      <td>3.1</td>\n      <td>1.5</td>\n      <td>0.2</td>\n      <td>setosa</td>\n    </tr>\n    <tr>\n      <th>4</th>\n      <td>5.0</td>\n      <td>3.6</td>\n      <td>1.4</td>\n      <td>0.2</td>\n      <td>setosa</td>\n    </tr>\n  </tbody>\n</table>\n</div>",
          "text/plain": "   sepal length (cm)  sepal width (cm)  petal length (cm)  petal width (cm)  \\\n0                5.1               3.5                1.4               0.2   \n1                4.9               3.0                1.4               0.2   \n2                4.7               3.2                1.3               0.2   \n3                4.6               3.1                1.5               0.2   \n4                5.0               3.6                1.4               0.2   \n\n   target  \n0  setosa  \n1  setosa  \n2  setosa  \n3  setosa  \n4  setosa  "
         },
         "metadata": {},
         "output_type": "display_data"
        }
       ]
      }
     },
     "eec84549b7014f6498ae9941359ac354": {
      "model_module": "@jupyter-widgets/controls",
      "model_module_version": "1.5.0",
      "model_name": "DescriptionStyleModel",
      "state": {
       "description_width": ""
      }
     },
     "fb67e5c96fc14b02a0c3608b1200d8af": {
      "model_module": "@jupyter-widgets/controls",
      "model_module_version": "1.5.0",
      "model_name": "DropdownModel",
      "state": {
       "_options_labels": [
        "Y_train",
        "Y_test"
       ],
       "description": "data",
       "index": 0,
       "layout": "IPY_MODEL_1eb3441d4803498e8466ca866c659b28",
       "style": "IPY_MODEL_836d4502c0e74faa8ad2d327cefb0771"
      }
     }
    },
    "version_major": 2,
    "version_minor": 0
   }
  }
 },
 "nbformat": 4,
 "nbformat_minor": 4
}
