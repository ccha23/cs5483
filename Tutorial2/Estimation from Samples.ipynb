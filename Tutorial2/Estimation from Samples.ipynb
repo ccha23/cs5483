{
 "cells": [
  {
   "cell_type": "markdown",
   "metadata": {},
   "source": [
    "# Estimation from Samples"
   ]
  },
  {
   "cell_type": "markdown",
   "metadata": {
    "tags": [
     "remove-cell"
    ]
   },
   "source": [
    "**CS5483 Data Warehousing and Data Mining**\n",
    "___"
   ]
  },
  {
   "cell_type": "code",
   "execution_count": null,
   "metadata": {
    "ExecuteTime": {
     "end_time": "2021-02-05T01:51:15.469883Z",
     "start_time": "2021-02-05T01:51:15.210048Z"
    },
    "init_cell": true
   },
   "outputs": [],
   "source": [
    "import matplotlib.pyplot as plt\n",
    "import numpy as np\n",
    "from scipy.stats import norm\n",
    "\n",
    "%matplotlib widget\n",
    "plt.rcParams[\"figure.figsize\"] = (8, 4)"
   ]
  },
  {
   "cell_type": "markdown",
   "metadata": {},
   "source": [
    "---\n",
    "\n",
    "**Caution**\n",
    "\n",
    "There is a [memory issue](https://github.com/matplotlib/ipympl/issues/370) with [`%matplotlib widget`](https://github.com/matplotlib/ipympl). You may need to stop/restart the kernel to release the memory.\n",
    "\n",
    "---"
   ]
  },
  {
   "cell_type": "markdown",
   "metadata": {},
   "source": [
    "## Unbiased and Consistent Estimate"
   ]
  },
  {
   "cell_type": "markdown",
   "metadata": {},
   "source": [
    "### Monte-Carlo Simulation"
   ]
  },
  {
   "cell_type": "markdown",
   "metadata": {},
   "source": [
    "We will simulate the process of flipping a possibly biased coin using the module `numpy` (rename as `np`). (See an introduction [here](https://www.cs.cityu.edu.hk/~ccha23/cs1302book/Lecture9/Monte%20Carlo%20Simulation%20and%20Linear%20Algebra.html).)"
   ]
  },
  {
   "cell_type": "code",
   "execution_count": null,
   "metadata": {
    "ExecuteTime": {
     "end_time": "2021-01-19T14:45:55.187657Z",
     "start_time": "2021-01-19T14:45:55.183961Z"
    }
   },
   "outputs": [],
   "source": [
    "rng = np.random.default_rng(seed=0)"
   ]
  },
  {
   "cell_type": "markdown",
   "metadata": {},
   "source": [
    "The above sets a random seed so that the results can be reproducible."
   ]
  },
  {
   "cell_type": "markdown",
   "metadata": {},
   "source": [
    "The following chooses the probability $p$ of head. It uniformly randomly pick the value from the unit interval $[0,1)$."
   ]
  },
  {
   "cell_type": "code",
   "execution_count": null,
   "metadata": {
    "ExecuteTime": {
     "end_time": "2021-01-19T14:45:55.198352Z",
     "start_time": "2021-01-19T14:45:55.189132Z"
    }
   },
   "outputs": [],
   "source": [
    "p = rng.random()  # randomly generate the probability of head coming up."
   ]
  },
  {
   "cell_type": "markdown",
   "metadata": {},
   "source": [
    "To generate a sequence of random coin tosses:"
   ]
  },
  {
   "cell_type": "code",
   "execution_count": null,
   "metadata": {
    "ExecuteTime": {
     "end_time": "2021-01-19T14:45:55.209899Z",
     "start_time": "2021-01-19T14:45:55.199814Z"
    }
   },
   "outputs": [],
   "source": [
    "n = 5000\n",
    "coin_tosses = rng.choice([\"H\", \"T\"], size=n, p=[p, 1 - p])\n",
    "coin_tosses"
   ]
  },
  {
   "cell_type": "markdown",
   "metadata": {},
   "source": [
    "The characters `'H'` and `'T'` denotes head and tail respectively."
   ]
  },
  {
   "cell_type": "markdown",
   "metadata": {},
   "source": [
    "### M-Estimation"
   ]
  },
  {
   "cell_type": "markdown",
   "metadata": {},
   "source": [
    "We can estimate $p$ from the empirical distribution of the coin tosses:\n",
    "\n",
    "$$\n",
    "\\hat{p} := \\frac1n \\sum_{i=0}^{n-1} z_i,\n",
    "$$\n",
    "\n",
    "where $z_1,\\dots,z_n$ are i.i.d. samples of\n",
    "\n",
    "$$\n",
    "Z := \\begin{cases}\n",
    "1 & \\text{if head comes up}\\\\\n",
    "0 & \\text{if tail comes up.}\n",
    "\\end{cases}\n",
    "$$"
   ]
  },
  {
   "cell_type": "markdown",
   "metadata": {},
   "source": [
    "The formula is more generally called \n",
    "\n",
    "- the sample average of $Z$ and \n",
    "- the M-estimate of the expectation $E[Z]$ of $Z$."
   ]
  },
  {
   "cell_type": "code",
   "execution_count": null,
   "metadata": {
    "ExecuteTime": {
     "end_time": "2021-01-19T14:45:55.220867Z",
     "start_time": "2021-01-19T14:45:55.211005Z"
    }
   },
   "outputs": [],
   "source": [
    "(coin_tosses == \"H\").mean()"
   ]
  },
  {
   "cell_type": "markdown",
   "metadata": {},
   "source": [
    "In the particular case $Z$ being the indicator of head coming up, the estimate $\\hat{p}$ is the fraction of heads coming up in $n$ coin tosses."
   ]
  },
  {
   "cell_type": "markdown",
   "metadata": {},
   "source": [
    "**Exercise** The following proves that $\\hat{p}$ is an unbiased estimate:\n",
    "\n",
    "$$\n",
    "\\begin{aligned}\n",
    "E[\\hat{p}] &= E\\left[\\frac1n \\sum_{i=0}^{n-1} z_i \\right]\\\\\n",
    "&= \\frac1n \\sum_{i=0}^{n-1} \\underbrace{E[z_i]}_{\\smash{=p}} && \\text{by ???}\\\\\n",
    "&= p.\n",
    "\\end{aligned}\n",
    "$$\n",
    "\n",
    "What is the missing reasoning?"
   ]
  },
  {
   "cell_type": "markdown",
   "metadata": {
    "deletable": false,
    "nbgrader": {
     "cell_type": "markdown",
     "checksum": "2ca3b7658975f190d06da1524e2fba19",
     "grade": true,
     "grade_id": "linearity",
     "locked": false,
     "points": 1,
     "schema_version": 3,
     "solution": true,
     "task": false
    },
    "tags": [
     "remove-output"
    ]
   },
   "source": [
    "YOUR ANSWER HERE"
   ]
  },
  {
   "cell_type": "markdown",
   "metadata": {},
   "source": [
    "**Exercise** The following shows that $\\hat{p}$ is a consistent estimate:\n",
    "\n",
    "$$\n",
    "\\begin{aligned}\\sigma &:=\\sqrt{\\operatorname{Var}[\\hat{p}]}\\\\\n",
    "&= \\sqrt{\\operatorname{Var}\\left[\\frac1{n} \\sum_{i=1}^n z_i\\right]}\\\\\n",
    "&= \\sqrt{\\frac1{n^2} \\operatorname{Var}\\left[\\sum_{i=1}^n z_i\\right]}\\\\\n",
    "&=\\sqrt{\\frac1{n^2} \\sum_{i=1}^n \\underbrace{\\operatorname{Var}[z_i]}_{\\smash{=p(1-p)}}} && \\text{by ???}\\\\\n",
    "&=\\sqrt{\\frac{p(1-p)}{n}}, \\end{aligned}\n",
    "$$\n",
    "\n",
    "which goes to $0$ as $n$ goes to $\\infty$.\n",
    "\n",
    "What is the missing reasoning?"
   ]
  },
  {
   "cell_type": "markdown",
   "metadata": {
    "deletable": false,
    "nbgrader": {
     "cell_type": "markdown",
     "checksum": "d655a8850dcdfbc8e9f8d0fffa537d54",
     "grade": true,
     "grade_id": "indep",
     "locked": false,
     "points": 1,
     "schema_version": 3,
     "solution": true,
     "task": false
    },
    "tags": [
     "remove-output"
    ]
   },
   "source": [
    "YOUR ANSWER HERE"
   ]
  },
  {
   "cell_type": "markdown",
   "metadata": {},
   "source": [
    "By the [Central Limit Theorem](https://en.wikipedia.org/wiki/Central_limit_theorem) as $n$ goes to $\\infty$, the estimate has a gaussian distribution almost surely."
   ]
  },
  {
   "cell_type": "code",
   "execution_count": null,
   "metadata": {},
   "outputs": [],
   "source": [
    "plt.figure(1, clear=True)\n",
    "x = np.linspace(-4, 4, 8 * 10 + 1)\n",
    "plt.plot(x, norm.pdf(x), color=\"red\", label=r'$\\frac{1}{\\sqrt{2\\pi}}e^{-x^2}$')\n",
    "for i in range(3, 0, -1):\n",
    "    plt.fill_between(\n",
    "        x,\n",
    "        norm.pdf(x),\n",
    "        alpha=2 ** (-i),\n",
    "        color=\"blue\",\n",
    "        label=rf\"$\\Pr(|\\hat{{p}}-p|\\leq{i}\\sigma)\\approx {(norm.cdf(i)-0.5)*200:.3g}\\%$\",\n",
    "        where=(abs(x) <= i),\n",
    "    )\n",
    "plt.title(r\"Standard normal distribution for $\\frac{\\hat{p}-p}{\\sigma}$ as $n\\to \\infty$\")\n",
    "plt.xlabel(r\"x\")\n",
    "plt.ylabel(r\"probability density\")\n",
    "plt.legend()\n",
    "plt.show()"
   ]
  },
  {
   "cell_type": "markdown",
   "metadata": {},
   "source": [
    "Over $95\\%$ of the time, the estimator falls within $2$ standard deviation away from the ground truth, i.e.,\n",
    "\n",
    "$$\n",
    "\\Pr(\\hat{p}\\in [p-2\\sigma, p+2\\sigma]) \\geq 0.95\n",
    "$$"
   ]
  },
  {
   "cell_type": "markdown",
   "metadata": {},
   "source": [
    "To illustrate the above, we will generate and plot the estimate $\\hat{p}$ for different sample size $n$:"
   ]
  },
  {
   "cell_type": "code",
   "execution_count": null,
   "metadata": {
    "ExecuteTime": {
     "end_time": "2021-01-19T14:45:55.230464Z",
     "start_time": "2021-01-19T14:45:55.222611Z"
    }
   },
   "outputs": [],
   "source": [
    "size = 5000\n",
    "n = np.arange(1, size + 1)\n",
    "phat = (coin_tosses == \"H\").cumsum() / n  # use first n tosses to estimate\n",
    "sigma = (p * (1 - p) / n) ** 0.5  # true standard deviations of the estimates"
   ]
  },
  {
   "cell_type": "markdown",
   "metadata": {},
   "source": [
    "We have additionally set the plots to use vector formats so they have unlimited resolution."
   ]
  },
  {
   "cell_type": "code",
   "execution_count": null,
   "metadata": {
    "ExecuteTime": {
     "end_time": "2021-01-19T14:45:55.568973Z",
     "start_time": "2021-01-19T14:45:55.244502Z"
    }
   },
   "outputs": [],
   "source": [
    "plt.figure(2, clear=True)\n",
    "# plot the ground truth p\n",
    "plt.axhline(p, color=\"red\")\n",
    "\n",
    "# fill the region 2 sigma away from p\n",
    "plt.fill_between(\n",
    "    n, p - 2 * sigma, p + 2 * sigma, color=\"red\", alpha=0.2, label=r\"$p\\pm 2\\sigma$\"\n",
    ")\n",
    "\n",
    "# plot the estimates phat\n",
    "plt.plot(n, phat, marker=\".\", color=\"blue\", linestyle=\"\", markersize=1)\n",
    "\n",
    "# configure the plot\n",
    "plt.ylim([0, 1])\n",
    "plt.xlim([0, n.size])\n",
    "plt.title(r\"Plot of $\\hat{p}$ vs sample size\")\n",
    "plt.xlabel(\"sample size\")\n",
    "plt.ylabel(\"probability\")\n",
    "plt.legend()\n",
    "plt.show()"
   ]
  },
  {
   "cell_type": "markdown",
   "metadata": {},
   "source": [
    "## Biased Estimate"
   ]
  },
  {
   "cell_type": "markdown",
   "metadata": {},
   "source": [
    "Imagine playing the following coin-tossing game:\n",
    "\n",
    "- You win if a coin toss comes up head.\n",
    "- You get to choose 1 out of the 2 coins $i\\in \\{0,1\\}$ with unknown probability $p_i$ of coming up head.\n",
    "- You can flip each coin $n$ times before making the choice."
   ]
  },
  {
   "cell_type": "markdown",
   "metadata": {},
   "source": [
    "A particular strategy to play the game is to \n",
    "1. estimate the chance $p_i$ of winning by the empirical probability $\\hat{p}_i$ for each coin $i\\in \\{0,1\\}$, and\n",
    "1. select the coin with larger $\\hat{p}_i$ to toss.\n",
    "\n",
    "Try to understanding whether this is the optimal strategy maximizing the chance of winning?"
   ]
  },
  {
   "cell_type": "markdown",
   "metadata": {},
   "source": [
    "You can verify your understanding with Monte-Carlo simulation of the coin tossing game. The following creates a list of probabilities of head. You may learn more by changing the number of coins and their probabilities of head."
   ]
  },
  {
   "cell_type": "code",
   "execution_count": null,
   "metadata": {
    "ExecuteTime": {
     "end_time": "2021-01-19T14:45:55.574842Z",
     "start_time": "2021-01-19T14:45:55.570644Z"
    }
   },
   "outputs": [],
   "source": [
    "m = 2\n",
    "p_list = np.array([0.4] * (m - 1) + [0.6])\n",
    "# To generate the probability randomly instead, use\n",
    "# p_list = rng.random(m)\n",
    "p_list"
   ]
  },
  {
   "cell_type": "markdown",
   "metadata": {},
   "source": [
    "Instead of generating a sequence of coin tosses, we will simulate $\\hat{p}_i$ directly using the binomial distribution since\n",
    "\n",
    "$$\n",
    "n\\hat{p}_i\\sim \\operatorname{Binomial}(n,p_i).\n",
    "$$"
   ]
  },
  {
   "cell_type": "code",
   "execution_count": null,
   "metadata": {},
   "outputs": [],
   "source": [
    "size = 10\n",
    "n = np.arange(1, size + 1)\n",
    "k = 100000\n",
    "phat = rng.binomial(\n",
    "    n.reshape(-1, 1, 1), p_list.reshape(1, -1, 1), (size, m, k)\n",
    ") / n.reshape(-1, 1, 1)\n",
    "max_phat = phat.max(axis=1)\n",
    "max_phat"
   ]
  },
  {
   "cell_type": "markdown",
   "metadata": {},
   "source": [
    "`max_phat` is a 2-dimensional array of samples of $\\max_{i}\\hat{p}_i$:\n",
    "- The first axis indexes samples obtained from different number of tosses.\n",
    "- The second axis indexes `k` independent samples for the same number of tosses.\n",
    "\n",
    "The `k` independent samples can be used to approximates $E[\\max_{i}\\hat{p}_i]$ as follows."
   ]
  },
  {
   "cell_type": "code",
   "execution_count": null,
   "metadata": {},
   "outputs": [],
   "source": [
    "E_max_phat = max_phat.mean(axis=-1)\n",
    "E_max_phat"
   ]
  },
  {
   "cell_type": "markdown",
   "metadata": {},
   "source": [
    "Similarly, the winning probability can be approximated as follows:"
   ]
  },
  {
   "cell_type": "code",
   "execution_count": null,
   "metadata": {},
   "outputs": [],
   "source": [
    "win_prob = p_list[phat.argmax(axis=1)].mean(axis=-1)\n",
    "win_prob"
   ]
  },
  {
   "cell_type": "markdown",
   "metadata": {},
   "source": [
    "The following plots compare the probabilities as a function of $n$."
   ]
  },
  {
   "cell_type": "code",
   "execution_count": null,
   "metadata": {
    "ExecuteTime": {
     "end_time": "2021-01-19T14:45:56.666174Z",
     "start_time": "2021-01-19T14:45:56.375427Z"
    },
    "colab": {
     "base_uri": "https://localhost:8080/",
     "height": 726
    },
    "colab_type": "code",
    "id": "eEpEkzHe_Nri",
    "outputId": "e54a77b2-d0e3-4f85-ed8d-8743de445ddb"
   },
   "outputs": [],
   "source": [
    "plt.figure(3, clear=True)\n",
    "plt.axhline(p_list.max(), color=\"red\", label=r\"$\\max_i p_i$\")\n",
    "plt.plot(\n",
    "    n,\n",
    "    E_max_phat,\n",
    "    linestyle=\"--\",\n",
    "    marker=\".\",\n",
    "    color=\"blue\",\n",
    "    markersize=10,\n",
    "    label=r\"$E[\\max_i\\hat{p}_i]$\",\n",
    ")\n",
    "plt.plot(\n",
    "    n,\n",
    "    win_prob,\n",
    "    linestyle=\":\",\n",
    "    marker=\"x\",\n",
    "    color=\"green\",\n",
    "    markersize=10,\n",
    "    label=\"winning probability\",\n",
    ")\n",
    "\n",
    "plt.ylim([0, 1])\n",
    "plt.xlim([n[0], n[-1]])\n",
    "plt.title(r\"Plot of $E[\\max_i\\hat{p}_i]$ vs $n$\")\n",
    "plt.xlabel(\"$n$\")\n",
    "plt.ylabel(\"probability\")\n",
    "plt.legend()\n",
    "plt.show()"
   ]
  },
  {
   "cell_type": "markdown",
   "metadata": {},
   "source": [
    "**Exercise** Compare the chance of winning with $\\max_i p_i$ in general, for different $pi$'s."
   ]
  },
  {
   "cell_type": "markdown",
   "metadata": {
    "deletable": false,
    "nbgrader": {
     "cell_type": "markdown",
     "checksum": "16194c7ed1e6f65fa46abc3be3876082",
     "grade": true,
     "grade_id": "winprob_vs_max_p",
     "locked": false,
     "points": 1,
     "schema_version": 3,
     "solution": true,
     "task": false
    },
    "tags": [
     "remove-output"
    ]
   },
   "source": [
    "YOUR ANSWER HERE"
   ]
  },
  {
   "cell_type": "markdown",
   "metadata": {},
   "source": [
    "**Exercise** Compare the chance of winning with $E[\\max_i \\hat{p}_i]$. Is $\\max_i \\hat{p}_i$ a biased estimate? If so, is it overly optimistic?"
   ]
  },
  {
   "cell_type": "markdown",
   "metadata": {
    "deletable": false,
    "nbgrader": {
     "cell_type": "markdown",
     "checksum": "220bd6f1ef3afd28714d6ac6b247e122",
     "grade": true,
     "grade_id": "winprob_vs_max_phat",
     "locked": false,
     "points": 1,
     "schema_version": 3,
     "solution": true,
     "task": false
    },
    "tags": [
     "remove-output"
    ]
   },
   "source": [
    "YOUR ANSWER HERE"
   ]
  },
  {
   "cell_type": "markdown",
   "metadata": {},
   "source": [
    "**Exercise** Is $\\max_i \\hat{p}_i$ a consistent estimate of the chance of winning?"
   ]
  },
  {
   "cell_type": "markdown",
   "metadata": {
    "deletable": false,
    "nbgrader": {
     "cell_type": "markdown",
     "checksum": "3237f6317457954f58b14d1e2702de5a",
     "grade": true,
     "grade_id": "consistency",
     "locked": false,
     "points": 1,
     "schema_version": 3,
     "solution": true,
     "task": false
    },
    "tags": [
     "remove-output"
    ]
   },
   "source": [
    "YOUR ANSWER HERE"
   ]
  }
 ],
 "metadata": {
  "kernelspec": {
   "display_name": "Python 3 (ipykernel)",
   "language": "python",
   "name": "python3"
  },
  "language_info": {
   "codemirror_mode": {
    "name": "ipython",
    "version": 3
   },
   "file_extension": ".py",
   "mimetype": "text/x-python",
   "name": "python",
   "nbconvert_exporter": "python",
   "pygments_lexer": "ipython3",
   "version": "3.8.12"
  },
  "toc": {
   "base_numbering": 1,
   "nav_menu": {},
   "number_sections": true,
   "sideBar": true,
   "skip_h1_title": true,
   "title_cell": "Table of Contents",
   "title_sidebar": "Contents",
   "toc_cell": false,
   "toc_position": {},
   "toc_section_display": true,
   "toc_window_display": false
  },
  "widgets": {
   "application/vnd.jupyter.widget-state+json": {
    "state": {
     "0e0f7c1edefd483483c960c6acd46f47": {
      "model_module": "jupyter-matplotlib",
      "model_module_version": "^0.10.4",
      "model_name": "ToolbarModel",
      "state": {
       "collapsed": true,
       "layout": "IPY_MODEL_37166bdd2f4143ab96c181c7d61ca3c5",
       "orientation": "vertical",
       "toolitems": [
        [
         "Home",
         "Reset original view",
         "home",
         "home"
        ],
        [
         "Back",
         "Back to previous view",
         "arrow-left",
         "back"
        ],
        [
         "Forward",
         "Forward to next view",
         "arrow-right",
         "forward"
        ],
        [
         "Pan",
         "Left button pans, Right button zooms\nx/y fixes axis, CTRL fixes aspect",
         "arrows",
         "pan"
        ],
        [
         "Zoom",
         "Zoom to rectangle\nx/y fixes axis",
         "square-o",
         "zoom"
        ],
        [
         "Download",
         "Download plot",
         "floppy-o",
         "save_figure"
        ]
       ]
      }
     },
     "37166bdd2f4143ab96c181c7d61ca3c5": {
      "model_module": "@jupyter-widgets/base",
      "model_module_version": "1.2.0",
      "model_name": "LayoutModel",
      "state": {}
     },
     "55fb5fdd695f46c79455feaee91f06cc": {
      "model_module": "jupyter-matplotlib",
      "model_module_version": "^0.10.4",
      "model_name": "MPLCanvasModel",
      "state": {
       "_cursor": "default",
       "_data_url": "data:image/png;base64,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",
       "_figure_label": "Figure 1",
       "_image_mode": "diff",
       "_size": [
        800,
        400
       ],
       "layout": "IPY_MODEL_9fae84d8f6e4445ba2d2a1980181dccb",
       "toolbar": "IPY_MODEL_0e0f7c1edefd483483c960c6acd46f47",
       "toolbar_position": "left"
      }
     },
     "9fae84d8f6e4445ba2d2a1980181dccb": {
      "model_module": "@jupyter-widgets/base",
      "model_module_version": "1.2.0",
      "model_name": "LayoutModel",
      "state": {}
     }
    },
    "version_major": 2,
    "version_minor": 0
   }
  }
 },
 "nbformat": 4,
 "nbformat_minor": 4
}
