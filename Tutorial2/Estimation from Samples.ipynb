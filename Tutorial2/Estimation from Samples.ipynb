{
 "cells": [
  {
   "cell_type": "markdown",
   "metadata": {},
   "source": [
    "# Estimation from Samples"
   ]
  },
  {
   "cell_type": "markdown",
   "metadata": {
    "tags": [
     "remove-cell"
    ]
   },
   "source": [
    "**CS5483 Data Warehousing and Data Mining**\n",
    "___"
   ]
  },
  {
   "cell_type": "code",
   "execution_count": null,
   "metadata": {
    "ExecuteTime": {
     "end_time": "2021-02-05T01:51:15.469883Z",
     "start_time": "2021-02-05T01:51:15.210048Z"
    },
    "init_cell": true
   },
   "outputs": [],
   "source": [
    "import matplotlib.pyplot as plt\n",
    "import numpy as np\n",
    "from scipy.stats import norm\n",
    "\n",
    "%matplotlib widget\n",
    "plt.rcParams[\"figure.figsize\"] = (8, 4)"
   ]
  },
  {
   "cell_type": "markdown",
   "metadata": {},
   "source": [
    "---\n",
    "\n",
    "**Caution**\n",
    "\n",
    "There is a [memory issue](https://github.com/matplotlib/ipympl/issues/370) with [`%matplotlib widget`](https://github.com/matplotlib/ipympl). You may need to stop/restart the kernel to release the memory.\n",
    "\n",
    "---"
   ]
  },
  {
   "cell_type": "markdown",
   "metadata": {},
   "source": [
    "## Unbiased and Consistent Estimate"
   ]
  },
  {
   "cell_type": "markdown",
   "metadata": {},
   "source": [
    "### Monte-Carlo Simulation"
   ]
  },
  {
   "cell_type": "markdown",
   "metadata": {},
   "source": [
    "We will simulate the process of flipping a possibly biased coin using the module `numpy` (rename as `np`). (See an introduction [here](https://www.cs.cityu.edu.hk/~ccha23/cs1302book/Lecture9/Monte%20Carlo%20Simulation%20and%20Linear%20Algebra.html).)"
   ]
  },
  {
   "cell_type": "code",
   "execution_count": null,
   "metadata": {
    "ExecuteTime": {
     "end_time": "2021-01-19T14:45:55.187657Z",
     "start_time": "2021-01-19T14:45:55.183961Z"
    }
   },
   "outputs": [],
   "source": [
    "rng = np.random.default_rng(seed=0)"
   ]
  },
  {
   "cell_type": "markdown",
   "metadata": {},
   "source": [
    "The above sets a random seed so that the results can be reproducible."
   ]
  },
  {
   "cell_type": "markdown",
   "metadata": {},
   "source": [
    "The following chooses the probability $p$ of head. It uniformly randomly pick the value from the unit interval $[0,1)$."
   ]
  },
  {
   "cell_type": "code",
   "execution_count": null,
   "metadata": {
    "ExecuteTime": {
     "end_time": "2021-01-19T14:45:55.198352Z",
     "start_time": "2021-01-19T14:45:55.189132Z"
    }
   },
   "outputs": [],
   "source": [
    "p = rng.random()  # randomly generate the probability of head coming up."
   ]
  },
  {
   "cell_type": "markdown",
   "metadata": {},
   "source": [
    "To generate a sequence of random coin tosses:"
   ]
  },
  {
   "cell_type": "code",
   "execution_count": null,
   "metadata": {
    "ExecuteTime": {
     "end_time": "2021-01-19T14:45:55.209899Z",
     "start_time": "2021-01-19T14:45:55.199814Z"
    }
   },
   "outputs": [],
   "source": [
    "n = 5000\n",
    "coin_tosses = rng.choice([\"H\", \"T\"], size=n, p=[p, 1 - p])\n",
    "coin_tosses"
   ]
  },
  {
   "cell_type": "markdown",
   "metadata": {},
   "source": [
    "The characters `'H'` and `'T'` denotes head and tail respectively."
   ]
  },
  {
   "cell_type": "markdown",
   "metadata": {},
   "source": [
    "### M-Estimation"
   ]
  },
  {
   "cell_type": "markdown",
   "metadata": {},
   "source": [
    "We can estimate $p$ from the empirical distribution of the coin tosses:\n",
    "\n",
    "$$\n",
    "\\hat{p} := \\frac1n \\sum_{i=0}^{n-1} z_i,\n",
    "$$\n",
    "\n",
    "where $z_1,\\dots,z_n$ are i.i.d. samples of\n",
    "\n",
    "$$\n",
    "Z := \\begin{cases}\n",
    "1 & \\text{if head comes up}\\\\\n",
    "0 & \\text{if tail comes up.}\n",
    "\\end{cases}\n",
    "$$"
   ]
  },
  {
   "cell_type": "markdown",
   "metadata": {},
   "source": [
    "The formula is more generally called \n",
    "\n",
    "- the sample average of $Z$ and \n",
    "- the M-estimate of the expectation $E[Z]$ of $Z$."
   ]
  },
  {
   "cell_type": "code",
   "execution_count": null,
   "metadata": {
    "ExecuteTime": {
     "end_time": "2021-01-19T14:45:55.220867Z",
     "start_time": "2021-01-19T14:45:55.211005Z"
    }
   },
   "outputs": [],
   "source": [
    "(coin_tosses == \"H\").mean()"
   ]
  },
  {
   "cell_type": "markdown",
   "metadata": {},
   "source": [
    "In the particular case $Z$ being the indicator of head coming up, the estimate $\\hat{p}$ is the fraction of heads coming up in $n$ coin tosses."
   ]
  },
  {
   "cell_type": "markdown",
   "metadata": {},
   "source": [
    "**Exercise** The following proves that $\\hat{p}$ is an unbiased estimate:\n",
    "\n",
    "$$\n",
    "\\begin{aligned}\n",
    "E[\\hat{p}] &= E\\left[\\frac1n \\sum_{i=0}^{n-1} z_i \\right]\\\\\n",
    "&= \\frac1n \\sum_{i=0}^{n-1} \\underbrace{E[z_i]}_{\\smash{=p}} && \\text{by ???}\\\\\n",
    "&= p.\n",
    "\\end{aligned}\n",
    "$$\n",
    "\n",
    "What is the missing reasoning?"
   ]
  },
  {
   "cell_type": "markdown",
   "metadata": {
    "deletable": false,
    "nbgrader": {
     "cell_type": "markdown",
     "checksum": "2ca3b7658975f190d06da1524e2fba19",
     "grade": true,
     "grade_id": "linearity",
     "locked": false,
     "points": 1,
     "schema_version": 3,
     "solution": true,
     "task": false
    },
    "tags": [
     "remove-output"
    ]
   },
   "source": [
    "YOUR ANSWER HERE"
   ]
  },
  {
   "cell_type": "markdown",
   "metadata": {},
   "source": [
    "**Exercise** The following shows that $\\hat{p}$ is a consistent estimate:\n",
    "\n",
    "$$\n",
    "\\begin{aligned}\\sigma &:=\\sqrt{\\operatorname{Var}[\\hat{p}]}\\\\\n",
    "&= \\sqrt{\\operatorname{Var}\\left[\\frac1{n} \\sum_{i=1}^n z_i\\right]}\\\\\n",
    "&= \\sqrt{\\frac1{n^2} \\operatorname{Var}\\left[\\sum_{i=1}^n z_i\\right]}\\\\\n",
    "&=\\sqrt{\\frac1{n^2} \\sum_{i=1}^n \\underbrace{\\operatorname{Var}[z_i]}_{\\smash{=p(1-p)}}} && \\text{by ???}\\\\\n",
    "&=\\sqrt{\\frac{p(1-p)}{n}}, \\end{aligned}\n",
    "$$\n",
    "\n",
    "which goes to $0$ as $n$ goes to $\\infty$.\n",
    "\n",
    "What is the missing reasoning?"
   ]
  },
  {
   "cell_type": "markdown",
   "metadata": {
    "deletable": false,
    "nbgrader": {
     "cell_type": "markdown",
     "checksum": "d655a8850dcdfbc8e9f8d0fffa537d54",
     "grade": true,
     "grade_id": "indep",
     "locked": false,
     "points": 1,
     "schema_version": 3,
     "solution": true,
     "task": false
    },
    "tags": [
     "remove-output"
    ]
   },
   "source": [
    "YOUR ANSWER HERE"
   ]
  },
  {
   "cell_type": "markdown",
   "metadata": {},
   "source": [
    "By the [Central Limit Theorem](https://en.wikipedia.org/wiki/Central_limit_theorem) as $n$ goes to $\\infty$, the estimate has a gaussian distribution almost surely."
   ]
  },
  {
   "cell_type": "code",
   "execution_count": null,
   "metadata": {},
   "outputs": [],
   "source": [
    "plt.figure(1, clear=True)\n",
    "x = np.linspace(-4, 4, 8 * 10 + 1)\n",
    "plt.plot(x, norm.pdf(x), color=\"red\", label=r'$\\frac{1}{\\sqrt{2\\pi}}e^{-x^2}$')\n",
    "for i in range(3, 0, -1):\n",
    "    plt.fill_between(\n",
    "        x,\n",
    "        norm.pdf(x),\n",
    "        alpha=2 ** (-i),\n",
    "        color=\"blue\",\n",
    "        label=rf\"$\\Pr(|\\hat{{p}}-p|\\leq{i}\\sigma)\\approx {(norm.cdf(i)-0.5)*200:.3g}\\%$\",\n",
    "        where=(abs(x) <= i),\n",
    "    )\n",
    "plt.title(r\"Standard normal distribution for $\\frac{\\hat{p}-p}{\\sigma}$ as $n\\to \\infty$\")\n",
    "plt.xlabel(r\"x\")\n",
    "plt.ylabel(r\"probability density\")\n",
    "plt.legend()\n",
    "plt.show()"
   ]
  },
  {
   "cell_type": "markdown",
   "metadata": {},
   "source": [
    "Over $95\\%$ of the time, the estimator falls within $2$ standard deviation away from the ground truth, i.e.,\n",
    "\n",
    "$$\n",
    "\\Pr(\\hat{p}\\in [p-2\\sigma, p+2\\sigma]) \\geq 0.95\n",
    "$$"
   ]
  },
  {
   "cell_type": "markdown",
   "metadata": {},
   "source": [
    "To illustrate the above, we will generate and plot the estimate $\\hat{p}$ for different sample size $n$:"
   ]
  },
  {
   "cell_type": "code",
   "execution_count": null,
   "metadata": {
    "ExecuteTime": {
     "end_time": "2021-01-19T14:45:55.230464Z",
     "start_time": "2021-01-19T14:45:55.222611Z"
    }
   },
   "outputs": [],
   "source": [
    "size = 5000\n",
    "n = np.arange(1, size + 1)\n",
    "phat = (coin_tosses == \"H\").cumsum() / n  # use first n tosses to estimate\n",
    "sigma = (p * (1 - p) / n) ** 0.5  # true standard deviations of the estimates"
   ]
  },
  {
   "cell_type": "markdown",
   "metadata": {},
   "source": [
    "We have additionally set the plots to use vector formats so they have unlimited resolution."
   ]
  },
  {
   "cell_type": "code",
   "execution_count": null,
   "metadata": {
    "ExecuteTime": {
     "end_time": "2021-01-19T14:45:55.568973Z",
     "start_time": "2021-01-19T14:45:55.244502Z"
    }
   },
   "outputs": [],
   "source": [
    "plt.figure(2, clear=True)\n",
    "# plot the ground truth p\n",
    "plt.axhline(p, color=\"red\")\n",
    "\n",
    "# fill the region 2 sigma away from p\n",
    "plt.fill_between(\n",
    "    n, p - 2 * sigma, p + 2 * sigma, color=\"red\", alpha=0.2, label=r\"$p\\pm 2\\sigma$\"\n",
    ")\n",
    "\n",
    "# plot the estimates phat\n",
    "plt.plot(n, phat, marker=\".\", color=\"blue\", linestyle=\"\", markersize=1)\n",
    "\n",
    "# configure the plot\n",
    "plt.ylim([0, 1])\n",
    "plt.xlim([0, n.size])\n",
    "plt.title(r\"Plot of $\\hat{p}$ vs sample size\")\n",
    "plt.xlabel(\"sample size\")\n",
    "plt.ylabel(\"probability\")\n",
    "plt.legend()\n",
    "plt.show()"
   ]
  },
  {
   "cell_type": "markdown",
   "metadata": {},
   "source": [
    "## Biased Estimate"
   ]
  },
  {
   "cell_type": "markdown",
   "metadata": {},
   "source": [
    "To understanding the concept of bias in estimation, imagine playing the following coin-tossing game:\n",
    "\n",
    "- You win if a coin toss comes up head.\n",
    "- You get to choose 1 out of the $m$ coins $i\\in \\{0,\\dots,m-1\\}$ with unknown probability $p_i$ of coming up head.\n",
    "- You can flip each coin $n$ times before making the choice."
   ]
  },
  {
   "cell_type": "markdown",
   "metadata": {},
   "source": [
    "**How to play the game?**"
   ]
  },
  {
   "cell_type": "markdown",
   "metadata": {},
   "source": [
    "A particular strategy to play the game is to \n",
    "1. estimate the chance $p_i$ by the empirical probability $\\hat{p}_i$ for each coin $i$, and\n",
    "1. select the coin (with ties broken arbitrarily)\n",
    "\n",
    "  $$\n",
    "  i^* := \\arg\\max_i \\hat{p}_i.\n",
    "  $$\n",
    "\n",
    "Obviously, the chance of winning is $E[p_{i^*}]$.  We will try to understanding whether \n",
    "\n",
    "$$\n",
    "\\hat{p}_{i^*} = \\max_i\\hat{p}_i\n",
    "$$ \n",
    "\n",
    "is a good estimate of the chance of winning, and whether the above strategy is optimal."
   ]
  },
  {
   "cell_type": "markdown",
   "metadata": {},
   "source": [
    "**How is it related to the problem of overfitting?**"
   ]
  },
  {
   "cell_type": "markdown",
   "metadata": {},
   "source": [
    "Suppose $\\hat{p}_i$ is the empirical accuracy of the classifier $f_i$. A common model selection strategy is to \n",
    "- choose the classifier $i^*$ defined above that have the empirical accuracy, and\n",
    "- estimate its performance by $\\hat{p}_{i^*}$."
   ]
  },
  {
   "cell_type": "markdown",
   "metadata": {},
   "source": [
    "**How to evaluate the estimate?**"
   ]
  },
  {
   "cell_type": "markdown",
   "metadata": {},
   "source": [
    "Consider the simple case $n=1$, $m=2$, and $p_0=p_1=0.5$. We have the following four equally likely events:\n",
    "\n",
    "$$\n",
    "\\begin{array}{ccc} \\hat{p}_0 & \\hat{p}_1 & \\max_i \\hat{p}_i \\\\\\hline\n",
    "0 & 0 & 0\\\\ \n",
    "0 & 1 & 1\\\\ \n",
    "1 & 0 & 1\\\\ \n",
    "1 & 1 & 1\\\\ \n",
    "\\end{array}\n",
    "$$"
   ]
  },
  {
   "cell_type": "markdown",
   "metadata": {},
   "source": [
    "**Exercise** For the above simple case, compute $E[p_{i^*}]$ and $E[\\max_i\\hat{p}_i]$. Is $\\max_i\\hat{p}_i$ an unbiased estimate of $E[p_{i^*}]$?"
   ]
  },
  {
   "cell_type": "markdown",
   "metadata": {
    "deletable": false,
    "nbgrader": {
     "cell_type": "markdown",
     "checksum": "ed2a7719b52a80e7501765e607b7ee04",
     "grade": true,
     "grade_id": "n1",
     "locked": false,
     "points": 1,
     "schema_version": 3,
     "solution": true,
     "task": false
    }
   },
   "source": [
    "YOUR ANSWER HERE"
   ]
  },
  {
   "cell_type": "markdown",
   "metadata": {},
   "source": [
    "The [order statistics][os] in the general case is difficult to analyze exactly. We will compute the desired quantities using [Monte-Carlo simulation][MC] of the coin tossing game. You may verify the correctness by hand-calculating the closed-form solution for $n=1$, $m=2$, and $p_0=p_1=0.5$.\n",
    "\n",
    "[MC]: https://www.cs.cityu.edu.hk/~ccha23/cs1302book/Lecture9/Monte%20Carlo%20Simulation%20and%20Linear%20Algebra.html\n",
    "[os]: https://en.wikipedia.org/wiki/Order_statistic"
   ]
  },
  {
   "cell_type": "markdown",
   "metadata": {},
   "source": [
    "The following initializes the list `p_list` of probabilities of head for different coins:"
   ]
  },
  {
   "cell_type": "code",
   "execution_count": null,
   "metadata": {
    "ExecuteTime": {
     "end_time": "2021-01-19T14:45:55.574842Z",
     "start_time": "2021-01-19T14:45:55.570644Z"
    }
   },
   "outputs": [],
   "source": [
    "m = 2\n",
    "p_list = np.array([0.4] * (m - 1) + [0.6])\n",
    "# To generate the probability randomly instead, use\n",
    "# p_list = rng.random(m)\n",
    "p_list"
   ]
  },
  {
   "cell_type": "markdown",
   "metadata": {},
   "source": [
    "Instead of generating a sequence of coin tosses, we will simulate $\\hat{p}_i$ directly using the binomial distribution since\n",
    "\n",
    "$$\n",
    "n\\hat{p}_i\\sim \\operatorname{Binomial}(n,p_i).\n",
    "$$"
   ]
  },
  {
   "cell_type": "code",
   "execution_count": null,
   "metadata": {},
   "outputs": [],
   "source": [
    "size = 10\n",
    "n = np.arange(1, size + 1)\n",
    "k = 100000\n",
    "phat = rng.binomial(\n",
    "    n.reshape(-1, 1, 1), p_list.reshape(1, -1, 1), (size, m, k)\n",
    ") / n.reshape(-1, 1, 1)\n",
    "max_phat = phat.max(axis=1)\n",
    "max_phat"
   ]
  },
  {
   "cell_type": "markdown",
   "metadata": {},
   "source": [
    "`max_phat` is a 2-dimensional array of samples of $\\max_{i}\\hat{p}_i$:\n",
    "- The first axis indexes samples obtained from different number of tosses.\n",
    "- The second axis indexes `k` independent samples for the same number of tosses.\n",
    "\n",
    "The `k` independent samples can be used to approximates $E[\\max_{i}\\hat{p}_i]$ as follows."
   ]
  },
  {
   "cell_type": "code",
   "execution_count": null,
   "metadata": {},
   "outputs": [],
   "source": [
    "E_max_phat = max_phat.mean(axis=-1)\n",
    "E_max_phat"
   ]
  },
  {
   "cell_type": "markdown",
   "metadata": {},
   "source": [
    "Similarly, the winning probability can be approximated as follows:"
   ]
  },
  {
   "cell_type": "code",
   "execution_count": null,
   "metadata": {},
   "outputs": [],
   "source": [
    "win_prob = p_list[phat.argmax(axis=1)].mean(axis=-1)\n",
    "win_prob"
   ]
  },
  {
   "cell_type": "markdown",
   "metadata": {},
   "source": [
    "The following plots compare the probabilities as a function of $n$."
   ]
  },
  {
   "cell_type": "code",
   "execution_count": null,
   "metadata": {
    "ExecuteTime": {
     "end_time": "2021-01-19T14:45:56.666174Z",
     "start_time": "2021-01-19T14:45:56.375427Z"
    },
    "colab": {
     "base_uri": "https://localhost:8080/",
     "height": 726
    },
    "colab_type": "code",
    "id": "eEpEkzHe_Nri",
    "outputId": "e54a77b2-d0e3-4f85-ed8d-8743de445ddb"
   },
   "outputs": [],
   "source": [
    "plt.figure(3, clear=True)\n",
    "plt.axhline(p_list.max(), color=\"red\", label=r\"$\\max_i p_i$\")\n",
    "plt.plot(\n",
    "    n,\n",
    "    E_max_phat,\n",
    "    linestyle=\"--\",\n",
    "    marker=\".\",\n",
    "    color=\"blue\",\n",
    "    markersize=10,\n",
    "    label=r\"$E[\\max_i\\hat{p}_i]$\",\n",
    ")\n",
    "plt.plot(\n",
    "    n,\n",
    "    win_prob,\n",
    "    linestyle=\":\",\n",
    "    marker=\"x\",\n",
    "    color=\"green\",\n",
    "    markersize=10,\n",
    "    label=\"winning probability\",\n",
    ")\n",
    "\n",
    "plt.ylim([0, 1])\n",
    "plt.xlim([n[0], n[-1]])\n",
    "plt.title(r\"Plot of $E[\\max_i\\hat{p}_i]$ vs $n$\")\n",
    "plt.xlabel(\"$n$\")\n",
    "plt.ylabel(\"probability\")\n",
    "plt.legend()\n",
    "plt.show()"
   ]
  },
  {
   "cell_type": "markdown",
   "metadata": {},
   "source": [
    "**Exercise** Compare the chance of winning with $\\max_i p_i$ in general, for different $pi$'s."
   ]
  },
  {
   "cell_type": "markdown",
   "metadata": {
    "deletable": false,
    "nbgrader": {
     "cell_type": "markdown",
     "checksum": "16194c7ed1e6f65fa46abc3be3876082",
     "grade": true,
     "grade_id": "winprob_vs_max_p",
     "locked": false,
     "points": 1,
     "schema_version": 3,
     "solution": true,
     "task": false
    },
    "tags": [
     "remove-output"
    ]
   },
   "source": [
    "YOUR ANSWER HERE"
   ]
  },
  {
   "cell_type": "markdown",
   "metadata": {},
   "source": [
    "**Exercise** Compare the chance of winning with $E[\\max_i \\hat{p}_i]$. Is $\\max_i \\hat{p}_i$ a biased estimate? If so, is it overly optimistic?"
   ]
  },
  {
   "cell_type": "markdown",
   "metadata": {
    "deletable": false,
    "nbgrader": {
     "cell_type": "markdown",
     "checksum": "220bd6f1ef3afd28714d6ac6b247e122",
     "grade": true,
     "grade_id": "winprob_vs_max_phat",
     "locked": false,
     "points": 1,
     "schema_version": 3,
     "solution": true,
     "task": false
    },
    "tags": [
     "remove-output"
    ]
   },
   "source": [
    "YOUR ANSWER HERE"
   ]
  },
  {
   "cell_type": "markdown",
   "metadata": {},
   "source": [
    "**Exercise** Is $\\max_i \\hat{p}_i$ a consistent estimate of the chance of winning?"
   ]
  },
  {
   "cell_type": "markdown",
   "metadata": {
    "deletable": false,
    "nbgrader": {
     "cell_type": "markdown",
     "checksum": "3237f6317457954f58b14d1e2702de5a",
     "grade": true,
     "grade_id": "consistency",
     "locked": false,
     "points": 1,
     "schema_version": 3,
     "solution": true,
     "task": false
    },
    "tags": [
     "remove-output"
    ]
   },
   "source": [
    "YOUR ANSWER HERE"
   ]
  }
 ],
 "metadata": {
  "kernelspec": {
   "display_name": "Python 3 (ipykernel)",
   "language": "python",
   "name": "python3"
  },
  "language_info": {
   "codemirror_mode": {
    "name": "ipython",
    "version": 3
   },
   "file_extension": ".py",
   "mimetype": "text/x-python",
   "name": "python",
   "nbconvert_exporter": "python",
   "pygments_lexer": "ipython3",
   "version": "3.8.12"
  },
  "toc": {
   "base_numbering": 1,
   "nav_menu": {},
   "number_sections": true,
   "sideBar": true,
   "skip_h1_title": true,
   "title_cell": "Table of Contents",
   "title_sidebar": "Contents",
   "toc_cell": false,
   "toc_position": {},
   "toc_section_display": true,
   "toc_window_display": false
  },
  "widgets": {
   "application/vnd.jupyter.widget-state+json": {
    "state": {
     "0105905296d647d697ad904373de58da": {
      "model_module": "jupyter-matplotlib",
      "model_module_version": "^0.10.4",
      "model_name": "ToolbarModel",
      "state": {
       "collapsed": true,
       "layout": "IPY_MODEL_68eaef8d92da4249ac11fd034595b3d6",
       "orientation": "vertical",
       "toolitems": [
        [
         "Home",
         "Reset original view",
         "home",
         "home"
        ],
        [
         "Back",
         "Back to previous view",
         "arrow-left",
         "back"
        ],
        [
         "Forward",
         "Forward to next view",
         "arrow-right",
         "forward"
        ],
        [
         "Pan",
         "Left button pans, Right button zooms\nx/y fixes axis, CTRL fixes aspect",
         "arrows",
         "pan"
        ],
        [
         "Zoom",
         "Zoom to rectangle\nx/y fixes axis",
         "square-o",
         "zoom"
        ],
        [
         "Download",
         "Download plot",
         "floppy-o",
         "save_figure"
        ]
       ]
      }
     },
     "0e0f7c1edefd483483c960c6acd46f47": {
      "model_module": "jupyter-matplotlib",
      "model_module_version": "^0.10.4",
      "model_name": "ToolbarModel",
      "state": {
       "collapsed": true,
       "layout": "IPY_MODEL_37166bdd2f4143ab96c181c7d61ca3c5",
       "orientation": "vertical",
       "toolitems": [
        [
         "Home",
         "Reset original view",
         "home",
         "home"
        ],
        [
         "Back",
         "Back to previous view",
         "arrow-left",
         "back"
        ],
        [
         "Forward",
         "Forward to next view",
         "arrow-right",
         "forward"
        ],
        [
         "Pan",
         "Left button pans, Right button zooms\nx/y fixes axis, CTRL fixes aspect",
         "arrows",
         "pan"
        ],
        [
         "Zoom",
         "Zoom to rectangle\nx/y fixes axis",
         "square-o",
         "zoom"
        ],
        [
         "Download",
         "Download plot",
         "floppy-o",
         "save_figure"
        ]
       ]
      }
     },
     "2aed04ff99544a329664a488873ea27d": {
      "model_module": "@jupyter-widgets/base",
      "model_module_version": "1.2.0",
      "model_name": "LayoutModel",
      "state": {}
     },
     "37166bdd2f4143ab96c181c7d61ca3c5": {
      "model_module": "@jupyter-widgets/base",
      "model_module_version": "1.2.0",
      "model_name": "LayoutModel",
      "state": {}
     },
     "57074f50ae9f4ebb9bba5383716fd845": {
      "model_module": "jupyter-matplotlib",
      "model_module_version": "^0.10.4",
      "model_name": "ToolbarModel",
      "state": {
       "collapsed": true,
       "layout": "IPY_MODEL_2aed04ff99544a329664a488873ea27d",
       "orientation": "vertical",
       "toolitems": [
        [
         "Home",
         "Reset original view",
         "home",
         "home"
        ],
        [
         "Back",
         "Back to previous view",
         "arrow-left",
         "back"
        ],
        [
         "Forward",
         "Forward to next view",
         "arrow-right",
         "forward"
        ],
        [
         "Pan",
         "Left button pans, Right button zooms\nx/y fixes axis, CTRL fixes aspect",
         "arrows",
         "pan"
        ],
        [
         "Zoom",
         "Zoom to rectangle\nx/y fixes axis",
         "square-o",
         "zoom"
        ],
        [
         "Download",
         "Download plot",
         "floppy-o",
         "save_figure"
        ]
       ]
      }
     },
     "5bdbf2e184f0443b8ed01802aa9617f0": {
      "model_module": "jupyter-matplotlib",
      "model_module_version": "^0.10.4",
      "model_name": "MPLCanvasModel",
      "state": {
       "_data_url": "data:image/png;base64,iVBORw0KGgoAAAANSUhEUgAAAyAAAAGQCAYAAABWJQQ0AAAAAXNSR0IArs4c6QAAIABJREFUeF7snQeYU8XXxt9dytI7SO+9914tSFGaBaUISBERKdIEAUV6B0GlSUdQQUDpKk2kV+m997IgzWVh8z3v+N39Z0OyuTfJzaaceZ590GTulN9MknlnzjkTYrFYLJAkBISAEBACQkAICAEhIASEgBDwAoEQESBeoCxVCAEhIASEgBAQAkJACAgBIaAIiACRiSAEhIAQEAJCQAgIASEgBISA1wiIAPEaaqlICAgBISAEhIAQEAJCQAgIAREgMgeEgBAQAkJACAgBISAEhIAQ8BoBESBeQy0VCQEhIASEgBAQAkJACAgBISACROaAEBACQkAICAEhIASEgBAQAl4jIALEa6ilIiEgBISAEBACQkAICAEhIAREgMgcEAJCQAgIASEgBISAEBACQsBrBESAeA21VCQEhIAQEAJCQAgIASEgBISACBCZA0JACAgBISAEhIAQEAJCQAh4jYAIEK+hloqEgBAQAkJACAgBISAEhIAQEAEic0AICAEhIASEgBAQAkJACAgBrxEQAeI11FKREBACQkAICAEhIASEgBAQAiJAZA4IASEgBISAEBACQkAICAEh4DUCIkC8hloqEgJCQAgIASEgBISAEBACQkAEiMwBISAEhIAQEAJCQAgIASEgBLxGQASI11BLRUJACAgBISAEhIAQEAJCQAiIAJE5IASEgBAQAkIgQAhs2bIFN2/eROPGjQOkR9INISAEApGACJBAHFXpkxAQAkJACAQdgSdPnqBatWqwWCxYtmwZMmfOHHQMpMNCQAj4BwERIP4xTtJKISAEhIAQEAKxEhgzZgzSp0+PggULYtq0afjuu++EmBAQAkLAJwmIAPHJYZFGCQEhIASEgBAQAkJACAiBwCQgAiQwx1V6JQSEgBAQAkJACAgBISAEfJKACBCfHBZplBAQAkJACAgBfQSmTp2Kn376CQkSJMCOHTuU78ePP/6IwoUL6yvAQS6zynWrUfKwEBACAUFABEhADKN0QggIASEgBIKVwMcff4y5c+cq0fHiiy+iY8eOCA8Px88//+wWErPKdatR8rAQEAIBQUAESEAMo3RCCAgBISAEgpVArVq1UK9ePfTq1UshWL9+Pbp06YJDhw65hcSsct1qlDwsBIRAQBAQARIQwyidEAJCQAgIgWAlkCFDBmzfvh25c+dWCBYtWoQpU6Zg48aNMZC89NJL+Ouvv+xiongZPHhwjPf0lhus3KXfQkAIuE5ABIjr7ORJIeAxArTbHjFiBPbs2YPr168jVapUajFRuXJljB07VtWzdetWrFu3Dt26dVPvx0X64osvMGjQIHXPgDeSt+vzRp+M1DF79my0adMGZ8+eRc6cOY08qvLa8nO1PFfmnr26tPbworx06dIZ7o+9Bxy1zdW+eqRRAH744Qd8+eWXOHPmDP7991/s27cPJUuW9FTx0eXcuHEDL7zwAu7fv49kyZKp15s2bYrSpUujT58+LtdnVrkuN0geFAJCIKAIiAAJqOGUzvgjgZUrV6JBgwaoWbMm2rdvj0yZMuHq1avYvXu32sm8dOmS6hZj/HOX0tXFqCfYeFsQeLs+TzDyZBnuLqJt+XHhf/r0aZQqVQphYWG6m+rK3LNXlxkCxFHbXO2rbiixZGTdWbJkQZ06ddCjRw/Funjx4kiSJIknio9Rxh9//IFXX31VnXi0atVK+YLwJOPAgQNImTKly/WZVa7LDZIHhYAQCCgCIkACajilM/5IoEaNGrh8+TKOHTuG+PHjx+hCVFQUQkNDA1aAPHr0KNZFma8JEGft9fT887QAcbV9RgRIbIy8KUBc7asnnqOZU9WqVdUpyNtvv+2JIuGI68SJE3H48GF10rJz506UKVNGXUKYL18+t+o1q1y3GiUPCwEhEDAERIAEzFBKR/yVQNGiRZXpBG24HSVt4Wb7/oYNG9TJyalTpzB06FBs2bJFiZnUqVMrE4xhw4ahWLFi0Y9p5dA5dciQIVi1ahUSJUqE+vXrY/z48TF2THky89lnn+Ho0aMqrOdHH32EBw8ePGeCZbRumpmxXdxhZd087WHSW589Rkb6RUaff/65Wqw9e/ZMmcWwn2RgnbQy7bVXe4+7zNxtpmlcvHjx0Lp1a4waNUqdMnTt2lXZ26dNmxadOnVC7969o4vXy8yIANHDz1553K1n/1evXg2a3aRIkQL58+dX4/zyyy9Hm3HZm3v0MWA+e4xiM8Hau3ev4vb7778jJCQEr7/+upp/vMWbiRxZ9rlz5+yOiWYCGNvngs/aM1/TM/5G5pMtF7Z9zpw5MV7mJoPmj2GkfkefFevCeWpatmxZfPDBBx79CnS3XL1z3Nn8i61TjPjFucDx4nzidyi/S/l5GzhwoG4enHu5cuVCo0aNHD7z9OnT5zaI+P3Bz70kISAEjBMQAWKcmTwhBDxKgD/0M2bMAENeNm/eXAkHxvO3TjTD4sJ20qRJKrQmzbSYGOefC8bNmzfjl19+QaVKldQi7s6dO2oRtHbtWmV7XqBAAZVfW1jx/2knXq1aNRw8eBB9+/ZFs2bNMHPmTJVPM79geZ988olaqLN++qdcuHAhhg+I0bpz5MiBd955Ry1uHz58iIYNGxqqLzYB4qxfmzZtwiuvvKLMYSgIaBrzzTff4LfffsPChQsVEy1prOy115pjixYtULFiRVUGGXXu3FktrLkIKlSoEL7//nvMmjULS5YsQZMmTVTxepnpFSB6x8teeTQToiCggKXwuHv3rvp/zi3yiG3ujRs3TgkQe4xiEyDMz5MBzgHu3g8YMEDVTV8ozn29AiS2tvFzYitA9I6/3s+JvblI8cnPHQU7hTYjSfEzSp5G67fH1bZOfkbpP0aR48nkbrl657iz+Rdbn9KkSaM2Tbjh0r17d2X2RlM03olCwaeXCb93+QzDGNuKEH4W+N148uRJNV8XLFig/G3efPNN7N+/X31f8zPu7omTJ8dOyhIC/kBABIg/jJK0MaAJ3L59W/3ocWeUiQuwcuXKqV1hLmY1x1IjZjAUDDTfKlKkCF577TVwoWgtQLhQ1kJ28nUulig+aObBHWkuqC9evKh28nlKwcQfXTpCU9zE5oTurG7uTHLRap3cqc9Iv7iooqkK+6Vx1U5BuPCmuGL/rcu0115tgcoAARRoWqJvBRclXPw2btxYvcydU54gUexRhNhLjpjpFSB6+dkrL3ny5GjXrp06gXCUHM09jYM9RrEJEC4WtTnJOrmA4yJw/vz56l+9AoTPOmqbvfr1jr/WL2efE0e8uPil8OCilgtVLRmt3x5X2zq5AD9x4oRyRPdk8nS5jua4nvlnr1/8HOfJk0eZnPGkUfNp4glw1qxZ1cbChx9+qAsJ2/bee+/ZFSElSpRQGwv8TuamAr8n+B3I0xduYnCz4auvvor+/tZVoWQSAkIAIkBkEggBHyFAp3PuZPNfLmBu3bqlFvy7du1SEYNiEyBc5PJHkgs4mj5ERkZG94o7jDSvsV5U099EOxXh67zxmJeXXbt2TS3MuWPLH1ueuFgnzbzEWoAYrZtmSzyB0BJPQYzUZ2+4tAWjs35xscNFyddffx2jGLJjxCCamxUsWDAGK9v2WnM8fvy42rnXEndKGTiAQk4TbnyP0cyePHmixpZJLzM9AsQIP3vlMTQrd3npLM0dXi7obE/gnAkQe4xiEyDkwHq0RB6JEydWTtQ8DTRDgJCT3vHXM59iW/DbEyCu1G+Pq498XTltht45rmf+2ats8eLFeOutt5TpJu9A0dLff/8NioZly5ap01V+j2qmfU4b/f8bQNx84fjyhI2mbayDKSIiQm3q8LRD+07l6/T3WbNmTfSmhp56JI8QCHYCIkCCfQZI/32SAAUEF8TcleZJBRfIsQkQXjrGRTWfodkBTRLovM6dbYbs1ezPHTkBWy8W6QifLVs25SNC3wDr9Omnn2LkyJExTkCM1k0/A+sFAX/kjdQXmwCxDe9qr1+0Fe/fv3+MYijcWrZsqXYxq1SpEkOA2LbXWoDY1seFMxdG9JWxTvTT4UJIuxhOLzM9AsQIP3vlsV0cay7Yzp8/rxZRPL3hnMuYMaPqhjMBYo9RbAKEbaa5jHViXTwhWLp0qSkCROOkZ/z1fE5iC4tsT4C4Ur89rj75hWWnUXrnuJ75Z6/P/fr1U6do//zzDxImTBidRZt3nMvZs2dXomHevHlOsVFA8ISSJ1Y0x+T3IIUIN2J+/fXX6Od5ksky6W+iBQihAKEgocCVJASEgD4CIkD0cZJcQsDrBO7du6fEQ926dZWzeGwChLbQ3O2jr4F1oilC3rx5DQkQigP+kNIsS88JiLt1azvDeutzVYCwXzxp4UmPoxMQ6xOU2CI2OXpPrwDRy0yPADHCz1l5NEGjLxGFprarq0eA2LvXw50TEI7R8uXLowMUaGNOk0SOnfUJnF4TLO2kSM/4myFAPFG/vbmvmQx6/Qvq/yt0ZI6pd45bt9vR/LPXN4YeDg8PV8EkrBPnCKOPcU7qTTzheOONN5TZqyY++Cz7xtMUzjGKY/r00E+JoqdChQpKpNMEiz4427Zt01ud5BMCQgAQEyyZBUIgrgkwCpTmVG7dFu6w8Uevbdu2yiyFYoC7ikeOHFHOzdaJkZZojkAHTC3xR5X+H9YRePQurPT6FLAud+tmGUbqc1WAcMeaplC8R4X24zT5YaKvDCNhcTFjzwfE3uLaXQGil5kzwaCx0MtPb3k8AaFdPXfgmRzNvdhEmis+INypplM/F3Q8fbty5Uq0bwNN2Gj+QhND60Wvo7bZq1/v+Ov9nDj67nDkA+Ju/Z74rnr8+LEKOsHdfvLl/Gfq0KGDMsX0VNI7x+3VZzv/7OXhLe08raCvh3Xidyb9V3iioTfxhJIbFNbiQ3uW5on0S+LmBD9n9O/iXKRgYZQymrLy1JPRDCUJASGgn4CcgOhnJTmFgCkE6A/BkwruvtH/gAsCOjLTwZmO37zpmaF0tUUNbZJpK087ff748bSC/89dPy7cWB5/GEePHq0cM+moacQEiwt1RnSi7wgXTPQNoJMmTa/oI0KzBOsFoLt1E6qR+twRIFoUIkau6dmzpzLd4AKGYXQdRcEyQ4DoZaZXMOjlZ1seT9noLE3fFc49ziX6HDEqFSN2MeIPk6O5xznKgAJGT0C0KFiMSKZFweI85W42x4QikXOb5nA0QeRN4nT0pUDke9bzz1HbuMB2FAXL2fibJUD0zj8z7kvRPjeMtsfFNB3/eXpCxlxMc3NDM7nzxBednjmud/7ZtoffQTSv+u677/D+++9Hv02/E55yMjAEzQr1Jn7PckPC9h4m6+dpFmvrG+Xte4H09kfyCQF/ICACxB9GSdoY0AQY+pHmJlz48TSE9sU8EeHJBXcqrU87aPfM8LoUAhQq2j0gjMzCBTVtlel/wAXW8OHDo30djAoQAmdZ9JXgYoULE9pCc/eUC07rBaC7dWuDq7c+dwQIn9XuYaApBRnSxIK77Twtsk5mmmDpZaZXgOgdL9vyONe6deumRC7vzeAiiws7hklmhB/rm7vtzT3tHhCjAoQCmXw5f7kIJvsJEyaAu9paok0966SjPz8PXFSyHtv5x/z22ubsHpDYxt8sAaJ3/pklQHjKx4hsFHGa2KDw4F0WsUVBc+ULWM8cNzL/rNvA70tGDrR10tcc0K2j0LnSdnlGCAgB8wmIADGfsdQgBISAEBACQiDOCXBhTr8F60tPGX6Wmxzc7JAkBISAEPAWAREg3iIt9QgBISAEhIAQiEMC06dPV74fmn8ETzQ1k0vr0Nhx2ESpWggIgSAhIAIkSAZauikEhIAQEALBTYCmdrwzg+ZnNMWiWSXNEDVfn+CmI70XAkLAmwREgHiTttQlBISAEBACQiAOCTDAwLRp05Sz/9tvv62ctbWIcHHYLKlaCAiBICMgAiTIBly6KwSEgBAQAkJACAgBISAE4pKACJC4pC91CwEhIASEgBAQAkJACAiBICMgAiTIBly6KwSEgBAQAkJACAgBISAE4pKACJC4pC91CwEhIASEgBAQAkJACAiBICMgAsSHBpzRSK5cuaJuI+blXJKEgBAQAkJACAgBISAEfIsAL+O9f/++iiYXGhrqW43zk9aIAPGhgbp06RKyZcvmQy2SpggBISAEhIAQEAJCQAjYI3Dx4kVkzZpV4LhAQASIC9DMeuTevXtIlSoVOKFTpEhhVjVSrhAQAkJACAgBISAEhICLBP755x+1YXz37l2kTJnSxVKC+zERID40/pzQnMgUIiJAfGhgpClCQAgIASEgBISAEPh/ArJec38qiABxn6HHSpAJ7TGUUpAQEAJCQAgIASEgBEwhIOs197GKAHGfocdKkAntMZRSkBAQAkJACAgBISAETCEg6zX3sYoAcZ+hx0qQCe0xlFKQEBACQkAICAEhIARMISDrNfexigBxn6HHSpAJ7TGUUpAQEAJCIKgIPHv2DJGRkUHVZ+msEDCLQIIECRAvXjyHxct6zX3yIkDcZ+ixEmRCewylFCQEhIAQCAoCvI/g2rVrKhqPJCEgBDxHgFFJM2bMaPdeNlmvuc9ZBIj7DD1Wgkxoj6GUgoSAEBACQUHg6tWrSnxkyJABSZIkkUtsg2LUpZNmEqCof/ToEW7cuKGuRsiUKdNz1cl6zf0RCFoB8s0332D06NHgl3eRIkUwYcIEVKtWzSnRv/76CzVq1EDRokWxf//+GPmXLFmCAQMG4PTp08iTJw+GDh2Kxo0bOy1TyyATWjcqySgEhIAQCHoCNLs6ceKEEh9p06YNeh4CQAh4ksDt27eVCMmfP/9z5liyXnOfdFAKkB9++AEtW7YERUiVKlUwdepUzJgxA0eOHEH27NkdUuX9HKVLl0bevHlx/fr1GAJk27ZtSsAMHjxYiY6lS5di4MCB2LJlCypUqKBrpGRC68IkmYSAEBACQgDAv//+i7NnzyJnzpxInDixMBECQsCDBB4/foxz584hV65cSJQoUYySZb3mPuigFCAUBBQS3377bTTBQoUKoVGjRhg+fLhDqu+88w7y5cunlPCyZctiCJCmTZuCE3L16tXRz9epUwepU6fGwoULdY2UTGhdmCSTEBACQkAIWAkQewskASQEhIB7BDSBLwLEPY6Ong46AfLkyRNlJ/vTTz/FMI/q2rWrEhSbNm2yy2rWrFnqxIQnHUOGDHlOgPDkpHv37upPS+PHj1emXefPn7dbZkREBPinJQqQbNmyyU3o5sx1KVUICIG4IBAV9V+toaFxUXtA1xnbAimgOy6dEwJeICACxFzIQSdArly5gixZsoC+HJUrV46mO2zYMMyZMwfHjx9/jvjJkydRtWpV/Pnnn8oW8IsvvnhOgCRMmBCzZ89Gs2bNop///vvv0aZNmxgiw7pwljNo0KDn6qOpV4oUKcwdeSldCAgBIeBpAk+fAkePAnv3Anv2qD/L/v2wWACUKInQcmWAMv//V7AgED++p1sQVOWJAAmq4ZbOepmACBBzgQetANm6dSsqVaoUTZcO4/PmzcOxY8diEKeTX8WKFdG2bVt07NhRvedIgFDAvPvuu9HPL1iwQD3HSWwvyQmIuZNbShcCQsALBP75BxgzBvjtN1gOHEDI48e6Ko1KlBgoXgKhr74C9OwJyKaLLm7WmQJZgNCXcuPGjXjppZewePFiw2zMeOCPP/5QJtW3bt1Cly5d8OKLL5pRjZTpIwREgJg7EEEnQIyaYDG8If04rC+kiYqKAsO08bV169apLyFXTLBsh1Z8QMyd7FK6EBACHiRA06p582Dp0wch169HF/wgNDmOhpXC4URlcDxpaZxNUwZhYUCuO3uQ5+4eFHy0F4Uj9iJp1IPoZ/5NnRFh40cipGULMdUyMESBLEA2bNiABw8eKMsEXxEg2tBwXdCvXz9lli0pcAmIADF3bINOgBAnndDLlCkT48ujcOHCaNiw4XNO6BQbjI5lnfils379evWlSOekpEmTgk7o9+/fx6pVq6Kz1q1bV8WQFid0cyexlC4EhICXCezeDXz8MbB9u6r4XFh+TE3TD2cyVER4unxIkiw0VuuqZ5FRSHXzJHLf2I6WF4ci55OTqpxHJSshyYxJ/5lpSXJKIJAFCDvPE5DJkyf7nADp06eP+s1nMBtJgUtABIi5YxuUAkQLwztlyhRlhjVt2jRMnz4dhw8fRo4cOdC3b19cvnwZc+fOtUvfngkWTbqqV6+u7v6gkFm+fDn69+8vYXjNnb9SuhAQAt4kcPMm0K8fLN99hxBe1hWaDF+nGYB1hbshZfqELrUkftQT1Nw/AS3PDUZSywNYQkLw5L12CBs9FEif3qUyg+UhESDmjDQ3Kb/++muULVsWrVq1UmbYH374oaqMv//0H61du7Y5lUupPkNABIi5QxGUAoRIeYoxatQodREhLxVkxCoKCKbWrVur2M/cfbGX7AkQ5uOJCEXHmTNnoi8ibNKkie4RFBMs3agkoxAQAt4kQC/yKVNg6dcPIXfvqpqXp2iBqblGIlHuzB4JcJXy4RW8sasP6t2er8p/kjQV4o8chtBOHYGQEG/21m/qEgFizlCtWLECM2fOVPeE8fecYoSJfp1cN3DjkqcfHTp0MKcBUqpPEBABYu4wBK0AMRera6WLAHGNmzwlBISAiQQoPugkPm6cquRIolIYnmkSwgtXgc3dXB5pRK4rf+H9fZ1R6N/9qrx77Xog5bTRIkLs0BUB4tqUowm2dQh8rRT6dGbOnFn9b8mSJdUN8zSrji/R2lwD7edPiQAxdwBFgJjL11DpIkAM4ZLMQkAImE2AjuadOwP/f2nr6HQjsa5YD6RME8/UmkMtz/DygbHocLqPqudus05INW+SOKjbUBcBYn8aXrx4EZ9++mm0Tyb9MXmKwYAyetLOnTvx9ttvo3z58vjxxx/1PCJ5ApCACBBzB1UEiLl8DZUuAsQQLsksBISAmQSePQPatQNmz0YUQjDghek4ULatKacejrpR/cQMdD7YAaGwILxxG6T+aToQz1zxYyZST5cdyALk1Vdfxd69e/Hw4UOkSZMGS5cuRbly5ZwiPHXqlPLRYNh83svF5zt16oRixYphxowZTp+n/ycFC/04aULN+7wKFSrk9DnJEHgERICYO6YiQMzla6h0ESCGcElmISAEzCIQGQm0bAn88AOehcRDn4xzcaJsMyR0zc/crVZWOrMAXfe1Qnw8Q3idd5D6l7lAggRulRkoD9tdINFk7tEj73cxSRKfMJN7+eWXle+G9SW/S5YsQa9evZQ/R2zp8ePHKqz+yJEjlU8oI1jSH4S+H5KCj4AIEHPHXASIuXwNlS4CxBAuySwEhIAZBCIigKZNgeXLERmSAD0yLcS5Mm/EifjQulfm3BL03PMOEuApwms0Quq1i6AuFwnyZHeB9PAhkCyZ98k8eAAkTer9eq1qPH/+PHLmzInEiRMjNDQ0+h1eKJwtWzacOHEiTtsnlfsXAREg5o6XCBBz+RoqXQSIIVySWQgIAU8T4M45I/etXYsnoWHoknkJrpWpH+udHp5ugqPySlxaid4730CYJQLhFesg9fqfgcSJvVW9T9bjzwIkxITIZjSbatOmDXbs2PHceFGUZMmSxSfHURrlmwREgJg7LiJAzOVrqHQRIIZwSWYhIAQ8SeDff4F69YANG/A4NAk+yvoL7pR6ySfEh9bNwld+R9/tDZDY8hjhpWoh9dZV8KpTiid5e6AsMcGKCXH16tXqHq7w8HB1QbAkIeAOAREg7tBz/qwIEOeMvJZDBIjXUEtFQkAI2BLgRWtTpuBhvOTomHUlHpSq5pP+3vmv/4nPttZD0qgHuNb4Q2T8+ZugHctAc0J391Tk9u3byJ8/v/LfGDhwIJIlSwY6pVOYTJw4MWjniXTcNQIiQFzjpvcpESB6SXkhnwgQL0CWKoSAEHieAJ1sW7RQ0a4+yLoKt8vV8cjlgmahLnFlNQZsq6eKD5+8AKk/amZWVT5dbqAJEN7D4e4N4wyh26dPHxVBy2KxIG/evGjZsiW6d+/u02MpjfM9AiJAzB0TESDm8jVUuggQQ7gksxAQAp4gcOQILOXKIeTRI0xOMwBrK3/pF/7db/49AO+cHIKI+EkRsnsnEpYo7AkaflVGIAmQ06dPK8EQFhamBMONGzfUBYADBgzAW2+95VfjIo0NDAIiQMwdRxEg5vI1VLoIEEO4JLMQEALuEmDkIt6tcOwYtiV5CQMrrDX9kkF3m6w9z8sKP91QG6XD1+POC4WQ5tTOuIn+5KkOuVBOIAkQmknx/o2rV6/i+vXr6iZyipDSpUvj+PHj4tPhwvyQR9wjIALEPX7OnhYB4oyQF98XAeJF2FKVEAh2ArwvolkzYNEi3EiQGe8V3YdkuTP4FZUU/97AiHWlkCHyCq7WeheZ/ljgE3dReAtiIAoQW3bFixfHypUr8eDBA3W/B28zT548ufLtKFu2LDZu3Ogt3FJPkBEQAWLugIsAMZevodJFgBjCJZmFgBBwh8A33wAffaQuGmyVYxMel64CEyKjutNCXc8WuLkFgzbXVBcV3vryG6Qb8KGu5wIhk78LkIsXL6r7ORi1ind0VKhQIcaw7N69G61bt8ahQ4fU67wdfcyYMepWc/p28PVEiRIFwlBKH3yQgAgQcwdFBIi5fA2VLgLEEC7JLASEgKsEdu2CpUoVhERGYnj6sdhe6RO/vly83tGxeP9IT0SGJsSzTX8hUdWyrpLxq+f8WYDcvHkT/fv3x9SpU7F27Vq88sorMS4PZESratWqYcaMGahcubIal1y5cilzrIiICHX6wf+WJATMIiACxCyy/5UrAsRcvoZKFwFiCJdkFgJCwBUCd+7AUro0Qs6fx7pkjTG20hIkTxHiSkm+84zFgu5bmqDKjWW4myoHUp7ai5C0aXynfSa1xJ8FCJFMnjwZjRs3xv79+1G/fv1oShQYFCTt27dXDulM/H1s51mXAAAgAElEQVSsWLEijhw5gm3btmHUqFFYunSpSWSlWCEAiAAxdxaIADGXr6HSRYAYwiWZhYAQMEogKgpo0ABYuRIXE+bB+yX2IGX2lEZL8cn8SZ7cxbB1ZZE14jSula2PjDt+gU/HEvYARX8XIOfPn8eyZctQuHBhJTiYGAmrWbNmKFCgAL744otoShQdY8eOxeLFizFz5kx1+jFy5EgPUJQihIB9AiJAzJ0ZIkDM5WuodBEghnBJZiEgBIwSmDEDaN8eEaGJ0CL3NlhKlDRagk/nz3l3P4aur4gwSwSuDp6BTP3b+nR73W2cvwsQ9p8nH4sWLVKO5UxbtmxRFwnS+VxL8+bNA+/3uHDhAgYNGoQffvgBQ4cOVQ7oadIE/kmXu/NEnneNgAgQ17jpfUoEiF5SXsgnAsQLkKUKIRCsBG7cgKVgQYSEh2NY+nHYWbk74scPPBj1jo3D+4d74EFYGiQ+dwzxMqYPvE7+f48CQYDs27cPpUqVCtgxko75LwERIOaOnQgQc/kaKl0EiCFcklkICAEjBFq1AubOxdFEJdGl4i6kTBuA6gNAaNRTDPutLPI+OIBzNVoh58bZRij5Vd5AECB+BVwaG1QERICYO9wiQMzla6h0ESCGcElmISAE9BLYsAF48UVEIQTNc29HZKnyep/0y3z57uzA0A2VEAoL7i7dgFSNavplP5w1WgSIM0LyvhBwnYAIENfZ6XlSBIgeSl7KIwLES6ClGiEQTAQiIoASJYDjx7EgVSf8UO1rJEwY+ADe390J9c5/i1tpCyDd5QNAWFjAdVoESMANqXTIhwiIADF3MESAmMvXUOkiQAzhksxCQAjoITB4MDBwIG4lyIh3Sx4LmKhXzrrOqFjj1xRE2sjrON9uMHJM7+/sEb97XwSI3w2ZNNiPCIgAMXewRICYy9dQ6SJADOGSzEJACDgjcPIkLMWKISQiAj0yL8S5iu/45W3nzrrp6P0qFxai+65meBIaBsvfhxBWJK+rRfnkcyJAfHJYpFEBQkAEiLkDKQLEXL6GShcBYgiXZBYCQiA2AhYL8OqrwG+/YUvS2hhceY3/XzhodMQtFvTd9CrK3P4NlwrXRtZDaxBICkwEiNEJIfmFgH4CIkD0s3IlpwgQV6iZ9IwIEJPASrFCIBgJLFwINGuGJyFheKvQISQoFFi7/3qHNOODUxi7rqi6G+T6hIV4oes7eh/1+XwiQHx+iKSBfkxABIi5gxe0AuSbb77B6NGjcfXqVRQpUgQTJkxAtWrV7NLmxUh9+vTBsWPH8OjRI+TIkQMffPABunfvHp1/9uzZaNOmzXPPP378GIkSJdI1iiJAdGGSTEJACDgjcPfuf3d+XL+OCWkHY2PV/gF554czDNr7TQ4PRrNjA3EvSUakuHQUIalT6X3Up/OJAPHp4ZHG+TkBESDmDmBQChDeotqyZUtQhFSpUgVTp07FjBkzcOTIEWTPnv054rwoieKDN7MmTZpU3dRKATJ+/Hh06NBB5acA6dq1K44fPx7j+YwZM+oeQREgulFJRiEgBGIj0KkT8O23OBtWAB9UOIAU6QMvApSRCRD/WQRGrS2B7I+P41z9Tsi54msjj/tsXhEgPjs00rAAICACxNxBDEoBUqFCBZQuXRrffvttNN1ChQqhUaNGGD58uC7iTZo0UWJk3rx50QKkW7duuHv3rq7n7WUSAeIyOnlQCAgBjcCePbCUK4cQiwVtcm7A/TKBeQeG0QEvcmMDBv35310oDzfuRvIapY0W4XP5RYDoH5Lw8HB89dVXatMwU6ZM+h+UnEFLQASIuUMfdALkyZMnSJIkCX766Sc0btw4mi5PL/bv349NmzY5Jc4Tkbp162LIkCFo165dtADhf2fJkgXPnj1DyZIlMXjwYJQqVcpheREREeCflihAsmXLhnv37iFFihRO2yEZhIAQEALPEahdWzme/5q8GaZWXwCdFqBBAbLztuaoeeV7nC9QGzmOrfX7PosA0T+EtHqgCIkfPz6WLVum/0HJGbQERICYO/RBJ0CuXLmiRMJff/2FypUrR9MdNmwY5syZ85wJlTX+rFmz4ubNm3j69Cm++OILDBgwIPrt7du349SpUyhWrBgoJCZOnIhVq1bhwIEDyJcvn91RZBmDBg167j0RIOZOeildCAQsgT/+AF5+GZEhCfBGkeNIWCBXwHbVlY5leHgWE9cWQAJLJG4u+gPpm77oSjE+84wIEH1D8csvv2DWrFlYunQpWrdujVdeeQXNmzfX97DkCloCIkDMHfqgFSBbt25FpUqVoukOHTpUmVPR18NROnv2LB48eACKjU8//RSTJ0/Gu+++azd7VFSUMvOqXr26Ova1l+QExNzJLaULgaAiwLC75csDu3djbqou+LnGxKB2PHc09q33dsFrZyfhSpZyyHxxh1+H5Q1mAXL79m3QdHrnzp3ImTMnNm7cqMTFuXPnfO5j78ttI6w333xTbch+8sknPscuLhskAsRc+kEnQDxhgsUhofkVBYut07n1cLVv3x6XLl3C6tWrdY2i+IDowiSZhIAQsEdgyRKuJPAwNBneLHkaSXNlEE52CKT89zomrc6DJFEPcfmrJcjycRO/5RTbAunpUyAqyjtdCw2FS2KXgoGWB0w0jaIJMv0raRlAH8vYUs+ePZVJ1Xfffaey+fIi36y20Y+Vf5roYkTPgQMHKhNxI+nvv/9GrVq1wE1WT5p/379/X1mK8OTpxo0byiSd1iHlypWLbp6ePNZ9odg8f/78c93r1KkTvv76v+ASCxYsUJvEDx8+RNu2bVXEUy2RVe3atbF7926nfRUBYmQWGc8bdAKEiOiEXqZMGRUFS0uFCxdGw4YNdTuh07+DX3yOdlssFgvKly+vTLJmzpypa2REgOjCJJmEgBCwJcDVZtGiwPHjmJTmc2yo8QW4KJRkn8Bbhz9H02Nf4maaAkh//ZBrq2cfgOtogcTpcPo0YOViaGprw8KAPHmMY6QAuX79ujKPioyMxJ9//qn8Klu1ahUjSIzWeG4gJkyYEAxvnzlzZmXmrFkymLXI9wQ4T7SNVhWhNh/qX3/9FfHixUPevP/d8UMxx8U2/VQpRowkronI/sMPPzTyWKx5mzZtikOHDqmx5HjNnz9fRQ9lxFGawjPpyWNdCc3g6WerJZZPk7oNGzagZs2auHXrlhKyjEyaO3du1K9fX80v/stEccbNYQpdZ0kEiDNC7r0flAJEC8M7ZcoU9eU1bdo0TJ8+HYcPH1Z3fPTt2xeXL1/G3LlzFV2qaobnLViwoPp/huFlxKuPP/5YnYQwccemYsWKyt+DQoJmVzwhoa8JhYieJAJEDyXJIwSEwHMEZswA2rdHePx0aFrmNFJklSAWsc2SxJH/4KtVeZD66S2c6z8DOQe39ctJ5WiB9OQJQGvi+PGNiwKjICh2+Mefx4QJjT1NAcLIkdZO4VwcrlixQt3RxQVl0aJFlejg7zEX1QwU8/PPP6tQ+FyMasneIp/ihqHwec8XF6RHjx5Fnjx5VOj9qlWrGmtsLLmd1eOKAOHu/R9//KEsKPi3ePFilC1b1mmb06RJo0QId/61RLPxzz77TPmk0nTNOvEUKVWqVGoNw/o2b97stA57GbjpGhISEv0WRWLy5MmxfPny6MU/32SAntdee02tnfTkcdYYrsU4X06ePKnqp0legwYNcO3aNfUoBQ659erVC99//z24/mOb9CQRIHoouZ4nKAUIcfH0Y9SoUepLjl9wVOX012DS7Ej5pcE0adIk9YXF40keE/MLjF+S/ALUdiR4KSG/FDnpU6ZMqY4a6WRu7WfibJhEgDgjJO8LASHwHIHHj2HJlw8hly9jaPoJ2FO1q5x+6Jgm9U5MwPsHuyM8aRakunESIUkS63jKt7I4EyCMgGZUFBjtIcXOv/96ToB06dJFLRS5k00BsmfPHrUrzwU1F7ncCOSik+bP1ubN9hb5a9asUTve+fPnV7/hDL9LPwfumvP33PZEwWjftfzO6uGiXo9/CgWSJjj4zAsvvIA6deqgXr16qh9hPGpykHgqwOiePD3iCQitOpgoOmj1QRMlnnBcvHgRzZo1Q4kSJdCxY0e8/fbbKh/rZWRQBsGxrYdmUiNGjAD7ST9YrpXo/8pyaQ7F9RPHxPrUhc/QnOv333/HSy+9FN1qrolYPsdLT57YxoQnYjxZ4Zj269dPZaWg4kYyhSr/pfjgCQzNvrgZzJMSnpDoSSJA9FByPU/QChDXkZn3pAgQ89hKyUIgYAnQvrl3b1xNkB3vVTyBlBmC+9JBveOc4Nm/GL+6ADJGXMDpjqOR59ueeh/1mXyBJkC4e83FNhes3KmmAOGCmAtq68Q7u9KmTRvt/8H37AmQkSNHKh8EipVcuf6LCEdBw0XphQsXdC9EnQ24s3pOnz4dqwChcOAOPS0veDkyxQY50ITbWTp48KDa6ORcSJYsmRJvfFZLNWrUUKdA5Kmlzp07Y8eOHdi1a1f0a/QDoSihWTkX7taJpyc8bXrnnXfw6NEjdeLANt+5c0eJDG7I8kQjkU3Mbzq28/SKbaKYWrhwId577z1lKaL5z+rJ44jBjz/+qMQUx5JCREv0OaEvDE9YWrRooTaD33//fdU/bg7z2gWa/PF1OuA7SiJAnM0+994XAeIeP48+LQLEozilMCEQ+ATu3oUld26EhIfj00yzcbJSK1hZQQR+/93sYc1zs9F5Txs8SJgaia+cQby0qdws0buPB4IAoV8AF64Mb89FIX0xaR6dIUMGJUC4WKWJtHV69dVXld+D5nTsSIBwl56nJosWLYp+nKcfXNjbChBHYfGt6+WC3Z4ZlLN6nAkQLpjpNM1Q/typpwDhH+tydkrDUwD2haZsS5YswYwZM9TuP09AaBrGhfn69etBIaKlPn36qJMACj4t0YSJJ0X0z2B0MevEsmmmxaA69EWhSTr/5SlV+vTp1X1mHDuaXFkn9psLf57m0FeFkUFZx969e1U9THryOPpUcR5Q4NAXJrZEcUqBRy6cNxRCFGU8EWG/OdfsJREg5n6fiQAxl6+h0kWAGMIlmYWAEKDZwfDhOBVWBB9WPoCUaeIJEwMEQi3PMGptceR8eASn3u6HvD8MNfB03GcNBAHCXX+ayCRIkEAtlvmvlihA6DNAHw7rxDs8KCy4s64leycgXEjTJImLey3Rl6RHjx5qcW69uOdimn+xJUZgst3lZ35n9eg1wTpz5ky0CRYFAiOBcZFNMULzqMSJnZsJvvzyy9F+LnTSp/O15ueh9Y15KASsA/HwRIR+rDzpSJcuXQwMNFejkNDM0mm2ThN0Rs6iSRf9ZunzytftJfqzcH1DEzj6ZNCMa+XKlTGy6slj/QBNv+hkTtN3ilZHieKIpx4UujShZ98ZkYuJYo8nJa+//rrdx0WAmPsdJwLEXL6GShcBYgiXZBYCwU3gyhVY8uZFyOPH6JxtOa6VbxDcPFzsfbkry9FnWyNExEsMnDqNsJyZXCzJ+48FggCxdUK3puhIgIwZM0YtKPfv3+9QgGgOznSupgkRE3ftuejkwplleCLpqccVJ3QunPmc5hNCscVIVc4Szde0KFA0leLimhcwc/HPRJMtlsOyrS9jZlRPngJRUNimL7/8UglDigcKBYoHmj/x3jT6xFKM0MfE2WkNhRBN4eh/26FDB7td0ZOHD7Kt9OtheyksHKX+/fsrU6yxY8cqUz7yoekYE8Uty6FJn70kAsTZbHPvfREg7vHz6NMiQDyKUwoTAoFNgOEyp0zBvsSV8WnVLUie4n8RaAK74x7uncWCL/+ogsL3tuHUKx8i77r/hWf3cE0eLy5YBQgX0TTn4U526tSpFVfbRT7Ni+hPQZMbhsKnCRF3u2n+Qz8Q/r8nkp56nAkQPacv9MuwPQGh4zVPRyg46NBNUzPNWZyhaXmawefeeOMNJcJo7sTonYxCZXtBMp3kaSal3atizYbmcbEt8h1xXLt2rTqpKlCggDIvoxkUHdAZSVQ76dKTh5c+00yNUbqYKCQpZGj6xv46SoxsSnFBocrTJAoRsqLPDk2wyIVMtJDAtuWIAPHEJ8RxGSJAzOVrqHQRIIZwSWYhELwETp2CpWBBhDx7hla5NuNh6WrBy8IDPS90czMGb66BpyHxEbHvKJKW+O9eBV9PwSpAOC50vOaimbvv9gQIw+szgiXNr3r37q18JLjw5muObP5dGW899TgTIK76nzAyGBfljObJ6JvFixcH/TsoPrTEUxCanNGMiotv8uIljtanFZxHdBKnGKAZlqcST0lonkXfEYYH5oJ/6NChqq1a0pOHfBhGWbt3bd26dco0jY7sNCWzlyh8GGqZ9XPcrXl89NFHym+FjvOMDOYoiQDx1EywX44IEHP5GipdBIghXJJZCAQvAf5ofvcdNieti5E1VkGHaXjwstLZ808310XZm2twvHo7FNgU0+lZZxFez+ZMgPj6PSDuAKN/AxfSdCrnYtp2kc9FJs15rP1E3KnP0bN66nEmQMxol5Ey6czPuzG4sJf0PwIiQMydDSJAzOVrqHQRIIZwSWYhEJwELl6EJU8ehERGomWerXhcslJwcvBwrwvc3oqhG6sgMiQBnh47jcT59d0V4OFmGCrO329CN9RZO5knTpyobrTmzr7tIp/mV/R/sHZAd7c+e8/rqcfXBQhPcRgli6ZSkkSAeGsOiADxFmkd9YgA0QFJsgiBYCfQtSvw1VfYkaQWBtVYjyRJgh2I5/o/YEMtlLizEcfrdEWB1TEjL3muFs+VFNsOLW8nj4ryXF2xlRQaav6N6856Yr3Ip/kNzXzoE2F9J4azMoy+r7ceXxcgRvsdLPnlBMTckRYBYi5fQ6WLADGESzILgeAjcOMGLDlzqshX7XL8hrtlXw4+Bib2uPj13zBwS+3/ImKdPYewbPbvBzCxCYaKjm2BZKigAMhM/4Bly5apG7l9Lfly23yNlS+1RwSIuaMhAsRcvoZKFwFiCJdkFgLBR6BvX2DECPyduDx6Vd0uka88PQMsFgz9vQIK/LMLx5v0RYElwzxdg0fLEwHiUZxSmBCIQUAEiLkTQgSIuXwNlS4CxBAuySwEgosAbz3Pnh0h9++jc7ZluFbe8eVbwQXGs70td3kZ+mxvjEcJUiDhlfOIn84z4Vo928r/ShMBYgZVKVMIOP98yXrN/VkiAsR9hh4rQSa0x1BKQUIg8AgMGQIMGICTYUXxUdUDSJEqNPD66AM9CrFEqdvRcz08jOMth6DA3P8usfPFJALEF0dF2hQoBOQExNyRFAFiLl9DpYsAMYRLMguB4CHw8CEsOXIg5PZt9Mq8AGcrNQuevsdBT6tdWICuu1rgn7B0SHbzHEKTJ42DVjivUgSIc0aSQwi4SkAEiKvk9D0nAkQfJ6/kEgHiFcxSiRDwPwLjxwOffIILCfOgbeVjSJk2vv/1wY9aHBr1FBNWF0Dmf8/gRKfxyP+17zk2E6cIED+aVNJUvyMgAsTcIRMBYi5fQ6WLADGESzILgeAgEBEBS+7cCLlyBQNemIajVdsHR7/juJcvn5mGjvs+QHjSLEh16zRCEoXFcYuer14EiM8NiTQogAiIADF3MEWAmMvXUOkiQAzhksxCIDgITJsGfPABrifIghYVTyNlBt9bCAfiQMR/FoFJq3Ij/ZMrONVnGvKO8D3hJwIkEGee9MlXCIgAMXckRICYy9dQ6SJADOGSzEIg8AnwNjneTnzmDIalH4891bohJCTwu+0rPax/YjzaHPwEt1LkRrrbx+P+tj0bMCJAfGWmSDsCkYAIEHNHVQSIuXwNlS4CxBAuySwEAp/AggVAixYIj58OTcufQ4pMvukMHagDEfb0Ib5emQOpnt7G2SELkOsz33L+FwESqDNP+uULBESAmDsKIkDM5WuodBEghnBJZiEQ2ASiooBixYAjRzA+3RD8We0zhErkXa+PeZMjQ9Ds6ABcS1cEGa//DV8aBBEgXp8OUmEQERABYu5giwAxl6+h0kWAGMIlmYVAYBNYvhxo1AgP4qXAG2XOI3k2370QL5AHIsmTu/h2VXYkfXYfFycvR7aPGvhMd0WA6B+K8PBwfPXVV+jQoQMyZcqk/0HJGbQERICYO/QiQMzla6h0ESCGcElmIRDYBGrUADZvxvTUvbG65khf2ngPbO52etf87z5ofHIUzuWogZznNvpM/0WA6B+Kli1bgiIkfvz4WLZsmf4HJWfQEhABYu7QiwAxl6+h0kWAGMIlmYVA4BLYvRsoVw5PQ+KjcYmzCMuTNXD76gc9S/PoEr5ZkwvxLU9xc/VupK9TxidaLQJE3zD88ssvmDVrFpYuXYrWrVvjlVdeQfPmzfU9LLmCloAIEHOHXgSIuXwNlS4CxBAuySwEApcAF0fff49fkjfHzBfnI77cOxjnY/3x9uaocfl7nCjXHPl3zo/z9rABsS2Q/v0XiIz0TjMTJAASJfJOXVott2/fRqFChbBz507kzJkTGzduVOLi3Llz3m2Ijtp8uW1s/ptvvonKlSvjk08+0dGb4MkiAsTcsRYBYi5fQ6WLADGESzILgcAkcPHifxcPPn2KZvl340kx39htD0zY+nuVJ3w3Rq7/71TqybGzSJI/7k+lHC2QKD7Wrwf++Ud//9zJmSIF8OKLxkUIBcOcOXNU1TSNypYtG5o0aYJBgwYhadLYI7717NlTmVR999136nlfXuSb1bbhw4fj559/xrFjx5A4cWIlIkaOHIkCDN1tIP3999+oVasWzp49ixQcTA+l+/fvY8CAAerk6caNGyhVqhQmTpyIcuXKRdfwxRdfqPG2Ti+88AKuXbumqxVk0K9fP3Tt2hUTJkyIfmbBggX49NNP8fDhQ7Rt2xajR4+Ofo8itXbt2ti9e3es/RUBomsIXM4UtALkm2++URPy6tWrKFKkiJq41apVswtyy5Yt6NOnj/qQP3r0CDly5MAHH3yA7t27x8i/ZMkS9WE7ffo08uTJg6FDh6Jx48a6B0cEiG5UklEIBC6BPn2AUaOwM0kNDKq5EYkTB25X/a1nn2+ogWJ3NuNogz4otHxEnDff0QLp/n1g5UogYULjosBopyh2njwB6tcHkic39jQFyPXr15V5VGRkJP7880+0a9cOrVq1wrfffvtcYU+ePEHChAnx+PFjZM6cGatWrUKlSpWCQoBERUUh1CYMXp06dfDOO++oBf3Tp0/x2Wef4eDBgzhy5IhTAWcLt0yZMor9hx9+aGwQY8ndtGlTHDp0SI0lx2v+/PkYP368al+WLFnUkxQgixcvxu+//x5dUrx48ZA+fXqn7di1axfefvttJSIooDQBcuvWLSVmZ8+ejdy5c6N+/fpqjvFfprp166J9+/ZK7MaWRIA4HQK3MgSlAPnhhx9AhzSKkCpVqmDq1KmYMWOG+lBkz579OaD79u1T4qN48eLqQ01BQgHCDxIjajBt27ZNCZjBgwcr0UHFP3DgQJW3QoUKugZJBIguTJJJCAQugQcPYMmaFSH37qFztuW4Vt53Ii4FLnT9PSt3ZTn6bGuEhwlSIdHNi4iXMpn+h03I6UyAcDM7SRITKrYq8tGj/05aXBUgd+/ejeEUzoXhihUr1OZgzZo1UbRoUSU65s6dqzYLN23apHb9+Rt88+bN6JbYO2WguMmYMaNamHIxevToUbU5yN/8qlWregyMs3pcOQHhzv0ff/yB1atXqz8u0suWLRtrm8kjQ4YMilH16tWj827fvl2JkwMHDoCma9aJp0ipUqVSpxCsb/PmzS5xsVgsCLG6JZUiMXny5Fi+fHn0wp8FlyxZEq+99hqGDBkSLUAYFGD//v2G6n3w4AFKly6t1nEsi+VqAoRmeQ0aNIg+RaEQIrtevXrh+++/B9eAbJezJALEGSH33g9KAUJBwIlrvcNCW9JGjRqBx3l6EpUzxci8efNUdk5wCgh+UWiJuxOpU6fGwoUL9RSpnk+ZMiXu3bvn0WNQXZVLJiEgBOKewKRJQJcuOJ8wL9pVPY6UqeXij7gflP+1INTyDONWF0TWx6dwvPMkFJjUOU6bF4gCpEuXLmqRyF1sCpA9e/aoXXma0XCRW7BgQXTr1g3Hjx+P8Xtrb5G/Zs0atdudP39+JToYfpd+DtyVp7mR7YmCq4PprB4u6vX4p1AgaYKDz9AUieuIevXqqX6EhYXF2sRTp04hX7586hSEwo2JooNrnk6dOqkTjosXL6JZs2YoUaIEOnbsqE4QmFgvN0+5/rCth6ZUI0aMAPvJhT/FzbvvvqvKPX/+vNqM5ZhQIGqJz/BkgicbL730UvTrPLFi+RwvJp6A0BqFax++zjKHDRumTi5iSzwlS5Mmjaqb88RagFBU0VKFQoz/UnxwvceTovLly2PDhg3qhMRZEgHijJB77wedAOERbpIkSfDTTz/FMI+i/SAVOCess8QTEX4ZUHXzA83EkxOaZFmbZfGDQUXOD6i9FBERAf5piQKEHwoRIM5GQN4XAgFI4NkzgLbbp09jUIavcbBapwDspP93qc7pr9Fuf2fcSJkXGW4fA+LFi7NOBZoA4c41F9tcsHKXmgtL/h7yN9c6cbMwbdq00f4ffM+eAKE/BM2iKVZy5cqliqCg4YL0woULuhahegbXWT00y45NgHA9wt35y5cvK6sMri/IoRgvItWZKM4aNmyo/GJoyqalGjVqqFMg8tRS586dsWPHDtCESUv0A6EooX8EF+3WiacnPF2huRfN0HlCxTbfuXNHiQyeWnE9lMgmEgF9Unh6RUFJMcXN2Pfee0+JJI4JE4UPy6RI5EkSy6HFyeHDh9UY20uLFi1SJu5sP+u0FSB8RrNC4UlMixYtlNB5//33VR/pi8I1H83++Dqd8O0lESA6J5+L2YJOgFy5ckXZHv7111/KYUtLVNx0htM+FPZ4Zs2aVX0IaWvJScsvNi3xQ8YjXu4saIkfujZt2sQQGdbl2nO+4sLu0KEAACAASURBVPsiQFyczfKYEPBnArybgDuQ8VLjrQoXkSJT7E64/txVf2572NOH+HZlNqR4Go5zE5YhZ9eGcdadQBAg9AvgIpK/q1wQchE9ZcoUZUrEhSUXq9OnT4/B+NVXX0XevHnx9ddfR79uT4Bwl54Lcy5YtcTTDy7sbQWIo99j64q54LVnBuWsHmcChItlOkzzBIO79BQg/GNdek9pPvroI6xcuVKZfXOtwsQFPX0v1q9fDwoRLdGnlacAFHxaOnnypBIBNEWnRYh1opkczbQuXboE+qJww5X/8pSKvhrcSOXY0eTKOrHfXPTzNId+HbQ8YR179+5V9dhLND2jmVzv3r3tRuXiCQ65rFu3TokJJnsCxLZszg+KPG4yc+5QDFGY8USEfed8s00iQMz9agtaAbJ169Zo5zUippqmORWVt6PEI1seP9Kekl8WkydPVseQTBQgFDDa//M1RmHgsTEnsb0kJyDmTm4pXQj4FQHabP/5J6ak6Yt1NYbJxYM+PHjvHuyLN06MwLkc1ZHznPNTc7O6EggChLv+NI9JkCCBWizzXy05WljyDg8KC27yacmeAOFCmqY6/L3WEn1JevTooRbn1ot7Lqb5F1tiuF/bXX7md1aPXhOsM2fORJtgUSDQzJtii2KE5lGMdGUvffzxx8qPhvVoJz3MRyd9Ol5rfh7asy+//LISAvSf0BJPRCpWrKg2WdOlSxejGq59KCQ0symad9EHh47fFAR9+/ZV6yfN7Mu2jRQVtPCgCRzN1bmOolhylHhPC0WCvUAE7CdZUNBo6dmzZ8r/hOPJdZX1e8zD13jqQbHLaGvsP6NyMVHw0V/39ddff645IkDM+ub6r9ygEyCeMMEiOB4T8gOnnZi4YoJlO7TiA2LuZJfShYDPEqApRPnyiAxJgEYlziFxnsw+21RpGJDm8WV8szrnfxcTrtqF9HVjdw42i1kgCBBbJ3RrVo4EyJgxY9Ri0tpx2VaAaE7QdK6mCRETd+254OTCmWV4IumpxxUndC6a+ZzmE0KxxUhV1okijOKDJyjMy9Mi60RTKS6safnBxT8T/UNYDvNbW4EwnDFPgSgobNOXX36phCHFA8UExcOPP/6oNmx5WkExQh8TZ6c1FEIUSKNGjYoO4GNbF/vNMhngh8LANtG3xNasnZYm9A3iyY49EdS/f38VOW3s2LHKnI8mfjQfY6LvCPtNsz7bJALEE58Qx2UEnQAhCjo58QNorf4LFy6sjn71OqEz2hU/sNqlR/xg8oPBHQctcdeCx5bihG7uJJbShYDfE6Dp5sKFWJaiJWbXmisXD/rBgHbe0RI1L83HibLNkH/XgjhpcbAKEC6iac7DXWwGemGyXeTTvIj+FNxJnzlzpvot5oKW5j/0A+H/eyLpqceZANFz+kK/DNsTEC76KUwY0cn67g86dDMvTzP43BtvvKFEGE2iKFgYheqrr76K0X36qPDkQLtXxfpNmsfx5MBoWrt2rTqpYttoXkYTKDqa00xMO+nifS4USdzE5Xhyc5dmUhxjzReF1iYUWYzSZS/FZoJFXxKKC4pVnihRiNDXln47NMEiG3LRwgJbly8CxOiIG8sflAJEC8NLO1NGZJg2bZqyMeVE5YTncSKPhXlUy0Q7U344qLCZ+OFhxAd+kLVQcjTpYmQImnJRyPALgapbwvAam5CSWwgEHQFePJgrF0KePcM7+ffiabFSQYfAHzucK3wvRq8voy4mjDhyBkkLOo+q4+l+OhMg/nAPiCsnIOTI324umrn7bk+A8Hd90qRJyvyK/gSshwtvvmbP3t/VsdFTjzMB4qr/iXXYW+v2884LsmHiKQhNzmhGxYU3eXHRb31awXlEJ3EKBppheSrxlITrKfqOMGIVF/tcI1EgaYmO7TQd0/xJWD83eLkprCXyoY+to1vuHQkQih+GW2YbOPZaIhP6zPC0xTqYkG2/RYB4aibYLycoBQhR8PSDx4CMNc4jO0as0uJma9EqNHtHfmExhB8/wNwF4PEgoz7wg2z9IWacbooO2nFqFxE6u+jGeljEBMvcyS6lCwGfJNC7NzB6NHYkqYUva66Xiwd9cpDsN2rghloofmcjjr7eG4V+Gen1lvv7TejuAKO1ARfSdCrn77DtIp8LTJr8WPuJuFOfo2f11ONMgJjRLiNlcpOVm6Z07Jb0PwIiQMydDUErQMzF6lrpIkBc4yZPCQG/JXD/PizZsqmLBz/K/iuul/vfLp3f9imIGl7myq/ou60BHiZIiUQ3L3n9YsLYFkiMfRIZ6Z3BoN+4TQRWr1Q8ceJEdZs1d/ZtF/k0v6Jpj7UDuhmN0lOPrwsQnuIwSpa1GZcZrPytTBEg5o6Y3wgQfoB5zBbISQRIII+u9E0I2CHw/xcPnkuYHx2qHUWKVHLxoD/NkxBLFMariwlP4thHk1BwsncvJoxtgeRPHD3RVutFPk1vaObD8Lu8T8OspLceXxcgZvHx93JFgJg7gn4jQBj6jk5CjHbAsHp6brE0F53nSxcB4nmmUqIQ8FkCUVGM3wmcOIEvM0zG39U+8tmmSsMcE6hzajLaHfgY11MVwAu3j8Cb8ZNFgPxvXOgfwBCt9M/0teTLbfM1Vr7UHhEg5o6G3wgQhkxj2D06IvHGToZR4x0bjG7AOzgCIYkACYRRlD4IAZ0E1q4F6tTBw9DkaFz+MlJkiXmJl85SJFscE0gUeR9TV2ZB0mf3cWHGWmRvW9trLRIB4jXUUlEQEhABYu6g+40AscbAcGoMq8fwtozrzUuJKEa0WzHNRWZe6SJAzGMrJQsBnyPAi69WrMDcVF2wrNZEb26c+xwKf29Qm31dUP/MJJwq9DryHvnFa90RAeI11FJREBIQAWLuoPulACESXqxDx6kRI0aoyFScKAzLx9C6RYoUMZeaSaWLADEJrBQrBHyNwJkzsOTNy5tg0aTIcYQWzO9rLZT2GCCQ6f4JTFpXAFEIwYN9p5CiZG4DT7ueVQSI6+zkSSHgjIAIEGeE3HvfrwRIZGSkChXH04/ffvsNZcuWVScf7777rrrVkrdg8nTkyJEj7lGJo6dFgMQReKlWCHibQI8ewLhx+DNpHYysuTpOIgh5u8uBXl/fzXVQ5uZaHK7bA0VWeeaWbWfMRIA4IyTvCwHXCYgAcZ2dnif9RoDw0j/tRvEWLVqgXbt26v4O63ThwgXkzJlTmWX5YxIB4o+jJm0WAgYJPHwIS9asCLl7F52yr8CNcvUNFiDZfZFAmasr0Hfr63iQIBUS37qEeCmSmt5MESCmI5YKgpiACBBzB99vBAidzik6eJOmI6fzp0+f4q+//lLxrP0xiQDxx1GTNgsBgwSmTgU6dsSFhHnQtuoJpEwtoXcNEvTJ7KGWZ5iwOj8yPz6DY59MRcGxHUxvpwgQ0xFLBUFMQASIuYPvNwJk8+bNqFy5svL3sE4UHVu3bo2+xdxcXOaWLgLEXL5SuhCIcwIWC1CsGHD4MIanH4c91bvHeZOkAZ4j8NqJcWh9sAeupi2KTDf/BkJCPFe4nZJEgJiKVwoPcgIiQMydAH4jQOLFi4erV68iQ4YMMYjcvn1bvfbs2TNzSXmhdBEgXoAsVQiBuCSwYQPw4ot4HJoEjcpeRvJsqeKyNVK3hwkkeXJXheRNHPUIl+dvQJbm5l6eKwLEwwMoxQkBKwIiQMydDn4jQEJDQ3H9+nWkT58+BpETJ04oZ3Qu3v09iQDx9xGU9gsBJwTeeAP4+WcsTNkRP9b6FvHiCbFAI9B+T0e8em4qThR/A/kPLDa1eyJATMUrhQc5AREg5k4AnxcgTZo0UQQY/apOnToICwuLJsJTD15KWKBAAaxZs8ZcUl4oXQSIFyBLFUIgrghcuABLrlwIiYrCW4UOwVLYP8OFxxU+f6k3271DGP97MTwLiYdHh84ieeFspjVdBIh+tOHh4fjqq6/QoUMHZMqUSf+DkjNoCYgAMXfofV6AtGnTRhGYM2cO3n77bSROnDiaCJ3RGfWqffv2SJcunbmkvFC6CBAvQJYqhEBcEejbFxgxAtuT1MLgmuth9VUWVy2Sek0iMHBDLRS/sxFHGvZF4WXDTKoF6v6rs2fPIleuXEiUKJFp9QRCwS1btgRFCP1Ily1bFghdkj6YTEAEiLmAfV6AaN0fNGgQevbsiaRJzQ9taC5yx6WLAIkr8lKvEDCZwOPHsGTLhpDbt9El68+4UqGxyRVK8XFJoMLln9Fr+xv4Jywdkt25iNAk5ogDESD6RvmXX37BrFmzsHTpUrRu3RqvvPIKmjdvru9hyRW0BESAmDv0fiNAzMXgG6WLAPGNcZBWCAGPE5g1C3j/fVxNkB3vVTmNlGljRvPzeH1SYJwSCI16ikmrcuOFiIs43ncWCgxrbUp7glmAMABNoUKFsHPnTmUJsXHjRiUuzp07Zwprdwr15baxX2+++aaKMvrJJ5+4082Ae1YEiLlD6tMCpHTp0vjjjz+QOnVqlCpVCiGxhDTcu3evuaS8ULoIEC9AliqEgLcJMPRumTLAvn0Yk24EtlXvY3Z0Vm/3UOqzQ6DRsRFocbgvLr1QGlmv7jYlJG9sC6R794BHj7wzNEmSAClTGq+LgoHm1Uw0jcqWLRvo90mLB2fWDrSIoEnVd999p5735UW+WW3j9QSjR4/Gnj17VJRQnvA0atTI8EDQl7ZWrVrKnC9FihSGn4/tgcuXL6NPnz5YvXo1Hj9+jPz586sxK8PvRAC8SuGLL77AggULcO3aNeWfw3nRv39/MPiQvfTtt9+Cf5rYLFKkCAYOHIi6detGZ2d5n376KR4+fIi2bdsqTlric7Vr18bu3btj7a8IEI9OhecK82kBwi+hXr16IUmSJOoLKbb0+eefm0vKC6WLAPECZKlCCHibwNatQJUqiAhJhIZlLiFZjrTeboHUFwcEkkfcwpSVWRFmicDVxX8h0xuVPd4KRwskio/Bg4Fbtzxepd0C6YI5YIBxEcKFJqNb0jwqMjISf/75p7pwuFWrVmqBaZuePHmiLiLmQjZz5sxYtWoVKlWqFBQCJCoq6rkFORf1vHyZm7W8pNlVAUKAFARk/+GHH3ps0lAgcvOY4obl8sqE06dPqxOrPHnyqHqGDh2K8ePHKyFKIUFRQN/fIUOGoGvXrnbb8uuvv4JXM+TNm1e9z2cpMPbt26fKuHXrlhKzs2fPRu7cuVG/fn01x/gvE4UKfYe1IEeOOiwCxGNTwW5BPi1AzO2675UuAsT3xkRaJATcJtCsGbBwIZakaIN5tWbC5i5Vt4uXAnyXQMdd7+PlC7NwrEwzFNy9wOMNdbRAunoVYMwDBjrg6YSZiacsjx8Dw4cDRoNLUYDcvXs3hlM4F4YrVqxQO/o1a9ZE0aJFleiYO3euWlxu2rQJP//8Mz744APcvHkzumv2ThkobjJmzIgJEyaoxejRo0fVwnfq1KmoWrWqx7A4q8eVExDu3NMChCKDf4sXL1ZXDjhKtBBxJEC2b9+Ozz77DAcOHABN16wTRUKqVKnUJi/r46mKK8lisTxnpcITCAokCktH6bXXXsMLL7wQfZLFfBRT3HieN2+e7qakSZNGiRCedtAsr0GDBupEhalp06aKHTe0v//+e/zwww8qsqqzJALEGSH33vcbAXLx4kU1ubNmzap6zAnGiVS4cGEVVi8QkgiQQBhF6YMQsCJw/fp/zueRkXg3/x5EFisteIKIQO7wPRi1viwiQxIg8swlJMkZ8yJdd1E4EyBp0wLJk7tbS+zP378PcE3rKQHSpUsX9dvOXWwKEJoXcfecC0sucgsWLIhu3brh+PHjamGuJXuLfIbn5243zX4oOmjeQz+HQ4cOKXMjRyY+Rok5q4eLej3+KRRImuDgM1yY8/qBevXqqX5YX0Ng20ZHAoSio0KFCujUqZM64eBaqlmzZihRogQ6duyooosysd7GjRvj3r17z9Vz//59jBgxQl138ODBA1SvXh3vvvuuKvf8+fPqBINjQoFonbg+e/XVV3Hp0iUlHLNkyaLaQZGpJZY7ZcoUrFu3To0T20vzKIpG1uEs8TqGn376SZ2a8QSEdVJU5ciRQ9XJfyk+eKJWrlw5lC9fHhs2bFAnJM6SCBBnhNx7328ESLVq1ZTQYCg9qlpOVO6M8CJCfmHR/s/fkwgQfx9Bab8QsCEwdCjQvz8OJK6AvjW3m74bLfx9j8CQ3yug4L2dONJ8KArP7+fRBgaaAOHGIhfbL730ktqlpgDhgpgLS+tEP4e0adPG2DW3J0BGjhyJAQMGKLHCUMVMFDRckF64cEHXIlTPgDmrh2ZHsQkQLqC5O09/iSpVqiixQQ7FihXTU73K40iA1KhRQ50CkaeWOnfujB07dmDXrl3Rr9EPhKKE/hFctFsnnp7wtOmdd97Bo0eP1AkV23znzh3lQ0FBQZMp21DQ2v9T9L311ltq45hChWLwvffeU1VQVPbr1w9kSLMqCgqaZfXlEV4s6eDBg8r8jp+BZMmSKdFKZlriaRDXhTTXa9GihfIzef/991UfaRZG8y6a/fF1OuHbSyJAdE8/lzL6jQChIzqPEXnpIC8T4oeJR3tUzVTxZ86ccQmALz0kAsSXRkPaIgTcJPD0KSy5cyPk4kX0yTwXpyu1dLNAedwfCdQ4Pxcf726F20mzIc3dswiJH89j3QgEATJ//ny1cKUzMheEDRs2VDvi9BegAMmXLx+mT58egxl31Wn///XXX0e/bk+AcAedC9xFixZF5+PpBxf2tgKEC1FnvqZcsNszg3JWjzMBwsUyzZVOnTqldukpQPjHuvSe0tgTIDQNo6/M+vXrQSGiJTqF8xSAgkBLJ0+eVBu7R44cUdHFrBPN5GimxZMM+qJkz55d/ctTqvTp0yMiIkKNXXKb4zaazrEPW+kH9/+JG8bkuG3bNvUKx4bii+ZTPEHZv3+/Einjxo1TpxqOEv2BOIZs25IlSzBjxgx14sETEHuJ84P1MA/nzsKFC5Uw44kI+875ZptEgHjsq8puQX4jQKhw+cVB5yXa9nGXgB8iTkCKEqpcf08iQPx9BKX9QsCKAC87a9wY4fHToWmli0iRwZy7IIS5bxNI8OxfTFmRFSmf3saZccuQu3tDjzU4EAQId/1pHpMgQQK1WOa/WqIAKVmypDLHsU68w4PCgrveWrInQLiQ5iKWi3st0ZekR48eyvndenHPxTT/Yktcf9i78NFZPXpNsLiRqplgUSAwEhjFFsUIzaOsL2K2bac9AUInfTpea34e2jMvv/yyEhvffPNNdDE8EalYsaI66bC92Jnmajw9IGMmWp/QB4fO5TTp4mkF/TX4unXiSQrvXKE40BLHmqclHHcmmkJxfD766KPoPHyfwvTYsWO6Pyvsk+bfY/sQBRJPPVgmo60x740bN1Q2Cj6elLz++uvP1SUCRDd+lzL6jQChrSEnOz9MtA/kaQiP0vgvj8+ozP09iQDx9xGU9gsBKwKvvAL8/jumpe6DNTVHwEFESUEWBASa/90HjU+Owpk8ryD3qXUe63EgCBBbJ3RrOI4EyJgxY9RikrvlWrIVINyU5I48TzVoQsTEXXsuOLmWYBmeSHrqccUJnYtmPqcJEootLXStvXbbEyA0leLC+sqVK8r/hYmmSyyHZfPuDy0xNC5PgSgobNOXX36phCGduekcv3LlSvz4449KIHDRTzFC3w7b0xr6mrA8ayf07t27K/Mv7VSEpnQUHNbRt4YPH66iVtHEXm+i2Z4W+cr2GYb05TiNHTtWmfMxL83HmChw2W974YtFgOil71o+vxEg/LBwB4CLdO5ozJw5U/WYtoP8EDAqhr8nESD+PoLSfiHw/wSOHwcKFkQUQtCk+GnEz/ef/bmk4CSQ4eFZTF6TB6Gw4M7240hTIb9HQASrAOEimqFnuYtN82wm20U+zYtoKUFzG64XaELEnW7eGUY/EP6/J5KeepwJED2nLzxNsD0BoUM4zbaYuMNPsyWKK0aEopkUTzP4HKNKUYTRFOzjjz8GI0/RlN060UeFPhjavSrW79E8jicHRhNNrShyKALp7E5W9BeZNm1a9E30rPf3339XfiE0waJAoL8vT1zoF8I0efJkFeGLUbq0dR9PhSg46CBPMy7NSZ4nLtbp8OHDSlxQrPJEiUKEz7FsmmCRDbnQQd42iQAxOuLG8vuNAGG36JzERbr2hcPX6DDFcG327PdiQ8GjR9ocMtQfJz2PeOnobi9R3PDYkBOYuxLMT8XMo1EtMcQfY1fbJk52e0e29uoRAWJs8kpuIeCzBLp1AyZOxIakr2H8i78iYUKfbak0zEsE+vz5GsrdWIkjtbuh8NrxHqnVmQDxxzC81mAcnYAwDx2QuXjl7juT7SKfi9xJkyYp857evXsrXwEuvPma0fVCbIOlpx5nAsRV/xOWS8Fhm7hJyzUJE09BaHJGMyouvMmLlzhan1ZwHjHi1tq1a5UZlicT66eJFv0sGAiADunWUbAoIBgogAKDgpJmePSpoVikDwkT+bA/2sWDjIhGMcL1W8qUKVG8eHFlkm8rPmimx3DLrJ9jryW2iSZfXM/x9IXRwewlESCenAnPl+VXAsRTKOjAzmhaFCHcIaHypo0ina+4a2Cb6BDFDwU/6Nw14dEgj295jMhdByZ+OBhVgdE2rBMVtt4kAkQvKcknBHyYwMOHsGTJgpB799Axx2rcKlvHhxsrTfMWgVLXVuOzv+rhYYKUSHTrMuKlSOp21f5+EaE7AOjfwIU0fUO5mLZd5HOBSd8Haz8Rd+pz9KyeepwJEDPaZaRMOvPzXgwG9ZH0PwIiQMydDX4jQOgwxi8bql6qZCpb68TTEb2J/iQ8vrW+aZVOZDymo+2hnsRTENpDauF/KUAoVLjL4moSAeIqOXlOCPgQAUbs6dABFxLmQbtqJ5AiVagPNU6aElcEQixRmLg6HzI/PoNjPaaj4Bj7u65G2hfbAom3ofOSQG8kXnaYMqU3aopZx8SJE9Vt1tzZt13kc3OR/g/WDuhmtFBPPb4uQHiKwyhZDOgjSQSIt+aA3wgQ2vsx4hXjV9OZig5X1omh+/Qkhm6jyRZjWNOnREs8vaCJFUO0OUt0ZGM0DB7rsj1MFCA8xqMdIcUQHZsGDx4cfULirEy+LwJEDyXJIwR8mAA3RngqeuAARqYfg13Ve/hwY6Vp3ibQ4MQYvHewFy5nKIks1/by8ga3mhCbAHGrYD982HqRzw1KmubQN8D6bghPd0tvPb4uQDzNJVDKkxMQc0fSbwQIo1kwkgIX9u4kRoOgSOAdItYRIIYNG4Y5c+Y8Z0Jlry76jtDhibeWarakjMZFZzDGF6eQ4M4Mj4h5qyfjmNtLtD/kn5b4HHdyePESL/eRJASEgJ8RYLz7KlUQEZIIDcpcRvIcafysA9JcMwkki7iNqSuzIszyL64u2YpMTSq5VZ0IkP/ho3/AsmXLlCWCryVfbpuvsfKl9ogAMXc0/EaA8HKZBQsWGDpRsIdOEyAMAUcnNi3x5k3GsXYWd5qX1/Ckg/aSjCXtKPGUhGZe1atXfy7ahPaMI8czESDmTnopXQiYRqB5c+D777EkRRvMqzUTLgSOMa1pUrBvEPhwZxu8dHE2jpVtjoK75rvVKBEgbuGTh4VArAREgJg7QfxGgNA5ijGc6TBO8ydXkzsmWHReZ6Qrmm/xPhJniZEeeD8J43jbS3IC4oygvC8E/IgAfdOyZkVIZCSa59+FiGJl/ajx0lRvEchzZxdGbiiPyJCEeHr2IhLneP4GZr1tEQGil5TkEwLGCYgAMc7MyBN+I0AYevfRo0dgPGr6cFjflsoOa5fK6Ok8ndB5EY/1LaA8YaEfiSMndJ58MC41/7V3YY1tvbQNLV++vDLJ0u4scdY28QFxRkjeFwI+TGDYMOCzz/B34vL4tOYO0DFXkhCwR2Do7+VR4N4uHGkxDIXn9XUZkggQl9HJg0LAKQERIE4RuZXBbwQI/TNiS4x7rTdpYXinTJmizLAYAWL69OnghTW8tIcxoy9fvoy5c+eqIik63nvvPeXXwYgbWuKlQHR0Y+JFO4yfTX8PCgle8kOTLvqaUIjoSSJA9FCSPELABwk8ewZLrlwIuXgRn2aag1OV3/PBRkqTfIVAjfNz8PHu1ridLDvShJ9BSPx4LjVNBIhL2OQhIaCLgAgQXZhczuQ3AsTlHjp4kKcfo0aNUhfZFC1aFOPHj1f+Gky83IhOY4xcwcTLkOxFx7K+7Kd79+7qNvZr164pUcL7QejjYe1n4qwPIkCcEZL3hYCPEli+HGjUCHfjpcXblS8hRYZEPtpQaZYvEEj47DG+XZEVKZ/ewdkJy5GrawOXmiUCxCVs8pAQ0EVABIguTC5n8isBcvr0aXUJIP/laQQjUK1Zs0ZFjuK9HP6eRID4+whK+4OWQO3awG+/YUbqXlhVcxRC5eqPoJ0Kejve/O/eaHxyNM7mr41cx9fqfSxGPm2BxJN7miZLEgJCwHMEaPZ//vx5dYN7okQxN5VkveY+Z78RIDyB4F0gvPRn8+bNKgRu7ty51SnGzp07sXjxYvdpxHEJMqHjeACkeiHgCoETJ4ACBRCFENQvcBpJi+ZypRR5JsgIZHhwBpPX5kUoLIg4eAJhRe2Ha48NC6Mtnjx5EvHixUP69OmRMGHC5+7ICjKs0l0h4DYB+vAyYNHNmzfVvW40rQ+12VWS9ZrbmOE3AoSmTG+99RY++eQT8E4Q3q9BAbJr1y7lFE6fDX9PMqH9fQSl/UFJoHt3YMIE7MlYHx2zrkCOHEFJQTrtAoFuv9dH1XurcKtld6SbO86FEqAWSjQl5m6tJCEgBDxHgKeKvPiawt42yXrNfc5+I0CSJUuGgwcPqqMwawFCX42CBQuCR9H+nmRC+/sISvuDjsDDh7BkyYKQe/cwotpKLI2oh2zZgo6CdNhFAtkPrsS4E6/hSdJUSHD9MkKSumZGxR1bRojkbq0kISAEVhdooQAAIABJREFU3CfAU8X48eM7PFGU9Zr7jP1GgGTNmhU//vijur3cWoAsXboUPXv2VH4h/p5kQvv7CEr7g47AjBlA+/YIT50Lfd88hX0HQkWABN0kcL3Dly88wy/H8iH9/bO4M2oG0vRq63ph8qQQEAJeIyDrNfdR+40A6d27N7Zt26YuAcyfPz/27t2L69evq/C4/Pv888/dpxHHJciEjuMBkOqFgBECFgtQujSwfz/WvDgKa4v3wtatEAFihGGQ5714EeifcBRe39IH/+QthRQn9gAhIUFORbovBHyfgKzX3B8jvxEgkZGRKjzuokWLwONmHo3xuLlZs2aYPXu2csLz9yQT2t9HUNofVAS2bQMqV8bT+GGY8cVlHL+VVgRIUE0A9ztLAfJKqVv44rusiP80Ag9/34akL1V0v2ApQQgIAVMJyHrNfbx+I0C0rtLUat++fWD0D961wegEgZJkQgfKSEo/goJAy5bA/PnYW7wVjvaejd27IQIkKAbec52kAKlcGfh4dyvk3jIXt+u1RNqV/12AK0kICAHfJSDrNffHxu8EiPtd9t0SZEL77thIy4RADAI3bsCSLRtCnjzBrA93InH1ctixQwSIzBJjBDQBUjftTtQeUAHP4icELl5CvIzpjRUkuYWAEPAqAVmvuY/bpwUIQ+7qTePGuRbCUG/53sgnE9oblKUOIeABAiNGAH374nLmclg3ZCcSJ4YIEA9gDbYiNAFSoQLwUt9ySH9uN273GoG0o/oEGwrprxDwKwKyXnN/uHxagNSqVStGD/fs2aP8PgoUKKBeP3HihPL9KFOmDNavX+8+jTguQSZ0HA+AVC8E9BBgqNM8eYDz57G0wSxEvNtaPSUnIHrgSR5rAtYCJNfGWagw9X08Sp8DSa6eBgLAr1FGWwgEKgFZr7k/sj4tQKy7xxOOjRs3Ys6cOUidOrV6Kzw8HG3atEG1atXQo0cP92nEcQkyoeN4AKR6IaCHwK+/Ag0a4HGSNJg79BJSZkwsAkQPN8nzHAFrARLvyWO8/mEWJHoUjnvzf0XK5q8JMSEgBHyUgKzX3B8YvxEgWbJkwbp161CkSJEYvT506BBq166NK1euuE8jjkuQCR3HAyDVCwE9BOrUAdauxZ8VeuJS19HRUVPlBEQPPMnj6ASEr5eY3xOFVo5FeMU6SL1ttcASAkLARwnIes39gfEbAcLLB5cvX44XX3wxRq9petWwYUPcv3/ffRpxXIJM6DgeAKleCDgjcOoUkC8fLCEhmNH7JJKXzBP9hAgQZ/DkfVsC1icgfC/Z9dN4rVtelS3i8CmEFf7f/BJ6QkAI+A4BWa+5PxZ+I0B42eCmTZswduxYVKz4X5z07du3o1evXqhevboyzfL3JBPa30dQ2h/wBGjqOW4cTuSti239VyEs7H89FgES8KPv8Q7aChBWUHVYXWQ9uAa3WvVAutljPF6nFCgEhID7BGS95j5DvxEgjx49Qs+ePTFz5kzwUkImXkbYtm1bjB49GkmTJnWfRhyXIBM6jgdAqhcCsRF49AiWrFkREh6Ohc1XIOS1+jFyiwCR6WOUgD0BknnvClQf/Toikv5fe+cBHUX1hfFv03sBlBqK9FCEoECooYMgxQ4KAqJSlKaIIB0BBaWpdJWiINIEFJS/NDUgShWp0rvSWwIhyf7PnbgxhIRsMrO7MzvfO2dPAvvmzn2/e3fzvnktHD7/nIYlIGWNEQsJkIB+CLC/pj4WhhEgtqbevHkTchihnIZeokQJtxAetrYxodUnNC2QgMMIfPYZ8NJLuBJeFF+POoSQcE8KEIfBNofhjASIJTkJj71eHMGXjuPSB58h1xudzAGDrSQBAxFgf019sAwnQNQ3Wb8WmND6jQ09MzkBqxWIigJ27sT39d/HlZffugcIR0BMniM5aH5GAkTMlFnxPioteBvXSlRGyMFtSN3pIAf34CUkQALaE2B/TT1TChD1DDWzwITWDCUNkYC2BGJjgVq1kOjth1lDTyGseG4KEG0Jm9JaZgLE59oFtOxRCF6Jt3FzTSwCG9UwJR82mgT0SoD9NfWRoQBRz1AzC0xozVDSEAloS6BtW+Crr7Dt4c7Y3+/TDM+I4wiItsjNYC0zASJtf3RqZxT/6XNcbNIWub+fbwYcbCMJGIYA+2vqQ0UBop6hZhaY0JqhpCES0I7AmTOwFikCS2IiPnttOwJqVs7QNgWIdsjNYul+AiT86HY0GVgFyZ5eSDpyAt6F85sFC9tJAronwP6a+hAZRoDI4nN32OnqfiFjQqtPaFogAc0JDBsGDB+OExE1sW7EL/Dzy/gOFCCak3d7g/cTINL4eoNrIu+hTbjw+jDkmTzU7XmwgSRgFALsr6mPlGEESFBQEJ555hl07twZtWrVUt9yHVpgQuswKHTJ3AQSEoAiRYBz57Doya+Q9NSzmfKgADF3quSk9VkJkMKbvkKNj9oiPiwf/P8+Dvj45OQ2vIYESEBjAuyvqQdqGAGycuVKzJ49G99++y2KFCmiCBE5nLBAgQLqKejEAhNaJ4GgGyRgI7BgAdCuHa4H58f80ccRmsebAoTZoRmBrASIR2ICmvcogsBr53B5ygKEd3tOs3vTEAmQQM4JsL+Wc3a2Kw0jQGwOX7x4EXPnzlXEyN69e9GkSRNFjLRs2VI5mNDIhQlt5OjRd7ckUKMGsHkz1tYZjvPdhty3iRwBccsMcGijshIgcvNyi4ejwpJhuFquBkL/jHWoPzROAiRgHwH21+zjdL9ahhMgaRvz0UcfoV+/fkhISECePHnQtWtXvP322wgICMiSzJQpU5QT1M+ePYty5cph4sSJqF27dobXLV26FFOnTsXOnTtx+/Ztpf6wYcMU8ZO2LFmyBIMHD1YOSixevDhGjRqFNm3aZOmLrQIT2m5UrEgCjiewbRvwyCNI8vTGzEEnEFYmHwWI46mb6g72CBC/K+fw+GuF4Zl0B3E/b0NArShTMWJjSUCPBNhfUx8VwwmQc+fOKSMgn3/+OU6cOKF08F966SWcOXMG7733HvLnz481a9bcl8zChQvRvn17iAipWbMmpk+fjlmzZikjKoULF77n2t69eytTverVq4ewsDDl3h988AG2bNmCypVTdsTZvHmzImBGjhyp+LRs2TIMGTIEv/zyC6pVq2ZXpJjQdmFiJRJwDoFOnYDZs7GrXDvsfvtLZDXAyhEQ54TFne5ijwCR9lab3A7FNi/AxZadkHv5Z+6EgG0hAUMSYH9NfdgMI0BkFEI6/j/88AMiIyPRpUsXvPDCC4ogsJU9e/YogkBGRO5XRBBERUUpoxq2UrZsWbRu3Rpjxoyxi6qMgjz77LOKyJAiv0tCrl69OvX6pk2bIjw8HAtkHrkdhQltByRWIQFnEDh/HtaICFhu38bsVzfDL6Z6lnelAMkSESukI2CvAMl9cDMaDa2BJC9f4NQpeObNQ5YkQAIuJMD+mnr4hhEgoaGheO655xTh8eijj2bY8vj4eIwdOxZDh2a+XaGIE5mitWjRorumR/Xq1UuZYrVx48YsqSYnJ6No0aJ466238Nprryn1ZeSkT58+ystWJkyYoEztOn78eJY2pQIT2i5MrEQCjifw3nvAgAE4XeAR/DDiNwQEWrK8JwVIlohYIYcCBFYrGg54FHmOb8PFfu8h99j+ZEkCJOBCAuyvqYdvGAESFxdn19qOrJDIVK2CBQsiNjYWNWSB6b9l9OjRmDNnDg4cOJCVCWXtiEz32rdvHx588EGlvo+Pj7Iwvl27dqnXz58/H506dVLWjWRU5P/TvicJHRERgatXryIkJCRLP1iBBEjAAQQSE4GHHgJOnsTSVrOR8NyLdt2EAsQuTKyUhoC9IyBySbGNs1FtWifEPVAYAWcOI8s5gSRNAiTgMAIUIOrRGkaAeHp6KgvGbR1+W9NlVyz5v6SkJLto2ATIpk2bEB0dnXqNLBifN28e9u/ff187Mp1KRmGWL1+Ohg0bptYVASICpm3btqn/9+WXXyrrU27dupWhTVnIPnz48HveowCxK5SsRAKOIbBsGfDEE4gLzIN5o04iNG8mJw+muzsFiGPC4c5WsyNAPBJu4fHuheB/8yKufL4MYR1buzMato0EdE2AAkR9eAwjQDw8PCAL0NMLEBEUsuOUTL+yp6iZgiWL12VEQ6ZvNW/e/K7b5WQKFkdA7IkY65CAkwnUrw+sX48NNQbg7GujYcl69pXiIAWIk+PkBrfLjgCR5lZcMACRK97D5aj6CN+21g0IsAkkYEwCFCDq46Z7ATJ58mSllbK2QnaYkhPRbUVGPX766SccO3YMO3bssJuGLEKvUqWKsguWrcjC9latWmW6CF1GPuS8Efkpi9XTF1mEfv36daxatSr1rWbNmimL5LkI3e7QsCIJuJbAnj1A+fJI9vDEzAFHEVo+wm5/KEDsRsWK/xLIrgAJuHACLXoWg4c1Gbe27YFfVCRZkgAJuIAABYh66LoXIMWKFVNaKQu5CxUqBJmKZSsy7UkWg48YMcLurW7lWts2vNOmTVOmYc2YMQMzZ86E7KIlp6wPkMWnp08r2/1KEQEhp65PmjQJTzzxROr9/f39IYvjpciUrjp16ihnf4iQkSlagwYN4ja86nOUFkjAeQS6dgWmT8eeMk9i+8DF8M784PN7fKIAcV6Y3OVO2RUg0u7oD59Eka1LcfHprsj99X87OboLE7aDBIxAgAJEfZR0L0BsTZQzOGQrXtnWVosiox+yY5asKylfvjxkxyoREFI6duyojKps2LBB+XdMTEyGu2O9+OKLysJzW1m8eLEiOo4cOZJ6EGFawZKV30zorAjxfRJwIIGLF1O23o2Px9zOG+DTqG62bkYBki1crAxlnwPIXih2HhWlMHtg70Y0GBmDRB9/WGRL3gdykSUJkICTCbC/ph64YQSI+qbq3wITWv8xooduTEDOABo4EGfzVcaqkdsQGGTn4o9/kVCAuHFuOKhpOREgsiVvo/5RyH1yJy6+OQa5x73tIO9olgRIIDMC7K+pzw1dC5C+ffsq6z4CAwMhv9+vjB8/Xj0NF1tgQrs4ALy9eQnI4aUy3fPMGSxpPRd3nm2fbRYUINlGZvoLciRAABT9aS6qT30R8bkLwv/sUWRrrqDpqRMACagnwP6aeoa6FiAy7WrZsmXKQm75PbNisViwbt069TRcbIEJ7eIA8PbmJTB/PvD887gRnA9fjjqO0Ad8ss2CAiTbyEx/QU4FiMed22j+WlEEXjuHK1PmI6zbf9u/mx4qAZCAEwiwv6Yesq4FiPrmGcsCE9pY8aK3bkLAagWqVgW2bsWPdUfiQtdBOWoYBUiOsJn6opwKEIFWbulIVFg0BNdKP4qQfVtg937RpibOxpOANgTYX1PPkQJEPUPNLDChNUNJQyRgP4HYWKBWLSR6+2HW4BMIK/mA/demqUkBkiNspr5IjQDxvXYej/eIgFfibdxcE4vARjVMzZKNJwFnEmB/TT1tXQuQ7OwgJTtkGb0woY0eQfpvSAJPPQUsWYKtlbrgwJszkWan72w1hwIkW7hYOYe7YKUF98i0Liix8VNcqv8Ucq1dRKYkQAJOIsD+mnrQuhYgcuq4veXzzz+3t6pu6zGhdRsaOuauBI4ehbVECViSkzGr958IqlYuxy2lAMkxOtNeqGYERKCFnvwTzd6qgGSLBxL3H4ZPqaKmZcmGk4AzCbC/pp62rgWI+uYZywIT2ljxorduQOCNN4Dx43GoeGPEDv4Bvr45bxMFSM7ZmfVKtQJEuNV5tzEK7PkfLnZ8A7k//8CsKNluEnAqAfbX1OOmAFHPUDMLTGjNUNIQCWRN4Pp1WAsVguXaNcx/YRU8mjfL+pr71KAAUYXPlBdrIUDy71iFumObI8E/BF5nT8EjNNiULNloEnAmAfbX1NPWtQCJiorC2rVrldPPK1euDNluN7Oyfft29TRcbIEJ7eIA8PbmIjBpEtC7Ny7kKYNl7+5BcKiHqvZTgKjCZ8qLtRAgSE5G076RCPv7AC4OmYTcw3uakiUbTQLOJMD+mnrauhYgw4cPR79+/RAQEAD5/X5l6NCh6mm42AIT2sUB4O3NQyApCShVCjhyBCuaTUVch66q204Bohqh6QxoIkAAlPjfVDzyWXfczF8cgScPIMc7KZguAmwwCeSMAPtrOeOW9ipdCxD1zTOWBSa0seJFbw1M4JtvgDZtEB+QC3NGnkRYgQDVjaEAUY3QdAa0EiCet24qW/L6xV3G1TnfILRDK9OxZINJwJkE2F9TT9twAmTr1q3Yt2+fMh2rbNmyqFKlinoKOrHAhNZJIOiG+xOIiQE2bsSGGgNw9rXRmpzhRgHi/mmjdQu1EiDiV8UFAxC54j1cqRSDsB3rtXaV9kiABNIQYH9NfToYRoCcOnUKbdu2RWxsLMLCwpSWX7lyBTVq1MCCBQsQERGhnoaLLTChXRwA3t4cBHbsAKKikOThhVnvHENoZEFN2k0BoglGUxnRUoD4XzyFFj2LwTM5EfGbdsA/upKpWLKxJOBMAuyvqadtGAHSuHFjSMDnzJmD0qVLKy0/cOAAOnfujMDAQKxZs0Y9DRdbYEK7OAC8vTkItG8PfPEFdpVrh91vfwkvL22aTQGiDUczWdFSgAi3apPbodjmBbj02AvI9d08M6FkW0nAqQTYX1OP2zACxN/fH5s2bVJ2w0pbZPermjVrIj4+Xj0NF1tgQrs4ALy9+xM4fhzW4sVhSUrCZ923IqC2dlM4KUDcP320bqHWAiT88FY0GfQokj29kHTgMLyLF9baZdojARIAlAfioaGhuHr1KkJCQsgkBwQMI0Bk1GPevHmoWrXqXc387bff0K5dOxw6dCgHzdfXJUxofcWD3rghgV69gMmTcbhYA/w85Ef4+WnXRgoQ7ViaxZLWAkS41RnRAAX2rcPFF3oh97yJZkHJdpKAUwmwv6Yet2EEyPLlyzF69Gh88sknysJzWYQuC9Jff/119O/fH61bt1ZPw8UWmNAuDgBv794ELl6EtXBhWOLi8EWHNfBq1kjT9lKAaIrTFMYcIUDy/bEGMWOaINE3AJYTJ+D5YG5TsGQjScCZBNhfU09b1wJEDiBMe/jgzZs3kZiYCK9/J23bfpc1IJcuXVJPw8UWmNAuDgBv794ERowAhg7F2fyVsWrENgQGZX6waU5AUIDkhJq5r3GEAIHViob9o5Dn5E5c6j0CuSYMNjdktp4EHECA/TX1UHUtQGTBub3lxRdftLeqbusxoXUbGjpmdAJxcbAWKQLLhQtY9MQCJD39nOYtogDRHKnbG3SIAAFQOHYBanzcDreD88Dn7HFYAtWfc+P2wWADSSAbBNhfywasTKrqWoCob56xLDChjRUvemsgAh9/DLz+Oi6HF8PXIw8iNLdGW1+lQUABYqB80ImrjhIglqRENOtVCiEXj+LyyI8RPqiHTlpMN0jAPQiwv6Y+joYUILLj1Z07d+5qvTvsQsCEVp/QtEAC9xBITARKlgSOHcOKJp8grmN3h0CiAHEIVrc26igBItBKrPkEj3z+GuLyFkPAqYPQbL9pt44IG0cC9hFgf80+TverZRgBIus/ZLH5119/jYsXL97TpqSkJPU0XGyBCe3iAPD27klgwQKgXTvcDHwA80YeR1h+f4e0kwLEIVjd2qgjBYjn7Ti0eK0I/G9cwNVpCxD6qvbTDt06OGwcCdyHAPtr6tPDMAKkR48eWL9+PUaMGIEOHToou2GdPn0a06dPx3vvvYfnn39ePQ0XW2BCuzgAvL37EbBaATk7aNcu/FhnBM53HQyLtmvPU5lRgLhf+ji6RY4UIOJ75JIRqLh4KK6XqITgg9vhsOR3NCjaJwGdEWB/TX1ADCNAChcujLlz5yImJkY59EUOICxRooRyNsiCBQuwatUq9TRcbIEJ7eIA8PbuR+CHH4CmTZHgE4hPh5xAePFcDmsjBYjD0LqtYUcLEJ/rF/H4a4XhnRCHG0t+QNATjd2WJRtGAs4kwP6aetqGESBBQUHYs2cPihQpgkKFCmHp0qXKoYRHjx5FhQoVcOPGjWzRmDJlCsaNG4ezZ8+iXLlymDhxImrXrp2hDanzxhtvYNu2bfjrr7/Qs2dPpX7aMnv2bHTq1Ome62W9ip+dp50xobMVQlYmgawJNGgArFuH2Ed741ivCfD0zPqSnNagAMkpOfNe52gBImQrze6NMj9MwpVHGiDs9x/NC5stJwENCbC/ph6mYQRIxYoV8dFHH6Fu3bpo3Lgx5N8ffPABJk+ejLFjx+LUqVN201i4cCHat28PESE1a9ZUpnHNmjULe/fuhYy0pC/Hjh3DhAkTlAMQ5af4kJEA6dWrFw4cOHDX5fny5bPbLya03ahYkQSyJrB1K/Doo0jy8MKstw8jtMK9n+2sjdhfgwLEflasmULAGQIk4PxxtOhdHB7JSYj/eSv8a1UhfhIgAZUE2F9TCRCAYQSIdPw9PT2V0QdZC9K8eXPIwnM5jHD8+PGQzr+9pVq1aoiKisLUqVNTLylbtqxymvqYMWPua0amgFWqVClDAdK7d29cuXLFXjfuqceEzjE6XkgC9xJ4+mlg8WLsqNAee96a6/BNgChAmITZJeAMASI+Vf24PR6K/QKXGj6NXP/7Ortusj4JkEA6AuyvqU8JwwiQ9E09fvy4MiWqePHiePjhh+0mkZCQgICAACxatAht2rRJvU4EzM6dO7Fx48YcC5AuXbqgYMGCijASkTJy5EhUlgWwdhYmtJ2gWI0EsiLw11+wli4tT1gws+duBEeXz+oK1e9TgKhGaDoDzhIgoSd2o1n/iki2eCDxzwPwiSxhOtZsMAloSYD9NfU0DStActr0M2fOKCIhNjYWNWrUSDUzevRoyMnr6adQpb9PZiMgv/76Kw4dOqSsR5HEnDRpkrIwfteuXSgpZxBkUG7fvg152YpcFxERgatXryoL7VlIgARySOCVV4CZM3GgZHP8+s638PXNoZ1sXEYBkg1YrKoQcJYAkXvVGtMchf5YhYtPvYLci6YzAiRAAioIUICogPfvpYYSIGvXrlXWYOzbtw8WiwVlypSBTHtq2LCh3SRsAmTTpk2Ijo5OvW7UqFHKjlr79++/r63MBEj6i5KTk5VpXnXq1FHWqWRUhg0bhuHDh9/zFgWI3eFkRRK4l8CJE7CWKAHLnTuY0+Vn+Dao5RRKFCBOwexWN3GmAHlg/89oMLwOkjy9YT14CF4POXZNlFsFio0hgXQEKEDUp4RhBMjHH3+MPn364KmnnkoVDjLqsHjxYmUNyGuvvWYXDUdNwcro5i+//LKyOH716tUZ+sYRELtCxkokkD0C3boB06bhSNH62DhkLfwdc+7gPT5RgGQvTKzt3BEQ4V13eH3k378el57thlxfTWEISIAEckiAAiSH4NJcZhgBItOmBgwYcI/QkAMJZfRCRjbsLbIIXXa0kl2wbCUyMhKtWrXK8SL09Pe2Wq3KNsEyJeuzzz6zyzUmtF2YWIkEMidw8iSsxYunjH503gjfRnWcRosCxGmo3eZGzhwBEWgP7N2IBiNjkOTlkzIKUizCbViyISTgTALsr6mnbRgBEhwcjB07diiHD6Ytci6HLPTOzjkgtm14p02bpoymzJgxAzNnzkw9Z0SEjpyyLgcf2oosUJciC81Lly6Nfv36wcfHByJcpMhUqurVqyvrPSQxZdqVTOmStSYiROwpTGh7KLEOCdyHQI8ewJQpOFo0BhuGrHfa6Id4RAHCzMwuAWcLEPGv7rAY5D+wEZee645cCz7JrsusTwIkACj9vNDQUK7ZVZENhhEgzz//vLKzlHT80xY5C0R2w5LT0LNTZPRDzg+RQwbLly+vrC2R9RpSOnbsCDn7Y8OGDakmZc1J+iKHIko9KTI9TA5HPHfunJKUIopkjUfadSZZ+ceEzooQ3yeB+xA4dSpl9CMhAXM6rodvkxin4qIAcSput7iZKwTIg3vWo/679VNGQf46DK+ihdyCJRtBAs4kwP6aetq6FiBpF29LsEVsyMGBtk69rAGREQY5pXzQoEHqabjYAhPaxQHg7Y1NQNaBffIJjhWpg/VDNzp19EPAUYAYO31c4b0rBAisVsQMq4t8B3/GpXavIdeXH7mi6bwnCRiaAPtr6sOnawFSrFgxu1oooxNHjhyxq66eKzGh9Rwd+qZrAqdPw/rQQ8rox9yO6+DTpJ7T3aUAcTpyw9/QJQIEwIN/rkP9UQ2Q5O0LHD4Cz4gChmfJBpCAMwmwv6aetq4FiPrmGcsCE9pY8aK3OiLQsyfw0Uc4Xrg21snoR8C9UyYd7S0FiKMJu599VwkQZRRkaB3k++sXXHqhJ3LNm+R+cNkiEnAgAfbX1MM1pACRHaakZLQuQz0S11lgQruOPe9sYAJnzqSMfty+jXkv/gjvpg1c0hgKEJdgN/RNXSZAAOTd/SPqjW6ERG8/WI4cgWeh/IZmSedJwJkE2F9TT9tQAkR2pRo3bhxk5ysppUqVUhalt2/fXj0JHVhgQusgCHTBeAR69wYmTcKJiJr4cejPCAh0/uiHQKMAMV7quNpjVwoQGQWpN6QW8h7ahEsdeiPXnAmuxsH7k4BhCLC/pj5UhhEgctjg4MGDlXNAZCG6jILIAnQ5B+Tdd99VdqEyemFCGz2C9N/pBM6eTRn9uHULX3RYA69mjZzugu2GFCAuQ2/YG7tUgADI98caxIxpwlEQw2YQHXcVAfbX1JM3jACRBely1kaHDh3uavWcOXOU7W6PHj2qnoaLLTChXRwA3t54BOTBw8SJOBFRAz8O/cVlox8cATFe6ujBY1cLEGUUZHBN5D28GZde7INcs8frAQt9IAHdE2B/TX2IDCNA/Pz88Oeff2Z4EKGcNn7r1i31NFxsgQnt4gDw9sYicO4crMWKKaMf8174Ad7NG7vUf46AuBS/IW/ucgEioyC7fkDMe02R6OMPy9Gj8CyQ15Dc1cQ7AAAgAElEQVQs6TQJOJMA+2vqaRtGgMhhge3atcPAgQPvarVMv5KTzXfv3q2ehostMKFdHADe3lgE+vYFJkzAyULVsWboJgQGuWbthw0aBYix0kcP3upBgMgoSP1B0XjwyBZc6tQXuT77UA9o6AMJ6JoA+2vqw2MYAbJkyRI8++yzaNiwobIGRHbA+uWXX7B27Vp8/fXXaNOmjXoaLrbAhHZxAHh74xA4cQLWUqWUna++eOF7eDVv4nLfKUBcHgLDOaALASKjIDu/R8z7zVLOBTlwEJ7FChuOJR0mAWcSYH9NPW3DCBBp6vbt2yGL0fft26csQo+MjFROQa9cubJ6EjqwwITWQRDogjEIdOwIzJmDo0XrYf2gtS5d+8EREGOkjB691IsAkVGQusPrI/+BDbjcuiPCl32uR1z0iQR0Q4D9NfWhMIQAuXPnDl555RVlF6yHHnpIfat1aoEJrdPA0C19Edi9G9aHH4bFasWnr/6GwJhHdeEfR0B0EQZDOaEbAQIg16Hf0HhwNVgtFiRu3QXvqAqGYklnScCZBNhfU0/bEAJEmhkWFqaMgFCAqA86LZCAoQm0aAF89x3+LPs0tvX/Gr6++mgNBYg+4mAkL/QkQIRb9Q+fRtGti3G1dguE/rTSSCjpKwk4lQAFiHrchhEgnTp1gux21VcWnrppYUK7aWDZLO0IbNwIxMQg2cMTs/ruQ0iVktrZVmmJAkQlQBNerjcBEnz2IJq9GQmP5CTEf78R/k3qmDAqbDIJZE2A/bWsGWVVwzACZNSoUfjggw/QoEEDVKlSBYGBgXe1rWfPnlm1VffvM6F1HyI66EoCVisQHa0cOb4lqhv+6jMFXl6udOjue1OA6CcWRvFEbwJEuEXN7IZS66bhernqCN69CbC4dnc5o8SSfpqLAPtr6uNtGAEiBxFmVmRHrCNHjqin4WILTGgXB4C31zeBJUuAp55Cgk8gPhtwCGFl8unKXwoQXYXDEM7oUYD4XTmH5j2Lw/tOHG7OXYLA9k8YgiWdJAFnEmB/TT1twwgQ9U3VvwUmtP5jRA9dRODOHaB8eeDgQayrNQRnuw6Hp6eLfMnkthQg+oqHEbzRowARbuUWDkGFb0biZqFSCDy6B7oaajRCYOmj2xNgf019iA0pQGQLXiky8uFOhQntTtFkWzQlMH060LUr4gIfwNwhhxBWOERT81oYowDRgqK5bOhVgHjFXVNGQfxvXsC1cdMR8uYr5goMW0sCWRBgf019ihhKgHz66aeYMGEC/vrrL6XlJUuWRO/evdGlSxf1JHRggQmtgyDQBf0RuHkTKFECOHcO3zaejOsdX9fltHQKEP2ljt490qsAUf6+rp6MKnN74Vau/PA78ReQbt2l3tnSPxJwJAH219TTNYwAkTNARHy8/vrriJaFqAA2b96Mjz/+GL169cK7776rnoaLLTChXRwA3l6fBEaNAgYNwuXwYvh6+H6EPuCjSz8pQHQZFl07pWcB4nHnNpr2KYuQi0dxpd8ohI0dqGuWdI4EnEmA/TX1tA0jQPLkyYOPPvoIbdu2vavVCxYsUETJhQsX1NNwsQUmtIsDwNvrj8D587AWLw7L9etY1GY+kp65+/OvJ4cpQPQUDWP4omcBIgSLxM5H9MfP445/CDyPHYbHg3mMAZZekoCDCbC/ph6wYQRIeHg4fvvtN2XaVdpy8OBBVK1aFVeuXFFPw8UWmNAuDgBvrz8CvXoBkyfjTP4ofDf0dwSHeujPx389ogDRbWh065jeBQiSk9Hw7UeQ5+QOXH6xF8JnT9QtSzpGAs4kwP6aetqGESAyyuHt7Y3x48ff1eo333wT8fHx+OSTT9TTcLEFJrSLA8Db64vAnj2wPvwwLElJmNv+f/B5rKG+/EvnDQWIrsOjS+d0L0AA5P3jf6g3prFy+GfStl3wrlROlyzpFAk4kwD7a+ppG0qAzJ07FxEREahevbrS8l9//RUnT55Ehw4dFHFiK+lFinpMzrHAhHYOZ97FAARkp7v69YENG7C3dBts6b8U/v769psCRN/x0aN3RhAgwi16bBsU2fENrj9SD8G/reXhhHpMJvrkVALsr6nHbRgBUq9ePbtaK1vzrlu3zq66eqvEhNZbROiPywgsXAg89xwSvf0wq+8+hFUq6jJX7L0xBYi9pFjPRsAoAiTwn6No+kYkvBNvIe7zhQjo+AyDSAKmJsD+mvrwG0aAqG/q3RamTJmCcePG4ezZsyhXrhwmTpyI2rVrZ3gbqfPGG29g27ZtyhbAPXv2VOqnL0uWLIHs1nX48GEUL14co0aNQps2bex2nQltNypWdGcCN24AZcoAp0/jx9rD8ferQ3R36GBG+ClA3DkpHdM2owgQaX3kouGouHQYbuUpBL+j+4CgIMdAoVUSMAAB9tfUB8mUAmThwoVo3749RITUrFkT06dPx6xZs7B3714ULlz4HqrHjh1TtgCuUqWK8rNu3br3CBDZElgEzMiRIxXRsWzZMgwZMgS//PILqlWrZlekmNB2YWIldyfw9tvA++/jcq6H8PWQPQjN62eIFlOAGCJMunLSSALEMyEejfuWQ+jFo7ja7W2EThmjK5Z0hgScSYD9NfW0TSlARBBERUVh6tSpqQTLli2L1q1bY8yY+3+pxsTEoFKlSvcIkGeffRaSkKtXr0612bRpU8juXbJVsD2FCW0PJdZxawIHDsBaoQIsd+5g/nMr4NHqccM0lwLEMKHSjaNGEiACrcDWFajzYSskeXrD+sef8IospRuWdIQEnEmA/TX1tE0nQBISEhAQEIBFixbdNT1KDjPcuXMnNm7ceF+qmQkQGTnp06eP8rIVGS2RqVrHjx+3K1JMaLswsZK7EpCF502bAmvW4GCJxxA74Fv4B1gM01oKEMOESjeOGk2AwGpFrTHNUWj3alyr0QQhv6zmgnTdZBMdcSYB9tfU0zadADlz5gwKFiyI2NhY1KhRI5Xg6NGjMWfOHBw4cCBHAsTHxwezZ89Gu3btUq+fP38+OnXqhNu3b2doU/4/7XuS0LLL19WrVxESEqI+urRAAkYisGwZ8MQTSPLywazeexBapYSRvAcFiKHCpQtnDSdAAASd/QtN+5WHV1IC4r5choB2rXXBkk6QgDMJUICop21aAbJp0yZER0enEpQF4/PmzcP+/ftzLEBEwKQ9qf3LL7/ESy+9hFu3bmVoc9iwYRg+fPg971GAqE9sWjAYgbg4IDISOH4c62u8gzPd3zXEwvO0lClADJZzOnDXiAJEsJVf8A7KrxiN+LxF4C8L0vW+R7YOYk0X3IsABYj6eJpOgOhpChZHQNQnMC24CYGhQ4ERI3AtNALzB+9DWMFAwzWMAsRwIXO5w0YVIJ63bqJp37IIvnwSV3sPReiEYS5nSQdIwJkEKEDU0zadABFksghddrSSXbBsJTIyEq1atVK1CP369etYtWpVqs1mzZohLCyMi9DV5yktuDOBw4dhLVcOltu38dVTi4EnnzRkaylADBk2lzptVAEi0AptWYxaE59GkrcvsGcvPEs+5FKWvDkJOJMABYh62qYUILZteKdNm6ZMw5oxYwZmzpyJPXv2oEiRIhgwYABOnz4NOXndVmSBupQuXbqgdOnS6NevH2TdhwgXKTKlq06dOsrZHyJkli9fjkGDBnEbXvU5SgvuTEAWnrdoAaxahcPFGmLDwDUIDDLOwvO0oaEAcedEdUzbjCxAZEF67ZGNUHDfWlyr3RwhG1dyQbpj0oRWdUiAAkR9UEwpQASbjH6MHTtWOYiwfPnyyvkeIiCkdOzYEXL2x4YNG1IJywnr6YuIFalnK4sXL1ZEx5EjR1IPInziiSfsjhIT2m5UrOguBObNAzp0UBaef/raToRUK2vYllGAGDZ0LnPc0AIEQMjpfWjcv1LKgvTp8xDwygsuY8kbk4AzCbC/pp62aQWIenTaW2BCa8+UFnVM4MyZlKlXV67gh5jRuNBlgOEWnnMERMf5ZQDXjC5ABHGZpaNRadE7SAgKh/eBPbAUyG8A8nSRBNQRYH9NHT+5mgJEPUPNLDChNUNJQ3onIFOvWrYEvv0WZwpUwcqBvyI0t5fevb6vfxwBMXT4XOK8OwgQS1Ii6g2sjgdPbMP1eo8jeO1yTsVySTbxps4kwP6aetoUIOoZamaBCa0ZShrSO4EvvgDat1dOVP6sx3YER5fXu8dZ+kcBkiUiVkhHwB0EiDQp9MRuNB5YBZ5JdxA38wsEdHmesSYBtybA/pr68FKAqGeomQUmtGYoaUjPBM6eTZl6dfky/lf3Xfzz8juGnnplQ00Bouek06dv7iJAhG7ZJe/i4cWDU6ZiHdwLS/58+oROr0hAAwLsr6mHSAGinqFmFpjQmqGkIb0SkKlXrVsDK1a4zdQrChC9Jpv+/XInAWJJvIP6A6vjgZPbcb1+KwT/uIxTsfSfgvQwhwTYX8shuDSXUYCoZ6iZBSa0ZihpSK8EvvwSeOGFlKlX3bchuEYFvXqabb84ApJtZKa/wJ0EiAQz9PgfaPzOIylTsWZ9iYCX2pk+xgTgngTYX1MfVwoQ9Qw1s8CE1gwlDemRwLlzsEZGpky9qjMS/7wyyC2mXnEERI/JZgyf3E2ACPWyi0fi4SVDkBCcK2VXLE7FMkYy0stsEWB/LVu4MqxMAaKeoWYWmNCaoaQhvRGQqVdt2gDLl+Ns/spYMXALQvN4681LVf5wBEQVPlNe7I4CRJmKNaAqHji1E9cbtEbw/5ZyKpYps9u9G83+mvr4UoCoZ6iZBSa0ZihpSG8EFiwA2rVLmXrVbSuCa1bUm4eq/aEAUY3QdAbcUYBIEMOO70KjgY/AMzkRcZ/OR0DntqaLLRvs3gTYX1MfXwoQ9Qw1s8CE1gwlDemJwNGjsEZFKQcO/lhnBP5+ZbBbTb2yoaYA0VPSGcMXdxUgQr/sohF4eOlQ3AkKg9cfO2ApVtQYQaGXJGAHAfbX7ICURRUKEPUMNbPAhNYMJQ3phUBCAlCrFvD77zhVqBq+6/+z2029ogDRS7IZzw93FiAyFStmcG3kPbYFceWrImDbz4CPj/GCRI9JIAMC7K+pTwsKEPUMNbPAhNYMJQ3phUCvXsDkybgVEI7ZPXcg7OEievFMcz84AqI5Urc36M4CRIIXcP44GvWvDP/4y7jZpRcCZ050+5iygeYgwP6a+jhTgKhnqJkFJrRmKGlIDwSWLgWefFLxZN6zK+HVqgUsFj045hgfKEAcw9Wdrbq7AJHY5d+6EnU/bKmE8faCpfB9ro07h5RtMwkB9tfUB5oCRD1DzSwwoTVDSUOuJnDkSMq6j6tX8VP1fjjadSx8fV3tlGPvTwHiWL7uaN0MAkTiVn5OP5T//gPcCQyF587t8CjxkDuGk20yEQH219QHmwJEPUPNLDChNUNJQ64kcPs2ULMmsG0bTkTUwOq3Nrjtuo+0mClAXJl0xry3WQSIrAepO6Qu8h3djLjIKgjYHgu3fyJhzJSk13YSYH/NTlD3qUYBop6hZhaY0JqhpCFXEnjtNeCTTxAfmFtZ9xFeMcKV3jjt3hQgTkPtNjcyiwCRgAVcPIlGb1WCf9wl3Oj4GoI+/8ht4siGmI8A+2vqY04Bop6hZhaY0JqhpCFXEVi0CHjmGeXu8577Dl4tH3PrdR8cAXFVornHfc0kQCRi+bd/h7rjWijBu/3FIvg+/5R7BJKtMB0B9tfUh5wCRD1DzSwwoTVDSUOuIHDoUMq6j+vXsTG6P469+p6pZllwBMQVSWfse5pNgEi0ys3rjwqrxuJOQEjKepCSxY0dRHpvSgLsr6kPOwWIeoaaWWBCa4aShpxN4Pr1lPM+/vgDxwvXwvdvrUdobi9ne+HS+1GAuBS/IW9uRgEi60HqDKuH/IdjEV/qYfhv/RkIDjZk/Oi0eQmwv6Y+9hQg6hlqZoEJrRlKGnImgcREoGVLYPVq3Ax6EHNe34ZcFQs50wNd3IsCRBdhMJQTZhQgEiD/i6fQ8O0qCLzxD+JiHkPA/5YDXuZ6YGGoRKWz9xBgf019UlCAqGeomQUmtGYoachZBKxWoEcPYOpU3PH2x5yOGxBUv6qz7q6r+1CA6CochnDGrAJEgpPr0BbUGx4D78RbiOvUHQGffgzTLBgzRHbSyfsRYH9NfX5QgKhnqJkFJrRmKGnIWQQ+/BB4801YLRYseHIJrK3bwNPTWTfX130oQPQVDyN4Y2YBIvEp8OtS1Jr0FDxgxa3RH8JvQF8jhI0+kgDYX1OfBBQg6hlqZoEJrRlKGnIGgSVLYH36aVisVqxq8CEudOgLHx9n3Fif96AA0Wdc9OyV2QWIxKbE8g/xyFcpDzESv1oC72d4Urqec5a+pRBgf019JlCAqGeomQUmtGYoacjRBLZsgTUmBpZbt/Brle7Y1/1j+AdYHH1XXdunANF1eHTpHAUIAKsVD8/sgbLrpyLJ1x9YvwGe0eacxqnLJKVTGRJgf019YlCAqGeomQUmtGYoaciRBI4eBapVA86fx8ESj2FDn+UIycUFpBQgjkw697RNAZISV0tSIqq/1wpF/lyFhPAH4bPtV6BYMfcMOlvlFgTYX1MfRtMKkClTpmDcuHE4e/YsypUrh4kTJ6J27dqZEt24cSP69u2LPXv2oECBAnjrrbfQtWvX1PqzZ89Gp06d7rk+Pj4efn5+dkWKCW0XJlZyJYHLl4EaNYD9+3EuXyUs6/szwiOCXOmRbu5NAaKbUBjGEQqQ/0LlFX8ddQfXwQOnd+LWQ2XhtzUWCA83TCzpqLkIsL+mPt6mFCALFy5E+/btISKkZs2amD59OmbNmoW9e/eicOHC91A9evQoypcvj5dffhmvvvoqYmNj0b17dyxYsABPPvmkUl8ESK9evXDgwIG7rs+XL5/dUWJC242KFV1B4OZN4LHHgJ9+wvWQgpj32hbkqlDQFZ7o8p4UILoMi66dogC5Ozz+l06j/oBqCL52GvFV68J//SogIEDXMaRz5iTA/pr6uJtSgFSrVg1RUVGYOnVqKsGyZcuidevWGDNmzD1U+/fvjxUrVmDfvn2p78nox65du7B58+ZUAdK7d29cuXIlx1FhQucYHS90NAERHy1aABs2IMEvGLM7/4yQ2g87+q6Gsk8BYqhw6cJZCpB7wxB2fBfqDa0N39vXkVi7HrxWrwQCA3URLzpBAjYC7K+pzwXTCZCEhAQEBARg0aJFaNPmv902ZPRi586dkKlW6UudOnVQuXJlTJo0KfWtZcuW4ZlnnkFcXBy8vb2VEZAuXbqgYMGCSEpKQqVKlTBy5EjlOnsLE9peUqznVAJpxEdSYDAWvPgD4itF8/DidEGgAHFqVrrFzShAMg6j/85NaDqxqSJCkurUg+cqihC3SHg3agT7a+qDaToBcubMGUUkyDSqGjKX/d8yevRozJkz554pVPJ2qVKl0LFjRwwcODC1/qZNm5TpW2Ivf/78+PXXX3Ho0CFUqFBB2Z5NxMqqVauUUZKSJUtmGKnbt29DXmkVdUREBK5evYqQkBD10aUFElBLIJ342Dv+B/ycGK1stxvEpR930aUAUZts5rueAiTjmN+4AeTavwktpzaFV5yIkBh4rvqWIyHm+4jotsUUIOpDY1oBIgIiOjo6leCoUaMwb9487N+//x6qIkBkgfmAAQNS3xMBU6tWLWURe0brPJKTk5VpXjJ6Mnny5AwjNWzYMAwfPvye9yhA1Cc2LWhAQMRH8+bAxo2QkY+/PvoBiI7GunWgAMkALwWIBjlnMhMUIJkLkIQE4LHwzYh4uQk8b1KEmOyjofvmUoCoD5HpBIijpmBlFApZtH7q1CmsXr2aIyDqc5UWnElAHkGK+PjpJyQFhSjiw7dudUinYO1aCpCMQkEB4swEdY97UYDcX4A0aAAE/7kZeV/8V4TUrgvP1d9xJMQ90t/QraAAUR8+0wkQQSaL0KtUqaLsgmUrkZGRaNWqVaaL0FeuXKnskmUr3bp1U9aM2Bahpw+F1WpF1apVlSlZn332mV2RYkLbhYmVHE0gnfg4+PEa+NWpBosFkBmDFCAZB4ACxNGJ6X72KUCyFiC+voDP9l+Rt4OIkGtIqlUHnt+voghxv4+DoVrE/pr6cJlSgNi24Z02bZoyDWvGjBmYOXOmcsZHkSJFlKlWp0+fxty5cxXCtm14ZQteGdUQ0SG7YKXdhlemUlWvXl1Z7yGJKdOuZEqXTNUSIWJPYULbQ4l1HErg4kWgVSsgNlYZ+UgrPuS+FCCZ06cAcWhmuqVxChD7BIjU8tmxBXnbN04RITVqwXPFN0Du3G6ZF2yU/gmwv6Y+RqYUIIJNRj/Gjh2rrOGQMz4mTJigrNeQIgvOjx07hg0bNqQSlt2x+vTpk3oQoWzNm/YgQnlv6dKlOHfuHEJDQ5Xdr2SNR9p1JlmFiwmdFSG+71ACcoaNbLV76BCSgkNx8CMZ+aiqjHzYCgUIBYhDc9BkxilA7BcgNhHyYIcm8LpxFckPlYCHTMcqVcpkWcPm6oEA+2vqo2BaAaIenfYWmNDaM6VFOwmsXw888QRw5QoSChTF4Unfwq9KubvEh1iiAKEAsTOjWM0OAhQg2RMgUttr/594oHML+J49juSwcHgsXQLUq2cHbVYhAe0IsL+mniUFiHqGmllgQmuGkoayQ+DTT2Ht2hWWxETcqBiNE5O+QUDRBzO0QAFCAZKd1GLd+xOgAMm+AJErPM7/jTxdWiPgj19h9fKCdep0eHTpzHQjAacRYH9NPWoKEPUMNbPAhNYMJQ3ZQyApCZCtpceNU2pfbNwWF8Z+Bt9Qv0yvpgChALEntVjHPgIUIDkTIHKV5VY8wt/ojJBVXylGkt/oB4+x7wEeHvbBZy0SUEGA/TUV8P69lAJEPUPNLDChNUNJQ1kRkDM+nn8eWL5cqXm6y1DcfHMofHzTLPjIwAYFCAVIVqnF9+0nQAGScwGiXGm1IvjDYcj9yYgUEdKyNTzmf8EdsuxPQdbMIQH213IILs1lFCDqGWpmgQmtGUoauh8BOWzzueeAXbuQ7O2Do4M/B9q1g6dn1tgoQChAss4S1rCXAAWISgHy7+X+S7/EA293hsedBCRXeBgeX38FlCljbxhYjwSyTYD9tWwju+cCChD1DDWzwITWDCUNZUTAagVmzIC1Tx9Y4uORmOsBHBr3DXzr1bhnsXlmAClAKED44dKOAAWINgJErPj8HosHXmkN7ysXYPX3ByZMhOWVl2H3l5t2YaUlExBgf019kClA1DPUzAITWjOUNJSewIULQJcuqVOurlVtiFOj5iCgRIFssaIAoQDJVsKw8n0JUIBoJ0DEkue50wjr/SKCt6xVDCtTsj6dCeTJw0wkAU0JsL+mHicFiHqGmllgQmuGkobSEvjf/4AOHYBz52D19sbJ7mNwq2sf+Phlf7EmBQgFCD9c2hGgANFWgKSojmQEzpiA3B8OgEfiHSTnyw+PuXOARo20CxwtmZ4A+2vqU4ACRD1DzSwwoTVDSUNCQNTCwIHA+PEKj1vFyuLY6PnwrVYpx7MSKEAoQPjh0o4ABYgDBMi/Jr3/3IHcr7eD37H9Kbqkd194vDca8PXVLoC0ZFoC7K+pDz0FiHqGmllgQmuGkoZ+/hno0QPYvVth8fdT3XF5wDj45QpQxYYChAJEVQLx4rsIUIA4ToCIZUt8HEJGvInwr6amiJDyFeAxdQpQqxYzkQRUEWB/TRU+5WIKEPUMNbPAhNYMpXkNnTkD9OsHzJ+vMEgMz6PscuXRsoVdu1xlBY4ChAIkqxzh+/YToABxrACxWfddsxJ5+ndWFqgrQqTd8/AYNxYokL01cPZHljXdnQD7a+ojTAGinqFmFpjQmqE0n6GEBGDiRFhHjoTlxg1YLRacb/0KLvZ5F/4R2i3ApAChADHfh8txLaYAcY4Akbt4XLqAoDHvIHzJTHnyCmtQEDBoMCx9egM+Po4LMi27JQH219SHlQJEPUPNLDChNUNpLkPffw/06gUcPKi0+0bFaJx66yP4RFfR/FBgChAKEHN9uBzbWgoQ5wkQ2528dm1D2JDXEfTH5pTRkJKl4PHRZKBJE8cGm9bdigD7a+rDSQGinqFmFpjQmqE0h6Ft24Bhw4Bvv1Xaeyd3Xpx6fSzuPPtCjna4sgcaBQgFiD15wjr2EaAAcb4ASVEdyfBd/AXyvP8WvC/9nfJfLR6Hx7ChQJUq9gWPtUxNgP019eGnAFHPUDMLTGjNULq3oU2bgHffBVavVtpp9fLC38/0xJVeQ+H3YIhD204BQgHi0AQzmXEKEBcJkH9va7l2FUHjRyD8i8nwSEpM+T5t9hgsgwcB0dEmy0Y2NzsE2F/LDq2M61KAqGeomQUmtGYo3c+QnGK+fn2K8JCf8ofS0xMXG7fDxa7vwLt8ac2nW2UEkQKEAsT9PlyuaxEFiGsFiO3unn/tR9CkUQhbPR+W5GTlv5Pr1YeHCJGYGJ6m7rqPiG7vzP6a+tBQgKhnqJkFJrRmKN3HUFJSykjHmDGAjHyI8PD2xoXHXsTFl9+GT9niThEeNqAUIBQg7vPhcn1LKED0IUBsXngcOYTAT95H+Io5yiGGihCJrgGPgQOAZs2gyVaCrk87eqABAfbX1EOkAFHPUDMLTGjNUBrfkPRMPvss5XXiRMofQh9fnG/1Mi536QefEoWdKjwoQLJOqS1bUjRiRETWdVmDBIQABYi+BIjNG8upEwicMg65lsyER8LtlAc/EYVheakz0LkzP+T8+IL9NfVJQAGinqFmFpjQmqE0pqE7d1IWlM+cCev33ytbRUpJDAnH+ZYv4WrnvvAtmj/Hp5hrAYUjIJlTpADRIsPMZYMCRJ8CxOaVx99n4T9tPMKXfgqva5dThIiHB9CkKSwvdwFatAC8vc2VtGytQoD9NfWJQAGinqFmFpjQmqE0jiGZb7x1K7B4MTB3LvB3yo4sUq5XicH5Ni/jTosn4Bvqp4s2UYBQgNrC544AABXBSURBVOgiEd3ECQoQfQsQm3eW27fgvXIpgr+aieBtG1KdtubLB0uHDsCTTwKPPAKXDEu7yWfBaM1gf019xChA1DPUzAITWjOU+jYkIx0bNgDffJPyktPL/y2yle6F5h1x9amX4B1ZUndTjilAKED0/eEylncUIMYQIGm99Dj8F/y+/BThy2enbuEr71sLFoSlVSugdeuUhescGTHWhzGb3rK/lk1gGVSnAFHPUDMLTGjNUOrP0IULKbtXLV8O63ffwXLlSqqPSYHBuFLjMVxp/CwSm7aAb5B+h/QpQChA9PfhMq5HFCDGEyD/PS26A+8fvkXAiq8QErsKnnE3/hsZCQtTpmdZWrYE6tUD8uQxbpLS8wwJsL+mPjEoQNQz1MwCE1ozlK43dP488NNPKSMd8vrzz7t8upPrQVyu0wrXG7RBYp368An2denaDnuBUYBQgNibK6yXNQEKEAMLkDSuW2/dhtfGtfD/4RuEblwO70v/3NUwa4UKsNStmzIyUqcO8MADWScHa+iaAPtr6sNDAaKeoWYWmNCaoXSuIZlStXcvsH17ynoOER7pBIc4FF+8PK5Wb4LrDdsguWp1+AZ4OtdPDe5GAUIBokEa0cS/BChA3EOA3NWKpCR4/PYr/L5fhqDYHxBw+O6HT1LXWr48LCJEZN1IVBQQGckpWwb7VmB/TX3AKEDUM9TMAhNaM5SOM3TtGrB/P7BjR4rg2L4d1j/+gCUh4Z57iuC4FhWDm1VjcKd6HXjlf0B3azqyC4oChAIkuznD+pkToABxQwGSrknWf87Da9NP8Pt1AwK3bshYkPj4ABUrwiJiRF6VKwNlygAhIfz46JQA+2vqA0MBop6hZhaY0JqhVGcoPj7l7I2DB1NeBw6kvOT3c+cytJ0UFIqbZaIQV6oy4irXcBvBkb6xFCAUIOo+XLw6LQEKEPcXIOlbaBMkvts2wW//DgTs3w6vG1czBKHsslWqFFC6dMpLfpdX4cKAvz8/TC4kwP6aevimFSBTpkzBuHHjcPbsWZQrVw4TJ05E7dq1MyW6ceNG9O3bF3v27EGBAgXw1ltvoWvXrnfVX7JkCQYPHozDhw+jePHiGDVqFNq0aWN3lJjQdqPKWUU5V+PyZeCff1K2u5WX9ABEbNh+yu+yfuM+5U6efIgr8bAiOG5HRuFOhSigWDF4+1gMsY4jZ/BSrqIAoQBRkz+89m4CFCDmEyD3CJJkK3D0KLz+2A6fP7fDb+92+P+1Cz4XM37YlXq9rCMRISIvOf3U9jNvXkBeDz4IhIfD7f8ouehLhf019eBNKUAWLlyI9u3bQ0RIzZo1MX36dMyaNQt79+5FYfkQpytHjx5F+fLl8fLLL+PVV19FbGwsunfvjgULFuBJ2f8bwObNmxUBM3LkSEV0LFu2DEOGDMEvv/yCatWq2RUpJrQdmBITgZs3gevXgRs3Un7KS4SF7CwlP9O/bIJDhIWs17CjWAMDEV+wBG4VLo34IqVxp1hpJBYvjeTiJeERHgovLzuMuGEVChAKEDdMa5c1iQKEAiSz5Eu+fBWy5a/noQPwOnIAvkcPwO/4AfieOgTP+Jv25axsBSxCJa0gEVGS9iU7dsm/g4NTXkFBKT8DA2HaP3R20GV/zQ5IWVQxpQARQRAVFYWpU6em4ilbtixat26NMWPG3IOsf//+WLFiBfbt25f6nox+7Nq1SxEeUp599lnlZMzVq1en1mnatCnCw8MVoWJPcXpCy9N+Wbsgh+HJ6EDan7bfk5JS/t/20/a7/Nv2ElEgv6f9KR19ecn/2X63/ZR7Sk/W9jPt7zL9KS4OkJ9pX/J/Ijjk/9QW+cKVp0PypVyo0L1PkQoXxqXkMBw+YuFmJelYU4BQgKj9+PH6/whQgFCAZPfzcP4fK0rkvozwGxmM3p869d/o/tWMp3Vl634yzUsESUBAypSvtC/b//n6ArKGRX6m/V3+TwRQ2pc8ubP9W3739EwROWl/yu+2l5w6Ly/5t+2nxZLyu7xsv9t+yj0zeIicrTbbWdnp/TU7/TJSNdMJkISEBAQEBGDRokV3TY/q1asXdu7cCZlqlb7UqVMHlStXxqRJk1LfkhGOZ555BnFxcfD29lZGTvr06aO8bGXChAnK1K7jx49nmBO3b9+GvGxFEjoiIgJXr15FiDMWnxUvDhw5YqR8/c9X+dJK+7TG9hRHnuSk/V3+bRMb8lNe8iWZRbl0CTh8GAgNzaqmud4XzbhuXYpe5RTku2MvexL8+it32DTXJ0Jda2VQtnr1lHXHLP8RkOdM0qesXz+lb8vyHwHRFfKnO1euLKhI30JG/20zAORn2tkBaWcMyO9pZxXIg0MjFgFz6JBTPKcAUY/ZdALkzJkzKFiwoDKNqkaNGqkER48ejTlz5uCALDZOV0qVKoWOHTti4MCBqe9s2rRJmb4l9vLnzw8fHx/Mnj0b7dq1S60zf/58dOrU6S6Rkdb0sGHDMHz48Hvu5zQBUqlSigBJ/zTB9mRB/gKkfRJhewphexKR2dML21OO9E87bE8+MntiIv+f2VMW+f+0gkP+Kol/DiryfSxPJ6WjzfIfAfm7JJ1s+VvFcjcB2Yl5zx7mDPPCfgLyFVauXMourCx3E5CvexFnZp3umlk+SM7Ikg95zuaQIn/05ElTWkFim42Q0ewEETqZzWjIaCaEbVaEbcZE+tkTtpkVMtsi7ewL2/+Lf7YZG+lnbTz0ELBzp0OwpDdKAaIes2kFiAiI6OjoVIKyYHzevHnYL1usZiBAREgMGDAg9R0RMLVq1VIWsefLl08RICJg2rZtm1rnyy+/xEsvvYRbt25lGCmXj4Cozx+3tSDfb3YuF3FbBpk1TNKZbO6lI0wuXjRdOrDBKgnkzs0jIDJCKM+r/PxUwnXTy4WNA5+/uSk1bZtFAaKep+kEiJ6mYFFRq09gWiABEiABEiABEiABZxKgAFFP23QCRJDJIvQqVaoou2DZSmRkJFq1apXpIvSVK1cqu2TZSrdu3ZQ1I2kXoV+/fh2rVq1KrdOsWTOEhYXpdxG6+vyhBRIgARIgARIgARIwFQEKEPXhNqUAsW3DO23aNGUa1owZMzBz5kzljI8iRYooU61Onz6NuXPnKoRt2/DKFryyFa+IDtkFK+02vDKlSxary1QuETLLly/HoEGDuA2v+hylBRIgARIgARIgARLQDQEKEPWhMKUAEWwy+jF27FhlDYec8SE7VomAkCILzo8dO4YNGzakEpbdsWSHK9tBhLI1b/qDCBcvXqyIjiNHjqQeRPjEE0/YHSUmtN2oWJEESIAESIAESIAEXEKA/TX12E0rQNSj094CE1p7prRIAiRAAiRAAiRAAloSYH9NPU0KEPUMNbPAhNYMJQ2RAAmQAAmQAAmQgEMIsL+mHisFiHqGmllgQmuGkoZIgARIgARIgARIwCEE2F9Tj5UCRD1DzSwwoTVDSUMkQAIkQAIkQAIk4BAC7K+px0oBop6hZhaY0JqhpCESIAESIAESIAEScAgB9tfUY6UAUc9QMwtMaM1Q0hAJkAAJkAAJkAAJOIQA+2vqsVKAqGeomQUmtGYoaYgESIAESIAESIAEHEKA/TX1WClA1DPUzMLVq1eVk9NPnjyJkJAQzezSEAmQAAmQAAmQAAmQgDYERIBERETgypUrCA0N1caoyaxQgOgo4KdOnVISmoUESIAESIAESIAESEDfBOSBcaFChfTtpE69owDRUWCSk5Nx5swZBAcHw2KxONwzm4LniMu9qMkm4/Qjl8w/lmTDnMnOlzbzhZ+l7OSL1GXO6CdnrFYrrl+/jgIFCsDDwyO7oWR9ABQgJk4DzmG8/5eZDKvKtDhOh/uPE3OGOZPdr0zmTObCjN8xZJOdzxM/S/z+zU6+6L0uBYjeI+RA//hlxi+z7KYXc4Y5w5zJLgF2srNLjN8zzBnmTHYJGK8+BYjxYqaZx/ySZ2cyu8nEnGHOMGeyS4CdyewS4/cMc4Y5k10CxqtPAWK8mGnm8e3btzFmzBgMGDAAvr6+mtl1B0Nkk3EUySXz7CYb5kx2vvuYL/wsZSdfpC5zhjmT3ZzRc30KED1Hh76RAAmQAAmQAAmQAAmQgJsRoABxs4CyOSRAAiRAAiRAAiRAAiSgZwIUIHqODn0jARIgARIgARIgARIgATcjQAHiZgFlc0iABEiABEiABEiABEhAzwQoQPQcHfpGAiRAAiRAAiRAAiRAAm5GgALEzQKqtjmyy0a1atWwa9cu7NixA5UqVVJr0vDXt2zZEjt37sQ///yD8PBwNGzYEO+//75yAqpZy7FjxzBy5EisW7cO586dU1i88MILeOedd+Dj42NWLKntHjVqFL777jslb4THlStXTMlkypQpGDduHM6ePYty5cph4sSJqF27tilZpG30Tz/9pHDZtm2bwmbZsmVo3bq1qbnIjoxLly7F/v374e/vjxo1aijfs6VLlzY1F2n81KlTlZd870qRz9KQIUPQrFkz07NJC0ByaODAgejVq5fyXcOibwIUIPqOj9O9kw/uX3/9hdWrV1OA/Et/woQJiI6ORv78+XH69Gm8+eabyjubNm1yenz0csPvv/8eCxcuRNu2bVGiRAn8+eefePnll9G+fXt88MEHenHTZX4MHToUYWFhOHXqFD799FNTChDJD8kHESE1a9bE9OnTMWvWLOzduxeFCxd2WWz0cGP5fo2NjUVUVBSefPJJChAATZs2xXPPPYdHH30UiYmJysOM3bt3K/kSGBioh7C5zIeVK1fC09NT+a6VMmfOHEXAykNCESMswO+//45nnnkGISEhqFevHgWIAZKCAsQAQXKWi/JHsW/fvliyZInypcYRkIzJr1ixQnlaKaNF3t7ezgqP7u8jfxDlKd2RI0d076uzHJw9ezZ69+5tSgEiI6nSwZacsJWyZcsqnx15UsmSQsBisVCAZJAM58+fx4MPPoiNGzeiTp06TJd0BHLlyqWIkJdeesn0bG7cuKF818jDjnfffVeZucEREP2nBQWI/mPkFA///vtvVKlSBd988w3y5MmDYsWKUYBkQP7SpUvo1q2bMhLyyy+/OCU2RrnJoEGDICMjW7duNYrLDvfTrAIkISEBAQEBWLRoEdq0aZPKWUZYZVqadCpZKEDulwOHDh1CyZIllVGQ8uXLM13+JZCUlKR8rl588UXlb3RkZKTp2QgLEWQyWyEmJoYCxCAZQQFikEA50k2r1YrHHntMmSYhnUiZZ0oBcjfx/v374+OPP0ZcXByqV6+Ob7/9Frlz53ZkWAxl+/Dhw8oTqA8//BBdunQxlO+OdNasAuTMmTMoWLCgMs1I5vLbyujRo5XpIwcOHHAkdkPZ5gjIveGSv0mtWrXC5cuX8fPPPxsqno5yVoSYTAW+desWgoKCMH/+fOXvttnLV199BVlzJ1Ow/Pz8KEAMlBAUIAYKVnZdHTZsGIYPH37fy+RDK2sZZL62LIyUeaZmECD2snnkkUcUfhcuXICMfhw/flxhGhoaqogQ6Ty4U8kuF2m7dDbr1q2rvGSOv7uWnLAxuwCR7xbpNNmKdBTmzZunLDRmSSFAAXJvJvTo0UPZxEFGmQsVKsRUASCjiidOnFCmc8o0afmulZFEM4+AnDx5EvI3es2aNXj44YeVPOEIiHE+LhQgxolVtj2VTrO87leKFi2qLPyTRW5pO9MyzCti5Pnnn1eeWLpbsZeNPFFJX2RhcUREhCLc0nau3IFRdrmI+JAFfzLfXzrbHh4e7oAhwzZkl40YMasA4RQs+z8GFCB3s3r99deVqcDyQExG4lkyJiC7MRYvXlzZ3MGsRfJEpnhKX8VWpO8inyn5WyTrNNO+Z1ZOem03BYheI+NEv+SpyrVr11LvKJ3KJk2aYPHixUrHkk+g7g6GPHWRXXzWr1+vPG0xa5F1MCI+ZO3QF198wS/6DBLBrAJEUMh3h+SGLAy1FXlaK1NruAj9v2ShAElhIdOuRHzIlsQbNmxQ1n+wZE6gQYMGyoMw+Y4xa7l+/boyKyFt6dSpE8qUKQOZNs21Q/rODAoQfcfHJd6ZYQqWvWB/++03yKtWrVrKGSCyw5Psvy579+/Zswe+vr72mnKrerZpVyLE5s6de5f4yJcvn1u1NSeNEVEvU/ZkxzTZqcY2j1220ZT522Yotm14p02bpowUzpgxAzNnzlQ+N0WKFDEDgkzbKLv2yCJrKZUrV8b48eMVMS8Lac26RXH37t2VdQ3Lly+/6+wPme4q54KYucjZFnLmhwgO6XTLuof33ntP2fSjUaNGZkZzT9s5Bcs46UABYpxYOc1TCpD/UMvCP9m5Rw5mvHnzpnIWiOxXL4v1ZZGtWYs8dZMnTRkVeZJp9tKxY8cMpy6abdRMRj/Gjh2rCHZ5Gim71HBLVShP+EVwpC+ym49Zn2hntp7u888/h3yezFxkq921a9cqnyMRZBUrVlSe8FN83JsVFCDG+aRQgBgnVvSUBEiABEiABEiABEiABAxPgALE8CFkA0iABEiABEiABEiABEjAOAQoQIwTK3pKAiRAAiRAAiRAAiRAAoYnQAFi+BCyASRAAiRAAiRAAiRAAiRgHAIUIMaJFT0lARIgARIgARIgARIgAcMToAAxfAjZABIgARIgARIgARIgARIwDgEKEOPEip6SAAmQAAmQAAmQAAmQgOEJUIAYPoRsAAmQAAmQAAmQAAmQAAkYhwAFiHFiRU9JgARIgARIgARIgARIwPAEKEAMH0I2gARIgARIgARIgARIgASMQ4ACxDixoqckQAIkQAIkQAIkQAIkYHgCFCCGDyEbQAIkQAL6InD+/HlUqFABPXv2xMCBAxXntmzZgtq1a+Pbb79F48aN9eUwvSEBEiABEnAqAQoQp+LmzUiABEjAHARWrVqF1q1bY9OmTShTpgwqV66M5s2bY+LEieYAwFaSAAmQAAlkSoAChMlBAiRAAiTgEAI9evTAjz/+iEcffRS7du3C77//Dj8/P4fci0ZJgARIgASMQ4ACxDixoqckQAIkYCgC8fHxKF++PE6ePImtW7eiYsWKhvKfzpIACZAACTiGAAWIY7jSKgmQAAmYnsCePXvwyCOP4M6dO1i2bBkef/xx0zMhABIgARIgAYAChFlAAiRAAiSgOYGEhARUrVoVlSpVUtaAjB8/Hrt370bevHk1vxcNkgAJkAAJGIsABYix4kVvSYAESMAQBPr164fFixcraz+CgoJQr149BAcHK7tgsZAACZAACZibAAWIuePP1pMACZCA5gQ2bNiARo0aYf369ahVq5Zi/8SJE8oakDFjxqBbt26a35MGSYAESIAEjEOAAsQ4saKnJEACJEACJEACJEACJGB4AhQghg8hG0ACJEACJEACJEACJEACxiFAAWKcWNFTEiABEiABEiABEiABEjA8AQoQw4eQDSABEiABEiABEiABEiAB4xD4PyvcCy1gwuaOAAAAAElFTkSuQmCC",
       "_figure_label": "Figure 1",
       "_size": [
        800,
        400
       ],
       "layout": "IPY_MODEL_8a126e8ae4934b1f85f1cd3ff5f7c8ad",
       "toolbar": "IPY_MODEL_57074f50ae9f4ebb9bba5383716fd845",
       "toolbar_position": "left"
      }
     },
     "68eaef8d92da4249ac11fd034595b3d6": {
      "model_module": "@jupyter-widgets/base",
      "model_module_version": "1.2.0",
      "model_name": "LayoutModel",
      "state": {}
     },
     "6e8680ae3db748a7a821cda54dbeaaa4": {
      "model_module": "@jupyter-widgets/base",
      "model_module_version": "1.2.0",
      "model_name": "LayoutModel",
      "state": {}
     },
     "80d92259b66140698944ce45cddb3259": {
      "model_module": "jupyter-matplotlib",
      "model_module_version": "^0.10.4",
      "model_name": "MPLCanvasModel",
      "state": {
       "_data_url": "data:image/png;base64,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",
       "_figure_label": "Figure 2",
       "_size": [
        800,
        400
       ],
       "layout": "IPY_MODEL_d977ba531cbd4ce6b22e2b7e1f9ef7b9",
       "toolbar": "IPY_MODEL_827ca6bbc5a942759745caaf42dd36f6",
       "toolbar_position": "left"
      }
     },
     "827ca6bbc5a942759745caaf42dd36f6": {
      "model_module": "jupyter-matplotlib",
      "model_module_version": "^0.10.4",
      "model_name": "ToolbarModel",
      "state": {
       "collapsed": true,
       "layout": "IPY_MODEL_6e8680ae3db748a7a821cda54dbeaaa4",
       "orientation": "vertical",
       "toolitems": [
        [
         "Home",
         "Reset original view",
         "home",
         "home"
        ],
        [
         "Back",
         "Back to previous view",
         "arrow-left",
         "back"
        ],
        [
         "Forward",
         "Forward to next view",
         "arrow-right",
         "forward"
        ],
        [
         "Pan",
         "Left button pans, Right button zooms\nx/y fixes axis, CTRL fixes aspect",
         "arrows",
         "pan"
        ],
        [
         "Zoom",
         "Zoom to rectangle\nx/y fixes axis",
         "square-o",
         "zoom"
        ],
        [
         "Download",
         "Download plot",
         "floppy-o",
         "save_figure"
        ]
       ]
      }
     },
     "8a126e8ae4934b1f85f1cd3ff5f7c8ad": {
      "model_module": "@jupyter-widgets/base",
      "model_module_version": "1.2.0",
      "model_name": "LayoutModel",
      "state": {}
     },
     "9fae84d8f6e4445ba2d2a1980181dccb": {
      "model_module": "@jupyter-widgets/base",
      "model_module_version": "1.2.0",
      "model_name": "LayoutModel",
      "state": {}
     },
     "b4401001182b4d8a9d54d2ae3fc04277": {
      "model_module": "jupyter-matplotlib",
      "model_module_version": "^0.10.4",
      "model_name": "MPLCanvasModel",
      "state": {
       "_data_url": "data:image/png;base64,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",
       "_figure_label": "Figure 3",
       "_size": [
        800,
        400
       ],
       "layout": "IPY_MODEL_e1a5a81894244276a17ee2ebcce5ee1c",
       "toolbar": "IPY_MODEL_0105905296d647d697ad904373de58da",
       "toolbar_position": "left"
      }
     },
     "d977ba531cbd4ce6b22e2b7e1f9ef7b9": {
      "model_module": "@jupyter-widgets/base",
      "model_module_version": "1.2.0",
      "model_name": "LayoutModel",
      "state": {}
     },
     "e1a5a81894244276a17ee2ebcce5ee1c": {
      "model_module": "@jupyter-widgets/base",
      "model_module_version": "1.2.0",
      "model_name": "LayoutModel",
      "state": {}
     }
    },
    "version_major": 2,
    "version_minor": 0
   }
  }
 },
 "nbformat": 4,
 "nbformat_minor": 4
}
