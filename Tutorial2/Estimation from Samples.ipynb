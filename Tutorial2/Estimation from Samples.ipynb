{
 "cells": [
  {
   "cell_type": "markdown",
   "metadata": {},
   "source": [
    "# Estimation from Samples"
   ]
  },
  {
   "cell_type": "markdown",
   "metadata": {
    "tags": [
     "remove-cell"
    ]
   },
   "source": [
    "**CS5483 Data Warehousing and Data Mining**\n",
    "___"
   ]
  },
  {
   "cell_type": "code",
   "execution_count": null,
   "metadata": {
    "ExecuteTime": {
     "end_time": "2021-02-05T01:51:15.469883Z",
     "start_time": "2021-02-05T01:51:15.210048Z"
    },
    "init_cell": true
   },
   "outputs": [],
   "source": [
    "import matplotlib.pyplot as plt\n",
    "import numpy as np\n",
    "from scipy.stats import norm\n",
    "\n",
    "%matplotlib widget\n",
    "plt.rcParams[\"figure.figsize\"] = (8, 4)"
   ]
  },
  {
   "cell_type": "markdown",
   "metadata": {},
   "source": [
    "---\n",
    "\n",
    "**Caution**\n",
    "\n",
    "There is a [memory issue](https://github.com/matplotlib/ipympl/issues/370) with [`%matplotlib widget`](https://github.com/matplotlib/ipympl). You may need to stop/restart the kernel to release the memory.\n",
    "\n",
    "---"
   ]
  },
  {
   "cell_type": "markdown",
   "metadata": {},
   "source": [
    "## Unbiased and Consistent Estimate"
   ]
  },
  {
   "cell_type": "markdown",
   "metadata": {},
   "source": [
    "### Monte-Carlo Simulation"
   ]
  },
  {
   "cell_type": "markdown",
   "metadata": {},
   "source": [
    "We will simulate the process of flipping a possibly biased coin using the module `numpy` (rename as `np`). (See an introduction [here](https://www.cs.cityu.edu.hk/~ccha23/cs1302book/Lecture9/Monte%20Carlo%20Simulation%20and%20Linear%20Algebra.html).)"
   ]
  },
  {
   "cell_type": "code",
   "execution_count": null,
   "metadata": {
    "ExecuteTime": {
     "end_time": "2021-01-19T14:45:55.187657Z",
     "start_time": "2021-01-19T14:45:55.183961Z"
    }
   },
   "outputs": [],
   "source": [
    "rng = np.random.default_rng(seed=0)"
   ]
  },
  {
   "cell_type": "markdown",
   "metadata": {},
   "source": [
    "The above sets a random seed so that the results can be reproducible."
   ]
  },
  {
   "cell_type": "markdown",
   "metadata": {},
   "source": [
    "The following chooses the probability $p$ of head. It uniformly randomly pick the value from the unit interval $[0,1)$."
   ]
  },
  {
   "cell_type": "code",
   "execution_count": null,
   "metadata": {
    "ExecuteTime": {
     "end_time": "2021-01-19T14:45:55.198352Z",
     "start_time": "2021-01-19T14:45:55.189132Z"
    }
   },
   "outputs": [],
   "source": [
    "p = rng.random()  # randomly generate the probability of head coming up."
   ]
  },
  {
   "cell_type": "markdown",
   "metadata": {},
   "source": [
    "To generate a sequence of random coin tosses:"
   ]
  },
  {
   "cell_type": "code",
   "execution_count": null,
   "metadata": {
    "ExecuteTime": {
     "end_time": "2021-01-19T14:45:55.209899Z",
     "start_time": "2021-01-19T14:45:55.199814Z"
    }
   },
   "outputs": [],
   "source": [
    "n = 5000\n",
    "coin_tosses = rng.choice([\"H\", \"T\"], size=n, p=[p, 1 - p])\n",
    "coin_tosses"
   ]
  },
  {
   "cell_type": "markdown",
   "metadata": {},
   "source": [
    "The characters `'H'` and `'T'` denotes head and tail respectively."
   ]
  },
  {
   "cell_type": "markdown",
   "metadata": {},
   "source": [
    "### M-Estimation"
   ]
  },
  {
   "cell_type": "markdown",
   "metadata": {},
   "source": [
    "We can estimate $p$ from the empirical distribution of the coin tosses:\n",
    "\n",
    "$$\n",
    "\\hat{p} := \\frac1n \\sum_{i=0}^{n-1} z_i,\n",
    "$$\n",
    "\n",
    "where $z_1,\\dots,z_n$ are i.i.d. samples of\n",
    "\n",
    "$$\n",
    "Z := \\begin{cases}\n",
    "1 & \\text{if head comes up}\\\\\n",
    "0 & \\text{if tail comes up.}\n",
    "\\end{cases}\n",
    "$$"
   ]
  },
  {
   "cell_type": "markdown",
   "metadata": {},
   "source": [
    "The formula is more generally called \n",
    "\n",
    "- the sample average of $Z$ and \n",
    "- the M-estimate of the expectation $E[Z]$ of $Z$."
   ]
  },
  {
   "cell_type": "code",
   "execution_count": null,
   "metadata": {
    "ExecuteTime": {
     "end_time": "2021-01-19T14:45:55.220867Z",
     "start_time": "2021-01-19T14:45:55.211005Z"
    }
   },
   "outputs": [],
   "source": [
    "(coin_tosses == \"H\").mean()"
   ]
  },
  {
   "cell_type": "markdown",
   "metadata": {},
   "source": [
    "In the particular case $Z$ being the indicator of head coming up, the estimate $\\hat{p}$ is the fraction of heads coming up in $n$ coin tosses."
   ]
  },
  {
   "cell_type": "markdown",
   "metadata": {},
   "source": [
    "**Exercise** The following proves that $\\hat{p}$ is an unbiased estimate:\n",
    "\n",
    "$$\n",
    "\\begin{aligned}\n",
    "E[\\hat{p}] &= E\\left[\\frac1n \\sum_{i=0}^{n-1} z_i \\right]\\\\\n",
    "&= \\frac1n \\sum_{i=0}^{n-1} \\underbrace{E[z_i]}_{\\smash{=p}} && \\text{by ???}\\\\\n",
    "&= p.\n",
    "\\end{aligned}\n",
    "$$\n",
    "\n",
    "What is the missing reasoning?"
   ]
  },
  {
   "cell_type": "markdown",
   "metadata": {
    "deletable": false,
    "nbgrader": {
     "cell_type": "markdown",
     "checksum": "2ca3b7658975f190d06da1524e2fba19",
     "grade": true,
     "grade_id": "linearity",
     "locked": false,
     "points": 1,
     "schema_version": 3,
     "solution": true,
     "task": false
    },
    "tags": [
     "remove-output"
    ]
   },
   "source": [
    "YOUR ANSWER HERE"
   ]
  },
  {
   "cell_type": "markdown",
   "metadata": {},
   "source": [
    "**Exercise** The following shows that $\\hat{p}$ is a consistent estimate:\n",
    "\n",
    "$$\n",
    "\\begin{aligned}\\sigma &:=\\sqrt{\\operatorname{Var}[\\hat{p}]}\\\\\n",
    "&= \\sqrt{\\operatorname{Var}\\left[\\frac1{n} \\sum_{i=0}^{n-1} z_i\\right]}\\\\\n",
    "&= \\sqrt{\\frac1{n^2} \\operatorname{Var}\\left[\\sum_{i=0}^{n-1} z_i\\right]}\\\\\n",
    "&=\\sqrt{\\frac1{n^2} \\sum_{i=1}^n \\underbrace{\\operatorname{Var}[z_i]}_{\\smash{=p(1-p)}}} && \\text{by ???}\\\\\n",
    "&=\\sqrt{\\frac{p(1-p)}{n}}, \\end{aligned}\n",
    "$$\n",
    "\n",
    "which goes to $0$ as $n$ goes to $\\infty$.\n",
    "\n",
    "What is the missing reasoning?"
   ]
  },
  {
   "cell_type": "markdown",
   "metadata": {
    "deletable": false,
    "nbgrader": {
     "cell_type": "markdown",
     "checksum": "d655a8850dcdfbc8e9f8d0fffa537d54",
     "grade": true,
     "grade_id": "indep",
     "locked": false,
     "points": 1,
     "schema_version": 3,
     "solution": true,
     "task": false
    },
    "tags": [
     "remove-output"
    ]
   },
   "source": [
    "YOUR ANSWER HERE"
   ]
  },
  {
   "cell_type": "markdown",
   "metadata": {},
   "source": [
    "By the [Central Limit Theorem](https://en.wikipedia.org/wiki/Central_limit_theorem) as $n$ goes to $\\infty$, the estimate has a gaussian distribution almost surely."
   ]
  },
  {
   "cell_type": "code",
   "execution_count": null,
   "metadata": {},
   "outputs": [],
   "source": [
    "plt.figure(1, clear=True)\n",
    "x = np.linspace(-4, 4, 8 * 10 + 1)\n",
    "plt.plot(x, norm.pdf(x), color=\"red\", label=r'$\\frac{1}{\\sqrt{2\\pi}}e^{-x^2}$')\n",
    "for i in range(3, 0, -1):\n",
    "    plt.fill_between(\n",
    "        x,\n",
    "        norm.pdf(x),\n",
    "        alpha=2 ** (-i),\n",
    "        color=\"blue\",\n",
    "        label=rf\"$\\Pr(|\\hat{{p}}-p|\\leq{i}\\sigma)\\approx {(norm.cdf(i)-0.5)*200:.3g}\\%$\",\n",
    "        where=(abs(x) <= i),\n",
    "    )\n",
    "plt.title(r\"Standard normal distribution for $\\frac{\\hat{p}-p}{\\sigma}$ as $n\\to \\infty$\")\n",
    "plt.xlabel(r\"x\")\n",
    "plt.ylabel(r\"probability density\")\n",
    "plt.legend()\n",
    "plt.show()"
   ]
  },
  {
   "cell_type": "markdown",
   "metadata": {},
   "source": [
    "Over $95\\%$ of the time, the estimator falls within $2$ standard deviation away from the ground truth, i.e.,\n",
    "\n",
    "$$\n",
    "\\Pr(\\hat{p}\\in [p-2\\sigma, p+2\\sigma]) \\geq 0.95\n",
    "$$"
   ]
  },
  {
   "cell_type": "markdown",
   "metadata": {},
   "source": [
    "To illustrate the above, we will generate and plot the estimate $\\hat{p}$ for different sample size $n$:"
   ]
  },
  {
   "cell_type": "code",
   "execution_count": null,
   "metadata": {
    "ExecuteTime": {
     "end_time": "2021-01-19T14:45:55.230464Z",
     "start_time": "2021-01-19T14:45:55.222611Z"
    }
   },
   "outputs": [],
   "source": [
    "size = 5000\n",
    "n = np.arange(1, size + 1)\n",
    "phat = (coin_tosses == \"H\").cumsum() / n  # use first n tosses to estimate\n",
    "sigma = (p * (1 - p) / n) ** 0.5  # true standard deviations of the estimates"
   ]
  },
  {
   "cell_type": "markdown",
   "metadata": {},
   "source": [
    "We have additionally set the plots to use vector formats so they have unlimited resolution."
   ]
  },
  {
   "cell_type": "code",
   "execution_count": null,
   "metadata": {
    "ExecuteTime": {
     "end_time": "2021-01-19T14:45:55.568973Z",
     "start_time": "2021-01-19T14:45:55.244502Z"
    }
   },
   "outputs": [],
   "source": [
    "plt.figure(2, clear=True)\n",
    "# plot the ground truth p\n",
    "plt.axhline(p, color=\"red\")\n",
    "\n",
    "# fill the region 2 sigma away from p\n",
    "plt.fill_between(\n",
    "    n, p - 2 * sigma, p + 2 * sigma, color=\"red\", alpha=0.2, label=r\"$p\\pm 2\\sigma$\"\n",
    ")\n",
    "\n",
    "# plot the estimates phat\n",
    "plt.plot(n, phat, marker=\".\", color=\"blue\", linestyle=\"\", markersize=1)\n",
    "\n",
    "# configure the plot\n",
    "plt.ylim([0, 1])\n",
    "plt.xlim([0, n.size])\n",
    "plt.title(r\"Plot of $\\hat{p}$ vs sample size\")\n",
    "plt.xlabel(\"sample size\")\n",
    "plt.ylabel(\"probability\")\n",
    "plt.legend()\n",
    "plt.show()"
   ]
  },
  {
   "cell_type": "markdown",
   "metadata": {},
   "source": [
    "## Biased Estimate"
   ]
  },
  {
   "cell_type": "markdown",
   "metadata": {},
   "source": [
    "To understanding the concept of bias in estimation, imagine playing the following coin-tossing game:\n",
    "\n",
    "- You win if a coin toss comes up head.\n",
    "- You get to choose 1 out of the $m$ coins $i\\in \\{0,\\dots,m-1\\}$ with unknown probability $p_i$ of coming up head.\n",
    "- You can flip each coin $n$ times before making the choice."
   ]
  },
  {
   "cell_type": "markdown",
   "metadata": {},
   "source": [
    "**How to play the game?**"
   ]
  },
  {
   "cell_type": "markdown",
   "metadata": {},
   "source": [
    "A particular strategy to play the game is to \n",
    "1. estimate the chance $p_i$ by the empirical probability $\\hat{p}_i$ for each coin $i$, and\n",
    "1. select the coin (with ties broken arbitrarily)\n",
    "\n",
    "  $$\n",
    "  i^* := \\arg\\max_i \\hat{p}_i.\n",
    "  $$\n",
    "\n",
    "Obviously, the chance of winning is $E[p_{i^*}]$.  We will try to understanding whether \n",
    "\n",
    "$$\n",
    "\\hat{p}_{i^*} = \\max_i\\hat{p}_i\n",
    "$$ \n",
    "\n",
    "is a good estimate of the chance of winning, and whether the above strategy is optimal."
   ]
  },
  {
   "cell_type": "markdown",
   "metadata": {},
   "source": [
    "**How is it related to the problem of overfitting?**"
   ]
  },
  {
   "cell_type": "markdown",
   "metadata": {},
   "source": [
    "Suppose $\\hat{p}_i$ is the empirical accuracy of the classifier $f_i$. A common model selection strategy is to \n",
    "- choose the classifier $i^*$ defined above that have the empirical accuracy, and\n",
    "- estimate its performance by $\\hat{p}_{i^*}$."
   ]
  },
  {
   "cell_type": "markdown",
   "metadata": {},
   "source": [
    "**How to evaluate the estimate?**"
   ]
  },
  {
   "cell_type": "markdown",
   "metadata": {},
   "source": [
    "Consider the simple case $n=1$, $m=2$, and $p_0=p_1=0.5$. We have the following four equally likely events:\n",
    "\n",
    "$$\n",
    "\\begin{array}{ccc} \\hat{p}_0 & \\hat{p}_1 & \\max_i \\hat{p}_i \\\\\\hline\n",
    "0 & 0 & 0\\\\ \n",
    "0 & 1 & 1\\\\ \n",
    "1 & 0 & 1\\\\ \n",
    "1 & 1 & 1\\\\ \n",
    "\\end{array}\n",
    "$$"
   ]
  },
  {
   "cell_type": "markdown",
   "metadata": {},
   "source": [
    "**Exercise** For the above simple case, compute $E[p_{i^*}]$ and $E[\\max_i\\hat{p}_i]$. Is $\\max_i\\hat{p}_i$ an unbiased estimate of $E[p_{i^*}]$?"
   ]
  },
  {
   "cell_type": "markdown",
   "metadata": {
    "deletable": false,
    "nbgrader": {
     "cell_type": "markdown",
     "checksum": "ed2a7719b52a80e7501765e607b7ee04",
     "grade": true,
     "grade_id": "n1",
     "locked": false,
     "points": 1,
     "schema_version": 3,
     "solution": true,
     "task": false
    }
   },
   "source": [
    "YOUR ANSWER HERE"
   ]
  },
  {
   "cell_type": "markdown",
   "metadata": {},
   "source": [
    "The [order statistics][os] in the general case is difficult to analyze exactly. We will compute the desired quantities using [Monte-Carlo simulation][MC] of the coin tossing game. You may verify the correctness by hand-calculating the closed-form solution for $n=1$, $m=2$, and $p_0=p_1=0.5$.\n",
    "\n",
    "[MC]: https://www.cs.cityu.edu.hk/~ccha23/cs1302book/Lecture9/Monte%20Carlo%20Simulation%20and%20Linear%20Algebra.html\n",
    "[os]: https://en.wikipedia.org/wiki/Order_statistic"
   ]
  },
  {
   "cell_type": "markdown",
   "metadata": {},
   "source": [
    "The following initializes the list `p_list` of probabilities of head for different coins:"
   ]
  },
  {
   "cell_type": "code",
   "execution_count": null,
   "metadata": {
    "ExecuteTime": {
     "end_time": "2021-01-19T14:45:55.574842Z",
     "start_time": "2021-01-19T14:45:55.570644Z"
    }
   },
   "outputs": [],
   "source": [
    "m = 2\n",
    "p_list = np.array([0.4] * (m - 1) + [0.6])\n",
    "# To generate the probability randomly instead, use\n",
    "# p_list = rng.random(m)\n",
    "p_list"
   ]
  },
  {
   "cell_type": "markdown",
   "metadata": {},
   "source": [
    "Instead of generating a sequence of coin tosses, we will simulate $\\hat{p}_i$ directly using the binomial distribution since\n",
    "\n",
    "$$\n",
    "n\\hat{p}_i\\sim \\operatorname{Binomial}(n,p_i).\n",
    "$$"
   ]
  },
  {
   "cell_type": "code",
   "execution_count": null,
   "metadata": {},
   "outputs": [],
   "source": [
    "size = 10\n",
    "n = np.arange(1, size + 1)\n",
    "k = 100000\n",
    "phat = rng.binomial(\n",
    "    n.reshape(-1, 1, 1), p_list.reshape(1, -1, 1), (size, m, k)\n",
    ") / n.reshape(-1, 1, 1)\n",
    "max_phat = phat.max(axis=1)\n",
    "max_phat"
   ]
  },
  {
   "cell_type": "markdown",
   "metadata": {},
   "source": [
    "`max_phat` is a 2-dimensional array of samples of $\\max_{i}\\hat{p}_i$:\n",
    "- The first axis indexes samples obtained from different number of tosses.\n",
    "- The second axis indexes `k` independent samples for the same number of tosses.\n",
    "\n",
    "The `k` independent samples can be used to approximates $E[\\max_{i}\\hat{p}_i]$ as follows."
   ]
  },
  {
   "cell_type": "code",
   "execution_count": null,
   "metadata": {},
   "outputs": [],
   "source": [
    "E_max_phat = max_phat.mean(axis=-1)\n",
    "E_max_phat"
   ]
  },
  {
   "cell_type": "markdown",
   "metadata": {},
   "source": [
    "Similarly, the winning probability can be approximated as follows:"
   ]
  },
  {
   "cell_type": "code",
   "execution_count": null,
   "metadata": {},
   "outputs": [],
   "source": [
    "win_prob = p_list[phat.argmax(axis=1)].mean(axis=-1)\n",
    "win_prob"
   ]
  },
  {
   "cell_type": "markdown",
   "metadata": {},
   "source": [
    "The following plots compare the probabilities as a function of $n$."
   ]
  },
  {
   "cell_type": "code",
   "execution_count": null,
   "metadata": {
    "ExecuteTime": {
     "end_time": "2021-01-19T14:45:56.666174Z",
     "start_time": "2021-01-19T14:45:56.375427Z"
    },
    "colab": {
     "base_uri": "https://localhost:8080/",
     "height": 726
    },
    "colab_type": "code",
    "id": "eEpEkzHe_Nri",
    "outputId": "e54a77b2-d0e3-4f85-ed8d-8743de445ddb"
   },
   "outputs": [],
   "source": [
    "plt.figure(3, clear=True)\n",
    "plt.axhline(p_list.max(), color=\"red\", label=r\"$\\max_i p_i$\")\n",
    "plt.plot(\n",
    "    n,\n",
    "    E_max_phat,\n",
    "    linestyle=\"--\",\n",
    "    marker=\".\",\n",
    "    color=\"blue\",\n",
    "    markersize=10,\n",
    "    label=r\"$E[\\max_i\\hat{p}_i]$\",\n",
    ")\n",
    "plt.plot(\n",
    "    n,\n",
    "    win_prob,\n",
    "    linestyle=\":\",\n",
    "    marker=\"x\",\n",
    "    color=\"green\",\n",
    "    markersize=10,\n",
    "    label=\"winning probability\",\n",
    ")\n",
    "\n",
    "plt.ylim([0, 1])\n",
    "plt.xlim([n[0], n[-1]])\n",
    "plt.title(r\"Plot of $E[\\max_i\\hat{p}_i]$ vs $n$\")\n",
    "plt.xlabel(\"$n$\")\n",
    "plt.ylabel(\"probability\")\n",
    "plt.legend()\n",
    "plt.show()"
   ]
  },
  {
   "cell_type": "markdown",
   "metadata": {},
   "source": [
    "**Exercise** Compare the chance of winning with $\\max_i p_i$ in general, for different $pi$'s."
   ]
  },
  {
   "cell_type": "markdown",
   "metadata": {
    "deletable": false,
    "nbgrader": {
     "cell_type": "markdown",
     "checksum": "16194c7ed1e6f65fa46abc3be3876082",
     "grade": true,
     "grade_id": "winprob_vs_max_p",
     "locked": false,
     "points": 1,
     "schema_version": 3,
     "solution": true,
     "task": false
    },
    "tags": [
     "remove-output"
    ]
   },
   "source": [
    "YOUR ANSWER HERE"
   ]
  },
  {
   "cell_type": "markdown",
   "metadata": {},
   "source": [
    "**Exercise** Compare the chance of winning with $E[\\max_i \\hat{p}_i]$. Is $\\max_i \\hat{p}_i$ a biased estimate? If so, is it overly optimistic?"
   ]
  },
  {
   "cell_type": "markdown",
   "metadata": {
    "deletable": false,
    "nbgrader": {
     "cell_type": "markdown",
     "checksum": "220bd6f1ef3afd28714d6ac6b247e122",
     "grade": true,
     "grade_id": "winprob_vs_max_phat",
     "locked": false,
     "points": 1,
     "schema_version": 3,
     "solution": true,
     "task": false
    },
    "tags": [
     "remove-output"
    ]
   },
   "source": [
    "YOUR ANSWER HERE"
   ]
  },
  {
   "cell_type": "markdown",
   "metadata": {},
   "source": [
    "**Exercise** Is $\\max_i \\hat{p}_i$ a consistent estimate of the chance of winning?"
   ]
  },
  {
   "cell_type": "markdown",
   "metadata": {
    "deletable": false,
    "nbgrader": {
     "cell_type": "markdown",
     "checksum": "3237f6317457954f58b14d1e2702de5a",
     "grade": true,
     "grade_id": "consistency",
     "locked": false,
     "points": 1,
     "schema_version": 3,
     "solution": true,
     "task": false
    },
    "tags": [
     "remove-output"
    ]
   },
   "source": [
    "YOUR ANSWER HERE"
   ]
  }
 ],
 "metadata": {
  "kernelspec": {
   "display_name": "Python 3 (ipykernel)",
   "language": "python",
   "name": "python3"
  },
  "language_info": {
   "codemirror_mode": {
    "name": "ipython",
    "version": 3
   },
   "file_extension": ".py",
   "mimetype": "text/x-python",
   "name": "python",
   "nbconvert_exporter": "python",
   "pygments_lexer": "ipython3",
   "version": "3.8.12"
  },
  "toc": {
   "base_numbering": 1,
   "nav_menu": {},
   "number_sections": true,
   "sideBar": true,
   "skip_h1_title": true,
   "title_cell": "Table of Contents",
   "title_sidebar": "Contents",
   "toc_cell": false,
   "toc_position": {},
   "toc_section_display": true,
   "toc_window_display": false
  },
  "widgets": {
   "application/vnd.jupyter.widget-state+json": {
    "state": {},
    "version_major": 2,
    "version_minor": 0
   }
  }
 },
 "nbformat": 4,
 "nbformat_minor": 4
}
