{
 "cells": [
  {
   "cell_type": "markdown",
   "metadata": {},
   "source": [
    "# Different Classifiers with scikit-learn"
   ]
  },
  {
   "cell_type": "markdown",
   "metadata": {
    "tags": [
     "remove-cell"
    ]
   },
   "source": [
    "**CS5483 Data Warehousing and Data Mining**\n",
    "___"
   ]
  },
  {
   "cell_type": "code",
   "execution_count": null,
   "metadata": {
    "ExecuteTime": {
     "end_time": "2021-03-20T13:11:41.988722Z",
     "start_time": "2021-03-20T13:11:40.825353Z"
    },
    "init_cell": true,
    "slideshow": {
     "slide_type": "-"
    }
   },
   "outputs": [],
   "source": [
    "import ipywidgets as widgets\n",
    "import matplotlib.pyplot as plt\n",
    "import numpy as np\n",
    "import pandas as pd\n",
    "import seaborn as sns\n",
    "\n",
    "# produce vector inline graphics\n",
    "from IPython.display import Code, display\n",
    "from ipywidgets import interact\n",
    "from sklearn import datasets, neighbors, preprocessing, tree\n",
    "from sklearn.model_selection import StratifiedKFold, cross_val_score\n",
    "from sklearn.pipeline import make_pipeline\n",
    "\n",
    "# from wittgenstein import RIPPER\n",
    "from util import plot_decision_regions\n",
    "\n",
    "%matplotlib inline"
   ]
  },
  {
   "cell_type": "markdown",
   "metadata": {},
   "source": [
    "## Normalization of Attributes"
   ]
  },
  {
   "cell_type": "markdown",
   "metadata": {},
   "source": [
    "For this notebook, we consider the binary classification problem on the [breast cancer dataset](https://archive.ics.uci.edu/ml/datasets/Breast+Cancer+Wisconsin+(Diagnostic)):"
   ]
  },
  {
   "cell_type": "code",
   "execution_count": null,
   "metadata": {
    "ExecuteTime": {
     "end_time": "2021-02-01T12:50:34.175973Z",
     "start_time": "2021-02-01T12:50:34.133315Z"
    },
    "tags": [
     "remove-output"
    ]
   },
   "outputs": [],
   "source": [
    "# load the dataset from sklearn\n",
    "dataset = datasets.load_breast_cancer()\n",
    "\n",
    "# create a DataFrame to help further analysis\n",
    "df = pd.DataFrame(data=dataset.data, columns=dataset.feature_names)\n",
    "df[\"target\"] = dataset.target\n",
    "df.target = df.target.astype(\"category\")\n",
    "df.target.cat.categories = dataset.target_names\n",
    "df  # display an overview of the data"
   ]
  },
  {
   "cell_type": "markdown",
   "metadata": {},
   "source": [
    "The goal is to train a classifier to diagnose whether a breast mass is malignant or benign. The target class distribution is shown as follows:"
   ]
  },
  {
   "cell_type": "code",
   "execution_count": null,
   "metadata": {
    "ExecuteTime": {
     "end_time": "2021-02-01T12:50:34.331940Z",
     "start_time": "2021-02-01T12:50:34.177731Z"
    }
   },
   "outputs": [],
   "source": [
    "plt.figure()\n",
    "display(df.target.value_counts())\n",
    "df.target.value_counts().plot(kind=\"bar\", title=\"counts of different classes\")\n",
    "plt.show()"
   ]
  },
  {
   "cell_type": "markdown",
   "metadata": {},
   "source": [
    "The input features are characteristics of cell images obtained by [fine needle analysis (FNA)](https://en.wikipedia.org/wiki/Fine-needle_aspiration):"
   ]
  },
  {
   "cell_type": "code",
   "execution_count": null,
   "metadata": {
    "ExecuteTime": {
     "end_time": "2021-03-20T13:11:42.000193Z",
     "start_time": "2021-03-20T13:11:41.990577Z"
    },
    "init_cell": true,
    "tags": [
     "hide-input"
    ]
   },
   "outputs": [],
   "source": [
    "%%html\n",
    "<a href=\"https://www.researchgate.net/figure/FNA-biopsy-samples-of-benign-left-and-malignant-center-and-right-breast-tumor-cells_fig1_261959799\"><img src=\"https://www.researchgate.net/profile/Carsten_Eickhoff/publication/261959799/figure/fig1/AS:296624837414914@1447732280878/FNA-biopsy-samples-of-benign-left-and-malignant-center-and-right-breast-tumor-cells.png\" alt=\"FNA biopsy samples of benign (left) and malignant (center and right) breast tumor cells.\"/></a>\n",
    "<p>FNA biopsy samples of benign (left) and malignant (center and right) breast tumor cells.</p>\n",
    "<p>Eickhoff, Carsten. (2014). Crowd-powered experts: helping surgeons interpret breast cancer images. ACM International Conference Proceeding Series. 53-56. 10.1145/2594776.2594788.</p>"
   ]
  },
  {
   "cell_type": "markdown",
   "metadata": {},
   "source": [
    "The following function displays the statistics of the features grouped by the class values:"
   ]
  },
  {
   "cell_type": "code",
   "execution_count": null,
   "metadata": {
    "ExecuteTime": {
     "end_time": "2021-02-01T12:50:35.357961Z",
     "start_time": "2021-02-01T12:50:34.341674Z"
    }
   },
   "outputs": [],
   "source": [
    "def show_feature_statistics(df):\n",
    "    df.groupby(\"target\").boxplot(rot=90, layout=(1, 2), figsize=(12, 5), fontsize=7)\n",
    "\n",
    "\n",
    "show_feature_statistics(df)\n",
    "plt.show()"
   ]
  },
  {
   "cell_type": "markdown",
   "metadata": {},
   "source": [
    "From the above plots, it can be observed that the attributes `mean area` and `worst area` have much larger ranges than other features have."
   ]
  },
  {
   "cell_type": "markdown",
   "metadata": {},
   "source": [
    "**Exercise** Is it true that a feature with the larger range is a better feature? Why?"
   ]
  },
  {
   "cell_type": "markdown",
   "metadata": {
    "deletable": false,
    "nbgrader": {
     "cell_type": "markdown",
     "checksum": "4c4db5e8ba428be653c58f92819cf9c0",
     "grade": true,
     "grade_id": "range",
     "locked": false,
     "points": 1,
     "schema_version": 3,
     "solution": true,
     "task": false
    }
   },
   "source": [
    "YOUR ANSWER HERE"
   ]
  },
  {
   "cell_type": "markdown",
   "metadata": {},
   "source": [
    "### Min-max Normalization"
   ]
  },
  {
   "cell_type": "markdown",
   "metadata": {},
   "source": [
    "We can normalize a numeric feature $Z$ to the unit interval as follows:\n",
    "\n",
    "$$\n",
    "\\begin{align}\n",
    "Z':= \\frac{Z}{b - a}\n",
    "\\end{align}\n",
    "$$ (min-max)\n",
    "\n",
    "where $a$ and $b$ are respectively the minimum and maximum possible values of $Z$.  "
   ]
  },
  {
   "cell_type": "markdown",
   "metadata": {},
   "source": [
    "$a$ and $b$ may be unknown in practice as the distribution of $Z$ is unknown. We perform the normalization on the samples: The min-max normalization of the sequence (in $i$) of $z_i$ is the sequence of\n",
    "\n",
    "$$\n",
    "\\begin{align}\n",
    "z'_i := \\frac{z_i - \\min_j z_j}{\\max_j z_j - \\min_j z_j},\n",
    "\\end{align}\n",
    "$$ (min-max-sample)\n",
    "\n",
    "where $\\min_j z_j$ and $\\max_j z_j$ are respectively the minimum and maximum sample values. It follows that $0\\leq z'_i \\leq 1$ and the equalities hold with equality for some indices $i$."
   ]
  },
  {
   "cell_type": "markdown",
   "metadata": {},
   "source": [
    "An implementation is as follows:"
   ]
  },
  {
   "cell_type": "code",
   "execution_count": null,
   "metadata": {},
   "outputs": [],
   "source": [
    "df.select_dtypes(include=\"number\").min()"
   ]
  },
  {
   "cell_type": "code",
   "execution_count": null,
   "metadata": {},
   "outputs": [],
   "source": [
    "df[[c for c in df.columns if pd.api.types.is_numeric_dtype(df[c])]].min().index"
   ]
  },
  {
   "cell_type": "code",
   "execution_count": null,
   "metadata": {
    "ExecuteTime": {
     "end_time": "2021-02-01T12:50:35.363268Z",
     "start_time": "2021-02-01T12:50:35.359442Z"
    }
   },
   "outputs": [],
   "source": [
    "def minmax_normalize(df, suffix=\" (min-max normalized)\"):\n",
    "    \"\"\"Returns a new DataFrame with numerical attributes of the input DataFrame\n",
    "    min-max normalized.\n",
    "\n",
    "    Parameters\n",
    "    ----------\n",
    "    df: DataFrame\n",
    "        Input to be min-max normalized. May contain both numeric\n",
    "        and categorical attributes.\n",
    "    suffix: string\n",
    "        Suffix to append to the names of normalized attributes.\n",
    "\n",
    "    Returns\n",
    "    -------\n",
    "    DataFrame:\n",
    "        A copy of df with its numeric attributes replaced by their min-max\n",
    "        normalization. The normalized features are renamed with the suffix\n",
    "        appended to the end of their original names.\n",
    "    \"\"\"\n",
    "    df = df.copy()  # avoid overwriting the original dataframe\n",
    "    min_values = df.select_dtypes(include=\"number\").min()  # Skip categorical features\n",
    "    max_values = df[min_values.index].max()\n",
    "\n",
    "    # min-max normalize\n",
    "    df[min_values.index] = (df[min_values.index] - min_values) / (\n",
    "        max_values - min_values\n",
    "    )\n",
    "\n",
    "    # rename normalized features\n",
    "    df.rename(columns={c: c + suffix for c in min_values.index}, inplace=True)\n",
    "\n",
    "    return df"
   ]
  },
  {
   "cell_type": "markdown",
   "metadata": {},
   "source": [
    "It is a good idea to rename the normalized features to differentiate them from the original features. The following plots the statistics of the normalized features."
   ]
  },
  {
   "cell_type": "code",
   "execution_count": null,
   "metadata": {
    "ExecuteTime": {
     "end_time": "2021-02-01T12:50:36.569473Z",
     "start_time": "2021-02-01T12:50:35.364574Z"
    }
   },
   "outputs": [],
   "source": [
    "df_minmax_normalized = minmax_normalize(df)\n",
    "assert df_minmax_normalized.target.to_numpy().base is df.target.to_numpy().base\n",
    "\n",
    "show_feature_statistics(df_minmax_normalized)\n",
    "plt.show()"
   ]
  },
  {
   "cell_type": "markdown",
   "metadata": {},
   "source": [
    "After normalization, we can see how instances of different classes differ in different input features other than `mean area` and `worst area`. In particular, both `mean-concavity` and `worst-concavity` are substantially higher for malignant examples than for benign examples. Such details are hard to see in the plots before normalization."
   ]
  },
  {
   "cell_type": "markdown",
   "metadata": {},
   "source": [
    "### Standard Normalization"
   ]
  },
  {
   "cell_type": "markdown",
   "metadata": {},
   "source": [
    "Min-max normalization is not appropriate for features with unbounded support where $b-a=\\infty$ in {eq}`min-max`. The normalization factor $\\max_j z_j - \\min_j z_j$ in {eq}`min-max-sample` for i.i.d. samples will approach $\\infty$ as the number of samples goes to infinity."
   ]
  },
  {
   "cell_type": "markdown",
   "metadata": {},
   "source": [
    "Let us inspect the distribution of each feature using [`displot`](https://seaborn.pydata.org/generated/seaborn.displot.html) provided by the package [`seaborn`](https://seaborn.pydata.org), which was imported with\n",
    "\n",
    "```python\n",
    "import seaborn as sns\n",
    "```"
   ]
  },
  {
   "cell_type": "code",
   "execution_count": null,
   "metadata": {
    "ExecuteTime": {
     "end_time": "2021-02-01T12:50:36.787536Z",
     "start_time": "2021-02-01T12:50:36.571875Z"
    }
   },
   "outputs": [],
   "source": [
    "@interact(\n",
    "    feature=dataset.feature_names, kernel_density_estimation=True, group_by_class=False\n",
    ")\n",
    "def plot_distribution(feature, kernel_density_estimation, group_by_class):\n",
    "    sns.displot(\n",
    "        data=df,\n",
    "        x=feature,\n",
    "        col=\"target\" if group_by_class else None,\n",
    "        kde=kernel_density_estimation,\n",
    "    )"
   ]
  },
  {
   "cell_type": "markdown",
   "metadata": {},
   "source": [
    "Play with the above widgets to check if the features appear to have unbounded support."
   ]
  },
  {
   "cell_type": "markdown",
   "metadata": {},
   "source": [
    "For a feature $Z$ with unbounded support, one may use the $z$-score/standard normalization instead:\n",
    "\n",
    "$$\n",
    "\\begin{align}\n",
    "Z' := \\frac{Z - E[Z]}{\\sqrt{\\operatorname{Var}(Z)}}.\n",
    "\\end{align}\n",
    "$$ (standard)"
   ]
  },
  {
   "cell_type": "markdown",
   "metadata": {},
   "source": [
    "Since the distribution of $Z$ is unknown, we normalize the sequence of i.i.d. samples $z_i$ using its sample mean $\\mu$ and standard deviation $\\sigma$ to the sequence of\n",
    "\n",
    "$$\n",
    "\\begin{align}\n",
    "z'_i := \\frac{z_i - \\mu}{\\sigma}. \n",
    "\\end{align}\n",
    "$$ (standard-sample)"
   ]
  },
  {
   "cell_type": "markdown",
   "metadata": {},
   "source": [
    "**Exercise** Complete the function `standard_normalize` as follows:\n",
    "\n",
    "- Return a new copy of the input `DataFrame` `df` but with all its numeric attributes standard normalized. \n",
    "- You may use the methods `mean` and `std`.\n",
    "- Rename the normalized features by appending `suffix` to their names. "
   ]
  },
  {
   "cell_type": "code",
   "execution_count": null,
   "metadata": {
    "ExecuteTime": {
     "end_time": "2021-02-01T12:50:38.040118Z",
     "start_time": "2021-02-01T12:50:36.789409Z"
    },
    "deletable": false,
    "nbgrader": {
     "cell_type": "code",
     "checksum": "debd4c1968ba5983d29f3a96859db798",
     "grade": false,
     "grade_id": "normalize-attributes",
     "locked": false,
     "schema_version": 3,
     "solution": true,
     "task": false
    },
    "tags": [
     "remove-output"
    ]
   },
   "outputs": [],
   "source": [
    "def standard_normalize(df, suffix=\" (standard normalized)\"):\n",
    "    \"\"\"Returns a DataFrame with numerical attributes of the input DataFrame\n",
    "    standard normalized.\n",
    "\n",
    "    Parameters\n",
    "    ----------\n",
    "    df: DataFrame\n",
    "        Input to be standard normalized. May contain both numeric\n",
    "        and categorical attributes.\n",
    "    suffix: string\n",
    "        Suffix to append to the names of normalized attributes.\n",
    "\n",
    "    Returns\n",
    "    -------\n",
    "    DataFrame:\n",
    "        A new copy of df that retains the categorical attributes but with the\n",
    "        numeric attributes replaced by their standard normalization.\n",
    "        The normalized features are renamed with the suffix appended to the end\n",
    "        of their original names.\n",
    "    \"\"\"\n",
    "    # YOUR CODE HERE\n",
    "    raise NotImplementedError()\n",
    "\n",
    "\n",
    "df_standard_normalized = standard_normalize(df)\n",
    "show_feature_statistics(df_standard_normalized)"
   ]
  },
  {
   "cell_type": "code",
   "execution_count": null,
   "metadata": {
    "ExecuteTime": {
     "end_time": "2021-02-01T12:50:38.052101Z",
     "start_time": "2021-02-01T12:50:38.041836Z"
    },
    "deletable": false,
    "editable": false,
    "nbgrader": {
     "cell_type": "code",
     "checksum": "04b496bd07b3c05177f5daf0ed39b658",
     "grade": true,
     "grade_id": "test-standard-normalization",
     "locked": true,
     "points": 1,
     "schema_version": 3,
     "solution": false,
     "task": false
    },
    "tags": [
     "hide-input",
     "remove-output"
    ]
   },
   "outputs": [],
   "source": [
    "# tests\n",
    "assert np.isclose(\n",
    "    df_standard_normalized.select_dtypes(include=\"number\").mean(), 0\n",
    ").all()\n",
    "assert np.isclose(df_standard_normalized.select_dtypes(include=\"number\").std(), 1).all()"
   ]
  },
  {
   "cell_type": "code",
   "execution_count": null,
   "metadata": {
    "deletable": false,
    "editable": false,
    "nbgrader": {
     "cell_type": "code",
     "checksum": "daff4ae9be4ab1b656bb9d186062b798",
     "grade": true,
     "grade_id": "htest-standard-normalization",
     "locked": true,
     "points": 1,
     "schema_version": 3,
     "solution": false,
     "task": false
    },
    "tags": [
     "remove-cell"
    ]
   },
   "outputs": [],
   "source": [
    "# hidden tests"
   ]
  },
  {
   "cell_type": "markdown",
   "metadata": {},
   "source": [
    "## Nearest Neighbor Classification"
   ]
  },
  {
   "cell_type": "markdown",
   "metadata": {},
   "source": [
    "To create a $k$-nearest-neighbor ($k$-NN) classifier, we can use `sklearn.neighbors.KNeighborsClassifier`. The following fits a $1$-NN classifier to the entire dataset and returns its training accuracy."
   ]
  },
  {
   "cell_type": "code",
   "execution_count": null,
   "metadata": {
    "ExecuteTime": {
     "end_time": "2021-02-01T12:50:38.084674Z",
     "start_time": "2021-02-01T12:50:38.053818Z"
    }
   },
   "outputs": [],
   "source": [
    "X, Y = df[dataset.feature_names], df.target\n",
    "kNN1 = neighbors.KNeighborsClassifier(n_neighbors=1)\n",
    "kNN1.fit(X, Y)\n",
    "\n",
    "print(\"Training accuracy: {:0.3g}\".format(kNN1.score(X, Y)))"
   ]
  },
  {
   "cell_type": "markdown",
   "metadata": {},
   "source": [
    "**Exercise** Why is the training accuracy for $1$-NN $100\\%$? Explain according to how 1-NN works."
   ]
  },
  {
   "cell_type": "markdown",
   "metadata": {
    "deletable": false,
    "nbgrader": {
     "cell_type": "markdown",
     "checksum": "f4af86ffab706c5d80300de98c370c2f",
     "grade": true,
     "grade_id": "1-NN",
     "locked": false,
     "points": 1,
     "schema_version": 3,
     "solution": true,
     "task": false
    }
   },
   "source": [
    "YOUR ANSWER HERE"
   ]
  },
  {
   "cell_type": "markdown",
   "metadata": {},
   "source": [
    "To avoid overly-optimistic performance estimates, the following uses 10-fold cross validations to compute the accuracies of 1-NN trained on datasets with and without normalization."
   ]
  },
  {
   "cell_type": "code",
   "execution_count": null,
   "metadata": {
    "ExecuteTime": {
     "end_time": "2021-02-01T12:50:38.322588Z",
     "start_time": "2021-02-01T12:50:38.086329Z"
    },
    "tags": []
   },
   "outputs": [],
   "source": [
    "cv = StratifiedKFold(n_splits=10, random_state=0, shuffle=True)\n",
    "\n",
    "dfs = {\"None\": df, \"Min-max\": df_minmax_normalized}\n",
    "\n",
    "acc = pd.DataFrame(columns=dfs.keys())\n",
    "for norm in dfs:\n",
    "    acc[norm] = cross_val_score(\n",
    "        kNN1,\n",
    "        dfs[norm].loc[:, lambda df: ~df.columns.isin([\"target\"])],\n",
    "        # not [dataset.feature_names] since normalized features are renamed\n",
    "        dfs[norm][\"target\"],\n",
    "        cv=cv,\n",
    "    )\n",
    "\n",
    "acc.agg([\"mean\", \"std\"]).round(3)"
   ]
  },
  {
   "cell_type": "markdown",
   "metadata": {},
   "source": [
    "The accuracies appear to show that normalization improves the performance of 1-NN. More precisely, the improvement of $\\sim 5\\%$ in the accuracy appear statistically insignificance because it is at least twice the standard deviations of $\\sim 2\\%$."
   ]
  },
  {
   "cell_type": "markdown",
   "metadata": {},
   "source": [
    "---\n",
    "\n",
    "**Important**\n",
    "\n",
    "\n",
    "The proper way to compare performance should take statistical significance into account such as the [paired t-test](https://towardsdatascience.com/inferential-statistics-series-t-test-using-numpy-2718f8f9bf2f). There is not much we can do to improve the statistical significance other than collecting more data. Repeating the cross-validation with different random seeds do not help as that only smooth out the randomness in splitting, not sampling. \n",
    "\n",
    "---"
   ]
  },
  {
   "cell_type": "markdown",
   "metadata": {},
   "source": [
    "### Data Leak"
   ]
  },
  {
   "cell_type": "markdown",
   "metadata": {},
   "source": [
    "The accuracies computed for the normalizations above suffer from a subtle issue that render them overly optimistic:"
   ]
  },
  {
   "cell_type": "markdown",
   "metadata": {},
   "source": [
    "---\n",
    "\n",
    "**Important**\n",
    "\n",
    "Since the normalization factors for cross validation were calculated from the entire dataset, the test data for each cross-validation fold may not be independent of the remaining normalized data for training the classifier. This subtle data leak may cause the performance estimate to be overly-optimistic.\n",
    "\n",
    "---"
   ]
  },
  {
   "cell_type": "markdown",
   "metadata": {},
   "source": [
    "This issue can be resolved by computing the normalization factors from the training set instead of the entire dataset. To do so, we will create a pipeline using:\n",
    "\n",
    "```python\n",
    "from sklearn import preprocessing\n",
    "from sklearn.pipeline import make_pipeline\n",
    "```\n",
    "\n",
    "- Like the filtered classifier in Weka, `sklearn.pipeline` provides the function `make_pipeline` to combine a filter with a classifier.\n",
    "- `sklearn.preprocessing` provides different filters for preprocessing features, , e.g., `StandardScaler` and `MinMaxScaler` for \n",
    "\n",
    "Creating a pipeline is useful especially for cross validation, where the normalization factors need to be recomputed for each fold."
   ]
  },
  {
   "cell_type": "code",
   "execution_count": null,
   "metadata": {
    "ExecuteTime": {
     "end_time": "2021-02-01T12:50:38.425410Z",
     "start_time": "2021-02-01T12:50:38.323742Z"
    }
   },
   "outputs": [],
   "source": [
    "kNN1_standard_normalized = make_pipeline(preprocessing.StandardScaler(), kNN1)\n",
    "acc[\"Standard\"] = cross_val_score(kNN1_standard_normalized, X, Y, cv=cv)\n",
    "acc[\"Standard\"].agg([\"mean\", \"std\"]).round(3)"
   ]
  },
  {
   "cell_type": "markdown",
   "metadata": {},
   "source": [
    "**Exercise** Similar to the above cell, correct the accuracies in `acc['Min-max']` to use `preprocessing.MinMaxScaler` as part of a pipeline for the 1-NN classifier."
   ]
  },
  {
   "cell_type": "code",
   "execution_count": null,
   "metadata": {
    "ExecuteTime": {
     "end_time": "2021-02-01T12:50:38.545560Z",
     "start_time": "2021-02-01T12:50:38.426545Z"
    },
    "deletable": false,
    "nbgrader": {
     "cell_type": "code",
     "checksum": "fe80c2cb5103bbe406d48e1c74c624df",
     "grade": false,
     "grade_id": "min-max",
     "locked": false,
     "schema_version": 3,
     "solution": true,
     "task": false
    },
    "tags": [
     "remove-output"
    ]
   },
   "outputs": [],
   "source": [
    "# YOUR CODE HERE\n",
    "raise NotImplementedError()\n",
    "acc[\"Min-max\"].agg([\"mean\", \"std\"]).round(5)"
   ]
  },
  {
   "cell_type": "code",
   "execution_count": null,
   "metadata": {
    "ExecuteTime": {
     "end_time": "2021-02-01T12:50:38.550933Z",
     "start_time": "2021-02-01T12:50:38.547115Z"
    },
    "deletable": false,
    "editable": false,
    "nbgrader": {
     "cell_type": "code",
     "checksum": "02df299a4ac68648a291b58a2764dd51",
     "grade": true,
     "grade_id": "test-min-max",
     "locked": true,
     "points": 1,
     "schema_version": 3,
     "solution": false,
     "task": false
    },
    "tags": [
     "remove-cell"
    ]
   },
   "outputs": [],
   "source": [
    "# hidden tests"
   ]
  },
  {
   "cell_type": "markdown",
   "metadata": {},
   "source": [
    "### Decision Regions"
   ]
  },
  {
   "cell_type": "markdown",
   "metadata": {},
   "source": [
    "Since `sklearn` does not provide any function to plot the decision regions of a classifier, we provide the function `plot_decision_regions` in a module `util` defined in `util.py` of the current directory:\n",
    "\n",
    "```python\n",
    "from util import plot_decision_regions\n",
    "```"
   ]
  },
  {
   "cell_type": "code",
   "execution_count": null,
   "metadata": {
    "ExecuteTime": {
     "end_time": "2021-02-01T12:50:38.617405Z",
     "start_time": "2021-02-01T12:50:38.552492Z"
    },
    "tags": [
     "output_scroll"
    ]
   },
   "outputs": [],
   "source": [
    "plot_decision_regions?"
   ]
  },
  {
   "cell_type": "code",
   "execution_count": null,
   "metadata": {
    "ExecuteTime": {
     "end_time": "2021-03-20T13:11:42.307835Z",
     "start_time": "2021-03-20T13:11:42.002157Z"
    },
    "init_cell": true,
    "tags": [
     "output_scroll"
    ]
   },
   "outputs": [],
   "source": [
    "Code(filename=\"util.py\")"
   ]
  },
  {
   "cell_type": "markdown",
   "metadata": {},
   "source": [
    "The following plots the decision region for a selected pair of input features."
   ]
  },
  {
   "cell_type": "code",
   "execution_count": null,
   "metadata": {
    "ExecuteTime": {
     "end_time": "2021-02-01T12:50:39.222608Z",
     "start_time": "2021-02-01T12:50:38.619309Z"
    },
    "tags": [
     "remove-output"
    ]
   },
   "outputs": [],
   "source": [
    "if input(\"Execute? [y/N]\").lower() == \"y\":\n",
    "\n",
    "    @interact(\n",
    "        normalization=[\"None\", \"Min-max\", \"Standard\"],\n",
    "        feature1=dataset.feature_names,\n",
    "        feature2=dataset.feature_names,\n",
    "        k=widgets.IntSlider(1, 1, 5, continuous_update=False),\n",
    "        resolution=widgets.IntSlider(1, 1, 4, continuous_update=False),\n",
    "    )\n",
    "    def decision_regions_kNN(\n",
    "        normalization,\n",
    "        feature1=dataset.feature_names[0],\n",
    "        feature2=dataset.feature_names[1],\n",
    "        k=1,\n",
    "        resolution=1,\n",
    "    ):\n",
    "        scaler = {\n",
    "            \"Min-max\": preprocessing.MinMaxScaler,\n",
    "            \"Standard\": preprocessing.StandardScaler,\n",
    "        }\n",
    "        kNN = neighbors.KNeighborsClassifier(n_neighbors=k)\n",
    "        if normalization != \"None\":\n",
    "            kNN = make_pipeline(scaler[normalization](), kNN)\n",
    "        kNN.fit(df[[feature1, feature2]].to_numpy(), df.target.to_numpy())\n",
    "        plt.figure(figsize=(10, 10))\n",
    "        ax = plot_decision_regions(\n",
    "            df[[feature1, feature2]], df.target, kNN, N=resolution * 100\n",
    "        )\n",
    "        ax.set_title(\"Decision region for {}-NN\".format(k))\n",
    "        ax.set_xlabel(feature1)\n",
    "        ax.set_ylabel(feature2)"
   ]
  },
  {
   "cell_type": "markdown",
   "metadata": {},
   "source": [
    "Interact with the widgets to: \n",
    "\n",
    "- Learn the effect on the decision regions/boundaries with different normalizations and choices of $k$.\n",
    "- Learn to draw the decision boundaries for $1$-NN with min-max normalization."
   ]
  },
  {
   "cell_type": "markdown",
   "metadata": {},
   "source": [
    "To avoid repeated computations, `plot_decision_regions` is a decorated function with its return values memorized/cached. (For details, see a [notebook](https://www.cs.cityu.edu.hk/~ccha23/cs1302book/Lecture6/Decorator.html) and a [tutorial](https://realpython.com/primer-on-python-decorators/) on decorator.) \n",
    "\n",
    "To clear the cached plots, run:"
   ]
  },
  {
   "cell_type": "code",
   "execution_count": null,
   "metadata": {
    "ExecuteTime": {
     "end_time": "2021-02-01T12:50:39.233480Z",
     "start_time": "2021-02-01T12:50:39.223816Z"
    }
   },
   "outputs": [],
   "source": [
    "plot_decision_regions.clear()"
   ]
  },
  {
   "cell_type": "markdown",
   "metadata": {},
   "source": [
    "**Exercise** Complete the following code to plot the decision regions for decision trees. Afterwards, explain whether the decision regions change for different normalizations."
   ]
  },
  {
   "cell_type": "code",
   "execution_count": null,
   "metadata": {
    "ExecuteTime": {
     "end_time": "2021-02-01T12:50:39.570095Z",
     "start_time": "2021-02-01T12:50:39.234721Z"
    },
    "deletable": false,
    "nbgrader": {
     "cell_type": "code",
     "checksum": "3b055a505d1ab5c763e150a438d5e2b2",
     "grade": false,
     "grade_id": "DT-region",
     "locked": false,
     "schema_version": 3,
     "solution": true,
     "task": false
    },
    "tags": [
     "remove-output"
    ]
   },
   "outputs": [],
   "source": [
    "if input(\"Execute? [y/N]\").lower() == \"y\":\n",
    "\n",
    "    @interact(\n",
    "        normalization=[\"None\", \"Min-max\", \"Standard\"],\n",
    "        feature1=dataset.feature_names,\n",
    "        feature2=dataset.feature_names,\n",
    "        resolution=widgets.IntSlider(1, 1, 4, continuous_update=False),\n",
    "    )\n",
    "    def decision_regions_kNN(\n",
    "        normalization,\n",
    "        feature1=dataset.feature_names[0],\n",
    "        feature2=dataset.feature_names[1],\n",
    "        resolution=1,\n",
    "    ):\n",
    "        scaler = {\n",
    "            \"Min-max\": preprocessing.MinMaxScaler,\n",
    "            \"Standard\": preprocessing.StandardScaler,\n",
    "        }\n",
    "        # YOUR CODE HERE\n",
    "        raise NotImplementedError()\n",
    "        plt.figure(figsize=(10, 10))\n",
    "        ax = plot_decision_regions(\n",
    "            df[[feature1, feature2]], df.target, DT, N=resolution * 100\n",
    "        )\n",
    "        ax.set_title(\"Decision region for Decision Tree\")\n",
    "        ax.set_xlabel(feature1)\n",
    "        ax.set_ylabel(feature2)"
   ]
  },
  {
   "cell_type": "markdown",
   "metadata": {
    "deletable": false,
    "nbgrader": {
     "cell_type": "markdown",
     "checksum": "f006f32a0176204e7bba0f6eb5a48ff3",
     "grade": true,
     "grade_id": "DT-decision-regions",
     "locked": false,
     "points": 1,
     "schema_version": 3,
     "solution": true,
     "task": false
    }
   },
   "source": [
    "YOUR ANSWER HERE"
   ]
  }
 ],
 "metadata": {
  "kernelspec": {
   "display_name": "Python 3 (ipykernel)",
   "language": "python",
   "name": "python3"
  },
  "language_info": {
   "codemirror_mode": {
    "name": "ipython",
    "version": 3
   },
   "file_extension": ".py",
   "mimetype": "text/x-python",
   "name": "python",
   "nbconvert_exporter": "python",
   "pygments_lexer": "ipython3",
   "version": "3.8.12"
  },
  "rise": {
   "enable_chalkboard": true,
   "scroll": true,
   "theme": "beige"
  },
  "toc": {
   "base_numbering": 1,
   "nav_menu": {},
   "number_sections": true,
   "sideBar": true,
   "skip_h1_title": true,
   "title_cell": "Table of Contents",
   "title_sidebar": "Contents",
   "toc_cell": false,
   "toc_position": {},
   "toc_section_display": true,
   "toc_window_display": false
  },
  "widgets": {
   "application/vnd.jupyter.widget-state+json": {
    "state": {
     "043bf6a36382478fb876e92c7b8a3e0d": {
      "model_module": "@jupyter-widgets/base",
      "model_module_version": "1.2.0",
      "model_name": "LayoutModel",
      "state": {}
     },
     "048ea752704e4f5091c65e6df7383a5d": {
      "model_module": "@jupyter-widgets/base",
      "model_module_version": "1.2.0",
      "model_name": "LayoutModel",
      "state": {}
     },
     "0a6552e0834a4acc893d08790c9ed2f1": {
      "model_module": "@jupyter-widgets/controls",
      "model_module_version": "1.5.0",
      "model_name": "IntSliderModel",
      "state": {
       "continuous_update": false,
       "description": "resolution",
       "layout": "IPY_MODEL_ac297f5e9df5408bbc7584834a1e6ce6",
       "max": 4,
       "min": 1,
       "style": "IPY_MODEL_2ea13a4bae1d4477ac98b86958d31f8a",
       "value": 1
      }
     },
     "0ea0b5af278b4d7a8706d37bc0f7f9f1": {
      "model_module": "@jupyter-widgets/base",
      "model_module_version": "1.2.0",
      "model_name": "LayoutModel",
      "state": {}
     },
     "0f0da967aafc4e27b426d613ee4cc45c": {
      "model_module": "@jupyter-widgets/controls",
      "model_module_version": "1.5.0",
      "model_name": "DescriptionStyleModel",
      "state": {
       "description_width": ""
      }
     },
     "14500ffb073b4b1e814213da8855047e": {
      "model_module": "@jupyter-widgets/base",
      "model_module_version": "1.2.0",
      "model_name": "LayoutModel",
      "state": {}
     },
     "168dcecb94b34441a3b2e967521e2a0b": {
      "model_module": "@jupyter-widgets/controls",
      "model_module_version": "1.5.0",
      "model_name": "DescriptionStyleModel",
      "state": {
       "description_width": ""
      }
     },
     "17c20fb517a6469ea483255043c9c19e": {
      "model_module": "@jupyter-widgets/base",
      "model_module_version": "1.2.0",
      "model_name": "LayoutModel",
      "state": {}
     },
     "1ac1ee1aae784e40b5a313113a5848fd": {
      "model_module": "@jupyter-widgets/controls",
      "model_module_version": "1.5.0",
      "model_name": "VBoxModel",
      "state": {
       "_dom_classes": [
        "widget-interact"
       ],
       "children": [
        "IPY_MODEL_1ac7e4061a0a4f4ca18bc69659bd8bb1",
        "IPY_MODEL_e00bc35fc2a44a3bb17cf1804e5d5e4e",
        "IPY_MODEL_2c29477483b34d1892384f69d8b6c536",
        "IPY_MODEL_0a6552e0834a4acc893d08790c9ed2f1",
        "IPY_MODEL_2745b06f79984bba87f3f3a57e2acfb4"
       ],
       "layout": "IPY_MODEL_7a18b87a4c5649ea93f133e4f198f877"
      }
     },
     "1ac7e4061a0a4f4ca18bc69659bd8bb1": {
      "model_module": "@jupyter-widgets/controls",
      "model_module_version": "1.5.0",
      "model_name": "DropdownModel",
      "state": {
       "_options_labels": [
        "None",
        "Min-max",
        "Standard"
       ],
       "description": "normalization",
       "index": 0,
       "layout": "IPY_MODEL_3c50c8a57270462e96b44336977f6c34",
       "style": "IPY_MODEL_d5b64e344c3f4487b85bbaf5d8a5bcfa"
      }
     },
     "1e7f50e1838645bf9d96f83e7ff46dc4": {
      "model_module": "@jupyter-widgets/controls",
      "model_module_version": "1.5.0",
      "model_name": "VBoxModel",
      "state": {
       "_dom_classes": [
        "widget-interact"
       ],
       "children": [
        "IPY_MODEL_da9bbb408c2d4f219bd4eac3bbddd04b",
        "IPY_MODEL_3b2d7d4c914b4c69b4adbb729df70201",
        "IPY_MODEL_f5b9e34273914fbeb7d9295f52137b2f",
        "IPY_MODEL_746fe75622ea4eaabb85ebb7dfff9e23",
        "IPY_MODEL_e097a224046c404c8cc1e30cfaa156ae",
        "IPY_MODEL_ea61b0c20a3245ae946ead38ecab10de"
       ],
       "layout": "IPY_MODEL_4f9e3b7d7ca44c6a97c5c2579d738822"
      }
     },
     "22091d5987ac4e8b971704df19220823": {
      "model_module": "@jupyter-widgets/controls",
      "model_module_version": "1.5.0",
      "model_name": "CheckboxModel",
      "state": {
       "description": "group_by_class",
       "disabled": false,
       "layout": "IPY_MODEL_17c20fb517a6469ea483255043c9c19e",
       "style": "IPY_MODEL_9bc154b0f0c44cf3ac011cceab326fca",
       "value": false
      }
     },
     "2653ddeb58fc4c82bac70f2ae0273b32": {
      "model_module": "@jupyter-widgets/base",
      "model_module_version": "1.2.0",
      "model_name": "LayoutModel",
      "state": {}
     },
     "2745b06f79984bba87f3f3a57e2acfb4": {
      "model_module": "@jupyter-widgets/output",
      "model_module_version": "1.0.0",
      "model_name": "OutputModel",
      "state": {
       "layout": "IPY_MODEL_14500ffb073b4b1e814213da8855047e",
       "outputs": [
        {
         "data": {
          "image/png": "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\n",
          "text/plain": "<Figure size 720x720 with 1 Axes>"
         },
         "metadata": {
          "needs_background": "light"
         },
         "output_type": "display_data"
        }
       ]
      }
     },
     "2c29477483b34d1892384f69d8b6c536": {
      "model_module": "@jupyter-widgets/controls",
      "model_module_version": "1.5.0",
      "model_name": "DropdownModel",
      "state": {
       "_options_labels": [
        "mean radius",
        "mean texture",
        "mean perimeter",
        "mean area",
        "mean smoothness",
        "mean compactness",
        "mean concavity",
        "mean concave points",
        "mean symmetry",
        "mean fractal dimension",
        "radius error",
        "texture error",
        "perimeter error",
        "area error",
        "smoothness error",
        "compactness error",
        "concavity error",
        "concave points error",
        "symmetry error",
        "fractal dimension error",
        "worst radius",
        "worst texture",
        "worst perimeter",
        "worst area",
        "worst smoothness",
        "worst compactness",
        "worst concavity",
        "worst concave points",
        "worst symmetry",
        "worst fractal dimension"
       ],
       "description": "feature2",
       "index": 1,
       "layout": "IPY_MODEL_eb0cd11942664f17b3862e7c1a925df8",
       "style": "IPY_MODEL_168dcecb94b34441a3b2e967521e2a0b"
      }
     },
     "2ea13a4bae1d4477ac98b86958d31f8a": {
      "model_module": "@jupyter-widgets/controls",
      "model_module_version": "1.5.0",
      "model_name": "SliderStyleModel",
      "state": {
       "description_width": ""
      }
     },
     "3b1b9b4f3d3b4d50bd4bfb31a7731828": {
      "model_module": "@jupyter-widgets/controls",
      "model_module_version": "1.5.0",
      "model_name": "DescriptionStyleModel",
      "state": {
       "description_width": ""
      }
     },
     "3b2d7d4c914b4c69b4adbb729df70201": {
      "model_module": "@jupyter-widgets/controls",
      "model_module_version": "1.5.0",
      "model_name": "DropdownModel",
      "state": {
       "_options_labels": [
        "mean radius",
        "mean texture",
        "mean perimeter",
        "mean area",
        "mean smoothness",
        "mean compactness",
        "mean concavity",
        "mean concave points",
        "mean symmetry",
        "mean fractal dimension",
        "radius error",
        "texture error",
        "perimeter error",
        "area error",
        "smoothness error",
        "compactness error",
        "concavity error",
        "concave points error",
        "symmetry error",
        "fractal dimension error",
        "worst radius",
        "worst texture",
        "worst perimeter",
        "worst area",
        "worst smoothness",
        "worst compactness",
        "worst concavity",
        "worst concave points",
        "worst symmetry",
        "worst fractal dimension"
       ],
       "description": "feature1",
       "index": 0,
       "layout": "IPY_MODEL_6bdb2789d9bd48ee95c88f57a3b5a5a0",
       "style": "IPY_MODEL_941274d9b0a74d92a82ad4efed54ec63"
      }
     },
     "3c50c8a57270462e96b44336977f6c34": {
      "model_module": "@jupyter-widgets/base",
      "model_module_version": "1.2.0",
      "model_name": "LayoutModel",
      "state": {}
     },
     "4e63167670004076949467c07b51fc40": {
      "model_module": "@jupyter-widgets/base",
      "model_module_version": "1.2.0",
      "model_name": "LayoutModel",
      "state": {}
     },
     "4f9e3b7d7ca44c6a97c5c2579d738822": {
      "model_module": "@jupyter-widgets/base",
      "model_module_version": "1.2.0",
      "model_name": "LayoutModel",
      "state": {}
     },
     "56dd61fc6f2c4c35b09e526475fb175b": {
      "model_module": "@jupyter-widgets/controls",
      "model_module_version": "1.5.0",
      "model_name": "VBoxModel",
      "state": {
       "_dom_classes": [
        "widget-interact"
       ],
       "children": [
        "IPY_MODEL_f23f9d171f73463d9b5698c7d0e30ae5",
        "IPY_MODEL_ba7480e9ba6146ae8d17a13c8c0a2e53",
        "IPY_MODEL_22091d5987ac4e8b971704df19220823",
        "IPY_MODEL_ea2f191fbd6a4806af8e04a21662b099"
       ],
       "layout": "IPY_MODEL_f73c076a272f45609ccc1f71a98aeeea"
      }
     },
     "68b2fb6d66e14149b64b0cf7168a4cef": {
      "model_module": "@jupyter-widgets/base",
      "model_module_version": "1.2.0",
      "model_name": "LayoutModel",
      "state": {}
     },
     "6bdb2789d9bd48ee95c88f57a3b5a5a0": {
      "model_module": "@jupyter-widgets/base",
      "model_module_version": "1.2.0",
      "model_name": "LayoutModel",
      "state": {}
     },
     "707eea9e70204253bfd225889ecad65d": {
      "model_module": "@jupyter-widgets/controls",
      "model_module_version": "1.5.0",
      "model_name": "SliderStyleModel",
      "state": {
       "description_width": ""
      }
     },
     "746fe75622ea4eaabb85ebb7dfff9e23": {
      "model_module": "@jupyter-widgets/controls",
      "model_module_version": "1.5.0",
      "model_name": "IntSliderModel",
      "state": {
       "continuous_update": false,
       "description": "k",
       "layout": "IPY_MODEL_e6d1e533d7b440c69bdce7dfa77c9b59",
       "max": 5,
       "min": 1,
       "style": "IPY_MODEL_99a468218499466d80ac56196b719011",
       "value": 1
      }
     },
     "78cd619121a5486fa7924e5e0a1fecf4": {
      "model_module": "@jupyter-widgets/base",
      "model_module_version": "1.2.0",
      "model_name": "LayoutModel",
      "state": {}
     },
     "7a18b87a4c5649ea93f133e4f198f877": {
      "model_module": "@jupyter-widgets/base",
      "model_module_version": "1.2.0",
      "model_name": "LayoutModel",
      "state": {}
     },
     "8624e076d0ab4f02a326e56a6063e654": {
      "model_module": "@jupyter-widgets/base",
      "model_module_version": "1.2.0",
      "model_name": "LayoutModel",
      "state": {}
     },
     "91a11859db124056a782c18b900d353c": {
      "model_module": "@jupyter-widgets/controls",
      "model_module_version": "1.5.0",
      "model_name": "DescriptionStyleModel",
      "state": {
       "description_width": ""
      }
     },
     "941274d9b0a74d92a82ad4efed54ec63": {
      "model_module": "@jupyter-widgets/controls",
      "model_module_version": "1.5.0",
      "model_name": "DescriptionStyleModel",
      "state": {
       "description_width": ""
      }
     },
     "99a468218499466d80ac56196b719011": {
      "model_module": "@jupyter-widgets/controls",
      "model_module_version": "1.5.0",
      "model_name": "SliderStyleModel",
      "state": {
       "description_width": ""
      }
     },
     "9bc154b0f0c44cf3ac011cceab326fca": {
      "model_module": "@jupyter-widgets/controls",
      "model_module_version": "1.5.0",
      "model_name": "DescriptionStyleModel",
      "state": {
       "description_width": ""
      }
     },
     "ac297f5e9df5408bbc7584834a1e6ce6": {
      "model_module": "@jupyter-widgets/base",
      "model_module_version": "1.2.0",
      "model_name": "LayoutModel",
      "state": {}
     },
     "b0cae54a9dbe4b67ad82f88435e97270": {
      "model_module": "@jupyter-widgets/controls",
      "model_module_version": "1.5.0",
      "model_name": "DescriptionStyleModel",
      "state": {
       "description_width": ""
      }
     },
     "ba7480e9ba6146ae8d17a13c8c0a2e53": {
      "model_module": "@jupyter-widgets/controls",
      "model_module_version": "1.5.0",
      "model_name": "CheckboxModel",
      "state": {
       "description": "kernel_density_estimation",
       "disabled": false,
       "layout": "IPY_MODEL_68b2fb6d66e14149b64b0cf7168a4cef",
       "style": "IPY_MODEL_ce80e5f5ab614ac8a161456f7b0561e2",
       "value": true
      }
     },
     "ce80e5f5ab614ac8a161456f7b0561e2": {
      "model_module": "@jupyter-widgets/controls",
      "model_module_version": "1.5.0",
      "model_name": "DescriptionStyleModel",
      "state": {
       "description_width": ""
      }
     },
     "d5b64e344c3f4487b85bbaf5d8a5bcfa": {
      "model_module": "@jupyter-widgets/controls",
      "model_module_version": "1.5.0",
      "model_name": "DescriptionStyleModel",
      "state": {
       "description_width": ""
      }
     },
     "da9bbb408c2d4f219bd4eac3bbddd04b": {
      "model_module": "@jupyter-widgets/controls",
      "model_module_version": "1.5.0",
      "model_name": "DropdownModel",
      "state": {
       "_options_labels": [
        "None",
        "Min-max",
        "Standard"
       ],
       "description": "normalization",
       "index": 0,
       "layout": "IPY_MODEL_048ea752704e4f5091c65e6df7383a5d",
       "style": "IPY_MODEL_3b1b9b4f3d3b4d50bd4bfb31a7731828"
      }
     },
     "e00bc35fc2a44a3bb17cf1804e5d5e4e": {
      "model_module": "@jupyter-widgets/controls",
      "model_module_version": "1.5.0",
      "model_name": "DropdownModel",
      "state": {
       "_options_labels": [
        "mean radius",
        "mean texture",
        "mean perimeter",
        "mean area",
        "mean smoothness",
        "mean compactness",
        "mean concavity",
        "mean concave points",
        "mean symmetry",
        "mean fractal dimension",
        "radius error",
        "texture error",
        "perimeter error",
        "area error",
        "smoothness error",
        "compactness error",
        "concavity error",
        "concave points error",
        "symmetry error",
        "fractal dimension error",
        "worst radius",
        "worst texture",
        "worst perimeter",
        "worst area",
        "worst smoothness",
        "worst compactness",
        "worst concavity",
        "worst concave points",
        "worst symmetry",
        "worst fractal dimension"
       ],
       "description": "feature1",
       "index": 0,
       "layout": "IPY_MODEL_4e63167670004076949467c07b51fc40",
       "style": "IPY_MODEL_0f0da967aafc4e27b426d613ee4cc45c"
      }
     },
     "e097a224046c404c8cc1e30cfaa156ae": {
      "model_module": "@jupyter-widgets/controls",
      "model_module_version": "1.5.0",
      "model_name": "IntSliderModel",
      "state": {
       "continuous_update": false,
       "description": "resolution",
       "layout": "IPY_MODEL_78cd619121a5486fa7924e5e0a1fecf4",
       "max": 4,
       "min": 1,
       "style": "IPY_MODEL_707eea9e70204253bfd225889ecad65d",
       "value": 1
      }
     },
     "e6d1e533d7b440c69bdce7dfa77c9b59": {
      "model_module": "@jupyter-widgets/base",
      "model_module_version": "1.2.0",
      "model_name": "LayoutModel",
      "state": {}
     },
     "ea2f191fbd6a4806af8e04a21662b099": {
      "model_module": "@jupyter-widgets/output",
      "model_module_version": "1.0.0",
      "model_name": "OutputModel",
      "state": {
       "layout": "IPY_MODEL_0ea0b5af278b4d7a8706d37bc0f7f9f1",
       "outputs": [
        {
         "data": {
          "image/png": "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\n",
          "text/plain": "<Figure size 360x360 with 1 Axes>"
         },
         "metadata": {
          "needs_background": "light"
         },
         "output_type": "display_data"
        }
       ]
      }
     },
     "ea61b0c20a3245ae946ead38ecab10de": {
      "model_module": "@jupyter-widgets/output",
      "model_module_version": "1.0.0",
      "model_name": "OutputModel",
      "state": {
       "layout": "IPY_MODEL_8624e076d0ab4f02a326e56a6063e654",
       "outputs": [
        {
         "data": {
          "image/png": "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\n",
          "text/plain": "<Figure size 720x720 with 1 Axes>"
         },
         "metadata": {
          "needs_background": "light"
         },
         "output_type": "display_data"
        }
       ]
      }
     },
     "eb0cd11942664f17b3862e7c1a925df8": {
      "model_module": "@jupyter-widgets/base",
      "model_module_version": "1.2.0",
      "model_name": "LayoutModel",
      "state": {}
     },
     "f23f9d171f73463d9b5698c7d0e30ae5": {
      "model_module": "@jupyter-widgets/controls",
      "model_module_version": "1.5.0",
      "model_name": "DropdownModel",
      "state": {
       "_options_labels": [
        "mean radius",
        "mean texture",
        "mean perimeter",
        "mean area",
        "mean smoothness",
        "mean compactness",
        "mean concavity",
        "mean concave points",
        "mean symmetry",
        "mean fractal dimension",
        "radius error",
        "texture error",
        "perimeter error",
        "area error",
        "smoothness error",
        "compactness error",
        "concavity error",
        "concave points error",
        "symmetry error",
        "fractal dimension error",
        "worst radius",
        "worst texture",
        "worst perimeter",
        "worst area",
        "worst smoothness",
        "worst compactness",
        "worst concavity",
        "worst concave points",
        "worst symmetry",
        "worst fractal dimension"
       ],
       "description": "feature",
       "index": 0,
       "layout": "IPY_MODEL_2653ddeb58fc4c82bac70f2ae0273b32",
       "style": "IPY_MODEL_91a11859db124056a782c18b900d353c"
      }
     },
     "f5b9e34273914fbeb7d9295f52137b2f": {
      "model_module": "@jupyter-widgets/controls",
      "model_module_version": "1.5.0",
      "model_name": "DropdownModel",
      "state": {
       "_options_labels": [
        "mean radius",
        "mean texture",
        "mean perimeter",
        "mean area",
        "mean smoothness",
        "mean compactness",
        "mean concavity",
        "mean concave points",
        "mean symmetry",
        "mean fractal dimension",
        "radius error",
        "texture error",
        "perimeter error",
        "area error",
        "smoothness error",
        "compactness error",
        "concavity error",
        "concave points error",
        "symmetry error",
        "fractal dimension error",
        "worst radius",
        "worst texture",
        "worst perimeter",
        "worst area",
        "worst smoothness",
        "worst compactness",
        "worst concavity",
        "worst concave points",
        "worst symmetry",
        "worst fractal dimension"
       ],
       "description": "feature2",
       "index": 1,
       "layout": "IPY_MODEL_043bf6a36382478fb876e92c7b8a3e0d",
       "style": "IPY_MODEL_b0cae54a9dbe4b67ad82f88435e97270"
      }
     },
     "f73c076a272f45609ccc1f71a98aeeea": {
      "model_module": "@jupyter-widgets/base",
      "model_module_version": "1.2.0",
      "model_name": "LayoutModel",
      "state": {}
     }
    },
    "version_major": 2,
    "version_minor": 0
   }
  }
 },
 "nbformat": 4,
 "nbformat_minor": 4
}
