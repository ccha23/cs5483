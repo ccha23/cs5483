{
 "cells": [
  {
   "cell_type": "markdown",
   "metadata": {
    "slideshow": {
     "slide_type": "slide"
    }
   },
   "source": [
    "# Different Classifiers with Weka"
   ]
  },
  {
   "cell_type": "markdown",
   "metadata": {
    "slideshow": {
     "slide_type": "-"
    },
    "tags": [
     "remove-cell"
    ]
   },
   "source": [
    "**CS5483 Data Warehousing and Data Mining**\n",
    "___"
   ]
  },
  {
   "cell_type": "code",
   "execution_count": null,
   "metadata": {
    "ExecuteTime": {
     "end_time": "2021-03-20T13:08:29.390747Z",
     "start_time": "2021-03-20T13:08:29.102Z"
    },
    "init_cell": true,
    "slideshow": {
     "slide_type": "subslide"
    }
   },
   "outputs": [],
   "source": [
    "import matplotlib.pyplot as plt\n",
    "import numpy as np\n",
    "import pandas as pd\n",
    "import weka.core.jvm as jvm\n",
    "from IPython import display\n",
    "from weka.classifiers import Classifier, Evaluation, FilteredClassifier\n",
    "from weka.core.classes import Random\n",
    "from weka.core.converters import Loader\n",
    "from weka.filters import Filter\n",
    "\n",
    "%matplotlib inline"
   ]
  },
  {
   "cell_type": "markdown",
   "metadata": {},
   "source": [
    "In this notebook, you will use Weka to compare different classifiers trained using different algorithms or different hyper-parameters."
   ]
  },
  {
   "cell_type": "markdown",
   "metadata": {},
   "source": [
    "## Noise and Training Curves"
   ]
  },
  {
   "cell_type": "markdown",
   "metadata": {},
   "source": [
    "Complete the tutorial exercises in [\\[Witten11\\] Ex 17.2.6 to 17.2.11][Ex17.2]. Use the dataset `glass.arff` described at the beginning of [\\[Witten11\\] 17.2][17.2].\n",
    "\n",
    "[Ex17.2]: https://ebookcentral.proquest.com/lib/cityuhk/reader.action?docID=634862&ppg=603\n",
    "[17.2]: https://ebookcentral.proquest.com/lib/cityuhk/reader.action?docID=634862&ppg=601"
   ]
  },
  {
   "cell_type": "markdown",
   "metadata": {},
   "source": [
    "**Ex 17.2.6**"
   ]
  },
  {
   "cell_type": "markdown",
   "metadata": {},
   "source": [
    "The following demonstrates how to use the Explorer interface to train 3-Nearest-Neighbor (3NN) classifier with 50% of the training data corrupted by noise."
   ]
  },
  {
   "cell_type": "code",
   "execution_count": null,
   "metadata": {
    "ExecuteTime": {
     "end_time": "2021-03-20T13:08:29.393038Z",
     "start_time": "2021-03-20T13:08:29.104Z"
    },
    "init_cell": true,
    "tags": [
     "hide-input"
    ]
   },
   "outputs": [],
   "source": [
    "display.IFrame(\n",
    "    src=\"https://cityuhk-lms.ap.panopto.com/Panopto/Pages/Embed.aspx?id=f5c8bff9-11bf-4977-97dc-acbb00b7b129&autoplay=false&offerviewer=true&showtitle=true&showbrand=false&start=0&interactivity=all\",\n",
    "    height=450,\n",
    "    width=800,\n",
    ")"
   ]
  },
  {
   "cell_type": "markdown",
   "metadata": {},
   "source": [
    "As demonstrated in the following video, Weka provides a convenient interface, called the [Experimenter][Experimenter], to compare the performances of different classification algorithms on different datasets.\n",
    "\n",
    "[Experimenter]: https://ebookcentral.proquest.com/lib/cityuhk/reader.action?docID=634862&ppg=540"
   ]
  },
  {
   "cell_type": "code",
   "execution_count": null,
   "metadata": {
    "ExecuteTime": {
     "end_time": "2021-03-20T13:08:29.404344Z",
     "start_time": "2021-03-20T13:08:29.106Z"
    },
    "init_cell": true,
    "tags": [
     "hide-input"
    ]
   },
   "outputs": [],
   "source": [
    "display.IFrame(\n",
    "    src=\"https://cityuhk-lms.ap.panopto.com/Panopto/Pages/Embed.aspx?id=ff11b9a7-9844-4b5e-9e30-acbb00c5374a&autoplay=false&offerviewer=true&showtitle=true&showbrand=false&start=0&interactivity=all\",\n",
    "    height=450,\n",
    "    width=800,\n",
    ")"
   ]
  },
  {
   "cell_type": "markdown",
   "metadata": {},
   "source": [
    "A more flexible way is to use the `python-weka-wrapper`. To start the java virtual machine and load the `glass.arff` dataset:"
   ]
  },
  {
   "cell_type": "code",
   "execution_count": null,
   "metadata": {
    "ExecuteTime": {
     "end_time": "2021-03-20T13:11:15.998559Z",
     "start_time": "2021-03-20T13:11:13.812088Z"
    },
    "tags": [
     "remove-output"
    ]
   },
   "outputs": [],
   "source": [
    "jvm.start()\n",
    "loader = Loader(classname=\"weka.core.converters.ArffLoader\")\n",
    "data = loader.load_url(\n",
    "    \"https://raw.githubusercontent.com/Waikato/weka-3.8/master/wekadocs/data/\"\n",
    "    + \"glass.arff\"\n",
    ")\n",
    "data.class_is_last()"
   ]
  },
  {
   "cell_type": "markdown",
   "metadata": {},
   "source": [
    "We can then create a filtered classifier with the following tools:\n",
    "\n",
    "```python\n",
    "from weka.classifiers import Classifier, Evaluation, FilteredClassifier\n",
    "from weka.core.classes import Random\n",
    "from weka.filters import Filter\n",
    "```"
   ]
  },
  {
   "cell_type": "code",
   "execution_count": null,
   "metadata": {
    "ExecuteTime": {
     "end_time": "2021-03-20T13:11:19.146601Z",
     "start_time": "2021-03-20T13:11:19.013420Z"
    }
   },
   "outputs": [],
   "source": [
    "add_noise = Filter(classname=\"weka.filters.unsupervised.attribute.AddNoise\")\n",
    "IBk = Classifier(classname=\"weka.classifiers.lazy.IBk\")\n",
    "fc = FilteredClassifier()\n",
    "fc.filter = add_noise\n",
    "fc.classifier = IBk"
   ]
  },
  {
   "cell_type": "markdown",
   "metadata": {},
   "source": [
    "To compute the 10-fold cross-validated accuracy of 3-NN classification with 50% noise:"
   ]
  },
  {
   "cell_type": "code",
   "execution_count": null,
   "metadata": {
    "ExecuteTime": {
     "end_time": "2021-01-26T14:59:02.694237Z",
     "start_time": "2021-01-26T14:59:02.641368Z"
    }
   },
   "outputs": [],
   "source": [
    "add_noise.options = [\"-P\", str(50), \"-S\", str(0)]  # percentage noise  # random seed\n",
    "IBk.options = [\"-K\", str(3)]  # number of nearest neighbors\n",
    "evl = Evaluation(data)\n",
    "evl.crossvalidate_model(fc, data, 10, Random(1))\n",
    "evl.percent_correct"
   ]
  },
  {
   "cell_type": "markdown",
   "metadata": {},
   "source": [
    "Using any of the above suggested method, complete the `pandas` `DataFrame` in the following cell by filling in the accuracies (as floating point numbers) for different percentages of noise and number of nearest neighbor. You can assign each column of accuracies as follows:\n",
    "```Python\n",
    "noise_df['k=1'] = [___, ___, ...]  # for 1-NN\n",
    "noise_df['k=3'] = [___, ___, ...]  # for 3-NN\n",
    "noise_df['k=5'] = [___, ___, ...]  # for 5-NN\n",
    "```\n",
    "\n",
    "To obtain the typical performance, consider repeating the experiements 10 times with different seeds and compute the average accuracies."
   ]
  },
  {
   "cell_type": "code",
   "execution_count": null,
   "metadata": {
    "ExecuteTime": {
     "end_time": "2021-01-26T14:59:06.050403Z",
     "start_time": "2021-01-26T14:59:02.696507Z"
    },
    "deletable": false,
    "nbgrader": {
     "cell_type": "code",
     "checksum": "7e528e878b086733f5e8a58d3d94519b",
     "grade": false,
     "grade_id": "Witten-17-2-6",
     "locked": false,
     "schema_version": 3,
     "solution": true,
     "task": false
    },
    "tags": [
     "remove-output"
    ]
   },
   "outputs": [],
   "source": [
    "noise_df = pd.DataFrame(columns=[\"k=1\", \"k=3\", \"k=5\"], dtype=float)\n",
    "noise_df.insert(0, \"Percentage Noise\", np.arange(0, 101, 10))\n",
    "\n",
    "# YOUR CODE HERE\n",
    "raise NotImplementedError()\n",
    "\n",
    "display.display(noise_df.round(2))\n",
    "\n",
    "plt.figure(figsize=(8, 5))\n",
    "for k in [\"1\", \"3\", \"5\"]:\n",
    "    plt.plot(\n",
    "        noise_df[\"Percentage Noise\"], noise_df[\"k=\" + k], label=\"k=\" + k, marker=\"o\"\n",
    "    )\n",
    "plt.legend()\n",
    "plt.xlabel(\"Percentage Noise\")\n",
    "plt.ylabel(\"Accuracies\")\n",
    "plt.title(r\"Training IB$k$ on noisy data for different $k$\")\n",
    "plt.show()"
   ]
  },
  {
   "cell_type": "code",
   "execution_count": null,
   "metadata": {
    "ExecuteTime": {
     "end_time": "2021-01-26T14:59:59.044244Z",
     "start_time": "2021-01-26T14:59:58.832690Z"
    },
    "code_folding": [
     2
    ],
    "deletable": false,
    "editable": false,
    "nbgrader": {
     "cell_type": "code",
     "checksum": "0a059280123abdabf0e06bad488721bf",
     "grade": true,
     "grade_id": "test-Witten-17-2-6",
     "locked": true,
     "points": 1,
     "schema_version": 3,
     "solution": false,
     "task": false
    },
    "tags": [
     "remove-cell"
    ]
   },
   "outputs": [],
   "source": [
    "# hidden tests"
   ]
  },
  {
   "cell_type": "markdown",
   "metadata": {},
   "source": [
    "**Ex 17.2.7**"
   ]
  },
  {
   "cell_type": "markdown",
   "metadata": {
    "deletable": false,
    "nbgrader": {
     "cell_type": "markdown",
     "checksum": "7e2dd6d66cc07f78b5b30557ea517ce5",
     "grade": true,
     "grade_id": "Witten-17-2-7",
     "locked": false,
     "points": 1,
     "schema_version": 3,
     "solution": true,
     "task": false
    }
   },
   "source": [
    "YOUR ANSWER HERE"
   ]
  },
  {
   "cell_type": "markdown",
   "metadata": {},
   "source": [
    "**Ex 17.2.8**"
   ]
  },
  {
   "cell_type": "markdown",
   "metadata": {
    "deletable": false,
    "nbgrader": {
     "cell_type": "markdown",
     "checksum": "a69d049056ff6677be8b6e73f55d71be",
     "grade": true,
     "grade_id": "Witten-17-2-8",
     "locked": false,
     "points": 1,
     "schema_version": 3,
     "solution": true,
     "task": false
    }
   },
   "source": [
    "YOUR ANSWER HERE"
   ]
  },
  {
   "cell_type": "markdown",
   "metadata": {},
   "source": [
    "**Ex 17.2.9**\n",
    "\n",
    "Complete the `pandas` `DataFrame` in the following cell by filling in the accuracies (as floating point numbers) for different percentages of training set and classifiers. You can assign each column of accuracies as follows:\n",
    "```Python\n",
    "noise_df['IBk'] = [___, ___, ...]\n",
    "noise_df['J48'] = [___, ___, ...]\n",
    "```\n",
    "To obtain the typical performance, consider repeating the experiements 10 times with different seeds and compute the average accuracies."
   ]
  },
  {
   "cell_type": "code",
   "execution_count": null,
   "metadata": {
    "ExecuteTime": {
     "end_time": "2021-01-26T15:00:08.423162Z",
     "start_time": "2021-01-26T15:00:06.368928Z"
    },
    "deletable": false,
    "nbgrader": {
     "cell_type": "code",
     "checksum": "cd04ebe298ded85915fcc5558a2d46dd",
     "grade": false,
     "grade_id": "Witten-17-2-9",
     "locked": false,
     "schema_version": 3,
     "solution": true,
     "task": false
    },
    "tags": [
     "remove-output"
    ]
   },
   "outputs": [],
   "source": [
    "train_df = pd.DataFrame(columns=[\"IBk\", \"J48\"], dtype=float)\n",
    "train_df.insert(0, \"Percentage of Training Set\", np.arange(10, 101, 10))\n",
    "\n",
    "# YOUR CODE HERE\n",
    "raise NotImplementedError()\n",
    "\n",
    "display.display(train_df.round(2))\n",
    "\n",
    "plt.figure(figsize=(8, 5))\n",
    "for clf in [\"IBk\", \"J48\"]:\n",
    "    plt.plot(\n",
    "        train_df[\"Percentage of Training Set\"], train_df[clf], label=clf, marker=\"o\"\n",
    "    )\n",
    "plt.legend()\n",
    "plt.xlabel(\"Percentage of Training Set\")\n",
    "plt.ylabel(\"Accuracies\")\n",
    "plt.title(r\"Training IB$k$ and J48 with different amount of data\")\n",
    "plt.show()"
   ]
  },
  {
   "cell_type": "code",
   "execution_count": null,
   "metadata": {
    "ExecuteTime": {
     "end_time": "2021-01-26T15:00:11.321573Z",
     "start_time": "2021-01-26T15:00:11.139451Z"
    },
    "code_folding": [
     2
    ],
    "deletable": false,
    "editable": false,
    "nbgrader": {
     "cell_type": "code",
     "checksum": "de86daa99060ee544581917ac73a8c7e",
     "grade": true,
     "grade_id": "test-Witten-17-2-9",
     "locked": true,
     "points": 1,
     "schema_version": 3,
     "solution": false,
     "task": false
    },
    "tags": [
     "remove-cell"
    ]
   },
   "outputs": [],
   "source": [
    "# hidden tests"
   ]
  },
  {
   "cell_type": "markdown",
   "metadata": {},
   "source": [
    "**Ex 17.2.10**"
   ]
  },
  {
   "cell_type": "markdown",
   "metadata": {
    "deletable": false,
    "nbgrader": {
     "cell_type": "markdown",
     "checksum": "219ecc09e46292575b23eb3220b271f8",
     "grade": true,
     "grade_id": "Witten-17-2-10",
     "locked": false,
     "points": 1,
     "schema_version": 3,
     "solution": true,
     "task": false
    }
   },
   "source": [
    "YOUR ANSWER HERE"
   ]
  },
  {
   "cell_type": "markdown",
   "metadata": {},
   "source": [
    "**Ex 17.2.11**"
   ]
  },
  {
   "cell_type": "markdown",
   "metadata": {
    "deletable": false,
    "nbgrader": {
     "cell_type": "markdown",
     "checksum": "6955e69acec6e5ec043d232b98fb9e74",
     "grade": true,
     "grade_id": "Witten-17-2-11",
     "locked": false,
     "points": 1,
     "schema_version": 3,
     "solution": true,
     "task": false
    }
   },
   "source": [
    "YOUR ANSWER HERE"
   ]
  },
  {
   "cell_type": "markdown",
   "metadata": {},
   "source": [
    "**Exercise** Will the accuracy be higher if we resample without replacement instead of with replacement? Why?"
   ]
  },
  {
   "cell_type": "markdown",
   "metadata": {
    "deletable": false,
    "nbgrader": {
     "cell_type": "markdown",
     "checksum": "e6c9470f7b49f890fd2fea0398d8740d",
     "grade": true,
     "grade_id": "resample-without-replacement",
     "locked": false,
     "points": 1,
     "schema_version": 3,
     "solution": true,
     "task": false
    }
   },
   "source": [
    "YOUR ANSWER HERE"
   ]
  },
  {
   "cell_type": "markdown",
   "metadata": {},
   "source": [
    "## Classification Boundaries"
   ]
  },
  {
   "cell_type": "markdown",
   "metadata": {},
   "source": [
    "Complete the tutorial exercises in [\\[Witten11\\] Ex 17.3.1 to 17.3.6][Witten-17-3] using the boundary visualizer for different classifiers on `iris.2D.arff` (NOT `iris.arff`) dataset. \n",
    "\n",
    "For OneR, note that the boundary is decided based on two conditions in Appendix A of [Holte93](https://mlpack.org/papers/ds.pdf), \n",
    "- (3a) minimum size of the optimal class to be at least `minBucketSize`, and \n",
    "- (3b) the optimal class of the smallest value larger than the boundary to be of a different class value. \n",
    "\n",
    "![](images/OneR_boundary.dio.svg)\n",
    "\n",
    "[Witten-17-3]: https://ebookcentral.proquest.com/lib/cityuhk/reader.action?docID=634862&ppg=606"
   ]
  },
  {
   "cell_type": "markdown",
   "metadata": {},
   "source": [
    "**Ex 17.3.1**"
   ]
  },
  {
   "cell_type": "markdown",
   "metadata": {
    "deletable": false,
    "editable": false,
    "nbgrader": {
     "cell_type": "markdown",
     "checksum": "028cdbd10389513b40b3cd379426c94b",
     "grade": false,
     "grade_id": "Witten-17-3-1",
     "locked": true,
     "points": 1,
     "schema_version": 3,
     "solution": false,
     "task": true
    }
   },
   "source": [
    "The decision regions are stripes with boundaries perpendicular to an axis of the feature space. That axis corresponds to the feature chosen by `OneR` for prediction."
   ]
  },
  {
   "cell_type": "markdown",
   "metadata": {},
   "source": [
    "**Ex 17.3.2**  \n",
    "- Change \"20\" to \"60\" in the statement of the exercise. \n",
    "- Look for the smallest critical value of the `minBucketSize` where the decision boundaries begin to change as `minBucketSize` increases. The critical value should be larger than 20.\n",
    "- If you want to use the Explorer interface to speed up your search as stated in Ex 17.3.2, you will need to set the Test options to use training set and observe the relevant numbers in the confusion matrix."
   ]
  },
  {
   "cell_type": "markdown",
   "metadata": {
    "deletable": false,
    "nbgrader": {
     "cell_type": "markdown",
     "checksum": "01b464e9c48f46385c1f46d9724d2c69",
     "grade": true,
     "grade_id": "Witten-17-3-2",
     "locked": false,
     "points": 1,
     "schema_version": 3,
     "solution": true,
     "task": false
    }
   },
   "source": [
    "YOUR ANSWER HERE"
   ]
  },
  {
   "cell_type": "markdown",
   "metadata": {},
   "source": [
    "**Ex 17.3.3**"
   ]
  },
  {
   "cell_type": "markdown",
   "metadata": {
    "deletable": false,
    "nbgrader": {
     "cell_type": "markdown",
     "checksum": "ba68d4b8d4e6d3528e58d24522a6f606",
     "grade": true,
     "grade_id": "Witten-17-3-3",
     "locked": false,
     "points": 1,
     "schema_version": 3,
     "solution": true,
     "task": false
    }
   },
   "source": [
    "YOUR ANSWER HERE"
   ]
  },
  {
   "cell_type": "markdown",
   "metadata": {},
   "source": [
    "**Ex 17.3.4**"
   ]
  },
  {
   "cell_type": "markdown",
   "metadata": {
    "deletable": false,
    "nbgrader": {
     "cell_type": "markdown",
     "checksum": "bdb30eb2cb1ddf15bbb0251923dff02b",
     "grade": true,
     "grade_id": "Witten-17-3-4",
     "locked": false,
     "points": 1,
     "schema_version": 3,
     "solution": true,
     "task": false
    }
   },
   "source": [
    "YOUR ANSWER HERE"
   ]
  },
  {
   "cell_type": "markdown",
   "metadata": {},
   "source": [
    "**Ex 17.3.5**  \n",
    "\n",
    "This is a bit tricky. Follow the hint provided by the exercise and click the relevant data point in the Explorer's Visualize panel.\n",
    "\n",
    "![](images/IBk_boundary.dio.svg)"
   ]
  },
  {
   "cell_type": "markdown",
   "metadata": {
    "deletable": false,
    "nbgrader": {
     "cell_type": "markdown",
     "checksum": "3d26ee799f64c3d0e6b3ebd5c628267f",
     "grade": true,
     "grade_id": "Witten-17-3-5",
     "locked": false,
     "points": 1,
     "schema_version": 3,
     "solution": true,
     "task": false
    }
   },
   "source": [
    "YOUR ANSWER HERE"
   ]
  },
  {
   "cell_type": "markdown",
   "metadata": {},
   "source": [
    "**Ex 17.3.6**\n",
    "\n",
    "![](images/IBk_boundary_5_10.dio.svg)"
   ]
  },
  {
   "cell_type": "markdown",
   "metadata": {
    "deletable": false,
    "nbgrader": {
     "cell_type": "markdown",
     "checksum": "5b99e1a7a3046920fb8e3e52016e2e80",
     "grade": true,
     "grade_id": "Witten-17-3-6",
     "locked": false,
     "points": 1,
     "schema_version": 3,
     "solution": true,
     "task": false
    }
   },
   "source": [
    "YOUR ANSWER HERE"
   ]
  }
 ],
 "metadata": {
  "kernelspec": {
   "display_name": "Python 3 (ipykernel)",
   "language": "python",
   "name": "python3"
  },
  "language_info": {
   "codemirror_mode": {
    "name": "ipython",
    "version": 3
   },
   "file_extension": ".py",
   "mimetype": "text/x-python",
   "name": "python",
   "nbconvert_exporter": "python",
   "pygments_lexer": "ipython3",
   "version": "3.8.12"
  },
  "rise": {
   "enable_chalkboard": true,
   "scroll": true,
   "theme": "white"
  },
  "toc": {
   "base_numbering": 1,
   "nav_menu": {},
   "number_sections": true,
   "sideBar": true,
   "skip_h1_title": true,
   "title_cell": "Table of Contents",
   "title_sidebar": "Contents",
   "toc_cell": false,
   "toc_position": {},
   "toc_section_display": true,
   "toc_window_display": false
  },
  "widgets": {
   "application/vnd.jupyter.widget-state+json": {
    "state": {},
    "version_major": 2,
    "version_minor": 0
   }
  }
 },
 "nbformat": 4,
 "nbformat_minor": 4
}
